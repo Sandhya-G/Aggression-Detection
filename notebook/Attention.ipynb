{
  "nbformat": 4,
  "nbformat_minor": 0,
  "metadata": {
    "colab": {
      "name": "Attention",
      "provenance": [],
      "collapsed_sections": [],
      "authorship_tag": "ABX9TyN61HLux5oEEDsBytxEPDHf"
    },
    "kernelspec": {
      "name": "python3",
      "display_name": "Python 3"
    }
  },
  "cells": [
    {
      "cell_type": "markdown",
      "metadata": {
        "id": "cAe3aXqng7j3",
        "colab_type": "text"
      },
      "source": [
        "###<center> Hierarchical Attention Networks for Document Classification Zichao Yang paper</center>\n",
        "it has two levels of attention mechanisms applied at the word and  sentence level. Unlike other deep learning models it does not give equal importance to all the words in a document (more like calculating tf-idf values using neural network). In this paper they capture the importance of words first at sentence level and then at document level. The output from bi directionl GRU which captures contextual information is fed into a shallow neural network with tanh activation function which is then multiplied by trainable **context vector** and normalized to an importance weight per word by softmax function.\n",
        "The sum of these importance weights concatenated with the previously calculated  GRU output is called sentence vector.The same procedure is repeated for sentence vector the resulting output is a document vector  which can be used as features for document classification. \n",
        "<center><img src= \"https://www.researchgate.net/profile/Kamran_Kowsari/publication/332463886/figure/fig18/AS:748520504053760@1555472603010/Hierarchical-Attention-Networks-for-document-classification.png\" alt= \"HAN arch\" width=\"400\" /></center>\n",
        "Inside attention network\n",
        "<center><img src= \"https://humboldt-wi.github.io/blog/img/seminar/group5_HAN/han_word.png\" width=\"500\" /></center>\n",
        "\n",
        "Some of their hyperparameter:\n",
        "embedding dimension : 100\n",
        "bi-GRU(hidden units): 50 \n",
        "Optimizer : SGD with momentum 0.9 and lr was found using grid search\n",
        "mini batch : 64 (documents of similar length were organized to be a batch)\n"
      ]
    },
    {
      "cell_type": "code",
      "metadata": {
        "id": "op7GfDWiu91k",
        "colab_type": "code",
        "colab": {}
      },
      "source": [
        "train_df = pd.read_csv(\"https://raw.githubusercontent.com/Sandhya-G/Aggression-Detection/master/dataset/GLOVE_TRAIN%23\")\n",
        "test_df = pd.read_csv(\"https://raw.githubusercontent.com/Sandhya-G/Aggression-Detection/master/dataset/GLOVE_TEST%23\")"
      ],
      "execution_count": 0,
      "outputs": []
    },
    {
      "cell_type": "code",
      "metadata": {
        "id": "MdNH_hNWvsO4",
        "colab_type": "code",
        "colab": {
          "base_uri": "https://localhost:8080/",
          "height": 34
        },
        "outputId": "0e223b3a-962b-437b-cc36-448fa33abf88"
      },
      "source": [
        "import os\n",
        "import time\n",
        "import numpy as np \n",
        "import pandas as pd \n",
        "from tqdm import tqdm\n",
        "import math\n",
        "import pandas as pd\n",
        "import numpy as np\n",
        "from sklearn.model_selection import train_test_split\n",
        "from sklearn import metrics\n",
        "import tensorflow as tf\n",
        "\n",
        "from keras.layers import Dense, Input, Embedding, Dropout, Activation, GRU, Conv1D, concatenate\n",
        "from keras.layers import Bidirectional, GlobalMaxPool1D, GlobalMaxPooling1D, GlobalAveragePooling1D\n",
        "from keras.layers import Reshape, Flatten, Concatenate, Dropout, SpatialDropout1D, BatchNormalization\n",
        "from keras.optimizers import Adam\n",
        "from keras.models import Model\n",
        "from keras import backend as K\n",
        "from keras.engine.topology import Layer\n",
        "from keras import initializers, regularizers, constraints, optimizers, layers\n",
        "from keras import initializers, regularizers, constraints, optimizers, layers\n",
        "\n",
        "from keras.preprocessing.text import Tokenizer\n",
        "from keras.preprocessing.sequence import pad_sequences\n",
        "\n",
        "from keras.layers import *\n",
        "from keras.models import *\n",
        "from keras.initializers import *\n",
        "from keras.optimizers import *\n",
        "import keras.backend as K\n",
        "from keras.callbacks import *\n",
        "\n",
        "\n",
        "\n"
      ],
      "execution_count": 1,
      "outputs": [
        {
          "output_type": "stream",
          "text": [
            "Using TensorFlow backend.\n"
          ],
          "name": "stderr"
        }
      ]
    },
    {
      "cell_type": "code",
      "metadata": {
        "id": "gx5EzYszv7yy",
        "colab_type": "code",
        "colab": {}
      },
      "source": [
        "from numpy.random import seed\n",
        "seed(1)\n",
        "from tensorflow import random\n",
        "random.set_seed(2)\n",
        "\n",
        "## split to train and val\n",
        "train_df, val_df = train_test_split(train_df, test_size=0.1, random_state=2048,stratify=train_df[\"class\"])\n",
        "\n",
        "## some config values \n",
        "embed_size = 100 # how big is each word vector\n",
        "max_features = 30000 # how many unique words to use (i.e num rows in embedding vector)\n",
        "maxlen = 120 # max number of words in a question to use\n",
        "\n",
        "## fill up the missing values\n",
        "train_X = train_df[\"tweet\"].fillna(\"_na_\").values\n",
        "val_X = val_df[\"tweet\"].fillna(\"_na_\").values\n",
        "test_X = test_df[\"tweet\"].fillna(\"_na_\").values\n",
        "\n",
        "## Tokenize the sentences\n",
        "tokenizer = Tokenizer(num_words=max_features,filters=\"\")\n",
        "tokenizer.fit_on_texts(list(train_X))\n",
        "train_X = tokenizer.texts_to_sequences(train_X)\n",
        "val_X = tokenizer.texts_to_sequences(val_X)\n",
        "test_X = tokenizer.texts_to_sequences(test_X)\n",
        "\n",
        "## Pad the sentences \n",
        "train_X = pad_sequences(train_X, maxlen=maxlen,padding='post',truncating='post')\n",
        "val_X = pad_sequences(val_X, maxlen=maxlen,padding='post',truncating='post')\n",
        "test_X = pad_sequences(test_X, maxlen=maxlen,padding='post',truncating='post')\n",
        "\n",
        "## Get the target values\n",
        "train_y = train_df['class'].values\n",
        "val_y = val_df['class'].values\n"
      ],
      "execution_count": 0,
      "outputs": []
    },
    {
      "cell_type": "code",
      "metadata": {
        "id": "olrZxMsWwTDK",
        "colab_type": "code",
        "colab": {}
      },
      "source": [
        "def load_glove_index():\n",
        "    EMBEDDING_FILE = '/content/glove.twitter.27B.100d.txt'\n",
        "    def get_coefs(word,*arr): return word, np.asarray(arr, dtype='float32')[:100]\n",
        "    embeddings_index = dict(get_coefs(*o.split(\" \")) for o in open(EMBEDDING_FILE))\n",
        "    return embeddings_index\n",
        "\n",
        "glove_embedding_index = load_glove_index()"
      ],
      "execution_count": 0,
      "outputs": []
    },
    {
      "cell_type": "code",
      "metadata": {
        "id": "sY85gPnHUYge",
        "colab_type": "code",
        "outputId": "0ea46f05-952c-4577-a7c2-f4d7f25600f1",
        "colab": {
          "base_uri": "https://localhost:8080/",
          "height": 34
        }
      },
      "source": [
        "glove_embedding_index.get('hi').shape"
      ],
      "execution_count": 0,
      "outputs": [
        {
          "output_type": "execute_result",
          "data": {
            "text/plain": [
              "(100,)"
            ]
          },
          "metadata": {
            "tags": []
          },
          "execution_count": 69
        }
      ]
    },
    {
      "cell_type": "code",
      "metadata": {
        "colab_type": "code",
        "id": "ftHuYSZlxPXR",
        "colab": {}
      },
      "source": [
        "num_words = max_features\n",
        "\n",
        "embedding_matrix = np.zeros((num_words, embed_size))\n",
        "for word, i in tokenizer.word_index.items():\n",
        "    if i >= num_words:\n",
        "        continue\n",
        "    embedding_vector = glove_embedding_index.get(word)\n",
        "\n",
        "    if embedding_vector is not None:\n",
        "        # words not found in embedding index will be all-zeros.\n",
        "      embedding_matrix[i] = embedding_vector\n",
        "    else:\n",
        "        if word.islower():\n",
        "                # try to get the embedding of word in titlecase if lowercase is not present\n",
        "                embedding_vector = glove_embedding_index.get(word.capitalize())\n",
        "                if embedding_vector is not None: \n",
        "                    embedding_matrix[i] = embedding_vector"
      ],
      "execution_count": 0,
      "outputs": []
    },
    {
      "cell_type": "code",
      "metadata": {
        "id": "OHX9RtFc-Vr2",
        "colab_type": "code",
        "colab": {}
      },
      "source": [
        "class Attention(Layer):\n",
        "    def __init__(self, step_dim,\n",
        "                 W_regularizer=None, b_regularizer=None,\n",
        "                 W_constraint=None, b_constraint=None,\n",
        "                 bias=True, **kwargs):\n",
        "        self.supports_masking = True\n",
        "        self.init = initializers.get('glorot_uniform')\n",
        "\n",
        "        self.W_regularizer = regularizers.get(W_regularizer)\n",
        "        self.b_regularizer = regularizers.get(b_regularizer)\n",
        "\n",
        "        self.W_constraint = constraints.get(W_constraint)\n",
        "        self.b_constraint = constraints.get(b_constraint)\n",
        "\n",
        "        self.bias = bias\n",
        "        self.step_dim = step_dim\n",
        "        self.features_dim = 0\n",
        "        super(Attention, self).__init__(**kwargs)\n",
        "\n",
        "    def build(self, input_shape):\n",
        "        assert len(input_shape) == 3\n",
        "\n",
        "        self.W = self.add_weight(shape=(input_shape[-1],),\n",
        "                                 initializer=self.init,\n",
        "                                 name='kernel',\n",
        "                                 regularizer=self.W_regularizer,\n",
        "                                 constraint=self.W_constraint)\n",
        "        self.features_dim = input_shape[-1]\n",
        "\n",
        "        if self.bias:\n",
        "            self.b = self.add_weight(shape=(input_shape[1],),\n",
        "                                     initializer='zero',\n",
        "                                     name='bias',\n",
        "                                     regularizer=self.b_regularizer,\n",
        "                                     constraint=self.b_constraint)\n",
        "        else:\n",
        "            self.b = None\n",
        "\n",
        "        self.built = True\n",
        "\n",
        "    def compute_mask(self, input, input_mask=None):\n",
        "        return None\n",
        "\n",
        "    def call(self, x, mask=None):\n",
        "        features_dim = self.features_dim\n",
        "        step_dim = self.step_dim\n",
        "\n",
        "        eij = K.reshape(K.dot(K.reshape(x, (-1, features_dim)),\n",
        "                        K.reshape(self.W, (features_dim, 1))), (-1, step_dim))\n",
        "\n",
        "        if self.bias:\n",
        "            eij += self.b\n",
        "\n",
        "        eij = K.tanh(eij)\n",
        "\n",
        "        a = K.exp(eij)\n",
        "\n",
        "        if mask is not None:\n",
        "            a *= K.cast(mask, K.floatx())\n",
        "\n",
        "        a /= K.cast(K.sum(a, axis=1, keepdims=True) + K.epsilon(), K.floatx())\n",
        "\n",
        "        a = K.expand_dims(a)\n",
        "        weighted_input = x * a\n",
        "        return K.sum(weighted_input, axis=1)\n",
        "\n",
        "    def compute_output_shape(self, input_shape):\n",
        "      return input_shape[0],  self.features_dim\n"
      ],
      "execution_count": 0,
      "outputs": []
    },
    {
      "cell_type": "code",
      "metadata": {
        "id": "KVG90NeI5lkM",
        "colab_type": "code",
        "colab": {}
      },
      "source": [
        "def evaluate(y, pred):\n",
        "    f1_list = list()\n",
        "    thre_list = np.arange(0.1, 0.501, 0.01)\n",
        "    for thresh in thre_list:\n",
        "        thresh = np.round(thresh, 2)\n",
        "        f1 = metrics.f1_score(y, (pred>thresh).astype(int))\n",
        "        f1_list.append(f1)\n",
        "        print(\"F1 score at threshold {0} is {1}\".format(thresh, f1))\n",
        "    #return f1_list\n",
        "    #plot_confusion_matrix(y, np.array(pd.Series(pred.reshape(-1,)).map(lambda x:1 if x>thre_list[np.argmax(f1_list)] else 0)))\n",
        "    print('Best Threshold: ',thre_list[np.argmax(f1_list)])\n",
        "    return thre_list[np.argmax(f1_list)]"
      ],
      "execution_count": 0,
      "outputs": []
    },
    {
      "cell_type": "code",
      "metadata": {
        "id": "66oJlewP516J",
        "colab_type": "code",
        "colab": {}
      },
      "source": [
        "def attention(embedding_matrix=embedding_matrix, num_att=5, gru_units=64):\n",
        "    inp = Input(shape=(maxlen, ))\n",
        "    x = Embedding(max_features, embedding_matrix.shape[1], weights=[embedding_matrix], trainable=False)(inp)\n",
        "    x = Bidirectional(GRU(gru_units, return_sequences=True))(x)\n",
        "\n",
        "    \n",
        "    def attention_block(layer, atten_len=maxlen, num_multi=num_att, dense_units=gru_units*2):\n",
        "        add_layer_list = []\n",
        "        for j in range(num_att):\n",
        "            atten_list = list()\n",
        "            for _ in range(num_multi):\n",
        "                atten_list.append(Attention(atten_len)(layer))\n",
        "            add_layer_list.append(Add()(atten_list))\n",
        "        add_layer = concatenate(add_layer_list)\n",
        "        #for normalising hidden weights\n",
        "        add_layer = BatchNormalization()(add_layer)\n",
        "        dense_layer = Dense(dense_units, activation='relu')(add_layer)\n",
        "        return dense_layer\n",
        "        # return Add()([add_layer, dense_layer])   # Residual add layer\n",
        "    x = attention_block(x)\n",
        "    x = Dense(32, activation='relu')(x)\n",
        "    out = Dense(1, activation='sigmoid')(x)\n",
        "\n",
        "    model = Model(inp, out)\n",
        "\n",
        "    model.summary()\n",
        "\n",
        "    model.compile(loss='binary_crossentropy', metrics=['accuracy'], optimizer='adam')\n",
        "\n",
        "    return model"
      ],
      "execution_count": 0,
      "outputs": []
    },
    {
      "cell_type": "code",
      "metadata": {
        "id": "mNGWhLXz56ZD",
        "colab_type": "code",
        "outputId": "e7cc3ce7-87ea-415c-c2f9-c3d980a4192b",
        "colab": {
          "base_uri": "https://localhost:8080/",
          "height": 1000
        }
      },
      "source": [
        "model = attention()"
      ],
      "execution_count": 0,
      "outputs": [
        {
          "output_type": "stream",
          "text": [
            "Model: \"model_1\"\n",
            "__________________________________________________________________________________________________\n",
            "Layer (type)                    Output Shape         Param #     Connected to                     \n",
            "==================================================================================================\n",
            "input_1 (InputLayer)            (None, 120)          0                                            \n",
            "__________________________________________________________________________________________________\n",
            "embedding_1 (Embedding)         (None, 120, 100)     3000000     input_1[0][0]                    \n",
            "__________________________________________________________________________________________________\n",
            "bidirectional_1 (Bidirectional) (None, 120, 128)     63360       embedding_1[0][0]                \n",
            "__________________________________________________________________________________________________\n",
            "attention_1 (Attention)         (None, 128)          248         bidirectional_1[0][0]            \n",
            "__________________________________________________________________________________________________\n",
            "attention_2 (Attention)         (None, 128)          248         bidirectional_1[0][0]            \n",
            "__________________________________________________________________________________________________\n",
            "attention_3 (Attention)         (None, 128)          248         bidirectional_1[0][0]            \n",
            "__________________________________________________________________________________________________\n",
            "attention_4 (Attention)         (None, 128)          248         bidirectional_1[0][0]            \n",
            "__________________________________________________________________________________________________\n",
            "attention_5 (Attention)         (None, 128)          248         bidirectional_1[0][0]            \n",
            "__________________________________________________________________________________________________\n",
            "attention_6 (Attention)         (None, 128)          248         bidirectional_1[0][0]            \n",
            "__________________________________________________________________________________________________\n",
            "attention_7 (Attention)         (None, 128)          248         bidirectional_1[0][0]            \n",
            "__________________________________________________________________________________________________\n",
            "attention_8 (Attention)         (None, 128)          248         bidirectional_1[0][0]            \n",
            "__________________________________________________________________________________________________\n",
            "attention_9 (Attention)         (None, 128)          248         bidirectional_1[0][0]            \n",
            "__________________________________________________________________________________________________\n",
            "attention_10 (Attention)        (None, 128)          248         bidirectional_1[0][0]            \n",
            "__________________________________________________________________________________________________\n",
            "attention_11 (Attention)        (None, 128)          248         bidirectional_1[0][0]            \n",
            "__________________________________________________________________________________________________\n",
            "attention_12 (Attention)        (None, 128)          248         bidirectional_1[0][0]            \n",
            "__________________________________________________________________________________________________\n",
            "attention_13 (Attention)        (None, 128)          248         bidirectional_1[0][0]            \n",
            "__________________________________________________________________________________________________\n",
            "attention_14 (Attention)        (None, 128)          248         bidirectional_1[0][0]            \n",
            "__________________________________________________________________________________________________\n",
            "attention_15 (Attention)        (None, 128)          248         bidirectional_1[0][0]            \n",
            "__________________________________________________________________________________________________\n",
            "attention_16 (Attention)        (None, 128)          248         bidirectional_1[0][0]            \n",
            "__________________________________________________________________________________________________\n",
            "attention_17 (Attention)        (None, 128)          248         bidirectional_1[0][0]            \n",
            "__________________________________________________________________________________________________\n",
            "attention_18 (Attention)        (None, 128)          248         bidirectional_1[0][0]            \n",
            "__________________________________________________________________________________________________\n",
            "attention_19 (Attention)        (None, 128)          248         bidirectional_1[0][0]            \n",
            "__________________________________________________________________________________________________\n",
            "attention_20 (Attention)        (None, 128)          248         bidirectional_1[0][0]            \n",
            "__________________________________________________________________________________________________\n",
            "attention_21 (Attention)        (None, 128)          248         bidirectional_1[0][0]            \n",
            "__________________________________________________________________________________________________\n",
            "attention_22 (Attention)        (None, 128)          248         bidirectional_1[0][0]            \n",
            "__________________________________________________________________________________________________\n",
            "attention_23 (Attention)        (None, 128)          248         bidirectional_1[0][0]            \n",
            "__________________________________________________________________________________________________\n",
            "attention_24 (Attention)        (None, 128)          248         bidirectional_1[0][0]            \n",
            "__________________________________________________________________________________________________\n",
            "attention_25 (Attention)        (None, 128)          248         bidirectional_1[0][0]            \n",
            "__________________________________________________________________________________________________\n",
            "add_1 (Add)                     (None, 128)          0           attention_1[0][0]                \n",
            "                                                                 attention_2[0][0]                \n",
            "                                                                 attention_3[0][0]                \n",
            "                                                                 attention_4[0][0]                \n",
            "                                                                 attention_5[0][0]                \n",
            "__________________________________________________________________________________________________\n",
            "add_2 (Add)                     (None, 128)          0           attention_6[0][0]                \n",
            "                                                                 attention_7[0][0]                \n",
            "                                                                 attention_8[0][0]                \n",
            "                                                                 attention_9[0][0]                \n",
            "                                                                 attention_10[0][0]               \n",
            "__________________________________________________________________________________________________\n",
            "add_3 (Add)                     (None, 128)          0           attention_11[0][0]               \n",
            "                                                                 attention_12[0][0]               \n",
            "                                                                 attention_13[0][0]               \n",
            "                                                                 attention_14[0][0]               \n",
            "                                                                 attention_15[0][0]               \n",
            "__________________________________________________________________________________________________\n",
            "add_4 (Add)                     (None, 128)          0           attention_16[0][0]               \n",
            "                                                                 attention_17[0][0]               \n",
            "                                                                 attention_18[0][0]               \n",
            "                                                                 attention_19[0][0]               \n",
            "                                                                 attention_20[0][0]               \n",
            "__________________________________________________________________________________________________\n",
            "add_5 (Add)                     (None, 128)          0           attention_21[0][0]               \n",
            "                                                                 attention_22[0][0]               \n",
            "                                                                 attention_23[0][0]               \n",
            "                                                                 attention_24[0][0]               \n",
            "                                                                 attention_25[0][0]               \n",
            "__________________________________________________________________________________________________\n",
            "concatenate_1 (Concatenate)     (None, 640)          0           add_1[0][0]                      \n",
            "                                                                 add_2[0][0]                      \n",
            "                                                                 add_3[0][0]                      \n",
            "                                                                 add_4[0][0]                      \n",
            "                                                                 add_5[0][0]                      \n",
            "__________________________________________________________________________________________________\n",
            "batch_normalization_1 (BatchNor (None, 640)          2560        concatenate_1[0][0]              \n",
            "__________________________________________________________________________________________________\n",
            "dense_1 (Dense)                 (None, 128)          82048       batch_normalization_1[0][0]      \n",
            "__________________________________________________________________________________________________\n",
            "dense_2 (Dense)                 (None, 32)           4128        dense_1[0][0]                    \n",
            "__________________________________________________________________________________________________\n",
            "dense_3 (Dense)                 (None, 1)            33          dense_2[0][0]                    \n",
            "==================================================================================================\n",
            "Total params: 3,158,329\n",
            "Trainable params: 157,049\n",
            "Non-trainable params: 3,001,280\n",
            "__________________________________________________________________________________________________\n"
          ],
          "name": "stdout"
        }
      ]
    },
    {
      "cell_type": "code",
      "metadata": {
        "id": "aCYdphmp6Abf",
        "colab_type": "code",
        "outputId": "ef46d473-6c30-4fc8-bfb8-5e5191976165",
        "colab": {
          "base_uri": "https://localhost:8080/",
          "height": 193
        }
      },
      "source": [
        "\n",
        "history = model.fit(train_X, train_y, epochs=4, batch_size=512, validation_data=(val_X, val_y), verbose=1)"
      ],
      "execution_count": 0,
      "outputs": [
        {
          "output_type": "stream",
          "text": [
            "Train on 38258 samples, validate on 4251 samples\n",
            "Epoch 1/4\n",
            "38258/38258 [==============================] - 202s 5ms/step - loss: 0.2968 - accuracy: 0.8772 - val_loss: 0.5366 - val_accuracy: 0.7848\n",
            "Epoch 2/4\n",
            "38258/38258 [==============================] - 201s 5ms/step - loss: 0.2316 - accuracy: 0.9053 - val_loss: 0.4197 - val_accuracy: 0.8586\n",
            "Epoch 3/4\n",
            "38258/38258 [==============================] - 195s 5ms/step - loss: 0.2199 - accuracy: 0.9098 - val_loss: 0.3447 - val_accuracy: 0.8803\n",
            "Epoch 4/4\n",
            "38258/38258 [==============================] - 197s 5ms/step - loss: 0.2117 - accuracy: 0.9142 - val_loss: 0.2850 - val_accuracy: 0.9003\n"
          ],
          "name": "stdout"
        }
      ]
    },
    {
      "cell_type": "code",
      "metadata": {
        "id": "ME1zYshOCEhw",
        "colab_type": "code",
        "outputId": "362ded58-b90c-4a4b-dbdd-7a761c2554ba",
        "colab": {
          "base_uri": "https://localhost:8080/",
          "height": 34
        }
      },
      "source": [
        "import matplotlib.pyplot as plt\n",
        "%matplotlib inline\n",
        "# list all data in history\n",
        "print(history.history.keys())\n",
        "# summarize history for accuracy\n",
        "# codes from machinelearningmastery.com\n",
        "def print_hist(history):\n",
        "    plt.plot(history.history['accuracy'])\n",
        "    plt.plot(history.history['val_accuracy'])\n",
        "    plt.title('model accuracy')\n",
        "    plt.ylabel('accuracy')\n",
        "    plt.xlabel('epoch')\n",
        "    plt.legend(['train', 'val'], loc='upper left')\n",
        "    plt.show()\n",
        "\n",
        "   \n",
        "    \n",
        "    # summarize history for loss\n",
        "    plt.plot(history.history['loss'])\n",
        "    plt.plot(history.history['val_loss'])\n",
        "    plt.title('model loss')\n",
        "    plt.ylabel('loss')\n",
        "    plt.xlabel('epoch')\n",
        "    plt.legend(['train', 'val'], loc='upper left')\n",
        "    plt.show()\n",
        "    "
      ],
      "execution_count": 0,
      "outputs": [
        {
          "output_type": "stream",
          "text": [
            "dict_keys(['val_loss', 'val_accuracy', 'loss', 'accuracy'])\n"
          ],
          "name": "stdout"
        }
      ]
    },
    {
      "cell_type": "code",
      "metadata": {
        "id": "YnRC8E33OA-3",
        "colab_type": "code",
        "outputId": "89e5cd37-a4f8-499b-dccf-4b2a7aeb5d9c",
        "colab": {
          "base_uri": "https://localhost:8080/",
          "height": 573
        }
      },
      "source": [
        "print_hist(history)"
      ],
      "execution_count": 0,
      "outputs": [
        {
          "output_type": "display_data",
          "data": {
            "image/png": "[encoded data removed]",
            "text/plain": [
              "<Figure size 432x288 with 1 Axes>"
            ]
          },
          "metadata": {
            "tags": [],
            "needs_background": "light"
          }
        },
        {
          "output_type": "display_data",
          "data": {
            "image/png": "[encoded data removed]",
            "text/plain": [
              "<Figure size 432x288 with 1 Axes>"
            ]
          },
          "metadata": {
            "tags": [],
            "needs_background": "light"
          }
        }
      ]
    },
    {
      "cell_type": "code",
      "metadata": {
        "id": "vILBrsvxOf40",
        "colab_type": "code",
        "outputId": "06ea71d3-a7fa-44d4-b352-831e91edf3bd",
        "colab": {
          "base_uri": "https://localhost:8080/",
          "height": 746
        }
      },
      "source": [
        "pred_valid = model.predict(val_X, batch_size=512)\n",
        "best_thre = evaluate(val_y, pred_valid)\n",
        "\n",
        "\n"
      ],
      "execution_count": 0,
      "outputs": [
        {
          "output_type": "stream",
          "text": [
            "F1 score at threshold 0.1 is 0.7162299410928297\n",
            "F1 score at threshold 0.11 is 0.7303626943005181\n",
            "F1 score at threshold 0.12 is 0.7467628953513054\n",
            "F1 score at threshold 0.13 is 0.7612231620039037\n",
            "F1 score at threshold 0.14 is 0.776470588235294\n",
            "F1 score at threshold 0.15 is 0.7907503967354342\n",
            "F1 score at threshold 0.16 is 0.803422756706753\n",
            "F1 score at threshold 0.17 is 0.8154100685417159\n",
            "F1 score at threshold 0.18 is 0.8280684832408971\n",
            "F1 score at threshold 0.19 is 0.8410433070866141\n",
            "F1 score at threshold 0.2 is 0.8474830954169797\n",
            "F1 score at threshold 0.21 is 0.8553940321346595\n",
            "F1 score at threshold 0.22 is 0.8603265094584089\n",
            "F1 score at threshold 0.23 is 0.8672472948007388\n",
            "F1 score at threshold 0.24 is 0.8709159078735939\n",
            "F1 score at threshold 0.25 is 0.8739815317762086\n",
            "F1 score at threshold 0.26 is 0.8811034482758621\n",
            "F1 score at threshold 0.27 is 0.8833054159687325\n",
            "F1 score at threshold 0.28 is 0.8817873303167421\n",
            "F1 score at threshold 0.29 is 0.8838138738224379\n",
            "F1 score at threshold 0.3 is 0.8855005753739931\n",
            "F1 score at threshold 0.31 is 0.8861127251597908\n",
            "F1 score at threshold 0.32 is 0.8879107981220657\n",
            "F1 score at threshold 0.33 is 0.8873780668046112\n",
            "F1 score at threshold 0.34 is 0.8894187779433682\n",
            "F1 score at threshold 0.35 is 0.8878224355128974\n",
            "F1 score at threshold 0.36 is 0.8865419432709717\n",
            "F1 score at threshold 0.37 is 0.8865979381443299\n",
            "F1 score at threshold 0.38 is 0.8857142857142857\n",
            "F1 score at threshold 0.39 is 0.8841332925710792\n",
            "F1 score at threshold 0.4 is 0.8839779005524862\n",
            "F1 score at threshold 0.41 is 0.8814814814814815\n",
            "F1 score at threshold 0.42 is 0.8803709428129831\n",
            "F1 score at threshold 0.43 is 0.877715704531347\n",
            "F1 score at threshold 0.44 is 0.8766355140186916\n",
            "F1 score at threshold 0.45 is 0.8753514526710403\n",
            "F1 score at threshold 0.46 is 0.8744913928012519\n",
            "F1 score at threshold 0.47 is 0.8730009407337723\n",
            "F1 score at threshold 0.48 is 0.8690176322418135\n",
            "F1 score at threshold 0.49 is 0.8681388012618296\n",
            "F1 score at threshold 0.5 is 0.8658227848101265\n",
            "Best Threshold:  0.33999999999999986\n"
          ],
          "name": "stdout"
        }
      ]
    },
    {
      "cell_type": "code",
      "metadata": {
        "id": "h_K2wJZLdwAv",
        "colab_type": "code",
        "colab": {}
      },
      "source": [
        "pred_test = model.predict(test_X)"
      ],
      "execution_count": 0,
      "outputs": []
    },
    {
      "cell_type": "code",
      "metadata": {
        "id": "zBd-ApuTekwn",
        "colab_type": "code",
        "colab": {}
      },
      "source": [
        "model.predict(tokenizer.t)"
      ],
      "execution_count": 0,
      "outputs": []
    }
  ]
}