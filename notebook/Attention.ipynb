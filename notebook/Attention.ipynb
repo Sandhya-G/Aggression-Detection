{
  "nbformat": 4,
  "nbformat_minor": 0,
  "metadata": {
    "colab": {
      "name": "Attention",
      "provenance": [],
      "collapsed_sections": [],
      "authorship_tag": "ABX9TyPI3itfLZd+e/yy6UyQ6jb+",
      "include_colab_link": true
    },
    "kernelspec": {
      "name": "python3",
      "display_name": "Python 3"
    },
    "accelerator": "GPU"
  },
  "cells": [
    {
      "cell_type": "markdown",
      "metadata": {
        "id": "view-in-github",
        "colab_type": "text"
      },
      "source": [
        "<a href=\"https://colab.research.google.com/github/Sandhya-G/Aggression-Detection/blob/master/notebook/Attention.ipynb\" target=\"_parent\"><img src=\"https://colab.research.google.com/assets/colab-badge.svg\" alt=\"Open In Colab\"/></a>"
      ]
    },
    {
      "cell_type": "markdown",
      "metadata": {
        "id": "cAe3aXqng7j3",
        "colab_type": "text"
      },
      "source": [
        "### Hierarchical Attention Networks for Document Classification Zichao Yang paper\n",
        "it has two levels of attention mechanisms applied at the word and  sentence level. Unlike other deep learning models it does not give equal importance to all the words in a document (more like calculating tf-idf values using neural network). In this paper they capture the importance of words first at sentence level and then at document level. The output from bi directionl GRU which captures contextual information is fed into a shallow neural network with tanh activation function which is then multiplied by trainable **context vector** and normalized to an importance weight per word by softmax function.\n",
        "The sum of these importance weights concatenated with the previously calculated  GRU output is called sentence vector.The same procedure is repeated for sentence vector the resulting output is a document vector  which can be used as features for document classification. In our case document length is very small hence we  only calculate word attention.\n",
        "![HAN ARC](https://www.researchgate.net/publication/329116136/figure/fig3/AS:695612525797380@1542858358849/Hierarchical-Attention-Network-and-its-incorporation-to-our-model.ppm)\n",
        "![attention](https://humboldt-wi.github.io/blog/img/seminar/group5_HAN/han_word.png)\n",
        "\n",
        "\n",
        "Some of their hyperparameter:\n",
        "* embedding dimension : 200\n",
        "* bi-GRU(hidden units): 50 \n",
        "* Optimizer : SGD with momentum 0.9 and lr was found using grid search\n",
        "* mini batch : 64 (documents of similar length were organized to be a batch)\n"
      ]
    },
    {
      "cell_type": "code",
      "metadata": {
        "id": "op7GfDWiu91k",
        "colab_type": "code",
        "colab": {}
      },
      "source": [
        "\n",
        "train_df = pd.read_csv(\"https://raw.githubusercontent.com/Sandhya-G/Aggression-Detection/master/dataset/GLOVE_TRAIN%23\")\n",
        "test_df = pd.read_csv(\"https://raw.githubusercontent.com/Sandhya-G/Aggression-Detection/master/dataset/GLOVE_TEST%23\")"
      ],
      "execution_count": 0,
      "outputs": []
    },
    {
      "cell_type": "code",
      "metadata": {
        "id": "MdNH_hNWvsO4",
        "colab_type": "code",
        "outputId": "fda1208a-7818-409a-8ec9-a8ed68e4de74",
        "colab": {
          "base_uri": "https://localhost:8080/",
          "height": 34
        }
      },
      "source": [
        "import os\n",
        "import time\n",
        "import numpy as np \n",
        "import pandas as pd \n",
        "from tqdm import tqdm\n",
        "import math\n",
        "import pandas as pd\n",
        "import numpy as np\n",
        "from sklearn.model_selection import train_test_split\n",
        "from sklearn import metrics\n",
        "import tensorflow as tf\n",
        "\n",
        "from keras.layers import Dense, Input, Embedding, Dropout, Activation, GRU, Conv1D, concatenate\n",
        "from keras.layers import Bidirectional, GlobalMaxPool1D, GlobalMaxPooling1D, GlobalAveragePooling1D\n",
        "from keras.layers import Reshape, Flatten, Concatenate, Dropout, SpatialDropout1D, BatchNormalization\n",
        "from keras.optimizers import Adam\n",
        "from keras.models import Model\n",
        "from keras import backend as K\n",
        "from keras.engine.topology import Layer\n",
        "from keras import initializers, regularizers, constraints, optimizers, layers\n",
        "from keras import initializers, regularizers, constraints, optimizers, layers\n",
        "\n",
        "from keras.preprocessing.text import Tokenizer\n",
        "from keras.preprocessing.sequence import pad_sequences\n",
        "\n",
        "from keras.layers import *\n",
        "from keras.models import *\n",
        "from keras.initializers import *\n",
        "from keras.optimizers import *\n",
        "import keras.backend as K\n",
        "from keras.callbacks import *\n",
        "\n",
        "\n",
        "\n"
      ],
      "execution_count": 2,
      "outputs": [
        {
          "output_type": "stream",
          "text": [
            "Using TensorFlow backend.\n"
          ],
          "name": "stderr"
        }
      ]
    },
    {
      "cell_type": "code",
      "metadata": {
        "id": "gx5EzYszv7yy",
        "colab_type": "code",
        "colab": {}
      },
      "source": [
        "from numpy.random import seed\n",
        "seed(1)\n",
        "from tensorflow import random\n",
        "random.set_seed(2)\n",
        "\n",
        "## split to train and val\n",
        "train_df, val_df = train_test_split(train_df, test_size=0.1, random_state=2048,stratify=train_df[\"class\"])\n",
        "\n",
        "## some config values \n",
        "embed_size = 100 # how big is each word vector\n",
        "max_features = 30000 # how many unique words to use (i.e num rows in embedding vector)\n",
        "maxlen = 120 # max number of words in a question to use\n",
        "\n",
        "## fill up the missing values\n",
        "train_X = train_df[\"tweet\"].fillna(\"_na_\").values\n",
        "val_X = val_df[\"tweet\"].fillna(\"_na_\").values\n",
        "test_X = test_df[\"tweet\"].fillna(\"_na_\").values\n",
        "\n",
        "## Tokenize the sentences\n",
        "tokenizer = Tokenizer(num_words=max_features,filters=\"\")\n",
        "tokenizer.fit_on_texts(list(train_X))\n",
        "train_X = tokenizer.texts_to_sequences(train_X)\n",
        "val_X = tokenizer.texts_to_sequences(val_X)\n",
        "test_X = tokenizer.texts_to_sequences(test_X)\n",
        "\n",
        "## Pad the sentences \n",
        "train_X = pad_sequences(train_X, maxlen=maxlen,padding='post',truncating='post')\n",
        "val_X = pad_sequences(val_X, maxlen=maxlen,padding='post',truncating='post')\n",
        "test_X = pad_sequences(test_X, maxlen=maxlen,padding='post',truncating='post')\n",
        "\n",
        "## Get the target values\n",
        "train_y = train_df['class'].values\n",
        "val_y = val_df['class'].values\n"
      ],
      "execution_count": 0,
      "outputs": []
    },
    {
      "cell_type": "code",
      "metadata": {
        "id": "kIYp1aKoFox9",
        "colab_type": "code",
        "colab": {
          "base_uri": "https://localhost:8080/",
          "height": 34
        },
        "outputId": "f625595c-d2e7-4044-ddc4-751421665609"
      },
      "source": [
        "len(tokenizer.word_index)"
      ],
      "execution_count": 7,
      "outputs": [
        {
          "output_type": "execute_result",
          "data": {
            "text/plain": [
              "38489"
            ]
          },
          "metadata": {
            "tags": []
          },
          "execution_count": 7
        }
      ]
    },
    {
      "cell_type": "code",
      "metadata": {
        "id": "olrZxMsWwTDK",
        "colab_type": "code",
        "colab": {}
      },
      "source": [
        "def load_glove_index():\n",
        "    EMBEDDING_FILE = '/content/glove.twitter.27B.100d.txt'\n",
        "    def get_coefs(word,*arr): return word, np.asarray(arr, dtype='float32')[:100]\n",
        "    embeddings_index = dict(get_coefs(*o.split(\" \")) for o in open(EMBEDDING_FILE))\n",
        "    return embeddings_index\n",
        "\n",
        "glove_embedding_index = load_glove_index()"
      ],
      "execution_count": 0,
      "outputs": []
    },
    {
      "cell_type": "code",
      "metadata": {
        "id": "sY85gPnHUYge",
        "colab_type": "code",
        "outputId": "29526f22-5243-4db8-f478-d13f22007c7b",
        "colab": {
          "base_uri": "https://localhost:8080/",
          "height": 34
        }
      },
      "source": [
        "glove_embedding_index.get('hi').shape"
      ],
      "execution_count": 11,
      "outputs": [
        {
          "output_type": "execute_result",
          "data": {
            "text/plain": [
              "(100,)"
            ]
          },
          "metadata": {
            "tags": []
          },
          "execution_count": 11
        }
      ]
    },
    {
      "cell_type": "code",
      "metadata": {
        "colab_type": "code",
        "id": "ftHuYSZlxPXR",
        "colab": {}
      },
      "source": [
        "num_words = max_features\n",
        "\n",
        "embedding_matrix = np.zeros((num_words, embed_size))\n",
        "for word, i in tokenizer.word_index.items():\n",
        "    if i >= num_words:\n",
        "        continue\n",
        "    embedding_vector = glove_embedding_index.get(word)\n",
        "\n",
        "    if embedding_vector is not None:\n",
        "        # words not found in embedding index will be all-zeros.\n",
        "      embedding_matrix[i] = embedding_vector\n",
        "    else:\n",
        "        if word.islower():\n",
        "                # try to get the embedding of word in titlecase if lowercase is not present\n",
        "                embedding_vector = glove_embedding_index.get(word.capitalize())\n",
        "                if embedding_vector is not None: \n",
        "                    embedding_matrix[i] = embedding_vector"
      ],
      "execution_count": 0,
      "outputs": []
    },
    {
      "cell_type": "code",
      "metadata": {
        "id": "5Y3SqtGCGx53",
        "colab_type": "code",
        "colab": {}
      },
      "source": [
        "#custom attention layer refer the second figure and keras documentation ‘Writing your own Keras layer'. \n",
        "class Attention(Layer):\n",
        "    #initialise\n",
        "    def __init__(self, step_dim,\n",
        "                 W_regularizer=None, b_regularizer=None,\n",
        "                 W_constraint=None, b_constraint=None,\n",
        "                 bias=True, **kwargs):\n",
        "        self.supports_masking = True\n",
        "        self.init = initializers.get('glorot_uniform')\n",
        "\n",
        "        self.W_regularizer = regularizers.get(W_regularizer)\n",
        "        self.b_regularizer = regularizers.get(b_regularizer)\n",
        "\n",
        "        self.W_constraint = constraints.get(W_constraint)\n",
        "        self.b_constraint = constraints.get(b_constraint)\n",
        "\n",
        "        self.bias = bias\n",
        "        self.step_dim = step_dim\n",
        "        self.features_dim = 0\n",
        "        super(Attention, self).__init__(**kwargs)\n",
        "\n",
        "    def build(self, input_shape):\n",
        "        # Builds all weights\n",
        "        # W = Weight matrix, b = bias vector, u = context vector\n",
        "        assert len(input_shape) == 3\n",
        "\n",
        "        self.W = self.add_weight(shape=(input_shape[-1],),\n",
        "                                 initializer=self.init,\n",
        "                                 name='{}_W'.format(self.name),\n",
        "                                 regularizer=self.W_regularizer,\n",
        "                                 constraint=self.W_constraint)\n",
        "        self.features_dim = input_shape[-1]\n",
        "\n",
        "        if self.bias:\n",
        "            self.b = self.add_weight(shape=(input_shape[1],),\n",
        "                                     initializer='zero',\n",
        "                                     name='{}_b'.format(self.name),\n",
        "                                     regularizer=self.b_regularizer,\n",
        "                                     constraint=self.b_constraint)\n",
        "        else:\n",
        "            self.b = None\n",
        "\n",
        "        self.built = True\n",
        "\n",
        "    def compute_mask(self, input, input_mask=None):\n",
        "        return None\n",
        "\n",
        "    def call(self, x, mask=None):\n",
        "        #calculations\n",
        "        features_dim = self.features_dim\n",
        "        step_dim = self.step_dim\n",
        "\n",
        "        eij = K.reshape(K.dot(K.reshape(x, (-1, features_dim)),\n",
        "                        K.reshape(self.W, (features_dim, 1))), (-1, step_dim))\n",
        "\n",
        "        if self.bias:\n",
        "            eij += self.b\n",
        "\n",
        "        eij = K.tanh(eij)\n",
        "\n",
        "        a = K.exp(eij)\n",
        "\n",
        "        if mask is not None:\n",
        "            a *= K.cast(mask, K.floatx())\n",
        "\n",
        "        a /= K.cast(K.sum(a, axis=1, keepdims=True) + K.epsilon(), K.floatx())\n",
        "\n",
        "        a = K.expand_dims(a)\n",
        "        weighted_input = x * a\n",
        "        return K.sum(weighted_input, axis=1)\n",
        "\n",
        "    def compute_output_shape(self, input_shape):\n",
        "        return input_shape[0],  self.features_dim\n",
        "\n",
        "\n"
      ],
      "execution_count": 0,
      "outputs": []
    },
    {
      "cell_type": "code",
      "metadata": {
        "id": "KVG90NeI5lkM",
        "colab_type": "code",
        "colab": {}
      },
      "source": [
        "#using only sentence vector for classification\n",
        "inp = Input(shape=(maxlen, ))\n",
        "x = Embedding(max_features, embedding_matrix.shape[1], weights=[embedding_matrix], trainable=False)(inp)\n",
        "x = Bidirectional(GRU(50, return_sequences=True))(x)\n",
        "x = Bidirectional(GRU(50,return_sequences=True))(x)\n",
        "x = Attention(maxlen)(x)\n",
        "x = Dense(256, activation=\"relu\")(x)\n",
        "# x = Dropout(0.25)(x)\n",
        "x = Dense(1, activation=\"sigmoid\")(x)\n",
        "model = Model(inputs=inp, outputs=x)\n",
        "model.compile(loss='binary_crossentropy',\n",
        "              optimizer='adam',\n",
        "              metrics=['accuracy'])\n"
      ],
      "execution_count": 0,
      "outputs": []
    },
    {
      "cell_type": "code",
      "metadata": {
        "id": "LR2F5AXbM2N4",
        "colab_type": "code",
        "colab": {
          "base_uri": "https://localhost:8080/",
          "height": 399
        },
        "outputId": "ef0ca8f9-fb41-4d3a-ae6a-113c147fbef8"
      },
      "source": [
        " model.summary()"
      ],
      "execution_count": 31,
      "outputs": [
        {
          "output_type": "stream",
          "text": [
            "Model: \"model_2\"\n",
            "_________________________________________________________________\n",
            "Layer (type)                 Output Shape              Param #   \n",
            "=================================================================\n",
            "input_7 (InputLayer)         (None, 120)               0         \n",
            "_________________________________________________________________\n",
            "embedding_7 (Embedding)      (None, 120, 100)          3000000   \n",
            "_________________________________________________________________\n",
            "bidirectional_7 (Bidirection (None, 120, 100)          45300     \n",
            "_________________________________________________________________\n",
            "bidirectional_8 (Bidirection (None, 120, 100)          45300     \n",
            "_________________________________________________________________\n",
            "attention_27 (Attention)     (None, 100)               220       \n",
            "_________________________________________________________________\n",
            "dense_4 (Dense)              (None, 256)               25856     \n",
            "_________________________________________________________________\n",
            "dense_5 (Dense)              (None, 1)                 257       \n",
            "=================================================================\n",
            "Total params: 3,116,933\n",
            "Trainable params: 116,933\n",
            "Non-trainable params: 3,000,000\n",
            "_________________________________________________________________\n"
          ],
          "name": "stdout"
        }
      ]
    },
    {
      "cell_type": "code",
      "metadata": {
        "id": "aCYdphmp6Abf",
        "colab_type": "code",
        "outputId": "ade09fcf-c39f-4734-8f06-e1c24f6e922a",
        "colab": {
          "base_uri": "https://localhost:8080/",
          "height": 402
        }
      },
      "source": [
        "\n",
        "history = model.fit(train_X, train_y, epochs=10, batch_size=512, validation_data=(val_X, val_y), verbose=1)"
      ],
      "execution_count": 32,
      "outputs": [
        {
          "output_type": "stream",
          "text": [
            "Train on 34587 samples, validate on 3843 samples\n",
            "Epoch 1/10\n",
            "34587/34587 [==============================] - 69s 2ms/step - loss: 0.3654 - accuracy: 0.8410 - val_loss: 0.2166 - val_accuracy: 0.9183\n",
            "Epoch 2/10\n",
            "34587/34587 [==============================] - 64s 2ms/step - loss: 0.2107 - accuracy: 0.9220 - val_loss: 0.1971 - val_accuracy: 0.9282\n",
            "Epoch 3/10\n",
            "34587/34587 [==============================] - 64s 2ms/step - loss: 0.1890 - accuracy: 0.9294 - val_loss: 0.1839 - val_accuracy: 0.9347\n",
            "Epoch 4/10\n",
            "34587/34587 [==============================] - 63s 2ms/step - loss: 0.1786 - accuracy: 0.9322 - val_loss: 0.1720 - val_accuracy: 0.9342\n",
            "Epoch 5/10\n",
            "34587/34587 [==============================] - 61s 2ms/step - loss: 0.1718 - accuracy: 0.9361 - val_loss: 0.1722 - val_accuracy: 0.9347\n",
            "Epoch 6/10\n",
            "34587/34587 [==============================] - 61s 2ms/step - loss: 0.1626 - accuracy: 0.9383 - val_loss: 0.1676 - val_accuracy: 0.9373\n",
            "Epoch 7/10\n",
            "34587/34587 [==============================] - 61s 2ms/step - loss: 0.1574 - accuracy: 0.9412 - val_loss: 0.1661 - val_accuracy: 0.9386\n",
            "Epoch 8/10\n",
            "34587/34587 [==============================] - 61s 2ms/step - loss: 0.1492 - accuracy: 0.9442 - val_loss: 0.1749 - val_accuracy: 0.9344\n",
            "Epoch 9/10\n",
            "34587/34587 [==============================] - 60s 2ms/step - loss: 0.1432 - accuracy: 0.9469 - val_loss: 0.1709 - val_accuracy: 0.9368\n",
            "Epoch 10/10\n",
            "34587/34587 [==============================] - 61s 2ms/step - loss: 0.1390 - accuracy: 0.9483 - val_loss: 0.1646 - val_accuracy: 0.9394\n"
          ],
          "name": "stdout"
        }
      ]
    },
    {
      "cell_type": "code",
      "metadata": {
        "id": "ME1zYshOCEhw",
        "colab_type": "code",
        "outputId": "b2471243-c5ab-4f0c-e91d-4c00dea3d784",
        "colab": {
          "base_uri": "https://localhost:8080/",
          "height": 34
        }
      },
      "source": [
        "import matplotlib.pyplot as plt\n",
        "%matplotlib inline\n",
        "# list all data in history\n",
        "print(history.history.keys())\n",
        "# summarize history for accuracy\n",
        "# codes from machinelearningmastery.com\n",
        "def print_hist(history):\n",
        "    plt.plot(history.history['accuracy'])\n",
        "    plt.plot(history.history['val_accuracy'])\n",
        "    plt.title('model accuracy')\n",
        "    plt.ylabel('accuracy')\n",
        "    plt.xlabel('epoch')\n",
        "    plt.legend(['train', 'val'], loc='upper left')\n",
        "    plt.show()\n",
        "\n",
        "   \n",
        "    \n",
        "    # summarize history for loss\n",
        "    plt.plot(history.history['loss'])\n",
        "    plt.plot(history.history['val_loss'])\n",
        "    plt.title('model loss')\n",
        "    plt.ylabel('loss')\n",
        "    plt.xlabel('epoch')\n",
        "    plt.legend(['train', 'val'], loc='upper left')\n",
        "    plt.show()\n",
        "    "
      ],
      "execution_count": 33,
      "outputs": [
        {
          "output_type": "stream",
          "text": [
            "dict_keys(['val_loss', 'val_accuracy', 'loss', 'accuracy'])\n"
          ],
          "name": "stdout"
        }
      ]
    },
    {
      "cell_type": "code",
      "metadata": {
        "id": "YnRC8E33OA-3",
        "colab_type": "code",
        "outputId": "d95769f2-4886-41ba-c988-55312239ff17",
        "colab": {
          "base_uri": "https://localhost:8080/",
          "height": 573
        }
      },
      "source": [
        "print_hist(history)"
      ],
      "execution_count": 34,
      "outputs": [
        {
          "output_type": "display_data",
          "data": {
            "image/png": "[encoded data removed]",
            "text/plain": [
              "<Figure size 432x288 with 1 Axes>"
            ]
          },
          "metadata": {
            "tags": [],
            "needs_background": "light"
          }
        },
        {
          "output_type": "display_data",
          "data": {
            "image/png": "[encoded data removed]",
            "text/plain": [
              "<Figure size 432x288 with 1 Axes>"
            ]
          },
          "metadata": {
            "tags": [],
            "needs_background": "light"
          }
        }
      ]
    },
    {
      "cell_type": "markdown",
      "metadata": {
        "id": "hgTNDG-4P0Pr",
        "colab_type": "text"
      },
      "source": [
        "# CLR"
      ]
    },
    {
      "cell_type": "code",
      "metadata": {
        "id": "h_K2wJZLdwAv",
        "colab_type": "code",
        "colab": {}
      },
      "source": [
        "pred_test = model.predict(test_X)"
      ],
      "execution_count": 0,
      "outputs": []
    },
    {
      "cell_type": "code",
      "metadata": {
        "id": "zBd-ApuTekwn",
        "colab_type": "code",
        "colab": {}
      },
      "source": [
        "model.predict(tokenizer.t)"
      ],
      "execution_count": 0,
      "outputs": []
    }
  ]
}