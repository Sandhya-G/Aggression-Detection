{
  "nbformat": 4,
  "nbformat_minor": 0,
  "metadata": {
    "colab": {
      "name": "Attention",
      "provenance": [],
      "collapsed_sections": [],
      "authorship_tag": "ABX9TyMeYv+ZUNUXFbBjPNujiJTe",
      "include_colab_link": true
    },
    "kernelspec": {
      "name": "python3",
      "display_name": "Python 3"
    },
    "accelerator": "GPU"
  },
  "cells": [
    {
      "cell_type": "markdown",
      "metadata": {
        "id": "view-in-github",
        "colab_type": "text"
      },
      "source": [
        "<a href=\"https://colab.research.google.com/github/Sandhya-G/Aggression-Detection/blob/master/notebook/Attention.ipynb\" target=\"_parent\"><img src=\"https://colab.research.google.com/assets/colab-badge.svg\" alt=\"Open In Colab\"/></a>"
      ]
    },
    {
      "cell_type": "markdown",
      "metadata": {
        "id": "cAe3aXqng7j3",
        "colab_type": "text"
      },
      "source": [
        "### Hierarchical Attention Networks for Document Classification Zichao Yang paper\n",
        "it has two levels of attention mechanisms applied at the word and  sentence level. Unlike other deep learning models it does not give equal importance to all the words in a document (more like calculating tf-idf values using neural network). In this paper they capture the importance of words first at sentence level and then at document level. The output from bi directionl GRU which captures contextual information is fed into a shallow neural network with tanh activation function which is then multiplied by trainable **context vector** and normalized to an importance weight per word by softmax function.\n",
        "The sum of these importance weights concatenated with the previously calculated  GRU output is called sentence vector.The same procedure is repeated for sentence vector the resulting output is a document vector  which can be used as features for document classification. In our case document length is very small hence we  only calculate word attention.\n",
        "![HAN ARC](https://www.researchgate.net/publication/329116136/figure/fig3/AS:695612525797380@1542858358849/Hierarchical-Attention-Network-and-its-incorporation-to-our-model.ppm)\n",
        "![attention](https://humboldt-wi.github.io/blog/img/seminar/group5_HAN/han_word.png)\n",
        "\n",
        "\n",
        "Some of their hyperparameter:\n",
        "* embedding dimension : 200\n",
        "* bi-GRU(hidden units): 50 \n",
        "* Optimizer : SGD with momentum 0.9 and lr was found using grid search\n",
        "* mini batch : 64 (documents of similar length were organized to be a batch)\n"
      ]
    },
    {
      "cell_type": "code",
      "metadata": {
        "id": "op7GfDWiu91k",
        "colab_type": "code",
        "colab": {}
      },
      "source": [
        "\n",
        "train_df = pd.read_csv(\"https://raw.githubusercontent.com/Sandhya-G/Aggression-Detection/master/dataset/GLOVE_TRAIN%23\")\n",
        "test_df = pd.read_csv(\"https://raw.githubusercontent.com/Sandhya-G/Aggression-Detection/master/dataset/GLOVE_TEST%23\")"
      ],
      "execution_count": 0,
      "outputs": []
    },
    {
      "cell_type": "code",
      "metadata": {
        "id": "MdNH_hNWvsO4",
        "colab_type": "code",
        "colab": {}
      },
      "source": [
        "import os\n",
        "import time\n",
        "import numpy as np \n",
        "import pandas as pd \n",
        "from tqdm import tqdm\n",
        "import math\n",
        "import pandas as pd\n",
        "import numpy as np\n",
        "from sklearn.model_selection import train_test_split\n",
        "from sklearn import metrics\n",
        "import tensorflow as tf\n",
        "import keras\n",
        "\n",
        "from keras.layers import Dense, Input, Embedding, Dropout, Activation, GRU, Conv1D, concatenate\n",
        "from keras.layers import Bidirectional, GlobalMaxPool1D, GlobalMaxPooling1D, GlobalAveragePooling1D\n",
        "from keras.layers import Reshape, Flatten, Concatenate, Dropout, SpatialDropout1D, BatchNormalization\n",
        "from keras.optimizers import Adam\n",
        "from keras.models import Model\n",
        "from keras import backend as K\n",
        "from keras.engine.topology import Layer\n",
        "from keras import initializers, regularizers, constraints, optimizers, layers\n",
        "from keras import initializers, regularizers, constraints, optimizers, layers\n",
        "from keras.callbacks import EarlyStopping, LearningRateScheduler\n",
        "from keras.callbacks import LambdaCallback\n",
        "\n",
        "from keras.preprocessing.text import Tokenizer\n",
        "from keras.preprocessing.sequence import pad_sequences\n",
        "\n",
        "from keras.layers import *\n",
        "from keras.models import *\n",
        "from keras.initializers import *\n",
        "from keras.optimizers import *\n",
        "import keras.backend as K\n",
        "\n",
        "\n",
        "\n",
        "\n"
      ],
      "execution_count": 0,
      "outputs": []
    },
    {
      "cell_type": "code",
      "metadata": {
        "id": "gx5EzYszv7yy",
        "colab_type": "code",
        "colab": {}
      },
      "source": [
        "from numpy.random import seed\n",
        "seed(1)\n",
        "from tensorflow import random\n",
        "random.set_seed(2)\n",
        "\n",
        "## split to train and val\n",
        "train_df, val_df = train_test_split(train_df, test_size=0.1, random_state=2048,stratify=train_df[\"class\"])\n",
        "\n",
        "## some config values \n",
        "embed_size = 100 # how big is each word vector\n",
        "max_features = 30000 # how many unique words to use (i.e num rows in embedding vector)\n",
        "maxlen = 120 # max number of words in a question to use\n",
        "\n",
        "## fill up the missing values\n",
        "train_X = train_df[\"tweet\"].fillna(\"_na_\").values\n",
        "val_X = val_df[\"tweet\"].fillna(\"_na_\").values\n",
        "test_X = test_df[\"tweet\"].fillna(\"_na_\").values\n",
        "\n",
        "## Tokenize the sentences\n",
        "tokenizer = Tokenizer(num_words=max_features,filters=\"\")\n",
        "tokenizer.fit_on_texts(list(train_X))\n",
        "train_X = tokenizer.texts_to_sequences(train_X)\n",
        "val_X = tokenizer.texts_to_sequences(val_X)\n",
        "test_X = tokenizer.texts_to_sequences(test_X)\n",
        "\n",
        "## Pad the sentences \n",
        "train_X = pad_sequences(train_X, maxlen=maxlen,padding='post',truncating='post')\n",
        "val_X = pad_sequences(val_X, maxlen=maxlen,padding='post',truncating='post')\n",
        "test_X = pad_sequences(test_X, maxlen=maxlen,padding='post',truncating='post')\n",
        "\n",
        "## Get the target values\n",
        "train_y = train_df['class'].values\n",
        "val_y = val_df['class'].values\n"
      ],
      "execution_count": 0,
      "outputs": []
    },
    {
      "cell_type": "code",
      "metadata": {
        "id": "kIYp1aKoFox9",
        "colab_type": "code",
        "colab": {
          "base_uri": "https://localhost:8080/",
          "height": 34
        },
        "outputId": "df2de1e5-22e7-432a-9564-1d36a867cf69"
      },
      "source": [
        "len(tokenizer.word_index)"
      ],
      "execution_count": 179,
      "outputs": [
        {
          "output_type": "execute_result",
          "data": {
            "text/plain": [
              "38489"
            ]
          },
          "metadata": {
            "tags": []
          },
          "execution_count": 179
        }
      ]
    },
    {
      "cell_type": "code",
      "metadata": {
        "id": "olrZxMsWwTDK",
        "colab_type": "code",
        "colab": {}
      },
      "source": [
        "def load_glove_index():\n",
        "    EMBEDDING_FILE = '/content/glove.twitter.27B.100d.txt'\n",
        "    def get_coefs(word,*arr): return word, np.asarray(arr, dtype='float32')[:100]\n",
        "    embeddings_index = dict(get_coefs(*o.split(\" \")) for o in open(EMBEDDING_FILE))\n",
        "    return embeddings_index\n",
        "\n",
        "glove_embedding_index = load_glove_index()"
      ],
      "execution_count": 0,
      "outputs": []
    },
    {
      "cell_type": "code",
      "metadata": {
        "id": "sY85gPnHUYge",
        "colab_type": "code",
        "outputId": "9a35e8fe-3fd0-4a98-9dd8-1d8579ed8e8a",
        "colab": {
          "base_uri": "https://localhost:8080/",
          "height": 34
        }
      },
      "source": [
        "glove_embedding_index.get('!').shape"
      ],
      "execution_count": 181,
      "outputs": [
        {
          "output_type": "execute_result",
          "data": {
            "text/plain": [
              "(100,)"
            ]
          },
          "metadata": {
            "tags": []
          },
          "execution_count": 181
        }
      ]
    },
    {
      "cell_type": "code",
      "metadata": {
        "colab_type": "code",
        "id": "ftHuYSZlxPXR",
        "colab": {}
      },
      "source": [
        "num_words = max_features\n",
        "\n",
        "embedding_matrix = np.zeros((num_words, embed_size))\n",
        "for word, i in tokenizer.word_index.items():\n",
        "    if i >= num_words:\n",
        "        continue\n",
        "    embedding_vector = glove_embedding_index.get(word)\n",
        "\n",
        "    if embedding_vector is not None:\n",
        "        # words not found in embedding index will be all-zeros.\n",
        "      embedding_matrix[i] = embedding_vector\n",
        "    else:\n",
        "        if word.islower():\n",
        "                # try to get the embedding of word in titlecase if lowercase is not present\n",
        "                embedding_vector = glove_embedding_index.get(word.capitalize())\n",
        "                if embedding_vector is not None: \n",
        "                    embedding_matrix[i] = embedding_vector"
      ],
      "execution_count": 0,
      "outputs": []
    },
    {
      "cell_type": "code",
      "metadata": {
        "id": "5Y3SqtGCGx53",
        "colab_type": "code",
        "colab": {}
      },
      "source": [
        "#custom attention layer refer the second figure and keras documentation ‘Writing your own Keras layer'. \n",
        "class Attention(Layer):\n",
        "    #initialise\n",
        "    def __init__(self, step_dim,\n",
        "                 W_regularizer=None, b_regularizer=None,\n",
        "                 W_constraint=None, b_constraint=None,\n",
        "                 bias=True, **kwargs):\n",
        "        self.supports_masking = True\n",
        "        self.init = initializers.get('glorot_uniform')\n",
        "\n",
        "        self.W_regularizer = regularizers.get(W_regularizer)\n",
        "        self.b_regularizer = regularizers.get(b_regularizer)\n",
        "\n",
        "        self.W_constraint = constraints.get(W_constraint)\n",
        "        self.b_constraint = constraints.get(b_constraint)\n",
        "\n",
        "        self.bias = bias\n",
        "        self.step_dim = step_dim\n",
        "        self.features_dim = 0\n",
        "        super(Attention, self).__init__(**kwargs)\n",
        "\n",
        "    def build(self, input_shape):\n",
        "        # Builds all weights\n",
        "        # W = Weight matrix, b = bias vector, u = context vector\n",
        "        assert len(input_shape) == 3\n",
        "\n",
        "        self.W = self.add_weight(shape=(input_shape[-1],),\n",
        "                                 initializer=self.init,\n",
        "                                 name='{}_W'.format(self.name),\n",
        "                                 regularizer=self.W_regularizer,\n",
        "                                 constraint=self.W_constraint)\n",
        "        self.features_dim = input_shape[-1]\n",
        "\n",
        "        if self.bias:\n",
        "            self.b = self.add_weight(shape=(input_shape[1],),\n",
        "                                     initializer='zero',\n",
        "                                     name='{}_b'.format(self.name),\n",
        "                                     regularizer=self.b_regularizer,\n",
        "                                     constraint=self.b_constraint)\n",
        "        else:\n",
        "            self.b = None\n",
        "\n",
        "        self.built = True\n",
        "\n",
        "    def compute_mask(self, input, input_mask=None):\n",
        "        return None\n",
        "\n",
        "    def call(self, x, mask=None):\n",
        "        #calculations\n",
        "        features_dim = self.features_dim\n",
        "        step_dim = self.step_dim\n",
        "\n",
        "        eij = K.reshape(K.dot(K.reshape(x, (-1, features_dim)),\n",
        "                        K.reshape(self.W, (features_dim, 1))), (-1, step_dim))\n",
        "\n",
        "        if self.bias:\n",
        "            eij += self.b\n",
        "\n",
        "        eij = K.tanh(eij)\n",
        "\n",
        "        a = K.exp(eij)\n",
        "\n",
        "        if mask is not None:\n",
        "            a *= K.cast(mask, K.floatx())\n",
        "\n",
        "        a /= K.cast(K.sum(a, axis=1, keepdims=True) + K.epsilon(), K.floatx())\n",
        "\n",
        "        a = K.expand_dims(a)\n",
        "        weighted_input = x * a\n",
        "        return K.sum(weighted_input, axis=1)\n",
        "\n",
        "    def compute_output_shape(self, input_shape):\n",
        "        return input_shape[0],  self.features_dim\n",
        "\n",
        "\n"
      ],
      "execution_count": 0,
      "outputs": []
    },
    {
      "cell_type": "code",
      "metadata": {
        "id": "KVG90NeI5lkM",
        "colab_type": "code",
        "colab": {}
      },
      "source": [
        "#using only sentence vector for classification\n",
        "inp = Input(shape=(maxlen, ))\n",
        "x = Embedding(max_features, embedding_matrix.shape[1], weights=[embedding_matrix], trainable=False)(inp)\n",
        "x = Bidirectional(GRU(50, return_sequences=True))(x)\n",
        "#x = Bidirectional(GRU(50,return_sequences=True))(x)\n",
        "x = Attention(maxlen)(x)\n",
        "x = Dropout(0.5)(x)\n",
        "x = Dense(100, activation=\"relu\")(x)\n",
        "x = Dropout(0.5)(x)\n",
        "x = Dense(1, activation=\"sigmoid\")(x)\n",
        "model = Model(inputs=inp, outputs=x)\n",
        "model.compile(loss='binary_crossentropy',\n",
        "              optimizer='adam',\n",
        "              metrics=['accuracy'])\n",
        "\n"
      ],
      "execution_count": 0,
      "outputs": []
    },
    {
      "cell_type": "code",
      "metadata": {
        "id": "LR2F5AXbM2N4",
        "colab_type": "code",
        "colab": {
          "base_uri": "https://localhost:8080/",
          "height": 434
        },
        "outputId": "e4d0a7d3-566d-457b-e9d2-926e3ad15fde"
      },
      "source": [
        " model.summary()"
      ],
      "execution_count": 603,
      "outputs": [
        {
          "output_type": "stream",
          "text": [
            "Model: \"model_31\"\n",
            "_________________________________________________________________\n",
            "Layer (type)                 Output Shape              Param #   \n",
            "=================================================================\n",
            "input_31 (InputLayer)        (None, 120)               0         \n",
            "_________________________________________________________________\n",
            "embedding_31 (Embedding)     (None, 120, 100)          3000000   \n",
            "_________________________________________________________________\n",
            "bidirectional_40 (Bidirectio (None, 120, 100)          45300     \n",
            "_________________________________________________________________\n",
            "attention_31 (Attention)     (None, 100)               220       \n",
            "_________________________________________________________________\n",
            "dropout_43 (Dropout)         (None, 100)               0         \n",
            "_________________________________________________________________\n",
            "dense_61 (Dense)             (None, 100)               10100     \n",
            "_________________________________________________________________\n",
            "dropout_44 (Dropout)         (None, 100)               0         \n",
            "_________________________________________________________________\n",
            "dense_62 (Dense)             (None, 1)                 101       \n",
            "=================================================================\n",
            "Total params: 3,055,721\n",
            "Trainable params: 55,721\n",
            "Non-trainable params: 3,000,000\n",
            "_________________________________________________________________\n"
          ],
          "name": "stdout"
        }
      ]
    },
    {
      "cell_type": "code",
      "metadata": {
        "id": "aCYdphmp6Abf",
        "colab_type": "code",
        "outputId": "5d3b77c5-03e3-4bbe-82e7-3a6e9fe012b6",
        "colab": {
          "base_uri": "https://localhost:8080/",
          "height": 402
        }
      },
      "source": [
        "#without CLR (bad)\n",
        "history = model.fit(train_X, train_y, epochs=10, batch_size=512, validation_data=(val_X, val_y), verbose=1)"
      ],
      "execution_count": 109,
      "outputs": [
        {
          "output_type": "stream",
          "text": [
            "Train on 38430 samples, validate on 4271 samples\n",
            "Epoch 1/10\n",
            "38430/38430 [==============================] - 106s 3ms/step - loss: 0.1616 - accuracy: 0.9353 - val_loss: 0.2070 - val_accuracy: 0.9248\n",
            "Epoch 2/10\n",
            "38430/38430 [==============================] - 106s 3ms/step - loss: 0.1559 - accuracy: 0.9381 - val_loss: 0.2127 - val_accuracy: 0.9124\n",
            "Epoch 3/10\n",
            "38430/38430 [==============================] - 107s 3ms/step - loss: 0.1560 - accuracy: 0.9381 - val_loss: 0.2016 - val_accuracy: 0.9279\n",
            "Epoch 4/10\n",
            "38430/38430 [==============================] - 107s 3ms/step - loss: 0.1467 - accuracy: 0.9415 - val_loss: 0.2091 - val_accuracy: 0.9286\n",
            "Epoch 5/10\n",
            "38430/38430 [==============================] - 108s 3ms/step - loss: 0.1414 - accuracy: 0.9439 - val_loss: 0.2064 - val_accuracy: 0.9260\n",
            "Epoch 6/10\n",
            "38430/38430 [==============================] - 109s 3ms/step - loss: 0.1355 - accuracy: 0.9472 - val_loss: 0.2176 - val_accuracy: 0.9251\n",
            "Epoch 7/10\n",
            "38430/38430 [==============================] - 108s 3ms/step - loss: 0.1304 - accuracy: 0.9494 - val_loss: 0.2422 - val_accuracy: 0.9267\n",
            "Epoch 8/10\n",
            "38430/38430 [==============================] - 107s 3ms/step - loss: 0.1265 - accuracy: 0.9505 - val_loss: 0.2329 - val_accuracy: 0.9258\n",
            "Epoch 9/10\n",
            "38430/38430 [==============================] - 110s 3ms/step - loss: 0.1209 - accuracy: 0.9529 - val_loss: 0.2461 - val_accuracy: 0.9052\n",
            "Epoch 10/10\n",
            "38430/38430 [==============================] - 111s 3ms/step - loss: 0.1203 - accuracy: 0.9527 - val_loss: 0.2493 - val_accuracy: 0.9291\n"
          ],
          "name": "stdout"
        }
      ]
    },
    {
      "cell_type": "markdown",
      "metadata": {
        "id": "hgTNDG-4P0Pr",
        "colab_type": "text"
      },
      "source": [
        "# Cyclical Learning Rates"
      ]
    },
    {
      "cell_type": "code",
      "metadata": {
        "id": "rlxRD0bgvVJJ",
        "colab_type": "code",
        "colab": {}
      },
      "source": [
        "from matplotlib import pyplot as plt\n",
        "import math\n",
        "from keras.callbacks import LambdaCallback\n",
        "import keras.backend as K\n",
        "import numpy as np\n",
        "\n",
        "\n",
        "class LRFinder:\n",
        "    \"\"\"\n",
        "    Plots the change of the loss function of a Keras model when the learning rate is exponentially increasing.\n",
        "    See for details:\n",
        "    https://towardsdatascience.com/estimating-optimal-learning-rate-for-a-deep-neural-network-ce32f2556ce0\n",
        "    \"\"\"\n",
        "\n",
        "    def __init__(self, model):\n",
        "        self.model = model\n",
        "        self.losses = []\n",
        "        self.lrs = []\n",
        "        self.best_loss = 1e9\n",
        "\n",
        "    def on_batch_end(self, batch, logs):\n",
        "        # Log the learning rate\n",
        "        lr = K.get_value(self.model.optimizer.learning_rate)\n",
        "        self.lrs.append(lr)\n",
        "\n",
        "        # Log the loss\n",
        "        loss = logs['loss']\n",
        "        self.losses.append(loss)\n",
        "\n",
        "        # Check whether the loss got too large or NaN\n",
        "        if batch > 5 and (math.isnan(loss) or loss > self.best_loss * 4):\n",
        "            self.model.stop_training = True\n",
        "            return\n",
        "\n",
        "        if loss < self.best_loss:\n",
        "            self.best_loss = loss\n",
        "\n",
        "        # Increase the learning rate for the next batch\n",
        "        lr *= self.lr_mult\n",
        "        K.set_value(self.model.optimizer.learning_rate, lr)\n",
        "\n",
        "    def find(self, x_train, y_train, start_lr, end_lr, batch_size=64, epochs=1):\n",
        "        # If x_train contains data for multiple inputs, use length of the first input.\n",
        "        # Assumption: the first element in the list is single input; NOT a list of inputs.\n",
        "        N = x_train[0].shape[0] if isinstance(x_train, list) else x_train.shape[0]\n",
        "\n",
        "        # Compute number of batches and LR multiplier\n",
        "        num_batches = epochs * N / batch_size\n",
        "        self.lr_mult = (float(end_lr) / float(start_lr)) ** (float(1) / float(num_batches))\n",
        "        # Save weights into a file\n",
        "        self.model.save_weights('tmp.h5')\n",
        "\n",
        "        # Remember the original learning rate\n",
        "        original_lr = K.get_value(self.model.optimizer.learning_rate)\n",
        "\n",
        "        # Set the initial learning rate\n",
        "        K.set_value(self.model.optimizer.learning_rate, start_lr)\n",
        "\n",
        "        callback = LambdaCallback(on_batch_end=lambda batch, logs: self.on_batch_end(batch, logs))\n",
        "\n",
        "        self.model.fit(x_train, y_train,\n",
        "                       batch_size=batch_size, epochs=epochs,\n",
        "                       callbacks=[callback])\n",
        "\n",
        "        # Restore the weights to the state before model fitting\n",
        "        self.model.load_weights('tmp.h5')\n",
        "\n",
        "        # Restore the original learning rate\n",
        "        K.set_value(self.model.optimizer.learning_rate, original_lr)\n",
        "\n",
        "    def find_generator(self, generator, start_lr, end_lr, epochs=1, steps_per_epoch=None, **kw_fit):\n",
        "        if steps_per_epoch is None:\n",
        "            try:\n",
        "                steps_per_epoch = len(generator)\n",
        "            except (ValueError, NotImplementedError) as e:\n",
        "                raise e('`steps_per_epoch=None` is only valid for a'\n",
        "                        ' generator based on the '\n",
        "                        '`keras.utils.Sequence`'\n",
        "                        ' class. Please specify `steps_per_epoch` '\n",
        "                        'or use the `keras.utils.Sequence` class.')\n",
        "        self.lr_mult = (float(end_lr) / float(start_lr)) ** (float(1) / float(epochs * steps_per_epoch))\n",
        "\n",
        "        # Save weights into a file\n",
        "        self.model.save_weights('tmp.h5')\n",
        "\n",
        "        # Remember the original learning rate\n",
        "        original_lr = K.get_value(self.model.optimizer.learning_rate)\n",
        "\n",
        "        # Set the initial learning rate\n",
        "        K.set_value(self.model.optimizer.learning_rate, start_lr)\n",
        "\n",
        "        callback = LambdaCallback(on_batch_end=lambda batch,\n",
        "                                                      logs: self.on_batch_end(batch, logs))\n",
        "\n",
        "        self.model.fit_generator(generator=generator,\n",
        "                                 epochs=epochs,\n",
        "                                 steps_per_epoch=steps_per_epoch,\n",
        "                                 callbacks=[callback],\n",
        "                                 **kw_fit)\n",
        "\n",
        "        # Restore the weights to the state before model fitting\n",
        "        self.model.load_weights('tmp.h5')\n",
        "\n",
        "        # Restore the original learning rate\n",
        "        K.set_value(self.model.optimizer.learning_rate, original_lr)\n",
        "\n",
        "    def plot_loss(self, n_skip_beginning=10, n_skip_end=5, x_scale='log'):\n",
        "        \"\"\"\n",
        "        Plots the loss.\n",
        "        Parameters:\n",
        "            n_skip_beginning - number of batches to skip on the left.\n",
        "            n_skip_end - number of batches to skip on the right.\n",
        "        \"\"\"\n",
        "        plt.ylabel(\"loss\")\n",
        "        plt.xlabel(\"learning rate (log scale)\")\n",
        "        plt.plot(self.lrs[n_skip_beginning:-n_skip_end], self.losses[n_skip_beginning:-n_skip_end])\n",
        "        plt.xscale(x_scale)\n",
        "        plt.show()\n",
        "\n",
        "    def plot_loss_change(self, sma=1, n_skip_beginning=10, n_skip_end=5, y_lim=(-0.01, 0.01)):\n",
        "        \"\"\"\n",
        "        Plots rate of change of the loss function.\n",
        "        Parameters:\n",
        "            sma - number of batches for simple moving average to smooth out the curve.\n",
        "            n_skip_beginning - number of batches to skip on the left.\n",
        "            n_skip_end - number of batches to skip on the right.\n",
        "            y_lim - limits for the y axis.\n",
        "        \"\"\"\n",
        "        derivatives = self.get_derivatives(sma)[n_skip_beginning:-n_skip_end]\n",
        "        lrs = self.lrs[n_skip_beginning:-n_skip_end]\n",
        "        plt.ylabel(\"rate of loss change\")\n",
        "        plt.xlabel(\"learning rate (log scale)\")\n",
        "        plt.plot(lrs, derivatives)\n",
        "        plt.xscale('log')\n",
        "        plt.ylim(y_lim)\n",
        "        plt.show()\n",
        "\n",
        "    def get_derivatives(self, sma):\n",
        "        assert sma >= 1\n",
        "        derivatives = [0] * sma\n",
        "        for i in range(sma, len(self.lrs)):\n",
        "            derivatives.append((self.losses[i] - self.losses[i - sma]) / sma)\n",
        "        return derivatives\n",
        "\n",
        "    def get_best_lr(self, sma, n_skip_beginning=10, n_skip_end=5):\n",
        "        derivatives = self.get_derivatives(sma)\n",
        "        best_der_idx = np.argmax(derivatives[n_skip_beginning:-n_skip_end])[0]\n",
        "        return self.lrs[n_skip_beginning:-n_skip_end][best_der_idx]\n",
        "\n",
        "  "
      ],
      "execution_count": 0,
      "outputs": []
    },
    {
      "cell_type": "code",
      "metadata": {
        "id": "UcJD3zrnyksm",
        "colab_type": "code",
        "colab": {}
      },
      "source": [
        "lr_finder = LRFinder(model)"
      ],
      "execution_count": 0,
      "outputs": []
    },
    {
      "cell_type": "code",
      "metadata": {
        "id": "a6byaR2o4qpR",
        "colab_type": "code",
        "colab": {
          "base_uri": "https://localhost:8080/",
          "height": 156
        },
        "outputId": "6b3d46d0-7026-4517-9de3-f7f73128e017"
      },
      "source": [
        "lr_finder.find(train_X, train_y, start_lr=0.0001, end_lr=1, batch_size=256, epochs=5)"
      ],
      "execution_count": 338,
      "outputs": [
        {
          "output_type": "stream",
          "text": [
            "Epoch 1/5\n",
            "38430/38430 [==============================] - 107s 3ms/step - loss: 0.5601 - accuracy: 0.7096\n",
            "Epoch 2/5\n",
            "38430/38430 [==============================] - 107s 3ms/step - loss: 0.2173 - accuracy: 0.9229\n",
            "Epoch 3/5\n",
            "38430/38430 [==============================] - 107s 3ms/step - loss: 0.1920 - accuracy: 0.9336\n",
            "Epoch 4/5\n",
            "23552/38430 [=================>............] - ETA: 41s - loss: 0.2271 - accuracy: 0.9238"
          ],
          "name": "stdout"
        }
      ]
    },
    {
      "cell_type": "markdown",
      "metadata": {
        "id": "m7faSal9G_Ax",
        "colab_type": "text"
      },
      "source": [
        "so lr was too large in the last update"
      ]
    },
    {
      "cell_type": "code",
      "metadata": {
        "id": "DILZpB-p7qkB",
        "colab_type": "code",
        "colab": {
          "base_uri": "https://localhost:8080/",
          "height": 283
        },
        "outputId": "2327cd0a-9f21-4b9f-8d65-bf69014ed3a2"
      },
      "source": [
        "# Plot the loss, ignore 5 batches in the beginning and 5 in the end\n",
        "lr_finder.plot_loss(n_skip_beginning=5, n_skip_end=5)"
      ],
      "execution_count": 339,
      "outputs": [
        {
          "output_type": "display_data",
          "data": {
            "image/png": "[encoded data removed]",
            "text/plain": [
              "<Figure size 432x288 with 1 Axes>"
            ]
          },
          "metadata": {
            "tags": [],
            "needs_background": "light"
          }
        }
      ]
    },
    {
      "cell_type": "code",
      "metadata": {
        "id": "9UnNg2OIHK-R",
        "colab_type": "code",
        "colab": {
          "base_uri": "https://localhost:8080/",
          "height": 287
        },
        "outputId": "cc68de50-c232-44a8-fe26-df07c2f0cf30"
      },
      "source": [
        "lr_finder.plot_loss_change(sma=20, n_skip_beginning=20, n_skip_end=5, y_lim=(-0.01, 0.01))\n"
      ],
      "execution_count": 340,
      "outputs": [
        {
          "output_type": "display_data",
          "data": {
            "image/png": "[encoded data removed]",
            "text/plain": [
              "<Figure size 432x288 with 1 Axes>"
            ]
          },
          "metadata": {
            "tags": [],
            "needs_background": "light"
          }
        }
      ]
    },
    {
      "cell_type": "code",
      "metadata": {
        "id": "_ocZc45x79Rs",
        "colab_type": "code",
        "colab": {}
      },
      "source": [
        "class CyclicLR(Callback):\n",
        "    \"\"\"This callback implements a cyclical learning rate policy (CLR).\n",
        "    The method cycles the learning rate between two boundaries with\n",
        "    some constant frequency, as detailed in this paper (https://arxiv.org/abs/1506.01186).\n",
        "    The amplitude of the cycle can be scaled on a per-iteration or \n",
        "    per-cycle basis.\n",
        "    This class has three built-in policies, as put forth in the paper.\n",
        "    \"triangular\":\n",
        "        A basic triangular cycle w/ no amplitude scaling.\n",
        "    \"triangular2\":\n",
        "        A basic triangular cycle that scales initial amplitude by half each cycle.\n",
        "    \"exp_range\":\n",
        "        A cycle that scales initial amplitude by gamma**(cycle iterations) at each \n",
        "        cycle iteration.\n",
        "    For more detail, please see paper.\n",
        "    \n",
        "    # Arguments\n",
        "        base_lr: initial learning rate which is the\n",
        "            lower boundary in the cycle.\n",
        "        max_lr: upper boundary in the cycle. Functionally,\n",
        "            it defines the cycle amplitude (max_lr - base_lr).\n",
        "            The lr at any cycle is the sum of base_lr\n",
        "            and some scaling of the amplitude; therefore \n",
        "            max_lr may not actually be reached depending on\n",
        "            scaling function.\n",
        "        step_size: number of training iterations per\n",
        "            half cycle. Authors suggest setting step_size\n",
        "            2-8 x training iterations in epoch.\n",
        "        mode: one of {triangular, triangular2, exp_range}.\n",
        "            Default 'triangular'.\n",
        "            Values correspond to policies detailed above.\n",
        "            If scale_fn is not None, this argument is ignored.\n",
        "        gamma: constant in 'exp_range' scaling function:\n",
        "            gamma**(cycle iterations)\n",
        "        scale_fn: Custom scaling policy defined by a single\n",
        "            argument lambda function, where \n",
        "            0 <= scale_fn(x) <= 1 for all x >= 0.\n",
        "            mode paramater is ignored \n",
        "        scale_mode: {'cycle', 'iterations'}.\n",
        "            Defines whether scale_fn is evaluated on \n",
        "            cycle number or cycle iterations (training\n",
        "            iterations since start of cycle). Default is 'cycle'.\n",
        "    \"\"\"\n",
        "\n",
        "    def __init__(self, base_lr=0.001, max_lr=0.006, step_size=2000., mode='triangular',\n",
        "                 gamma=1., scale_fn=None, scale_mode='cycle'):\n",
        "        super(CyclicLR, self).__init__()\n",
        "\n",
        "        self.base_lr = base_lr\n",
        "        self.max_lr = max_lr\n",
        "        self.step_size = step_size\n",
        "        self.mode = mode\n",
        "        self.gamma = gamma\n",
        "        if scale_fn == None:\n",
        "            if self.mode == 'triangular':\n",
        "                self.scale_fn = lambda x: 1.\n",
        "                self.scale_mode = 'cycle'\n",
        "            elif self.mode == 'triangular2':\n",
        "                self.scale_fn = lambda x: 1/(2.**(x-1))\n",
        "                self.scale_mode = 'cycle'\n",
        "            elif self.mode == 'exp_range':\n",
        "                self.scale_fn = lambda x: gamma**(x)\n",
        "                self.scale_mode = 'iterations'\n",
        "        else:\n",
        "            self.scale_fn = scale_fn\n",
        "            self.scale_mode = scale_mode\n",
        "        self.clr_iterations = 0.\n",
        "        self.trn_iterations = 0.\n",
        "        self.history = {}\n",
        "\n",
        "        self._reset()\n",
        "\n",
        "    def _reset(self, new_base_lr=None, new_max_lr=None,\n",
        "               new_step_size=None):\n",
        "        \"\"\"Resets cycle iterations.\n",
        "        Optional boundary/step size adjustment.\n",
        "        \"\"\"\n",
        "        if new_base_lr != None:\n",
        "            self.base_lr = new_base_lr\n",
        "        if new_max_lr != None:\n",
        "            self.max_lr = new_max_lr\n",
        "        if new_step_size != None:\n",
        "            self.step_size = new_step_size\n",
        "        self.clr_iterations = 0.\n",
        "        \n",
        "    def clr(self):\n",
        "        cycle = np.floor(1+self.clr_iterations/(2*self.step_size))\n",
        "        x = np.abs(self.clr_iterations/self.step_size - 2*cycle + 1)\n",
        "        if self.scale_mode == 'cycle':\n",
        "            return self.base_lr + (self.max_lr-self.base_lr)*np.maximum(0, (1-x))*self.scale_fn(cycle)\n",
        "        else:\n",
        "            return self.base_lr + (self.max_lr-self.base_lr)*np.maximum(0, (1-x))*self.scale_fn(self.clr_iterations)\n",
        "        \n",
        "    def on_train_begin(self, logs={}):\n",
        "        logs = logs or {}\n",
        "\n",
        "        if self.clr_iterations == 0:\n",
        "            K.set_value(self.model.optimizer.lr, self.base_lr)\n",
        "        else:\n",
        "            K.set_value(self.model.optimizer.lr, self.clr())        \n",
        "            \n",
        "    def on_batch_end(self, epoch, logs=None):\n",
        "        \n",
        "        logs = logs or {}\n",
        "        self.trn_iterations += 1\n",
        "        self.clr_iterations += 1\n",
        "\n",
        "        self.history.setdefault('lr', []).append(K.get_value(self.model.optimizer.lr))\n",
        "        self.history.setdefault('iterations', []).append(self.trn_iterations)\n",
        "\n",
        "      \n",
        "        for k, v in logs.items():\n",
        "          self.history.setdefault(k, []).append(v)\n",
        "        \n",
        "        K.set_value(self.model.optimizer.lr, self.clr())\n",
        "\n",
        "   \n"
      ],
      "execution_count": 0,
      "outputs": []
    },
    {
      "cell_type": "code",
      "metadata": {
        "id": "h_K2wJZLdwAv",
        "colab_type": "code",
        "colab": {
          "base_uri": "https://localhost:8080/",
          "height": 34
        },
        "outputId": "e31c78e0-eee3-4dfe-9685-1b58ed2de52d"
      },
      "source": [
        "iterations = len(train_y)/512\n",
        "step_size = math.floor(iterations*2)\n",
        "step_size"
      ],
      "execution_count": 536,
      "outputs": [
        {
          "output_type": "execute_result",
          "data": {
            "text/plain": [
              "150"
            ]
          },
          "metadata": {
            "tags": []
          },
          "execution_count": 536
        }
      ]
    },
    {
      "cell_type": "markdown",
      "metadata": {
        "id": "Pe2D9eVzvCPO",
        "colab_type": "text"
      },
      "source": [
        "### The model is not deterministic because of dropout so results may vary"
      ]
    },
    {
      "cell_type": "code",
      "metadata": {
        "id": "ftyg2AqPL0_m",
        "colab_type": "code",
        "colab": {}
      },
      "source": [
        "clr = CyclicLR(base_lr=0.001, max_lr=0.03,step_size=step_size)\n",
        "early_stop = EarlyStopping(monitor='val_loss', patience = 1, verbose = 1) \n",
        "checkpoint = ModelCheckpoint('attention.h5',monitor='val_loss', verbose=1, save_best_only=True)"
      ],
      "execution_count": 0,
      "outputs": []
    },
    {
      "cell_type": "code",
      "metadata": {
        "id": "Ka0dQsk2MCmb",
        "colab_type": "code",
        "colab": {
          "base_uri": "https://localhost:8080/",
          "height": 332
        },
        "outputId": "db238c94-a098-4c48-cbb4-0d8ad84746bb"
      },
      "source": [
        "history = model.fit(train_X, train_y,validation_data=(val_X, val_y),callbacks=[clr,early_stop,checkpoint],batch_size=512,verbose=1,epochs=4)"
      ],
      "execution_count": 610,
      "outputs": [
        {
          "output_type": "stream",
          "text": [
            "Train on 38430 samples, validate on 4271 samples\n",
            "Epoch 1/4\n",
            "38430/38430 [==============================] - 57s 1ms/step - loss: 0.3222 - accuracy: 0.8537 - val_loss: 0.1842 - val_accuracy: 0.9274\n",
            "\n",
            "Epoch 00001: val_loss improved from inf to 0.18422, saving model to attention.h5\n",
            "Epoch 2/4\n",
            "38430/38430 [==============================] - 55s 1ms/step - loss: 0.1887 - accuracy: 0.9331 - val_loss: 0.1692 - val_accuracy: 0.9403\n",
            "\n",
            "Epoch 00002: val_loss improved from 0.18422 to 0.16924, saving model to attention.h5\n",
            "Epoch 3/4\n",
            "38430/38430 [==============================] - 55s 1ms/step - loss: 0.1669 - accuracy: 0.9410 - val_loss: 0.1595 - val_accuracy: 0.9431\n",
            "\n",
            "Epoch 00003: val_loss improved from 0.16924 to 0.15951, saving model to attention.h5\n",
            "Epoch 4/4\n",
            "38430/38430 [==============================] - 55s 1ms/step - loss: 0.1359 - accuracy: 0.9517 - val_loss: 0.1559 - val_accuracy: 0.9466\n",
            "\n",
            "Epoch 00004: val_loss improved from 0.15951 to 0.15589, saving model to attention.h5\n"
          ],
          "name": "stdout"
        }
      ]
    },
    {
      "cell_type": "code",
      "metadata": {
        "id": "5_ZWOp-vPIsJ",
        "colab_type": "code",
        "colab": {
          "base_uri": "https://localhost:8080/",
          "height": 34
        },
        "outputId": "a61f08ed-52f9-4efd-ec9d-6911f43547cd"
      },
      "source": [
        "import matplotlib.pyplot as plt\n",
        "%matplotlib inline\n",
        "# list all data in history\n",
        "print(history.history.keys())\n",
        "# summarize history for accuracy\n",
        "# codes from machinelearningmastery.com\n",
        "def print_hist(history):\n",
        "    plt.plot(history.history['accuracy'])\n",
        "    plt.plot(history.history['val_accuracy'])\n",
        "    plt.title('model accuracy')\n",
        "    plt.ylabel('accuracy')\n",
        "    plt.xlabel('epoch')\n",
        "    plt.legend(['train', 'val'], loc='upper left')\n",
        "    plt.show()\n",
        "\n",
        "   \n",
        "    \n",
        "    # summarize history for loss\n",
        "    plt.plot(history.history['loss'])\n",
        "    plt.plot(history.history['val_loss'])\n",
        "    plt.title('model loss')\n",
        "    plt.ylabel('loss')\n",
        "    plt.xlabel('epoch')\n",
        "    plt.legend(['train', 'val'], loc='upper left')\n",
        "    plt.show()\n",
        "    "
      ],
      "execution_count": 635,
      "outputs": [
        {
          "output_type": "stream",
          "text": [
            "dict_keys(['val_loss', 'val_accuracy', 'loss', 'accuracy'])\n"
          ],
          "name": "stdout"
        }
      ]
    },
    {
      "cell_type": "code",
      "metadata": {
        "id": "5Lmr6KmjPLUd",
        "colab_type": "code",
        "colab": {
          "base_uri": "https://localhost:8080/",
          "height": 573
        },
        "outputId": "5d478a76-89a8-4a3b-fd2e-6de9b2053722"
      },
      "source": [
        "print_hist(history)"
      ],
      "execution_count": 637,
      "outputs": [
        {
          "output_type": "display_data",
          "data": {
            "image/png": "[encoded data removed]",
            "text/plain": [
              "<Figure size 432x288 with 1 Axes>"
            ]
          },
          "metadata": {
            "tags": [],
            "needs_background": "light"
          }
        },
        {
          "output_type": "display_data",
          "data": {
            "image/png": "[encoded data removed]",
            "text/plain": [
              "<Figure size 432x288 with 1 Axes>"
            ]
          },
          "metadata": {
            "tags": [],
            "needs_background": "light"
          }
        }
      ]
    },
    {
      "cell_type": "code",
      "metadata": {
        "id": "Se70CLt3WD_b",
        "colab_type": "code",
        "colab": {
          "base_uri": "https://localhost:8080/",
          "height": 746
        },
        "outputId": "23745be7-c154-4a59-8c2b-ab0cbbc40405"
      },
      "source": [
        "pred_glove_train_y = model.predict([train_X], batch_size=1024, verbose=1)\n",
        "scores = []\n",
        "thresholds = np.arange(0.1, 0.501, 0.01)\n",
        "for thresh in thresholds:\n",
        "    thresh = np.round(thresh, 2)\n",
        "    scores.append(metrics.f1_score(train_y, (pred_glove_train_y>thresh).astype(int)))\n",
        "    print(\"F1 score at threshold {0} is {1}\".format(thresh, metrics.f1_score(train_y, (pred_glove_train_y>thresh).astype(int))))\n",
        "idx = np.argmax(np.array(scores))\n",
        "thresh_train = thresholds[idx]"
      ],
      "execution_count": 638,
      "outputs": [
        {
          "output_type": "stream",
          "text": [
            "38430/38430 [==============================] - 3s 79us/step\n",
            "F1 score at threshold 0.1 is 0.9131994051957897\n",
            "F1 score at threshold 0.11 is 0.9176146358625541\n",
            "F1 score at threshold 0.12 is 0.921203902956696\n",
            "F1 score at threshold 0.13 is 0.9242567807651308\n",
            "F1 score at threshold 0.14 is 0.9274879543156267\n",
            "F1 score at threshold 0.15 is 0.9298465580034628\n",
            "F1 score at threshold 0.16 is 0.932434456928839\n",
            "F1 score at threshold 0.17 is 0.9343631664362565\n",
            "F1 score at threshold 0.18 is 0.9364897466827503\n",
            "F1 score at threshold 0.19 is 0.9382275572219031\n",
            "F1 score at threshold 0.2 is 0.9396648383284343\n",
            "F1 score at threshold 0.21 is 0.9411157024793388\n",
            "F1 score at threshold 0.22 is 0.9424307036247335\n",
            "F1 score at threshold 0.23 is 0.9436542335632746\n",
            "F1 score at threshold 0.24 is 0.9449473941766577\n",
            "F1 score at threshold 0.25 is 0.946322920817878\n",
            "F1 score at threshold 0.26 is 0.94703227193171\n",
            "F1 score at threshold 0.27 is 0.948278514507246\n",
            "F1 score at threshold 0.28 is 0.94896449704142\n",
            "F1 score at threshold 0.29 is 0.949848681366191\n",
            "F1 score at threshold 0.3 is 0.9504270330486447\n",
            "F1 score at threshold 0.31 is 0.9511439022878047\n",
            "F1 score at threshold 0.32 is 0.9517421278181479\n",
            "F1 score at threshold 0.33 is 0.9524609545143427\n",
            "F1 score at threshold 0.34 is 0.9530251550762134\n",
            "F1 score at threshold 0.35 is 0.953192818110851\n",
            "F1 score at threshold 0.36 is 0.9535458441517815\n",
            "F1 score at threshold 0.37 is 0.9538461538461539\n",
            "F1 score at threshold 0.38 is 0.9542401606929886\n",
            "F1 score at threshold 0.39 is 0.9545568824638593\n",
            "F1 score at threshold 0.4 is 0.9548415520659597\n",
            "F1 score at threshold 0.41 is 0.9553574241517281\n",
            "F1 score at threshold 0.42 is 0.9553199545626655\n",
            "F1 score at threshold 0.43 is 0.9555436190716926\n",
            "F1 score at threshold 0.44 is 0.9554156250988829\n",
            "F1 score at threshold 0.45 is 0.9552569871347995\n",
            "F1 score at threshold 0.46 is 0.9547343378271214\n",
            "F1 score at threshold 0.47 is 0.9546017727229406\n",
            "F1 score at threshold 0.48 is 0.9546134028815877\n",
            "F1 score at threshold 0.49 is 0.9546743111960503\n",
            "F1 score at threshold 0.5 is 0.9544903299929788\n"
          ],
          "name": "stdout"
        }
      ]
    },
    {
      "cell_type": "code",
      "metadata": {
        "id": "wa1Gg1ZJWPd7",
        "colab_type": "code",
        "colab": {
          "base_uri": "https://localhost:8080/",
          "height": 34
        },
        "outputId": "85f3d21a-103f-4d3f-e086-e72f7dcb92d7"
      },
      "source": [
        "print(thresh_train)\n"
      ],
      "execution_count": 639,
      "outputs": [
        {
          "output_type": "stream",
          "text": [
            "0.4299999999999998\n"
          ],
          "name": "stdout"
        }
      ]
    },
    {
      "cell_type": "code",
      "metadata": {
        "id": "oaCHzVHDWSg8",
        "colab_type": "code",
        "colab": {
          "base_uri": "https://localhost:8080/",
          "height": 746
        },
        "outputId": "4aee90e4-609e-4bd4-a75e-1269ffed884d"
      },
      "source": [
        "pred_glove_val_y = model.predict([val_X], batch_size=1024, verbose=1)\n",
        "scores = []\n",
        "thresholds = np.arange(0.1, 0.501, 0.01)\n",
        "for thresh in thresholds:\n",
        "    thresh = np.round(thresh, 2)\n",
        "    scores.append(metrics.f1_score(val_y, (pred_glove_val_y>thresh).astype(int)))\n",
        "    print(\"F1 score at threshold {0} is {1}\".format(thresh, metrics.f1_score(val_y, (pred_glove_val_y>thresh).astype(int))))\n",
        "idx = np.argmax(np.array(scores))\n",
        "thresh_valid = thresholds[idx]"
      ],
      "execution_count": 640,
      "outputs": [
        {
          "output_type": "stream",
          "text": [
            "4271/4271 [==============================] - 0s 84us/step\n",
            "F1 score at threshold 0.1 is 0.8925964546402503\n",
            "F1 score at threshold 0.11 is 0.8981092436974789\n",
            "F1 score at threshold 0.12 is 0.9020849828450779\n",
            "F1 score at threshold 0.13 is 0.9048502517890273\n",
            "F1 score at threshold 0.14 is 0.9066737569795267\n",
            "F1 score at threshold 0.15 is 0.9090424113096826\n",
            "F1 score at threshold 0.16 is 0.911134903640257\n",
            "F1 score at threshold 0.17 is 0.9130434782608695\n",
            "F1 score at threshold 0.18 is 0.9141781006187787\n",
            "F1 score at threshold 0.19 is 0.9165991902834008\n",
            "F1 score at threshold 0.2 is 0.9182015167930662\n",
            "F1 score at threshold 0.21 is 0.9183618117710877\n",
            "F1 score at threshold 0.22 is 0.9198151671649905\n",
            "F1 score at threshold 0.23 is 0.9215258855585831\n",
            "F1 score at threshold 0.24 is 0.9232030609456137\n",
            "F1 score at threshold 0.25 is 0.9243835616438357\n",
            "F1 score at threshold 0.26 is 0.9250205987366108\n",
            "F1 score at threshold 0.27 is 0.9270575282135977\n",
            "F1 score at threshold 0.28 is 0.9272326350606395\n",
            "F1 score at threshold 0.29 is 0.9279602539332045\n",
            "F1 score at threshold 0.3 is 0.9288679767506227\n",
            "F1 score at threshold 0.31 is 0.9293433083956775\n",
            "F1 score at threshold 0.32 is 0.9287496534516219\n",
            "F1 score at threshold 0.33 is 0.928928373126041\n",
            "F1 score at threshold 0.34 is 0.9293266555370061\n",
            "F1 score at threshold 0.35 is 0.9293887803516606\n",
            "F1 score at threshold 0.36 is 0.9300894854586129\n",
            "F1 score at threshold 0.37 is 0.9303106633081445\n",
            "F1 score at threshold 0.38 is 0.9304932735426009\n",
            "F1 score at threshold 0.39 is 0.9314606741573035\n",
            "F1 score at threshold 0.4 is 0.9329954954954955\n",
            "F1 score at threshold 0.41 is 0.9337841645533954\n",
            "F1 score at threshold 0.42 is 0.9331829715252324\n",
            "F1 score at threshold 0.43 is 0.9327303561334087\n",
            "F1 score at threshold 0.44 is 0.9334088977047322\n",
            "F1 score at threshold 0.45 is 0.9335981838819523\n",
            "F1 score at threshold 0.46 is 0.9341283361726292\n",
            "F1 score at threshold 0.47 is 0.9348876883707706\n",
            "F1 score at threshold 0.48 is 0.9350427350427349\n",
            "F1 score at threshold 0.49 is 0.9348571428571427\n",
            "F1 score at threshold 0.5 is 0.9347826086956522\n"
          ],
          "name": "stdout"
        }
      ]
    },
    {
      "cell_type": "code",
      "metadata": {
        "id": "0DQD5H6bWWyO",
        "colab_type": "code",
        "colab": {
          "base_uri": "https://localhost:8080/",
          "height": 34
        },
        "outputId": "86b79852-c670-4aec-90fe-bd11d58be698"
      },
      "source": [
        "print(thresh_valid)\n"
      ],
      "execution_count": 641,
      "outputs": [
        {
          "output_type": "stream",
          "text": [
            "0.47999999999999976\n"
          ],
          "name": "stdout"
        }
      ]
    },
    {
      "cell_type": "code",
      "metadata": {
        "id": "POdGL1PZW16M",
        "colab_type": "code",
        "colab": {
          "base_uri": "https://localhost:8080/",
          "height": 86
        },
        "outputId": "b3729b03-1de6-4d36-b076-7b9da1733c9c"
      },
      "source": [
        "from sklearn.metrics import accuracy_score, confusion_matrix,f1_score\n",
        "\n",
        "print('total valid data is ',train_y.shape[0], 'where', np.sum(train_y==1),'is toxic' )\n",
        "print(accuracy_score(train_y, pred_glove_train_y>thresh_train))\n",
        "confusion_matrix(train_y, pred_glove_train_y>thresh_train, labels=[0, 1])"
      ],
      "execution_count": 642,
      "outputs": [
        {
          "output_type": "stream",
          "text": [
            "total valid data is  38430 where 15870 is toxic\n",
            "0.9633879781420766\n"
          ],
          "name": "stdout"
        },
        {
          "output_type": "execute_result",
          "data": {
            "text/plain": [
              "array([[21902,   658],\n",
              "       [  749, 15121]])"
            ]
          },
          "metadata": {
            "tags": []
          },
          "execution_count": 642
        }
      ]
    },
    {
      "cell_type": "code",
      "metadata": {
        "id": "lZrwIHAYW9R4",
        "colab_type": "code",
        "colab": {
          "base_uri": "https://localhost:8080/",
          "height": 86
        },
        "outputId": "db780113-0695-464a-f140-a0c2908a85b2"
      },
      "source": [
        "print('total valid data is ',val_y.shape[0], 'where', np.sum(val_y==1),'is toxic' )\n",
        "print(accuracy_score(val_y, pred_glove_val_y>thresh_valid))\n",
        "confusion_matrix(val_y, pred_glove_val_y>thresh_valid, labels=[0, 1])"
      ],
      "execution_count": 643,
      "outputs": [
        {
          "output_type": "stream",
          "text": [
            "total valid data is  4271 where 1764 is toxic\n",
            "0.9466167173963943\n"
          ],
          "name": "stdout"
        },
        {
          "output_type": "execute_result",
          "data": {
            "text/plain": [
              "array([[2402,  105],\n",
              "       [ 123, 1641]])"
            ]
          },
          "metadata": {
            "tags": []
          },
          "execution_count": 643
        }
      ]
    },
    {
      "cell_type": "code",
      "metadata": {
        "id": "ZrlbwMqKXK1V",
        "colab_type": "code",
        "colab": {
          "base_uri": "https://localhost:8080/",
          "height": 86
        },
        "outputId": "7111699a-0afc-4d3e-c781-996a533cd7e4"
      },
      "source": [
        "# result\n",
        "pred_test = model.predict(test_X)\n",
        "print('f1 score',f1_score(test_df[\"class\"].values,pred_test>thresh_valid))\n",
        "print(\"Confusion matrix\")\n",
        "print(confusion_matrix(test_df[\"class\"].values, pred_test>thresh_valid, labels=[0, 1]))"
      ],
      "execution_count": 644,
      "outputs": [
        {
          "output_type": "stream",
          "text": [
            "f1 score 0.940204081632653\n",
            "Confusion matrix\n",
            "[[6756  212]\n",
            " [ 374 4607]]\n"
          ],
          "name": "stdout"
        }
      ]
    },
    {
      "cell_type": "markdown",
      "metadata": {
        "id": "muS4SWuAYn8t",
        "colab_type": "text"
      },
      "source": [
        "## Analysis"
      ]
    },
    {
      "cell_type": "code",
      "metadata": {
        "id": "bP3LPqUXXLP7",
        "colab_type": "code",
        "colab": {}
      },
      "source": [
        "def most_false_negative(pred_y,true_y,thresh, N ):\n",
        "    pred_y_round = (pred_y>thresh)\n",
        "    \n",
        "    flag = (pred_y_round == 0) & (true_y == 1)[:,np.newaxis]\n",
        "    \n",
        "    idxs = np.where(flag)[0] # ignore the np.newaxis dimension\n",
        "    newidx = np.argsort(pred_y[idxs,0])\n",
        "\n",
        "    return idxs[newidx[:N]], pred_y[idxs[newidx[:N]]]\n",
        "\n",
        "def most_uncertain_negative(pred_y,true_y,thresh, N ):\n",
        "    pred_y_round = (pred_y>thresh)\n",
        "    flag = (pred_y_round == 0) & (true_y == 1)[:,np.newaxis]\n",
        "    \n",
        "    idxs = np.where(flag)[0] # ignore the np.newaxis dimension\n",
        "    newidx = np.argsort(pred_y[idxs,0])\n",
        "    return idxs[newidx[-N:]], pred_y[idxs[newidx[-N:]]]\n",
        "\n",
        "def most_uncertain_positive(pred_y,true_y,thresh, N ):\n",
        "    pred_y_round = (pred_y>thresh)\n",
        "    \n",
        "    flag = (pred_y_round == 1) & (true_y == 0)[:,np.newaxis]\n",
        "    \n",
        "    idxs = np.where(flag)[0] # ignore the np.newaxis dimension\n",
        "    newidx = np.argsort(pred_y[idxs,0])\n",
        "\n",
        "    return idxs[newidx[:N]], pred_y[idxs[newidx[:N]]]\n",
        "\n",
        "def most_false_positive(pred_y,true_y,thresh, N ):\n",
        "    pred_y_round = (pred_y>thresh)\n",
        "    flag = (pred_y_round == 1) & (true_y == 0)[:,np.newaxis]\n",
        "    \n",
        "    idxs = np.where(flag)[0] # ignore the np.newaxis dimension\n",
        "    newidx = np.argsort(pred_y[idxs,0])\n",
        "    return idxs[newidx[-N:]], pred_y[idxs[newidx[-N:]]]\n",
        "\n",
        "def most_true_positive(pred_y,true_y,thresh, N ):\n",
        "    pred_y_round = (pred_y>thresh)\n",
        "    \n",
        "    flag = (pred_y_round == 1) & (true_y == 1)[:,np.newaxis]\n",
        "    \n",
        "    idxs = np.where(flag)[0] # ignore the np.newaxis dimension\n",
        "    newidx = np.argsort(pred_y[idxs,0])\n",
        "\n",
        "    return idxs[newidx[-N:]], pred_y[idxs[newidx[-N:]]]\n",
        "\n",
        "\n"
      ],
      "execution_count": 0,
      "outputs": []
    },
    {
      "cell_type": "code",
      "metadata": {
        "id": "ZFSwETVSY5TF",
        "colab_type": "code",
        "colab": {
          "base_uri": "https://localhost:8080/",
          "height": 384
        },
        "outputId": "bf0338af-48f8-4f0d-e645-51f854649765"
      },
      "source": [
        "k = 20\n",
        "idx, prob = most_false_positive( pred_glove_val_y, val_y,thresh_valid,k)\n",
        "for i in range(k):\n",
        "    print('class',val_y[idx[i]],prob[i],val_df[\"tweet\"].values[idx[i]])\n"
      ],
      "execution_count": 646,
      "outputs": [
        {
          "output_type": "stream",
          "text": [
            "class 0 [0.98572195] <user> yeah and you are gonna play with retards who wanna do drugs all day but\n",
            "class 0 [0.98713964] all my friends whores\n",
            "class 0 [0.9890877] fuck i am such a bitch\n",
            "class 0 [0.99052715] <user> <user> <user> <user> <user> <user> bitch i am proud to be black\n",
            "class 0 [0.99158806] <user> <user> <user> <user> thanks to the best b would wknd kickoff friday bitches\n",
            "class 0 [0.9918664] you wanna find hoes on here ? just follow the chicks who reply with heart eyes under sex gifs\n",
            "class 0 [0.9918922] yeah it was a great one actually i am fucking hilarious bitches\n",
            "class 0 [0.99206513] <user> if you are a bad bitch why are you wearing sneakers ?\n",
            "class 0 [0.9937356] <user> <user> them hoes are clean !\n",
            "class 0 [0.99397624] <user> hope you dont all get shot you horrible hateful cunts there is no god you do all this crap in the name of hate\n",
            "class 0 [0.99533135] <user> they be pussy pressed ! !\n",
            "class 0 [0.9962006] <user> never go full retard\n",
            "class 0 [0.9967012] niggas gossip like bitches & & bitches fuckin like niggas\n",
            "class 0 [0.9973501] <user> whatchu sayin hoe you <allcaps> know <allcaps> im <allcaps> the <allcaps> man <allcaps> hoe <allcaps>\n",
            "class 0 [0.99772805] family feud ? i thrive on it bitches\n",
            "class 0 [0.99802977] <user> <user> moma said no pussy cats inside my dog house that is what got bro nem locked inside the dog pound ! !\n",
            "class 0 [0.9985763] how you fw dude after yo ole man go off to college you all hoes wild\n",
            "class 0 [0.99885464] niggas cheat on pretty girls to go be with a nigga looking bum ass bitch\n",
            "class 0 [0.9990515] <user> i have never screamed so much like a little bitch just from a fucking <allcaps> video <allcaps> game <allcaps> im <allcaps> leaving <allcaps> earth <allcaps> iggbye <allcaps>\n",
            "class 0 [0.9995697] <user> if you acted like a hoe after we broke up i am not wrong for thinking you were a hoe all along\n"
          ],
          "name": "stdout"
        }
      ]
    },
    {
      "cell_type": "code",
      "metadata": {
        "id": "dMdVSIyQZ39i",
        "colab_type": "code",
        "colab": {
          "base_uri": "https://localhost:8080/",
          "height": 384
        },
        "outputId": "9f4973f6-1e96-4be6-a3d6-883ab245119e"
      },
      "source": [
        "idx, prob = most_false_negative( pred_glove_val_y, val_y,thresh_valid,k)\n",
        "for i in range(k):\n",
        "    print('class',val_y[idx[i]],prob[i],val_df[\"tweet\"].values[idx[i]])\n"
      ],
      "execution_count": 648,
      "outputs": [
        {
          "output_type": "stream",
          "text": [
            "class 1 [0.0018226] <user> thanks walking dead bro steve for mend usmc <allcaps> come on you sonnbitches you want to live forever ! dog\n",
            "class 1 [0.00237805] <user> funny <user> cannot get rid of <hashtag> <hashtag> stammendment so many distractions and lousy qb maybe next year probab\n",
            "class 1 [0.00287248] this obviously <hashtag> tcot gets on & <hashtag> inaspanof maybe <hashtag> allof two seconds after boarding thinks he knows what\n",
            "class 1 [0.00328062] <hashtag> whitepeople ? all cou no media coverage or wp were victims and feared for their lives maybe probation <hashtag> blackperson who ? ?\n",
            "class 1 [0.00382859] <user> dealing with relatives reminding you that the clock is ticking ? this might help <hashtag> childfree\n",
            "class 1 [0.00460764] <user> the real jeff sessions <hashtag> neverump <hashtag> swampmonster\n",
            "class 1 [0.0053173] this will absolutely piss you off <hashtag> replacyclay <hashtag> maga\n",
            "class 1 [0.00579123] <user> <user> lock the gate ! <hashtag> pamgelleheracist <hashtag> mmiw <hashtag> mmiwg\n",
            "class 1 [0.01219554] uk e <lolface> ressed as a photo <hashtag> euref <hashtag> brexit\n",
            "class 1 [0.01449833] good day honkies\n",
            "class 1 [0.01559961] destroyed in one minute <hashtag> janeelliot\n",
            "class 1 [0.01752677] <user> <user> <user> mutha fuckahs better bring me all the brownies ever !\n",
            "class 1 [0.01776858] the biopolitics of desire and neonazi fashion icons <user> <hashtag> eugenics\n",
            "class 1 [0.02358481] why does this get so low key of a play when trumps foolish request to change judges got wall to wall coverage ?\n",
            "class 1 [0.02940244] ceasefire ? lets see how long those towel heads can go without trying to attack israel then cry to national media when they get popped again\n",
            "class 1 [0.03208224] <user> so true !\n",
            "class 1 [0.03241309] <hashtag> happy <hashtag> white <hashtag> kwanzaa the <hashtag> holiday only <hashtag> african <hashtag> white supremacists <hashtag> celebrate <hashtag> happykwanzaa <hashtag> happyholidays <hashtag> merrychristmas\n",
            "class 1 [0.03253972] <hashtag> clickbait <hashtag> much ? that s a really shitty headline <user> you should change it\n",
            "class 1 [0.03361997] <user> i noticed too definitions of <hashtag> bullying and <hashtag> disabilities are trying to be changed so people do not hv to htt\n",
            "class 1 [0.03509085] <user> & <user> had me so high off the monkey nutts yesterday nbs\n"
          ],
          "name": "stdout"
        }
      ]
    },
    {
      "cell_type": "code",
      "metadata": {
        "id": "70YJ1zpLaLue",
        "colab_type": "code",
        "colab": {
          "base_uri": "https://localhost:8080/",
          "height": 384
        },
        "outputId": "030abac9-962c-4577-fa11-7efaa9395ece"
      },
      "source": [
        "idx, prob = most_uncertain_positive( pred_glove_val_y, val_y,thresh_valid,k)\n",
        "for i in range(k):\n",
        "    print('class',val_y[idx[i]],prob[i],val_df[\"tweet\"].values[idx[i]])\n",
        "\n"
      ],
      "execution_count": 649,
      "outputs": [
        {
          "output_type": "stream",
          "text": [
            "class 0 [0.4809584] what a massive disappointment <user> is supposing a racist mysogonist liar like <user> unfollow and dislike\n",
            "class 0 [0.48419017] <user> <hashtag> manilow originally wrote the song with this title after a rewrite the big hit came with mandy <hashtag> yourewelcome how am i ?\n",
            "class 0 [0.48770252] <user> outdrawn and outgunned by fucking <hashtag> rinsepubis weak dude\n",
            "class 0 [0.48800063] b c she likes black men and rap music ? huh laughing out loud <user> <user> in general she wants to be colored\n",
            "class 0 [0.48976988] <user> did you make an animal cracker taco\n",
            "class 0 [0.49041927] <user> i assume so the tranny went out this morning i have a maxima\n",
            "class 0 [0.4984969] <hashtag> orlando agreed it is worst for humanity <hashtag> pakistanis please tell how many of you condemn the open murders of women in pakistan daily\n",
            "class 0 [0.5105978] is that an albino mexican ? no dad he is asian\n",
            "class 0 [0.5114656] we gotta stay humble sy sike who i am kidding fuck it !\n",
            "class 0 [0.51508254] this picture on weibo made chinas censors add big yellow duck to its list of banned terms\n",
            "class 0 [0.51735413] this is completely random but i cannot believe that our countrys two presidential nominees are a racist bigot and a hypocritical witch !\n",
            "class 0 [0.5186718] watching asians in leicester on tv using same racist language to justify brexit as far right use against them <hashtag> remain <hashtag> ironic\n",
            "class 0 [0.5188447] <user> <hashtag> charity <hashtag> fundraising director comments i have previously used systems but junaricrm is the most comprehpensive and sim\n",
            "class 0 [0.52149194] <user> <user> always have the white guy in charge\n",
            "class 0 [0.52187604] thinks a socialist would win i can only say this <hashtag> bernie lost <hashtag> trump will be your master\n",
            "class 0 [0.5249853] hahaha all of our heroes are fake <hashtag> doping <hashtag> nothingisreal\n",
            "class 0 [0.5264533] my mom wants to buy a zebra like for reals\n",
            "class 0 [0.5268221] <user> <user> <user> not sure you understand what bigotry is\n",
            "class 0 [0.5285132] university hosts <hashtag> socialism in the air conference\n",
            "class 0 [0.5302374] ! shit sad\n"
          ],
          "name": "stdout"
        }
      ]
    },
    {
      "cell_type": "code",
      "metadata": {
        "id": "NjOKPFF7ajuM",
        "colab_type": "code",
        "colab": {
          "base_uri": "https://localhost:8080/",
          "height": 384
        },
        "outputId": "ed8d2a28-fc32-4034-b1e3-1e56b576516f"
      },
      "source": [
        "idx, prob = most_uncertain_negative( pred_glove_val_y, val_y,thresh_valid,k)\n",
        "for i in range(k):\n",
        "    print('class',val_y[idx[i]],prob[i],val_df[\"tweet\"].values[idx[i]])"
      ],
      "execution_count": 650,
      "outputs": [
        {
          "output_type": "stream",
          "text": [
            "class 1 [0.37672934] <user> <hashtag> allahsoil enlightenment is wasted on the wilfully blind <hashtag> emiratis\n",
            "class 1 [0.38674602] <user> <hashtag> allahsoil there have been three stages of empire imperialism colonialism and neocolonialism\n",
            "class 1 [0.38695654] <user> a girl tweeted you might be ghetto if you bring food from outside into the movies no you might be stupid if you pay for a b\n",
            "class 1 [0.39514974] a bird just smacked right into my car window my parked car window scared the fuck outta me\n",
            "class 1 [0.41519356] <user> <user> i am defending a woman against condescension although i saw you tweet that she belongs in the kitchen\n",
            "class 1 [0.4172173] reject news my latest <hashtag> amwriting article on <user>\n",
            "class 1 [0.42070106] you are ugly go die\n",
            "class 1 [0.42084998] <user> <user> if ur employees r going to say merry christmas to white people please teach them to say it to the brown people too\n",
            "class 1 [0.42346004] <user> barack <hashtag> obama gets real about the he <hashtag> faced in office via <user>\n",
            "class 1 [0.42577833] <user> <user> you have a redneck attitude the same people that think benghazzi is real think fox fake nws is real your one\n",
            "class 1 [0.42883956] wahh ! ! white ppl arent allowed to do this ! ! fuck you rich we do not care\n",
            "class 1 [0.43220976] <user> pom poms you <allcaps> make <allcaps> that <allcaps> shit <allcaps> yeahh <allcaps>\n",
            "class 1 [0.43548265] seem like da colored folk be gettin in da way lately i just sayin\n",
            "class 1 [0.43988487] <user> other than those the university and the white black and red ones the rest trash anyway they just making shit up now\n",
            "class 1 [0.4476119] um why a girl and not a boy ? or maybe just gender neutral teenager\n",
            "class 1 [0.44816083] <user> is gonna find himself a redneck girl one of these days\n",
            "class 1 [0.4632291] <user> racial differences r biological reality same as rottweilers vs chihuahuas iq should understand\n",
            "class 1 [0.47631812] that pic is now circulated by jihadis with a call to kill him <hashtag> saudi <hashtag> <allcaps> isis <hashtag> syria\n",
            "class 1 [0.47634187] <user> <hashtag> allahsoil culture is like the horizon always in view but never in reach\n",
            "class 1 [0.47916192] <hashtag> goodonedean ! ! <hashtag> metoo ! ! <hashtag> laughing out loud <hashtag> trumpism is <hashtag> putinism <hashtag> donaldtrump is a <hashtag> traitor <hashtag> committed <hashtag> treason\n"
          ],
          "name": "stdout"
        }
      ]
    },
    {
      "cell_type": "code",
      "metadata": {
        "id": "czXs_G9HhrXt",
        "colab_type": "code",
        "colab": {}
      },
      "source": [
        "def predict_result(text):\n",
        "  val = tokenizer.texts_to_sequences([text])\n",
        "  val = pad_sequences(val, maxlen=maxlen,padding='post',truncating='post')\n",
        "  return model.predict(val)[0]"
      ],
      "execution_count": 0,
      "outputs": []
    },
    {
      "cell_type": "code",
      "metadata": {
        "id": "19ZfuBxpoDJQ",
        "colab_type": "code",
        "colab": {}
      },
      "source": [
        ""
      ],
      "execution_count": 0,
      "outputs": []
    },
    {
      "cell_type": "code",
      "metadata": {
        "id": "zBd-ApuTekwn",
        "colab_type": "code",
        "colab": {
          "base_uri": "https://localhost:8080/",
          "height": 34
        },
        "outputId": "01dfc60b-0544-4f75-ab39-4d4c2887e7c7"
      },
      "source": [
        "predict_result(\"That is fucking good\")"
      ],
      "execution_count": 611,
      "outputs": [
        {
          "output_type": "execute_result",
          "data": {
            "text/plain": [
              "array([0.17055526], dtype=float32)"
            ]
          },
          "metadata": {
            "tags": []
          },
          "execution_count": 611
        }
      ]
    },
    {
      "cell_type": "code",
      "metadata": {
        "id": "KZFhg61shuvV",
        "colab_type": "code",
        "colab": {
          "base_uri": "https://localhost:8080/",
          "height": 34
        },
        "outputId": "e308f874-823a-4d3e-d85d-fbcba4ae819f"
      },
      "source": [
        "predict_result(\"you are so fucking annoying shut up \")"
      ],
      "execution_count": 612,
      "outputs": [
        {
          "output_type": "execute_result",
          "data": {
            "text/plain": [
              "array([0.89436674], dtype=float32)"
            ]
          },
          "metadata": {
            "tags": []
          },
          "execution_count": 612
        }
      ]
    },
    {
      "cell_type": "code",
      "metadata": {
        "id": "u2Dna44Rhx6u",
        "colab_type": "code",
        "colab": {
          "base_uri": "https://localhost:8080/",
          "height": 34
        },
        "outputId": "e417c7c9-e34c-430d-c536-a542ac5132f5"
      },
      "source": [
        "#hate vs profanity paper example \n",
        "predict_result(\" holy shit ! look at those fucking  prices\")"
      ],
      "execution_count": 651,
      "outputs": [
        {
          "output_type": "execute_result",
          "data": {
            "text/plain": [
              "array([0.22065535], dtype=float32)"
            ]
          },
          "metadata": {
            "tags": []
          },
          "execution_count": 651
        }
      ]
    },
    {
      "cell_type": "code",
      "metadata": {
        "id": "pVnmILrwh1jI",
        "colab_type": "code",
        "colab": {
          "base_uri": "https://localhost:8080/",
          "height": 34
        },
        "outputId": "c7b55767-869a-4ab2-85f5-d78d99ee52f2"
      },
      "source": [
        "predict_result(\"what the fuck\")"
      ],
      "execution_count": 614,
      "outputs": [
        {
          "output_type": "execute_result",
          "data": {
            "text/plain": [
              "array([0.4830824], dtype=float32)"
            ]
          },
          "metadata": {
            "tags": []
          },
          "execution_count": 614
        }
      ]
    },
    {
      "cell_type": "code",
      "metadata": {
        "id": "5JSB0zhgiQ8X",
        "colab_type": "code",
        "colab": {
          "base_uri": "https://localhost:8080/",
          "height": 34
        },
        "outputId": "6a538e8f-0b7f-4f18-d361-f1b9837b2fef"
      },
      "source": [
        "predict_result(\"killing the game dude\")"
      ],
      "execution_count": 617,
      "outputs": [
        {
          "output_type": "execute_result",
          "data": {
            "text/plain": [
              "array([0.26800358], dtype=float32)"
            ]
          },
          "metadata": {
            "tags": []
          },
          "execution_count": 617
        }
      ]
    },
    {
      "cell_type": "code",
      "metadata": {
        "id": "NY11BLI0iVKC",
        "colab_type": "code",
        "colab": {
          "base_uri": "https://localhost:8080/",
          "height": 34
        },
        "outputId": "6b324cf8-f002-4658-a9b4-bde148a90b42"
      },
      "source": [
        "predict_result(\"fuck you\")"
      ],
      "execution_count": 618,
      "outputs": [
        {
          "output_type": "execute_result",
          "data": {
            "text/plain": [
              "array([0.66526496], dtype=float32)"
            ]
          },
          "metadata": {
            "tags": []
          },
          "execution_count": 618
        }
      ]
    },
    {
      "cell_type": "code",
      "metadata": {
        "id": "YyrXdIJ7i-WP",
        "colab_type": "code",
        "colab": {
          "base_uri": "https://localhost:8080/",
          "height": 34
        },
        "outputId": "9ab0b430-07b8-4435-c983-523d1d5798ed"
      },
      "source": [
        "predict_result(\"ban all  muslims\")"
      ],
      "execution_count": 619,
      "outputs": [
        {
          "output_type": "execute_result",
          "data": {
            "text/plain": [
              "array([0.6749241], dtype=float32)"
            ]
          },
          "metadata": {
            "tags": []
          },
          "execution_count": 619
        }
      ]
    },
    {
      "cell_type": "code",
      "metadata": {
        "id": "9NudI8A_i6eH",
        "colab_type": "code",
        "colab": {
          "base_uri": "https://localhost:8080/",
          "height": 34
        },
        "outputId": "e6af6c62-3b1e-45e5-8e12-c35d17e5767d"
      },
      "source": [
        "\n",
        "predict_result(\"ban  all black people\")"
      ],
      "execution_count": 620,
      "outputs": [
        {
          "output_type": "execute_result",
          "data": {
            "text/plain": [
              "array([0.5381992], dtype=float32)"
            ]
          },
          "metadata": {
            "tags": []
          },
          "execution_count": 620
        }
      ]
    },
    {
      "cell_type": "code",
      "metadata": {
        "id": "ljkp66eAi9Wb",
        "colab_type": "code",
        "colab": {
          "base_uri": "https://localhost:8080/",
          "height": 34
        },
        "outputId": "555b7236-36b9-4c79-8777-ae9851668482"
      },
      "source": [
        "predict_result(\"black people are humans too\")"
      ],
      "execution_count": 621,
      "outputs": [
        {
          "output_type": "execute_result",
          "data": {
            "text/plain": [
              "array([0.08577669], dtype=float32)"
            ]
          },
          "metadata": {
            "tags": []
          },
          "execution_count": 621
        }
      ]
    },
    {
      "cell_type": "code",
      "metadata": {
        "id": "1RX5cjIDjQl8",
        "colab_type": "code",
        "colab": {
          "base_uri": "https://localhost:8080/",
          "height": 34
        },
        "outputId": "c19601a4-f0d8-41b3-bea5-8204cdcf8b1e"
      },
      "source": [
        "predict_result(\"stop shooting black people <hashtag> black lives matter\")"
      ],
      "execution_count": 622,
      "outputs": [
        {
          "output_type": "execute_result",
          "data": {
            "text/plain": [
              "array([0.23509276], dtype=float32)"
            ]
          },
          "metadata": {
            "tags": []
          },
          "execution_count": 622
        }
      ]
    },
    {
      "cell_type": "code",
      "metadata": {
        "id": "jupCSUUbj2N9",
        "colab_type": "code",
        "colab": {
          "base_uri": "https://localhost:8080/",
          "height": 34
        },
        "outputId": "efd4e550-d8a9-4d50-a4ed-46913d621f75"
      },
      "source": [
        "predict_result(\"<user> everyone hates you go kill yourself\")"
      ],
      "execution_count": 658,
      "outputs": [
        {
          "output_type": "execute_result",
          "data": {
            "text/plain": [
              "array([0.6873951], dtype=float32)"
            ]
          },
          "metadata": {
            "tags": []
          },
          "execution_count": 658
        }
      ]
    },
    {
      "cell_type": "code",
      "metadata": {
        "id": "iXqmap9m3oVs",
        "colab_type": "code",
        "colab": {
          "base_uri": "https://localhost:8080/",
          "height": 34
        },
        "outputId": "02686542-a922-4108-b4b5-7076ee8312cd"
      },
      "source": [
        "predict_result(\"do not kill yourself\")"
      ],
      "execution_count": 631,
      "outputs": [
        {
          "output_type": "execute_result",
          "data": {
            "text/plain": [
              "array([0.18805744], dtype=float32)"
            ]
          },
          "metadata": {
            "tags": []
          },
          "execution_count": 631
        }
      ]
    },
    {
      "cell_type": "code",
      "metadata": {
        "id": "MhW_ce0YtjyU",
        "colab_type": "code",
        "colab": {
          "base_uri": "https://localhost:8080/",
          "height": 34
        },
        "outputId": "310b03b9-e2e0-4ca1-9266-dee6d08d2910"
      },
      "source": [
        "predict_result(\"ban all drugs\")\n"
      ],
      "execution_count": 624,
      "outputs": [
        {
          "output_type": "execute_result",
          "data": {
            "text/plain": [
              "array([0.2789877], dtype=float32)"
            ]
          },
          "metadata": {
            "tags": []
          },
          "execution_count": 624
        }
      ]
    },
    {
      "cell_type": "code",
      "metadata": {
        "id": "HIJ3mWT03UVK",
        "colab_type": "code",
        "colab": {
          "base_uri": "https://localhost:8080/",
          "height": 34
        },
        "outputId": "c9e3a0f7-6048-49b6-8244-6ffe3149dd36"
      },
      "source": [
        "predict_result(\"you are so fat you look like a pig\")"
      ],
      "execution_count": 659,
      "outputs": [
        {
          "output_type": "execute_result",
          "data": {
            "text/plain": [
              "array([0.4688452], dtype=float32)"
            ]
          },
          "metadata": {
            "tags": []
          },
          "execution_count": 659
        }
      ]
    },
    {
      "cell_type": "code",
      "metadata": {
        "id": "BFpxqLNT30h9",
        "colab_type": "code",
        "colab": {}
      },
      "source": [
        ""
      ],
      "execution_count": 0,
      "outputs": []
    }
  ]
}