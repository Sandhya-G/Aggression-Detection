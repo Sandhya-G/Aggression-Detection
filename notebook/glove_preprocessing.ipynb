{
 "cells": [
  {
   "cell_type": "code",
   "execution_count": 37,
   "metadata": {},
   "outputs": [],
   "source": [
    "import pandas as pd\n",
    "from tqdm import tqdm\n",
    "tqdm.pandas()\n"
   ]
  },
  {
   "cell_type": "code",
   "execution_count": 7,
   "metadata": {},
   "outputs": [],
   "source": [
    "\n",
    "%run ../paths.py\n",
    "CONST = CONST()"
   ]
  },
  {
   "cell_type": "code",
   "execution_count": 9,
   "metadata": {},
   "outputs": [
    {
     "data": {
      "text/html": [
       "<div>\n",
       "<style scoped>\n",
       "    .dataframe tbody tr th:only-of-type {\n",
       "        vertical-align: middle;\n",
       "    }\n",
       "\n",
       "    .dataframe tbody tr th {\n",
       "        vertical-align: top;\n",
       "    }\n",
       "\n",
       "    .dataframe thead th {\n",
       "        text-align: right;\n",
       "    }\n",
       "</style>\n",
       "<table border=\"1\" class=\"dataframe\">\n",
       "  <thead>\n",
       "    <tr style=\"text-align: right;\">\n",
       "      <th></th>\n",
       "      <th>Unnamed: 0</th>\n",
       "      <th>tweet</th>\n",
       "      <th>class</th>\n",
       "    </tr>\n",
       "  </thead>\n",
       "  <tbody>\n",
       "    <tr>\n",
       "      <td>0</td>\n",
       "      <td>12761</td>\n",
       "      <td>Mannnnnn these hoes aint loyal</td>\n",
       "      <td>1</td>\n",
       "    </tr>\n",
       "    <tr>\n",
       "      <td>1</td>\n",
       "      <td>25141</td>\n",
       "      <td>have a fabulous weekend beautiful souls #nofil...</td>\n",
       "      <td>0</td>\n",
       "    </tr>\n",
       "    <tr>\n",
       "      <td>2</td>\n",
       "      <td>53167</td>\n",
       "      <td>#fathersday #dad @user</td>\n",
       "      <td>0</td>\n",
       "    </tr>\n",
       "    <tr>\n",
       "      <td>3</td>\n",
       "      <td>17294</td>\n",
       "      <td>RT @SheswantstheD: these hoes ain't loyal http...</td>\n",
       "      <td>1</td>\n",
       "    </tr>\n",
       "    <tr>\n",
       "      <td>4</td>\n",
       "      <td>29359</td>\n",
       "      <td>newhairâ¨ð #lapis#rollen#new#hair#brond#gr...</td>\n",
       "      <td>0</td>\n",
       "    </tr>\n",
       "  </tbody>\n",
       "</table>\n",
       "</div>"
      ],
      "text/plain": [
       "   Unnamed: 0                                              tweet  class\n",
       "0       12761                     Mannnnnn these hoes aint loyal      1\n",
       "1       25141  have a fabulous weekend beautiful souls #nofil...      0\n",
       "2       53167                            #fathersday #dad @user       0\n",
       "3       17294  RT @SheswantstheD: these hoes ain't loyal http...      1\n",
       "4       29359  newhairâ¨ð #lapis#rollen#new#hair#brond#gr...      0"
      ]
     },
     "execution_count": 9,
     "metadata": {},
     "output_type": "execute_result"
    }
   ],
   "source": [
    "train = pd.read_csv(CONST.TRAIN_DATA)\n",
    "train.head()"
   ]
  },
  {
   "cell_type": "code",
   "execution_count": 11,
   "metadata": {},
   "outputs": [
    {
     "data": {
      "text/html": [
       "<div>\n",
       "<style scoped>\n",
       "    .dataframe tbody tr th:only-of-type {\n",
       "        vertical-align: middle;\n",
       "    }\n",
       "\n",
       "    .dataframe tbody tr th {\n",
       "        vertical-align: top;\n",
       "    }\n",
       "\n",
       "    .dataframe thead th {\n",
       "        text-align: right;\n",
       "    }\n",
       "</style>\n",
       "<table border=\"1\" class=\"dataframe\">\n",
       "  <thead>\n",
       "    <tr style=\"text-align: right;\">\n",
       "      <th></th>\n",
       "      <th>Unnamed: 0</th>\n",
       "      <th>tweet</th>\n",
       "      <th>class</th>\n",
       "    </tr>\n",
       "  </thead>\n",
       "  <tbody>\n",
       "    <tr>\n",
       "      <td>0</td>\n",
       "      <td>12761</td>\n",
       "      <td>Mannnnnn these hoes aint loyal</td>\n",
       "      <td>1</td>\n",
       "    </tr>\n",
       "    <tr>\n",
       "      <td>1</td>\n",
       "      <td>25141</td>\n",
       "      <td>have a fabulous weekend beautiful souls #nofil...</td>\n",
       "      <td>0</td>\n",
       "    </tr>\n",
       "    <tr>\n",
       "      <td>2</td>\n",
       "      <td>53167</td>\n",
       "      <td>#fathersday #dad @user</td>\n",
       "      <td>0</td>\n",
       "    </tr>\n",
       "    <tr>\n",
       "      <td>3</td>\n",
       "      <td>17294</td>\n",
       "      <td>RT @SheswantstheD: these hoes ain't loyal http...</td>\n",
       "      <td>1</td>\n",
       "    </tr>\n",
       "    <tr>\n",
       "      <td>4</td>\n",
       "      <td>29359</td>\n",
       "      <td>newhairâ¨ð #lapis#rollen#new#hair#brond#gr...</td>\n",
       "      <td>0</td>\n",
       "    </tr>\n",
       "  </tbody>\n",
       "</table>\n",
       "</div>"
      ],
      "text/plain": [
       "   Unnamed: 0                                              tweet  class\n",
       "0       12761                     Mannnnnn these hoes aint loyal      1\n",
       "1       25141  have a fabulous weekend beautiful souls #nofil...      0\n",
       "2       53167                            #fathersday #dad @user       0\n",
       "3       17294  RT @SheswantstheD: these hoes ain't loyal http...      1\n",
       "4       29359  newhairâ¨ð #lapis#rollen#new#hair#brond#gr...      0"
      ]
     },
     "execution_count": 11,
     "metadata": {},
     "output_type": "execute_result"
    }
   ],
   "source": [
    "train_copy = train.copy()\n",
    "train_copy.head()"
   ]
  },
  {
   "cell_type": "code",
   "execution_count": 51,
   "metadata": {},
   "outputs": [],
   "source": [
    "%run ../src/processing/glove_utils.py"
   ]
  },
  {
   "cell_type": "code",
   "execution_count": 14,
   "metadata": {},
   "outputs": [],
   "source": [
    "glove_embed = load_embed(CONST.GLOVE_100d)"
   ]
  },
  {
   "cell_type": "code",
   "execution_count": 63,
   "metadata": {},
   "outputs": [
    {
     "data": {
      "text/plain": [
       "(True, True, False, True, True)"
      ]
     },
     "execution_count": 63,
     "metadata": {},
     "output_type": "execute_result"
    }
   ],
   "source": [
    "'<user>' in glove_embed, '<number>' in glove_embed, '<phone_number>' in glove_embed, '<elong>' in glove_embed,\"<allcaps>\" in glove_embed"
   ]
  },
  {
   "cell_type": "code",
   "execution_count": 48,
   "metadata": {},
   "outputs": [
    {
     "name": "stderr",
     "output_type": "stream",
     "text": [
      "\n",
      "  0%|          | 0/42364 [00:00<?, ?it/s]\u001b[A\n",
      "  9%|▉         | 3842/42364 [00:00<00:01, 37753.94it/s]\u001b[A\n",
      " 15%|█▍        | 6348/42364 [00:00<00:01, 32700.12it/s]\u001b[A\n",
      " 21%|██        | 8995/42364 [00:00<00:01, 30542.16it/s]\u001b[A\n",
      " 28%|██▊       | 11660/42364 [00:00<00:01, 29236.28it/s]\u001b[A\n",
      " 33%|███▎      | 13769/42364 [00:00<00:01, 26107.47it/s]\u001b[A\n",
      " 39%|███▊      | 16349/42364 [00:00<00:01, 25878.63it/s]\u001b[A\n",
      " 45%|████▌     | 19271/42364 [00:00<00:00, 26797.61it/s]\u001b[A\n",
      " 52%|█████▏    | 21888/42364 [00:00<00:00, 26595.91it/s]\u001b[A\n",
      " 58%|█████▊    | 24501/42364 [00:00<00:00, 26447.70it/s]\u001b[A\n",
      " 65%|██████▍   | 27445/42364 [00:01<00:00, 26985.49it/s]\u001b[A\n",
      " 73%|███████▎  | 30809/42364 [00:01<00:00, 28380.22it/s]\u001b[A\n",
      " 79%|███████▉  | 33611/42364 [00:01<00:00, 24012.02it/s]\u001b[A\n",
      " 85%|████████▌ | 36103/42364 [00:01<00:00, 19492.04it/s]\u001b[A\n",
      " 90%|█████████ | 38254/42364 [00:01<00:00, 16097.60it/s]\u001b[A\n",
      "100%|██████████| 42364/42364 [00:01<00:00, 23689.32it/s]\u001b[A\n",
      "\n",
      "  0%|          | 0/97055 [00:00<?, ?it/s]\u001b[A\n",
      " 14%|█▍        | 13684/97055 [00:00<00:00, 132367.29it/s]\u001b[A\n",
      " 27%|██▋       | 26199/97055 [00:00<00:00, 130030.94it/s]\u001b[A\n",
      " 39%|███▉      | 38310/97055 [00:00<00:00, 127219.59it/s]\u001b[A\n",
      " 53%|█████▎    | 51519/97055 [00:00<00:00, 128641.54it/s]\u001b[A\n",
      " 63%|██████▎   | 61223/97055 [00:00<00:00, 116927.69it/s]\u001b[A\n",
      " 77%|███████▋  | 74557/97055 [00:00<00:00, 120232.38it/s]\u001b[A\n",
      "100%|██████████| 97055/97055 [00:00<00:00, 123479.87it/s]\u001b[A\n"
     ]
    },
    {
     "name": "stdout",
     "output_type": "stream",
     "text": [
      "Found embeddings for 20.63% of vocab\n",
      "Found embeddings for  67.83% of all text\n"
     ]
    }
   ],
   "source": [
    "vocab = build_vocab(list(train_copy['tweet'].apply(lambda x:x.split())))\n",
    "vocab\n",
    "oov = check_coverage(vocab,glove_embed)\n",
    "#oov[:10]"
   ]
  },
  {
   "cell_type": "code",
   "execution_count": 46,
   "metadata": {},
   "outputs": [
    {
     "name": "stderr",
     "output_type": "stream",
     "text": [
      "\n",
      "  0%|          | 0/42364 [00:00<?, ?it/s]\u001b[A\n",
      " 23%|██▎       | 9879/42364 [00:00<00:00, 96088.40it/s]\u001b[A\n",
      " 45%|████▌     | 19112/42364 [00:00<00:00, 94928.40it/s]\u001b[A\n",
      " 70%|███████   | 29685/42364 [00:00<00:00, 96888.72it/s]\u001b[A\n",
      "100%|██████████| 42364/42364 [00:00<00:00, 90406.88it/s]\u001b[A\n"
     ]
    },
    {
     "data": {
      "text/html": [
       "<div>\n",
       "<style scoped>\n",
       "    .dataframe tbody tr th:only-of-type {\n",
       "        vertical-align: middle;\n",
       "    }\n",
       "\n",
       "    .dataframe tbody tr th {\n",
       "        vertical-align: top;\n",
       "    }\n",
       "\n",
       "    .dataframe thead th {\n",
       "        text-align: right;\n",
       "    }\n",
       "</style>\n",
       "<table border=\"1\" class=\"dataframe\">\n",
       "  <thead>\n",
       "    <tr style=\"text-align: right;\">\n",
       "      <th></th>\n",
       "      <th>Unnamed: 0</th>\n",
       "      <th>tweet</th>\n",
       "      <th>class</th>\n",
       "      <th>tweet_lower</th>\n",
       "    </tr>\n",
       "  </thead>\n",
       "  <tbody>\n",
       "    <tr>\n",
       "      <td>0</td>\n",
       "      <td>12761</td>\n",
       "      <td>Mannnnnn these hoes aint loyal</td>\n",
       "      <td>1</td>\n",
       "      <td>mannnnnn these hoes aint loyal</td>\n",
       "    </tr>\n",
       "    <tr>\n",
       "      <td>1</td>\n",
       "      <td>25141</td>\n",
       "      <td>have a fabulous weekend beautiful souls #nofil...</td>\n",
       "      <td>0</td>\n",
       "      <td>have a fabulous weekend beautiful souls #nofil...</td>\n",
       "    </tr>\n",
       "    <tr>\n",
       "      <td>2</td>\n",
       "      <td>53167</td>\n",
       "      <td>#fathersday #dad @user</td>\n",
       "      <td>0</td>\n",
       "      <td>#fathersday #dad @user</td>\n",
       "    </tr>\n",
       "    <tr>\n",
       "      <td>3</td>\n",
       "      <td>17294</td>\n",
       "      <td>RT @SheswantstheD: these hoes ain't loyal http...</td>\n",
       "      <td>1</td>\n",
       "      <td>rt @sheswantsthed: these hoes ain't loyal http...</td>\n",
       "    </tr>\n",
       "    <tr>\n",
       "      <td>4</td>\n",
       "      <td>29359</td>\n",
       "      <td>newhairâ¨ð #lapis#rollen#new#hair#brond#gr...</td>\n",
       "      <td>0</td>\n",
       "      <td>newhairâ¨ð #lapis#rollen#new#hair#brond#gr...</td>\n",
       "    </tr>\n",
       "  </tbody>\n",
       "</table>\n",
       "</div>"
      ],
      "text/plain": [
       "   Unnamed: 0                                              tweet  class  \\\n",
       "0       12761                     Mannnnnn these hoes aint loyal      1   \n",
       "1       25141  have a fabulous weekend beautiful souls #nofil...      0   \n",
       "2       53167                            #fathersday #dad @user       0   \n",
       "3       17294  RT @SheswantstheD: these hoes ain't loyal http...      1   \n",
       "4       29359  newhairâ¨ð #lapis#rollen#new#hair#brond#gr...      0   \n",
       "\n",
       "                                         tweet_lower  \n",
       "0                     mannnnnn these hoes aint loyal  \n",
       "1  have a fabulous weekend beautiful souls #nofil...  \n",
       "2                            #fathersday #dad @user   \n",
       "3  rt @sheswantsthed: these hoes ain't loyal http...  \n",
       "4  newhairâ¨ð #lapis#rollen#new#hair#brond#gr...  "
      ]
     },
     "execution_count": 46,
     "metadata": {},
     "output_type": "execute_result"
    }
   ],
   "source": [
    "train_copy['tweet_lower'] =  train_copy['tweet'].progress_apply(lambda x:x.lower())\n",
    "train_copy.head()\n"
   ]
  },
  {
   "cell_type": "code",
   "execution_count": 54,
   "metadata": {},
   "outputs": [
    {
     "name": "stderr",
     "output_type": "stream",
     "text": [
      "\n",
      "  0%|          | 0/42364 [00:00<?, ?it/s]\u001b[A\n",
      "  9%|▉         | 3949/42364 [00:00<00:01, 38090.14it/s]\u001b[A\n",
      " 17%|█▋        | 7066/42364 [00:00<00:01, 34815.51it/s]\u001b[A\n",
      " 25%|██▍       | 10559/42364 [00:00<00:00, 34390.06it/s]\u001b[A\n",
      " 33%|███▎      | 13851/42364 [00:00<00:00, 33579.74it/s]\u001b[A\n",
      " 39%|███▊      | 16327/42364 [00:00<00:00, 28372.15it/s]\u001b[A\n",
      " 46%|████▌     | 19357/42364 [00:00<00:00, 28790.91it/s]\u001b[A\n",
      " 52%|█████▏    | 21902/42364 [00:00<00:00, 27071.54it/s]\u001b[A\n",
      " 58%|█████▊    | 24397/42364 [00:00<00:00, 25163.35it/s]\u001b[A\n",
      " 64%|██████▎   | 26963/42364 [00:00<00:00, 25309.94it/s]\u001b[A\n",
      " 70%|██████▉   | 29509/42364 [00:01<00:00, 25290.76it/s]\u001b[A\n",
      " 76%|███████▌  | 32213/42364 [00:01<00:00, 24942.08it/s]\u001b[A\n",
      " 82%|████████▏ | 34667/42364 [00:01<00:00, 24398.06it/s]\u001b[A\n",
      " 89%|████████▉ | 37666/42364 [00:01<00:00, 25843.31it/s]\u001b[A\n",
      "100%|██████████| 42364/42364 [00:01<00:00, 26517.09it/s]\u001b[A\n",
      "\n",
      "  0%|          | 0/91513 [00:00<?, ?it/s]\u001b[A\n",
      " 14%|█▍        | 12934/91513 [00:00<00:00, 129335.50it/s]\u001b[A\n",
      " 27%|██▋       | 24722/91513 [00:00<00:00, 125670.96it/s]\u001b[A\n",
      " 41%|████▏     | 37888/91513 [00:00<00:00, 127408.82it/s]\u001b[A\n",
      " 55%|█████▌    | 50535/91513 [00:00<00:00, 126507.90it/s]\u001b[A\n",
      " 69%|██████▉   | 63221/91513 [00:00<00:00, 125115.71it/s]\u001b[A\n",
      " 83%|████████▎ | 76199/91513 [00:00<00:00, 126478.74it/s]\u001b[A\n",
      "100%|██████████| 91513/91513 [00:00<00:00, 125718.93it/s]\u001b[A\n"
     ]
    },
    {
     "name": "stdout",
     "output_type": "stream",
     "text": [
      "Found embeddings for 23.79% of vocab\n",
      "Found embeddings for  73.79% of all text\n"
     ]
    }
   ],
   "source": [
    "vocab = build_vocab(list(train_copy['tweet_lower'].apply(lambda x:x.split())))\n",
    "#vocab\n",
    "oov = check_coverage(vocab,glove_embed)"
   ]
  },
  {
   "cell_type": "code",
   "execution_count": 53,
   "metadata": {},
   "outputs": [
    {
     "name": "stdout",
     "output_type": "stream",
     "text": [
      "Added 0 words to embedding\n"
     ]
    }
   ],
   "source": [
    "add_lower(glove_embed, vocab)"
   ]
  },
  {
   "cell_type": "code",
   "execution_count": 57,
   "metadata": {},
   "outputs": [],
   "source": [
    "%run ../src/processing/contractions.py"
   ]
  },
  {
   "cell_type": "code",
   "execution_count": 60,
   "metadata": {},
   "outputs": [
    {
     "data": {
      "text/html": [
       "<div>\n",
       "<style scoped>\n",
       "    .dataframe tbody tr th:only-of-type {\n",
       "        vertical-align: middle;\n",
       "    }\n",
       "\n",
       "    .dataframe tbody tr th {\n",
       "        vertical-align: top;\n",
       "    }\n",
       "\n",
       "    .dataframe thead th {\n",
       "        text-align: right;\n",
       "    }\n",
       "</style>\n",
       "<table border=\"1\" class=\"dataframe\">\n",
       "  <thead>\n",
       "    <tr style=\"text-align: right;\">\n",
       "      <th></th>\n",
       "      <th>Unnamed: 0</th>\n",
       "      <th>tweet</th>\n",
       "      <th>class</th>\n",
       "      <th>tweet_lower</th>\n",
       "      <th>removed_contr</th>\n",
       "    </tr>\n",
       "  </thead>\n",
       "  <tbody>\n",
       "    <tr>\n",
       "      <td>0</td>\n",
       "      <td>12761</td>\n",
       "      <td>Mannnnnn these hoes aint loyal</td>\n",
       "      <td>1</td>\n",
       "      <td>mannnnnn these hoes aint loyal</td>\n",
       "      <td>mannnnnn these hoes aint loyal</td>\n",
       "    </tr>\n",
       "    <tr>\n",
       "      <td>1</td>\n",
       "      <td>25141</td>\n",
       "      <td>have a fabulous weekend beautiful souls #nofil...</td>\n",
       "      <td>0</td>\n",
       "      <td>have a fabulous weekend beautiful souls #nofil...</td>\n",
       "      <td>have a fabulous weekend beautiful souls #nofil...</td>\n",
       "    </tr>\n",
       "    <tr>\n",
       "      <td>2</td>\n",
       "      <td>53167</td>\n",
       "      <td>#fathersday #dad @user</td>\n",
       "      <td>0</td>\n",
       "      <td>#fathersday #dad @user</td>\n",
       "      <td>#fathersday #dad @user</td>\n",
       "    </tr>\n",
       "    <tr>\n",
       "      <td>3</td>\n",
       "      <td>17294</td>\n",
       "      <td>RT @SheswantstheD: these hoes ain't loyal http...</td>\n",
       "      <td>1</td>\n",
       "      <td>rt @sheswantsthed: these hoes ain't loyal http...</td>\n",
       "      <td>rt @sheswantsthed: these hoes is not loyal htt...</td>\n",
       "    </tr>\n",
       "    <tr>\n",
       "      <td>4</td>\n",
       "      <td>29359</td>\n",
       "      <td>newhairâ¨ð #lapis#rollen#new#hair#brond#gr...</td>\n",
       "      <td>0</td>\n",
       "      <td>newhairâ¨ð #lapis#rollen#new#hair#brond#gr...</td>\n",
       "      <td>newhairâ¨ð #lapis#rollen#new#hair#brond#gr...</td>\n",
       "    </tr>\n",
       "  </tbody>\n",
       "</table>\n",
       "</div>"
      ],
      "text/plain": [
       "   Unnamed: 0                                              tweet  class  \\\n",
       "0       12761                     Mannnnnn these hoes aint loyal      1   \n",
       "1       25141  have a fabulous weekend beautiful souls #nofil...      0   \n",
       "2       53167                            #fathersday #dad @user       0   \n",
       "3       17294  RT @SheswantstheD: these hoes ain't loyal http...      1   \n",
       "4       29359  newhairâ¨ð #lapis#rollen#new#hair#brond#gr...      0   \n",
       "\n",
       "                                         tweet_lower  \\\n",
       "0                     mannnnnn these hoes aint loyal   \n",
       "1  have a fabulous weekend beautiful souls #nofil...   \n",
       "2                            #fathersday #dad @user    \n",
       "3  rt @sheswantsthed: these hoes ain't loyal http...   \n",
       "4  newhairâ¨ð #lapis#rollen#new#hair#brond#gr...   \n",
       "\n",
       "                                       removed_contr  \n",
       "0                     mannnnnn these hoes aint loyal  \n",
       "1  have a fabulous weekend beautiful souls #nofil...  \n",
       "2                            #fathersday #dad @user   \n",
       "3  rt @sheswantsthed: these hoes is not loyal htt...  \n",
       "4  newhairâ¨ð #lapis#rollen#new#hair#brond#gr...  "
      ]
     },
     "execution_count": 60,
     "metadata": {},
     "output_type": "execute_result"
    }
   ],
   "source": [
    "train_copy['removed_contr'] = train_copy['tweet_lower'].apply(lambda x: clean_contractions(x, contraction_mapping))\n",
    "train_copy.head()\n"
   ]
  },
  {
   "cell_type": "code",
   "execution_count": 61,
   "metadata": {},
   "outputs": [
    {
     "name": "stderr",
     "output_type": "stream",
     "text": [
      "\n",
      "  0%|          | 0/42364 [00:00<?, ?it/s]\u001b[A\n",
      "  9%|▊         | 3661/42364 [00:00<00:01, 35601.24it/s]\u001b[A\n",
      " 14%|█▍        | 6003/42364 [00:00<00:01, 28940.92it/s]\u001b[A\n",
      " 17%|█▋        | 7356/42364 [00:00<00:01, 20031.30it/s]\u001b[A\n",
      " 25%|██▍       | 10438/42364 [00:00<00:01, 22219.85it/s]\u001b[A\n",
      " 32%|███▏      | 13723/42364 [00:00<00:01, 24607.21it/s]\u001b[A\n",
      " 40%|███▉      | 16838/42364 [00:00<00:00, 26261.86it/s]\u001b[A\n",
      " 47%|████▋     | 19924/42364 [00:00<00:00, 27489.48it/s]\u001b[A\n",
      " 53%|█████▎    | 22605/42364 [00:00<00:00, 25177.37it/s]\u001b[A\n",
      " 60%|██████    | 25464/42364 [00:00<00:00, 26111.53it/s]\u001b[A\n",
      " 67%|██████▋   | 28331/42364 [00:01<00:00, 26829.58it/s]\u001b[A\n",
      " 74%|███████▍  | 31314/42364 [00:01<00:00, 27609.88it/s]\u001b[A\n",
      " 80%|████████  | 34086/42364 [00:01<00:00, 25427.31it/s]\u001b[A\n",
      " 87%|████████▋ | 36678/42364 [00:01<00:00, 25329.18it/s]\u001b[A\n",
      "100%|██████████| 42364/42364 [00:01<00:00, 26627.51it/s]\u001b[A\n",
      "\n",
      "  0%|          | 0/91459 [00:00<?, ?it/s]\u001b[A\n",
      " 18%|█▊        | 16872/91459 [00:00<00:00, 168717.35it/s]\u001b[A\n",
      " 33%|███▎      | 30549/91459 [00:00<00:00, 155697.06it/s]\u001b[A\n",
      " 47%|████▋     | 42914/91459 [00:00<00:00, 144464.00it/s]\u001b[A\n",
      " 60%|█████▉    | 54830/91459 [00:00<00:00, 135358.16it/s]\u001b[A\n",
      " 75%|███████▍  | 68148/91459 [00:00<00:00, 132518.12it/s]\u001b[A\n",
      "100%|██████████| 91459/91459 [00:00<00:00, 133307.73it/s]\u001b[A\n"
     ]
    },
    {
     "name": "stdout",
     "output_type": "stream",
     "text": [
      "Found embeddings for 23.80% of vocab\n",
      "Found embeddings for  76.19% of all text\n"
     ]
    }
   ],
   "source": [
    "vocab = build_vocab(list(train_copy['removed_contr'].apply(lambda x:x.split())))\n",
    "#vocab\n",
    "oov = check_coverage(vocab,glove_embed)"
   ]
  },
  {
   "cell_type": "code",
   "execution_count": 62,
   "metadata": {},
   "outputs": [
    {
     "data": {
      "text/plain": [
       "[('@user', 13246),\n",
       " ('2', 505),\n",
       " ('bitch.', 420),\n",
       " ('...', 412),\n",
       " ('bihday', 383),\n",
       " ('#positive', 379),\n",
       " (\"father's\", 277),\n",
       " (':)', 257),\n",
       " ('4', 256),\n",
       " ('3', 255)]"
      ]
     },
     "execution_count": 62,
     "metadata": {},
     "output_type": "execute_result"
    }
   ],
   "source": [
    "oov[:10]"
   ]
  },
  {
   "cell_type": "code",
   "execution_count": 71,
   "metadata": {},
   "outputs": [
    {
     "data": {
      "text/plain": [
       "True"
      ]
     },
     "execution_count": 71,
     "metadata": {},
     "output_type": "execute_result"
    }
   ],
   "source": [
    "\"aunties\" in glove_embed"
   ]
  },
  {
   "cell_type": "code",
   "execution_count": null,
   "metadata": {},
   "outputs": [],
   "source": []
  }
 ],
 "metadata": {
  "kernelspec": {
   "display_name": "Python 3",
   "language": "python",
   "name": "python3"
  },
  "language_info": {
   "codemirror_mode": {
    "name": "ipython",
    "version": 3
   },
   "file_extension": ".py",
   "mimetype": "text/x-python",
   "name": "python",
   "nbconvert_exporter": "python",
   "pygments_lexer": "ipython3",
   "version": "3.7.4"
  }
 },
 "nbformat": 4,
 "nbformat_minor": 2
}
