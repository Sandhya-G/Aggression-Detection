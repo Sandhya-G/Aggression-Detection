{
 "cells": [
  {
   "cell_type": "code",
   "execution_count": 37,
   "metadata": {},
   "outputs": [],
   "source": [
    "import pandas as pd\n",
    "from tqdm import tqdm\n",
    "tqdm.pandas()\n"
   ]
  },
  {
   "cell_type": "code",
   "execution_count": 7,
   "metadata": {},
   "outputs": [],
   "source": [
    "\n",
    "%run ../paths.py\n",
    "CONST = CONST()"
   ]
  },
  {
   "cell_type": "code",
   "execution_count": 9,
   "metadata": {},
   "outputs": [
    {
     "data": {
      "text/html": [
       "<div>\n",
       "<style scoped>\n",
       "    .dataframe tbody tr th:only-of-type {\n",
       "        vertical-align: middle;\n",
       "    }\n",
       "\n",
       "    .dataframe tbody tr th {\n",
       "        vertical-align: top;\n",
       "    }\n",
       "\n",
       "    .dataframe thead th {\n",
       "        text-align: right;\n",
       "    }\n",
       "</style>\n",
       "<table border=\"1\" class=\"dataframe\">\n",
       "  <thead>\n",
       "    <tr style=\"text-align: right;\">\n",
       "      <th></th>\n",
       "      <th>Unnamed: 0</th>\n",
       "      <th>tweet</th>\n",
       "      <th>class</th>\n",
       "    </tr>\n",
       "  </thead>\n",
       "  <tbody>\n",
       "    <tr>\n",
       "      <td>0</td>\n",
       "      <td>12761</td>\n",
       "      <td>Mannnnnn these hoes aint loyal</td>\n",
       "      <td>1</td>\n",
       "    </tr>\n",
       "    <tr>\n",
       "      <td>1</td>\n",
       "      <td>25141</td>\n",
       "      <td>have a fabulous weekend beautiful souls #nofil...</td>\n",
       "      <td>0</td>\n",
       "    </tr>\n",
       "    <tr>\n",
       "      <td>2</td>\n",
       "      <td>53167</td>\n",
       "      <td>#fathersday #dad @user</td>\n",
       "      <td>0</td>\n",
       "    </tr>\n",
       "    <tr>\n",
       "      <td>3</td>\n",
       "      <td>17294</td>\n",
       "      <td>RT @SheswantstheD: these hoes ain't loyal http...</td>\n",
       "      <td>1</td>\n",
       "    </tr>\n",
       "    <tr>\n",
       "      <td>4</td>\n",
       "      <td>29359</td>\n",
       "      <td>newhairâ¨ð #lapis#rollen#new#hair#brond#gr...</td>\n",
       "      <td>0</td>\n",
       "    </tr>\n",
       "  </tbody>\n",
       "</table>\n",
       "</div>"
      ],
      "text/plain": [
       "   Unnamed: 0                                              tweet  class\n",
       "0       12761                     Mannnnnn these hoes aint loyal      1\n",
       "1       25141  have a fabulous weekend beautiful souls #nofil...      0\n",
       "2       53167                            #fathersday #dad @user       0\n",
       "3       17294  RT @SheswantstheD: these hoes ain't loyal http...      1\n",
       "4       29359  newhairâ¨ð #lapis#rollen#new#hair#brond#gr...      0"
      ]
     },
     "execution_count": 9,
     "metadata": {},
     "output_type": "execute_result"
    }
   ],
   "source": [
    "train = pd.read_csv(CONST.TRAIN_DATA)\n",
    "train.head()"
   ]
  },
  {
   "cell_type": "code",
   "execution_count": 11,
   "metadata": {},
   "outputs": [
    {
     "data": {
      "text/html": [
       "<div>\n",
       "<style scoped>\n",
       "    .dataframe tbody tr th:only-of-type {\n",
       "        vertical-align: middle;\n",
       "    }\n",
       "\n",
       "    .dataframe tbody tr th {\n",
       "        vertical-align: top;\n",
       "    }\n",
       "\n",
       "    .dataframe thead th {\n",
       "        text-align: right;\n",
       "    }\n",
       "</style>\n",
       "<table border=\"1\" class=\"dataframe\">\n",
       "  <thead>\n",
       "    <tr style=\"text-align: right;\">\n",
       "      <th></th>\n",
       "      <th>Unnamed: 0</th>\n",
       "      <th>tweet</th>\n",
       "      <th>class</th>\n",
       "    </tr>\n",
       "  </thead>\n",
       "  <tbody>\n",
       "    <tr>\n",
       "      <td>0</td>\n",
       "      <td>12761</td>\n",
       "      <td>Mannnnnn these hoes aint loyal</td>\n",
       "      <td>1</td>\n",
       "    </tr>\n",
       "    <tr>\n",
       "      <td>1</td>\n",
       "      <td>25141</td>\n",
       "      <td>have a fabulous weekend beautiful souls #nofil...</td>\n",
       "      <td>0</td>\n",
       "    </tr>\n",
       "    <tr>\n",
       "      <td>2</td>\n",
       "      <td>53167</td>\n",
       "      <td>#fathersday #dad @user</td>\n",
       "      <td>0</td>\n",
       "    </tr>\n",
       "    <tr>\n",
       "      <td>3</td>\n",
       "      <td>17294</td>\n",
       "      <td>RT @SheswantstheD: these hoes ain't loyal http...</td>\n",
       "      <td>1</td>\n",
       "    </tr>\n",
       "    <tr>\n",
       "      <td>4</td>\n",
       "      <td>29359</td>\n",
       "      <td>newhairâ¨ð #lapis#rollen#new#hair#brond#gr...</td>\n",
       "      <td>0</td>\n",
       "    </tr>\n",
       "  </tbody>\n",
       "</table>\n",
       "</div>"
      ],
      "text/plain": [
       "   Unnamed: 0                                              tweet  class\n",
       "0       12761                     Mannnnnn these hoes aint loyal      1\n",
       "1       25141  have a fabulous weekend beautiful souls #nofil...      0\n",
       "2       53167                            #fathersday #dad @user       0\n",
       "3       17294  RT @SheswantstheD: these hoes ain't loyal http...      1\n",
       "4       29359  newhairâ¨ð #lapis#rollen#new#hair#brond#gr...      0"
      ]
     },
     "execution_count": 11,
     "metadata": {},
     "output_type": "execute_result"
    }
   ],
   "source": [
    "train_copy = train.copy()\n",
    "train_copy.head()"
   ]
  },
  {
   "cell_type": "code",
   "execution_count": 51,
   "metadata": {},
   "outputs": [],
   "source": [
    "%run ../src/processing/glove_utils.py"
   ]
  },
  {
   "cell_type": "code",
   "execution_count": 14,
   "metadata": {},
   "outputs": [],
   "source": [
    "glove_embed = load_embed(CONST.GLOVE_100d)"
   ]
  },
  {
   "cell_type": "code",
   "execution_count": 63,
   "metadata": {},
   "outputs": [
    {
     "data": {
      "text/plain": [
       "(True, True, False, True, True)"
      ]
     },
     "execution_count": 63,
     "metadata": {},
     "output_type": "execute_result"
    }
   ],
   "source": [
    "'<user>' in glove_embed, '<number>' in glove_embed, '<phone_number>' in glove_embed, '<elong>' in glove_embed,\"<allcaps>\" in glove_embed"
   ]
  },
  {
   "cell_type": "code",
   "execution_count": 141,
   "metadata": {},
   "outputs": [
    {
     "name": "stderr",
     "output_type": "stream",
     "text": [
      "\n",
      "  0%|          | 0/42364 [00:00<?, ?it/s]\u001b[A\n",
      "  5%|▍         | 2088/42364 [00:00<00:02, 19643.20it/s]\u001b[A\n",
      "  8%|▊         | 3440/42364 [00:00<00:02, 17286.63it/s]\u001b[A\n",
      " 12%|█▏        | 4925/42364 [00:00<00:02, 16045.63it/s]\u001b[A\n",
      " 16%|█▌        | 6688/42364 [00:00<00:02, 16347.15it/s]\u001b[A\n",
      " 19%|█▊        | 7891/42364 [00:00<00:02, 14318.86it/s]\u001b[A\n",
      " 23%|██▎       | 9555/42364 [00:00<00:02, 14942.21it/s]\u001b[A\n",
      " 26%|██▋       | 11122/42364 [00:00<00:02, 14302.64it/s]\u001b[A\n",
      " 29%|██▉       | 12437/42364 [00:00<00:02, 12356.88it/s]\u001b[A\n",
      " 35%|███▌      | 15021/42364 [00:00<00:01, 14566.78it/s]\u001b[A\n",
      " 40%|████      | 17096/42364 [00:01<00:01, 15426.28it/s]\u001b[A\n",
      " 45%|████▍     | 19004/42364 [00:01<00:01, 16134.78it/s]\u001b[A\n",
      " 49%|████▉     | 20702/42364 [00:01<00:01, 15771.53it/s]\u001b[A\n",
      " 56%|█████▌    | 23682/42364 [00:01<00:01, 18365.04it/s]\u001b[A\n",
      " 62%|██████▏   | 26231/42364 [00:01<00:00, 20045.82it/s]\u001b[A\n",
      " 68%|██████▊   | 28904/42364 [00:01<00:00, 21606.90it/s]\u001b[A\n",
      " 75%|███████▍  | 31588/42364 [00:01<00:00, 22948.29it/s]\u001b[A\n",
      " 80%|████████  | 34023/42364 [00:01<00:00, 21800.23it/s]\u001b[A\n",
      " 86%|████████▌ | 36313/42364 [00:01<00:00, 21548.46it/s]\u001b[A\n",
      " 91%|█████████ | 38546/42364 [00:02<00:00, 21581.51it/s]\u001b[A\n",
      "100%|██████████| 42364/42364 [00:02<00:00, 19069.45it/s]\u001b[A\n",
      "\n",
      "  0%|          | 0/97055 [00:00<?, ?it/s]\u001b[A\n",
      " 14%|█▍        | 13503/97055 [00:00<00:00, 129940.09it/s]\u001b[A\n",
      " 24%|██▍       | 23601/97055 [00:00<00:00, 118164.54it/s]\u001b[A\n",
      " 37%|███▋      | 35550/97055 [00:00<00:00, 118558.69it/s]\u001b[A\n",
      " 47%|████▋     | 45320/97055 [00:00<00:00, 109838.60it/s]\u001b[A\n",
      " 56%|█████▌    | 54536/97055 [00:00<00:00, 103861.32it/s]\u001b[A\n",
      " 66%|██████▌   | 63963/97055 [00:00<00:00, 100784.32it/s]\u001b[A\n",
      " 77%|███████▋  | 74407/97055 [00:00<00:00, 101610.22it/s]\u001b[A\n",
      " 88%|████████▊ | 85566/97055 [00:00<00:00, 103324.76it/s]\u001b[A\n",
      "100%|██████████| 97055/97055 [00:00<00:00, 103207.90it/s]\u001b[A\n"
     ]
    },
    {
     "name": "stdout",
     "output_type": "stream",
     "text": [
      "Found embeddings for 20.63% of vocab\n",
      "Found embeddings for  67.83% of all text\n"
     ]
    }
   ],
   "source": [
    "vocab = build_vocab(list(train_copy['tweet'].apply(lambda x:x.split())))\n",
    "vocab\n",
    "oov = check_coverage(vocab,glove_embed)\n",
    "#oov[:10]"
   ]
  },
  {
   "cell_type": "code",
   "execution_count": 142,
   "metadata": {},
   "outputs": [
    {
     "name": "stderr",
     "output_type": "stream",
     "text": [
      "\n",
      "  0%|          | 0/42364 [00:00<?, ?it/s]\u001b[A\n",
      "  5%|▍         | 2072/42364 [00:00<00:02, 15247.30it/s]\u001b[A\n",
      " 13%|█▎        | 5596/42364 [00:00<00:02, 18373.30it/s]\u001b[A\n",
      " 32%|███▏      | 13728/42364 [00:00<00:01, 23873.91it/s]\u001b[A\n",
      " 48%|████▊     | 20467/42364 [00:00<00:00, 29370.26it/s]\u001b[A\n",
      " 68%|██████▊   | 28657/42364 [00:00<00:00, 36367.98it/s]\u001b[A\n",
      " 83%|████████▎ | 35076/42364 [00:00<00:00, 41515.18it/s]\u001b[A\n",
      "100%|██████████| 42364/42364 [00:00<00:00, 52942.41it/s]\u001b[A\n"
     ]
    },
    {
     "data": {
      "text/html": [
       "<div>\n",
       "<style scoped>\n",
       "    .dataframe tbody tr th:only-of-type {\n",
       "        vertical-align: middle;\n",
       "    }\n",
       "\n",
       "    .dataframe tbody tr th {\n",
       "        vertical-align: top;\n",
       "    }\n",
       "\n",
       "    .dataframe thead th {\n",
       "        text-align: right;\n",
       "    }\n",
       "</style>\n",
       "<table border=\"1\" class=\"dataframe\">\n",
       "  <thead>\n",
       "    <tr style=\"text-align: right;\">\n",
       "      <th></th>\n",
       "      <th>Unnamed: 0</th>\n",
       "      <th>tweet</th>\n",
       "      <th>class</th>\n",
       "      <th>tweet_lower</th>\n",
       "      <th>removed_contr</th>\n",
       "    </tr>\n",
       "  </thead>\n",
       "  <tbody>\n",
       "    <tr>\n",
       "      <td>0</td>\n",
       "      <td>12761</td>\n",
       "      <td>Mannnnnn these hoes aint loyal</td>\n",
       "      <td>1</td>\n",
       "      <td>mannnnnn these hoes aint loyal</td>\n",
       "      <td>mann these hoes aint loyal</td>\n",
       "    </tr>\n",
       "    <tr>\n",
       "      <td>1</td>\n",
       "      <td>25141</td>\n",
       "      <td>have a fabulous weekend beautiful souls #nofil...</td>\n",
       "      <td>0</td>\n",
       "      <td>have a fabulous weekend beautiful souls #nofil...</td>\n",
       "      <td>have a fabulous weekend beautiful souls nofilt...</td>\n",
       "    </tr>\n",
       "    <tr>\n",
       "      <td>2</td>\n",
       "      <td>53167</td>\n",
       "      <td>#fathersday #dad @user</td>\n",
       "      <td>0</td>\n",
       "      <td>#fathersday #dad @user</td>\n",
       "      <td>fathersday dad &lt;user&gt;</td>\n",
       "    </tr>\n",
       "    <tr>\n",
       "      <td>3</td>\n",
       "      <td>17294</td>\n",
       "      <td>RT @SheswantstheD: these hoes ain't loyal http...</td>\n",
       "      <td>1</td>\n",
       "      <td>rt @sheswantsthed: these hoes ain't loyal http...</td>\n",
       "      <td>rt &lt;user&gt; : these hoes is not loyal &lt;url&gt;</td>\n",
       "    </tr>\n",
       "    <tr>\n",
       "      <td>4</td>\n",
       "      <td>29359</td>\n",
       "      <td>newhairâ¨ð #lapis#rollen#new#hair#brond#gr...</td>\n",
       "      <td>0</td>\n",
       "      <td>newhairâ¨ð #lapis#rollen#new#hair#brond#gr...</td>\n",
       "      <td>newhairâ¨ð lapis#rollen#new#hair#brond#gra...</td>\n",
       "    </tr>\n",
       "  </tbody>\n",
       "</table>\n",
       "</div>"
      ],
      "text/plain": [
       "   Unnamed: 0                                              tweet  class  \\\n",
       "0       12761                     Mannnnnn these hoes aint loyal      1   \n",
       "1       25141  have a fabulous weekend beautiful souls #nofil...      0   \n",
       "2       53167                            #fathersday #dad @user       0   \n",
       "3       17294  RT @SheswantstheD: these hoes ain't loyal http...      1   \n",
       "4       29359  newhairâ¨ð #lapis#rollen#new#hair#brond#gr...      0   \n",
       "\n",
       "                                         tweet_lower  \\\n",
       "0                     mannnnnn these hoes aint loyal   \n",
       "1  have a fabulous weekend beautiful souls #nofil...   \n",
       "2                            #fathersday #dad @user    \n",
       "3  rt @sheswantsthed: these hoes ain't loyal http...   \n",
       "4  newhairâ¨ð #lapis#rollen#new#hair#brond#gr...   \n",
       "\n",
       "                                       removed_contr  \n",
       "0                         mann these hoes aint loyal  \n",
       "1  have a fabulous weekend beautiful souls nofilt...  \n",
       "2                             fathersday dad <user>   \n",
       "3          rt <user> : these hoes is not loyal <url>  \n",
       "4  newhairâ¨ð lapis#rollen#new#hair#brond#gra...  "
      ]
     },
     "execution_count": 142,
     "metadata": {},
     "output_type": "execute_result"
    }
   ],
   "source": [
    "train_copy['tweet_lower'] =  train_copy['tweet'].progress_apply(lambda x:x.lower())\n",
    "train_copy.head()\n"
   ]
  },
  {
   "cell_type": "code",
   "execution_count": 143,
   "metadata": {},
   "outputs": [
    {
     "name": "stderr",
     "output_type": "stream",
     "text": [
      "\n",
      "  0%|          | 0/42364 [00:00<?, ?it/s]\u001b[A\n",
      "  3%|▎         | 1079/42364 [00:00<00:06, 6259.23it/s]\u001b[A\n",
      "  3%|▎         | 1267/42364 [00:00<00:13, 2993.51it/s]\u001b[A\n",
      "  8%|▊         | 3210/42364 [00:00<00:09, 4011.57it/s]\u001b[A\n",
      " 13%|█▎        | 5666/42364 [00:00<00:06, 5343.00it/s]\u001b[A\n",
      " 20%|█▉        | 8374/42364 [00:00<00:04, 7032.49it/s]\u001b[A\n",
      " 26%|██▌       | 10996/42364 [00:00<00:03, 9009.18it/s]\u001b[A\n",
      " 31%|███       | 12935/42364 [00:00<00:02, 10419.04it/s]\u001b[A\n",
      " 36%|███▋      | 15446/42364 [00:00<00:02, 12565.25it/s]\u001b[A\n",
      " 41%|████▏     | 17489/42364 [00:01<00:01, 14192.88it/s]\u001b[A\n",
      " 47%|████▋     | 19823/42364 [00:01<00:01, 15706.65it/s]\u001b[A\n",
      " 52%|█████▏    | 21868/42364 [00:01<00:01, 16678.89it/s]\u001b[A\n",
      " 56%|█████▋    | 23884/42364 [00:01<00:01, 15894.25it/s]\u001b[A\n",
      " 61%|██████    | 25725/42364 [00:01<00:01, 14562.81it/s]\u001b[A\n",
      " 65%|██████▍   | 27379/42364 [00:01<00:01, 13617.07it/s]\u001b[A\n",
      " 71%|███████   | 30143/42364 [00:01<00:00, 15976.64it/s]\u001b[A\n",
      " 76%|███████▋  | 32384/42364 [00:01<00:00, 17467.41it/s]\u001b[A\n",
      " 82%|████████▏ | 34866/42364 [00:01<00:00, 19110.43it/s]\u001b[A\n",
      " 87%|████████▋ | 36983/42364 [00:02<00:00, 18144.74it/s]\u001b[A\n",
      " 93%|█████████▎| 39404/42364 [00:02<00:00, 19593.20it/s]\u001b[A\n",
      "100%|██████████| 42364/42364 [00:02<00:00, 17764.61it/s]\u001b[A\n",
      "\n",
      "  0%|          | 0/91513 [00:00<?, ?it/s]\u001b[A\n",
      " 14%|█▍        | 13263/91513 [00:00<00:00, 127110.29it/s]\u001b[A\n",
      " 24%|██▍       | 22233/91513 [00:00<00:00, 112900.25it/s]\u001b[A\n",
      " 36%|███▌      | 32811/91513 [00:00<00:00, 110289.97it/s]\u001b[A\n",
      " 48%|████▊     | 44135/91513 [00:00<00:00, 111157.96it/s]\u001b[A\n",
      " 57%|█████▋    | 52354/91513 [00:00<00:00, 93906.49it/s] \u001b[A\n",
      " 66%|██████▌   | 60176/91513 [00:00<00:00, 81364.42it/s]\u001b[A\n",
      " 74%|███████▍  | 67513/91513 [00:00<00:00, 71775.36it/s]\u001b[A\n",
      " 84%|████████▎ | 76550/91513 [00:00<00:00, 75797.63it/s]\u001b[A\n",
      "100%|██████████| 91513/91513 [00:01<00:00, 88253.98it/s]\u001b[A\n"
     ]
    },
    {
     "name": "stdout",
     "output_type": "stream",
     "text": [
      "Found embeddings for 23.79% of vocab\n",
      "Found embeddings for  73.79% of all text\n"
     ]
    }
   ],
   "source": [
    "vocab = build_vocab(list(train_copy['tweet_lower'].apply(lambda x:x.split())))\n",
    "#vocab\n",
    "oov = check_coverage(vocab,glove_embed)"
   ]
  },
  {
   "cell_type": "code",
   "execution_count": 144,
   "metadata": {},
   "outputs": [
    {
     "name": "stdout",
     "output_type": "stream",
     "text": [
      "Added 0 words to embedding\n"
     ]
    }
   ],
   "source": [
    "add_lower(glove_embed, vocab)"
   ]
  },
  {
   "cell_type": "code",
   "execution_count": 145,
   "metadata": {},
   "outputs": [],
   "source": [
    "%run ../src/processing/html_tag_remover.py"
   ]
  },
  {
   "cell_type": "code",
   "execution_count": 146,
   "metadata": {},
   "outputs": [],
   "source": [
    "train_copy['tweet_lower'] = train_copy['tweet_lower'].apply(lambda x : strip_tags(x))"
   ]
  },
  {
   "cell_type": "code",
   "execution_count": 147,
   "metadata": {},
   "outputs": [],
   "source": [
    "%run ../src/processing/contractions.py"
   ]
  },
  {
   "cell_type": "code",
   "execution_count": 148,
   "metadata": {},
   "outputs": [
    {
     "data": {
      "text/html": [
       "<div>\n",
       "<style scoped>\n",
       "    .dataframe tbody tr th:only-of-type {\n",
       "        vertical-align: middle;\n",
       "    }\n",
       "\n",
       "    .dataframe tbody tr th {\n",
       "        vertical-align: top;\n",
       "    }\n",
       "\n",
       "    .dataframe thead th {\n",
       "        text-align: right;\n",
       "    }\n",
       "</style>\n",
       "<table border=\"1\" class=\"dataframe\">\n",
       "  <thead>\n",
       "    <tr style=\"text-align: right;\">\n",
       "      <th></th>\n",
       "      <th>Unnamed: 0</th>\n",
       "      <th>tweet</th>\n",
       "      <th>class</th>\n",
       "      <th>tweet_lower</th>\n",
       "      <th>removed_contr</th>\n",
       "    </tr>\n",
       "  </thead>\n",
       "  <tbody>\n",
       "    <tr>\n",
       "      <td>0</td>\n",
       "      <td>12761</td>\n",
       "      <td>Mannnnnn these hoes aint loyal</td>\n",
       "      <td>1</td>\n",
       "      <td>mannnnnn these hoes aint loyal</td>\n",
       "      <td>mannnnnn these hoes aint loyal</td>\n",
       "    </tr>\n",
       "    <tr>\n",
       "      <td>1</td>\n",
       "      <td>25141</td>\n",
       "      <td>have a fabulous weekend beautiful souls #nofil...</td>\n",
       "      <td>0</td>\n",
       "      <td>have a fabulous weekend beautiful souls #nofil...</td>\n",
       "      <td>have a fabulous weekend beautiful souls #nofil...</td>\n",
       "    </tr>\n",
       "    <tr>\n",
       "      <td>2</td>\n",
       "      <td>53167</td>\n",
       "      <td>#fathersday #dad @user</td>\n",
       "      <td>0</td>\n",
       "      <td>#fathersday #dad @user</td>\n",
       "      <td>#fathersday #dad @user</td>\n",
       "    </tr>\n",
       "    <tr>\n",
       "      <td>3</td>\n",
       "      <td>17294</td>\n",
       "      <td>RT @SheswantstheD: these hoes ain't loyal http...</td>\n",
       "      <td>1</td>\n",
       "      <td>rt @sheswantsthed: these hoes ain't loyal http...</td>\n",
       "      <td>rt @sheswantsthed: these hoes is not loyal htt...</td>\n",
       "    </tr>\n",
       "    <tr>\n",
       "      <td>4</td>\n",
       "      <td>29359</td>\n",
       "      <td>newhairâ¨ð #lapis#rollen#new#hair#brond#gr...</td>\n",
       "      <td>0</td>\n",
       "      <td>newhairâ¨ð #lapis#rollen#new#hair#brond#gr...</td>\n",
       "      <td>newhairâ¨ð #lapis#rollen#new#hair#brond#gr...</td>\n",
       "    </tr>\n",
       "  </tbody>\n",
       "</table>\n",
       "</div>"
      ],
      "text/plain": [
       "   Unnamed: 0                                              tweet  class  \\\n",
       "0       12761                     Mannnnnn these hoes aint loyal      1   \n",
       "1       25141  have a fabulous weekend beautiful souls #nofil...      0   \n",
       "2       53167                            #fathersday #dad @user       0   \n",
       "3       17294  RT @SheswantstheD: these hoes ain't loyal http...      1   \n",
       "4       29359  newhairâ¨ð #lapis#rollen#new#hair#brond#gr...      0   \n",
       "\n",
       "                                         tweet_lower  \\\n",
       "0                     mannnnnn these hoes aint loyal   \n",
       "1  have a fabulous weekend beautiful souls #nofil...   \n",
       "2                            #fathersday #dad @user    \n",
       "3  rt @sheswantsthed: these hoes ain't loyal http...   \n",
       "4  newhairâ¨ð #lapis#rollen#new#hair#brond#gr...   \n",
       "\n",
       "                                       removed_contr  \n",
       "0                     mannnnnn these hoes aint loyal  \n",
       "1  have a fabulous weekend beautiful souls #nofil...  \n",
       "2                            #fathersday #dad @user   \n",
       "3  rt @sheswantsthed: these hoes is not loyal htt...  \n",
       "4  newhairâ¨ð #lapis#rollen#new#hair#brond#gr...  "
      ]
     },
     "execution_count": 148,
     "metadata": {},
     "output_type": "execute_result"
    }
   ],
   "source": [
    "train_copy['removed_contr'] = train_copy['tweet_lower'].apply(lambda x: clean_contractions(x, contraction_mapping))\n",
    "train_copy.head()\n"
   ]
  },
  {
   "cell_type": "code",
   "execution_count": 149,
   "metadata": {},
   "outputs": [
    {
     "name": "stderr",
     "output_type": "stream",
     "text": [
      "\n",
      "  0%|          | 0/42364 [00:00<?, ?it/s]\u001b[A\n",
      "  6%|▌         | 2517/42364 [00:00<00:01, 24592.37it/s]\u001b[A\n",
      "  9%|▉         | 3998/42364 [00:00<00:01, 20524.72it/s]\u001b[A\n",
      " 14%|█▎        | 5780/42364 [00:00<00:01, 18411.68it/s]\u001b[A\n",
      " 18%|█▊        | 7681/42364 [00:00<00:01, 18370.86it/s]\u001b[A\n",
      " 21%|██▏       | 9012/42364 [00:00<00:02, 16185.60it/s]\u001b[A\n",
      " 24%|██▍       | 10324/42364 [00:00<00:02, 14038.79it/s]\u001b[A\n",
      " 27%|██▋       | 11564/42364 [00:00<00:02, 10883.46it/s]\u001b[A\n",
      " 30%|██▉       | 12647/42364 [00:00<00:02, 10700.69it/s]\u001b[A\n",
      " 32%|███▏      | 13714/42364 [00:01<00:03, 7712.70it/s] \u001b[A\n",
      " 35%|███▌      | 14969/42364 [00:01<00:03, 8455.82it/s]\u001b[A\n",
      " 40%|███▉      | 16853/42364 [00:01<00:02, 10130.86it/s]\u001b[A\n",
      " 43%|████▎     | 18171/42364 [00:01<00:02, 10885.70it/s]\u001b[A\n",
      " 48%|████▊     | 20157/42364 [00:01<00:01, 12542.75it/s]\u001b[A\n",
      " 52%|█████▏    | 22052/42364 [00:01<00:01, 12386.65it/s]\u001b[A\n",
      " 59%|█████▊    | 24851/42364 [00:01<00:01, 14818.92it/s]\u001b[A\n",
      " 63%|██████▎   | 26641/42364 [00:01<00:01, 14194.29it/s]\u001b[A\n",
      " 68%|██████▊   | 28678/42364 [00:02<00:00, 15614.40it/s]\u001b[A\n",
      " 72%|███████▏  | 30544/42364 [00:02<00:00, 16418.19it/s]\u001b[A\n",
      " 78%|███████▊  | 33010/42364 [00:02<00:00, 18247.76it/s]\u001b[A\n",
      " 83%|████████▎ | 35291/42364 [00:02<00:00, 19412.15it/s]\u001b[A\n",
      " 88%|████████▊ | 37371/42364 [00:02<00:00, 18915.06it/s]\u001b[A\n",
      " 94%|█████████▍| 39807/42364 [00:02<00:00, 20273.71it/s]\u001b[A\n",
      "100%|██████████| 42364/42364 [00:02<00:00, 15641.23it/s]\u001b[A\n",
      "\n",
      "  0%|          | 0/91363 [00:00<?, ?it/s]\u001b[A\n",
      " 12%|█▏        | 11337/91363 [00:00<00:00, 113341.19it/s]\u001b[A\n",
      " 23%|██▎       | 21266/91363 [00:00<00:00, 106884.99it/s]\u001b[A\n",
      " 35%|███▌      | 32160/91363 [00:00<00:00, 106786.48it/s]\u001b[A\n",
      " 46%|████▌     | 41900/91363 [00:00<00:00, 103356.63it/s]\u001b[A\n",
      " 55%|█████▌    | 50574/91363 [00:00<00:00, 93976.92it/s] \u001b[A\n",
      " 64%|██████▍   | 58274/91363 [00:00<00:00, 63732.15it/s]\u001b[A\n",
      " 71%|███████   | 64756/91363 [00:00<00:00, 57918.37it/s]\u001b[A\n",
      " 83%|████████▎ | 75750/91363 [00:00<00:00, 67499.89it/s]\u001b[A\n",
      "100%|██████████| 91363/91363 [00:01<00:00, 81657.62it/s]\u001b[A\n"
     ]
    },
    {
     "name": "stdout",
     "output_type": "stream",
     "text": [
      "Found embeddings for 23.85% of vocab\n",
      "Found embeddings for  76.25% of all text\n"
     ]
    }
   ],
   "source": [
    "vocab = build_vocab(list(train_copy['removed_contr'].apply(lambda x:x.split())))\n",
    "#vocab\n",
    "oov = check_coverage(vocab,glove_embed)"
   ]
  },
  {
   "cell_type": "code",
   "execution_count": 150,
   "metadata": {},
   "outputs": [
    {
     "data": {
      "text/plain": [
       "[('@user', 13246),\n",
       " ('2', 505),\n",
       " ('bitch.', 420),\n",
       " ('...', 412),\n",
       " ('bihday', 383),\n",
       " ('#positive', 379),\n",
       " (\"father's\", 277),\n",
       " (':)', 257),\n",
       " ('4', 256),\n",
       " ('3', 255)]"
      ]
     },
     "execution_count": 150,
     "metadata": {},
     "output_type": "execute_result"
    }
   ],
   "source": [
    "oov[:10]"
   ]
  },
  {
   "cell_type": "code",
   "execution_count": null,
   "metadata": {},
   "outputs": [],
   "source": []
  },
  {
   "cell_type": "code",
   "execution_count": 151,
   "metadata": {},
   "outputs": [
    {
     "data": {
      "text/plain": [
       "'fathers,mothers,brothers,sisters,babys fathers also uncle'"
      ]
     },
     "execution_count": 151,
     "metadata": {},
     "output_type": "execute_result"
    }
   ],
   "source": [
    "import re\n",
    "def ap(text):\n",
    "    text = text.group()\n",
    "    return text.replace(\"'\",\"\")\n",
    "re.sub(\"\\w+[']s\",ap,\"father's,mother's,brother's,sister's,baby's father's also uncle\")"
   ]
  },
  {
   "cell_type": "code",
   "execution_count": 152,
   "metadata": {},
   "outputs": [],
   "source": [
    "%run ../src/processing/regular_expressions.py"
   ]
  },
  {
   "cell_type": "code",
   "execution_count": 153,
   "metadata": {},
   "outputs": [],
   "source": [
    "train_copy['removed_contr'] = train_copy['removed_contr'].apply(lambda x: tweet_preprocessing(x))\n"
   ]
  },
  {
   "cell_type": "code",
   "execution_count": 154,
   "metadata": {},
   "outputs": [
    {
     "name": "stderr",
     "output_type": "stream",
     "text": [
      "\n",
      "  0%|          | 0/42364 [00:00<?, ?it/s]\u001b[A\n",
      "  6%|▌         | 2341/42364 [00:00<00:02, 19588.33it/s]\u001b[A\n",
      " 11%|█▏        | 4856/42364 [00:00<00:01, 20971.26it/s]\u001b[A\n",
      " 18%|█▊        | 7660/42364 [00:00<00:01, 22418.67it/s]\u001b[A\n",
      " 25%|██▍       | 10474/42364 [00:00<00:01, 23671.46it/s]\u001b[A\n",
      " 32%|███▏      | 13437/42364 [00:00<00:01, 25022.13it/s]\u001b[A\n",
      " 39%|███▊      | 16316/42364 [00:00<00:01, 25961.99it/s]\u001b[A\n",
      " 46%|████▌     | 19290/42364 [00:00<00:00, 26990.17it/s]\u001b[A\n",
      " 52%|█████▏    | 21873/42364 [00:00<00:00, 25852.88it/s]\u001b[A\n",
      " 58%|█████▊    | 24663/42364 [00:00<00:00, 26434.59it/s]\u001b[A\n",
      " 65%|██████▍   | 27410/42364 [00:01<00:00, 26561.41it/s]\u001b[A\n",
      " 71%|███████   | 30034/42364 [00:01<00:00, 25748.35it/s]\u001b[A\n",
      " 77%|███████▋  | 32592/42364 [00:01<00:00, 25001.02it/s]\u001b[A\n",
      " 83%|████████▎ | 35340/42364 [00:01<00:00, 25696.33it/s]\u001b[A\n",
      " 89%|████████▉ | 37910/42364 [00:01<00:00, 18780.34it/s]\u001b[A\n",
      "100%|██████████| 42364/42364 [00:01<00:00, 23854.73it/s]\u001b[A\n",
      "\n",
      "  0%|          | 0/69082 [00:00<?, ?it/s]\u001b[A\n",
      " 22%|██▏       | 15276/69082 [00:00<00:00, 152756.50it/s]\u001b[A\n",
      " 38%|███▊      | 26352/69082 [00:00<00:00, 136434.22it/s]\u001b[A\n",
      " 52%|█████▏    | 36126/69082 [00:00<00:00, 120146.47it/s]\u001b[A\n",
      " 69%|██████▉   | 47884/69082 [00:00<00:00, 117979.90it/s]\u001b[A\n",
      " 83%|████████▎ | 57667/69082 [00:00<00:00, 111113.14it/s]\u001b[A\n",
      "100%|██████████| 69082/69082 [00:00<00:00, 108139.94it/s]\u001b[A\n"
     ]
    },
    {
     "name": "stdout",
     "output_type": "stream",
     "text": [
      "Found embeddings for 39.13% of vocab\n",
      "Found embeddings for  87.52% of all text\n"
     ]
    }
   ],
   "source": [
    "vocab = build_vocab(list(train_copy['removed_contr'].apply(lambda x:x.split())))\n",
    "#vocab\n",
    "oov = check_coverage(vocab,glove_embed)"
   ]
  },
  {
   "cell_type": "code",
   "execution_count": 155,
   "metadata": {},
   "outputs": [],
   "source": [
    "%run ../src/processing/spellings.py"
   ]
  },
  {
   "cell_type": "code",
   "execution_count": 156,
   "metadata": {},
   "outputs": [],
   "source": [
    "train_copy['removed_contr'] = train_copy['removed_contr'].apply(lambda x: replace_elongated_text(x))\n"
   ]
  },
  {
   "cell_type": "code",
   "execution_count": 157,
   "metadata": {},
   "outputs": [
    {
     "name": "stderr",
     "output_type": "stream",
     "text": [
      "\n",
      "  0%|          | 0/42364 [00:00<?, ?it/s]\u001b[A\n",
      "  4%|▍         | 1722/42364 [00:00<00:02, 17219.89it/s]\u001b[A\n",
      "  8%|▊         | 3526/42364 [00:00<00:02, 17457.47it/s]\u001b[A\n",
      " 13%|█▎        | 5568/42364 [00:00<00:02, 17502.64it/s]\u001b[A\n",
      " 16%|█▌        | 6729/42364 [00:00<00:02, 14838.50it/s]\u001b[A\n",
      " 20%|█▉        | 8344/42364 [00:00<00:02, 15208.83it/s]\u001b[A\n",
      " 27%|██▋       | 11295/42364 [00:00<00:01, 17795.73it/s]\u001b[A\n",
      " 33%|███▎      | 14010/42364 [00:00<00:01, 19778.43it/s]\u001b[A\n",
      " 38%|███▊      | 16177/42364 [00:00<00:01, 20248.04it/s]\u001b[A\n",
      " 45%|████▍     | 18917/42364 [00:00<00:01, 21807.23it/s]\u001b[A\n",
      " 50%|████▉     | 21170/42364 [00:01<00:01, 20020.53it/s]\u001b[A\n",
      " 55%|█████▍    | 23251/42364 [00:01<00:00, 19651.47it/s]\u001b[A\n",
      " 60%|█████▉    | 25273/42364 [00:01<00:00, 19368.24it/s]\u001b[A\n",
      " 64%|██████▍   | 27251/42364 [00:01<00:00, 18483.40it/s]\u001b[A\n",
      " 71%|███████   | 30149/42364 [00:01<00:00, 20736.40it/s]\u001b[A\n",
      " 77%|███████▋  | 32419/42364 [00:01<00:00, 21203.23it/s]\u001b[A\n",
      " 82%|████████▏ | 34623/42364 [00:01<00:00, 19451.63it/s]\u001b[A\n",
      " 87%|████████▋ | 36655/42364 [00:01<00:00, 17477.66it/s]\u001b[A\n",
      " 91%|█████████ | 38502/42364 [00:02<00:00, 16503.13it/s]\u001b[A\n",
      "100%|██████████| 42364/42364 [00:02<00:00, 17626.58it/s]\u001b[A\n",
      "\n",
      "  0%|          | 0/67898 [00:00<?, ?it/s]\u001b[A\n",
      "  4%|▍         | 2923/67898 [00:00<00:02, 29229.68it/s]\u001b[A\n",
      " 21%|██        | 13952/67898 [00:00<00:01, 37497.19it/s]\u001b[A\n",
      " 33%|███▎      | 22150/67898 [00:00<00:01, 44787.78it/s]\u001b[A\n",
      " 45%|████▍     | 30530/67898 [00:00<00:00, 52058.29it/s]\u001b[A\n",
      " 58%|█████▊    | 39317/67898 [00:00<00:00, 59309.65it/s]\u001b[A\n",
      " 71%|███████   | 48199/67898 [00:00<00:00, 65875.26it/s]\u001b[A\n",
      " 84%|████████▍ | 56882/67898 [00:00<00:00, 60700.34it/s]\u001b[A\n",
      "100%|██████████| 67898/67898 [00:01<00:00, 66749.92it/s]\u001b[A\n"
     ]
    },
    {
     "name": "stdout",
     "output_type": "stream",
     "text": [
      "Found embeddings for 39.88% of vocab\n",
      "Found embeddings for  87.60% of all text\n"
     ]
    }
   ],
   "source": [
    "vocab = build_vocab(list(train_copy['removed_contr'].apply(lambda x:x.split())))\n",
    "#vocab\n",
    "oov = check_coverage(vocab,glove_embed)"
   ]
  },
  {
   "cell_type": "code",
   "execution_count": 158,
   "metadata": {},
   "outputs": [
    {
     "data": {
      "text/plain": [
       "[('“', 1224),\n",
       " ('..', 713),\n",
       " ('bihday', 584),\n",
       " ('bitch.', 420),\n",
       " ('😂😂', 374),\n",
       " ('!!', 364),\n",
       " ('😂', 223),\n",
       " ('bitch,', 199),\n",
       " ('…', 180),\n",
       " ('day!', 170)]"
      ]
     },
     "execution_count": 158,
     "metadata": {},
     "output_type": "execute_result"
    }
   ],
   "source": [
    "oov[:10]"
   ]
  },
  {
   "cell_type": "code",
   "execution_count": 186,
   "metadata": {},
   "outputs": [],
   "source": [
    "punct =  \"/-'?!.,#$%\\'()*+-/:;<=>@[\\\\]^_`{|}~\" + '\"\"“”’' + '∞θ÷α•à−β∅³π‘₹´°£€\\×™√²—–&'\n",
    "def unknown_punct(embed, punct):\n",
    "    unknown = ''\n",
    "    for p in punct:\n",
    "        if p not in embed:\n",
    "            unknown += p\n",
    "            unknown += ' '\n",
    "    return unknown\n",
    "\n"
   ]
  },
  {
   "cell_type": "code",
   "execution_count": 187,
   "metadata": {},
   "outputs": [
    {
     "data": {
      "text/plain": [
       "'“ ” ’ ∞ θ ÷ α • à − β ∅ ³ π ‘ ₹ ´ ° £ € × ™ √ ² — – '"
      ]
     },
     "execution_count": 187,
     "metadata": {},
     "output_type": "execute_result"
    }
   ],
   "source": [
    "unknown_punct(glove_embed,punct)\n",
    "#train_copy['removed_contr'] = train_copy['removed_contr'].apply(lambda x: unknown_punct(x,glove_embed))\n",
    "#\"rupees\" in glove_embed"
   ]
  },
  {
   "cell_type": "code",
   "execution_count": 200,
   "metadata": {},
   "outputs": [],
   "source": [
    "punct_mapping = {\"‘\": \"'\", \"₹\": \"e\", \"´\": \"'\", \"°\": \"\", \"€\": \"e\", \"™\": \"tm\", \"√\": \" sqrt \", \"×\": \"x\", \"²\": \"2\", \"—\": \"-\", \"–\": \"-\", \"’\": \"'\", \"_\": \"-\", \"`\": \"'\", '“': '\"', '”': '\"', '“': '\"', \"£\": \"e\", '∞': 'infinity', 'θ': 'theta', '÷': '/', 'α': 'alpha', '•': '.', 'à': 'a', '−': '-', 'β': 'beta', '∅': '', '³': '3', 'π': 'pi', }"
   ]
  },
  {
   "cell_type": "code",
   "execution_count": 206,
   "metadata": {},
   "outputs": [],
   "source": [
    "%run ../src/processing/special_char.py"
   ]
  },
  {
   "cell_type": "code",
   "execution_count": 207,
   "metadata": {},
   "outputs": [],
   "source": [
    "train_copy['removed_contr'] = train_copy['removed_contr'].apply(lambda x: clean_special_chars(x,punct,punct_mapping))\n"
   ]
  },
  {
   "cell_type": "code",
   "execution_count": 208,
   "metadata": {},
   "outputs": [
    {
     "name": "stderr",
     "output_type": "stream",
     "text": [
      "\n",
      "  0%|          | 0/42364 [00:00<?, ?it/s]\u001b[A\n",
      "  1%|          | 343/42364 [00:00<00:12, 3261.60it/s]\u001b[A\n",
      "  6%|▌         | 2493/42364 [00:00<00:09, 4374.94it/s]\u001b[A\n",
      " 12%|█▏        | 4892/42364 [00:00<00:06, 5796.82it/s]\u001b[A\n",
      " 18%|█▊        | 7488/42364 [00:00<00:04, 7549.98it/s]\u001b[A\n",
      " 23%|██▎       | 9789/42364 [00:00<00:03, 9317.58it/s]\u001b[A\n",
      " 27%|██▋       | 11542/42364 [00:00<00:02, 10525.67it/s]\u001b[A\n",
      " 32%|███▏      | 13548/42364 [00:00<00:02, 12243.26it/s]\u001b[A\n",
      " 38%|███▊      | 15945/42364 [00:00<00:01, 13954.05it/s]\u001b[A\n",
      " 42%|████▏     | 17805/42364 [00:00<00:01, 14379.41it/s]\u001b[A\n",
      " 46%|████▌     | 19571/42364 [00:01<00:01, 15156.18it/s]\u001b[A\n",
      " 51%|█████     | 21668/42364 [00:01<00:01, 16530.85it/s]\u001b[A\n",
      " 57%|█████▋    | 24005/42364 [00:01<00:01, 18121.59it/s]\u001b[A\n",
      " 62%|██████▏   | 26443/42364 [00:01<00:00, 19346.17it/s]\u001b[A\n",
      " 68%|██████▊   | 28833/42364 [00:01<00:00, 20505.80it/s]\u001b[A\n",
      " 73%|███████▎  | 31012/42364 [00:01<00:00, 20588.77it/s]\u001b[A\n",
      " 78%|███████▊  | 33225/42364 [00:01<00:00, 20821.99it/s]\u001b[A\n",
      " 84%|████████▍ | 35525/42364 [00:01<00:00, 21413.27it/s]\u001b[A\n",
      " 89%|████████▉ | 37715/42364 [00:01<00:00, 19041.49it/s]\u001b[A\n",
      " 94%|█████████▎| 39702/42364 [00:02<00:00, 15747.31it/s]\u001b[A\n",
      "100%|██████████| 42364/42364 [00:02<00:00, 18482.90it/s]\u001b[A\n",
      "\n",
      "  0%|          | 0/47456 [00:00<?, ?it/s]\u001b[A\n",
      " 21%|██        | 9984/47456 [00:00<00:00, 98893.67it/s]\u001b[A\n",
      " 46%|████▌     | 21912/47456 [00:00<00:00, 102729.69it/s]\u001b[A\n",
      " 68%|██████▊   | 32149/47456 [00:00<00:00, 101460.12it/s]\u001b[A\n",
      "100%|██████████| 47456/47456 [00:00<00:00, 100954.95it/s]\u001b[A\n"
     ]
    },
    {
     "name": "stdout",
     "output_type": "stream",
     "text": [
      "Found embeddings for 61.57% of vocab\n",
      "Found embeddings for  96.20% of all text\n"
     ]
    }
   ],
   "source": [
    "vocab = build_vocab(list(train_copy['removed_contr'].apply(lambda x:x.split())))\n",
    "#vocab\n",
    "oov = check_coverage(vocab,glove_embed)"
   ]
  },
  {
   "cell_type": "code",
   "execution_count": 204,
   "metadata": {},
   "outputs": [
    {
     "data": {
      "text/plain": [
       "[('...', 996),\n",
       " ('bihday', 636),\n",
       " ('😂😂', 446),\n",
       " ('😂', 270),\n",
       " ('â\\x9d¤ï¸\\x8f', 122),\n",
       " ('★', 121),\n",
       " ('ð\\x9f\\x98\\x8a', 116),\n",
       " ('ð\\x9f\\x98\\x8d', 103),\n",
       " ('😒', 81),\n",
       " ('ð\\x9f\\x98\\x82', 73),\n",
       " ('prayfororlando', 72),\n",
       " ('ð\\x9f\\x98\\x94', 70),\n",
       " ('ð\\x9f\\x98\\x81', 65),\n",
       " ('allahsoil', 63),\n",
       " ('ð\\x9f\\x98¢', 61),\n",
       " ('ð\\x9f\\x98', 59),\n",
       " ('💯', 57),\n",
       " ('ð\\x9f\\x92\\x95', 55),\n",
       " ('erience', 55),\n",
       " ('ð\\x9f\\x98\\x98', 55),\n",
       " ('staing', 54),\n",
       " ('ð\\x9f\\x98\\x80', 53),\n",
       " ('😭😭', 52),\n",
       " ('ð\\x9f\\x98\\x84', 51),\n",
       " ('impoant', 49),\n",
       " ('httâ\\x80¦', 49),\n",
       " ('ð\\x9f\\x98\\x83', 47),\n",
       " ('orlandoshooting', 45),\n",
       " ('brexit', 45),\n",
       " ('staed', 44),\n",
       " ('ð\\x9f\\x98\\x8e', 44),\n",
       " ('htâ\\x80¦', 42),\n",
       " ('loveâ\\x80¦', 42),\n",
       " ('inshot', 39),\n",
       " ('😂😭', 39),\n",
       " ('spos', 38),\n",
       " ('😩', 38),\n",
       " ('hâ\\x80¦', 37),\n",
       " ('💁', 36),\n",
       " ('😴', 36),\n",
       " ('ð\\x9f\\x98\\xad', 36),\n",
       " ('â', 35),\n",
       " ('ripchristina', 34),\n",
       " ('😭', 34),\n",
       " ('â\\x98\\x80ï¸\\x8f', 34),\n",
       " ('heabroken', 34),\n",
       " ('😏', 34),\n",
       " ('😎', 33),\n",
       " ('ð\\x9f\\x92\\x9c', 33),\n",
       " ('altwaystoheal', 30),\n",
       " ('ð\\x9f\\x92\\x94', 30),\n",
       " ('udtapunjab', 30),\n",
       " ('👌', 29),\n",
       " ('âe', 29),\n",
       " ('😳', 29),\n",
       " ('ð\\x9f\\x92\\x99', 27),\n",
       " ('ð\\x9f\\x8c', 26),\n",
       " ('melancholymusic', 25),\n",
       " ('«', 25),\n",
       " ('aâ\\x80¦', 25),\n",
       " ('😌', 25),\n",
       " ('ripchristinagrimmie', 24),\n",
       " ('ð\\x9f\\x98\\x89', 24),\n",
       " ('ð\\x9f\\x92\\x96', 24),\n",
       " ('theâ\\x80¦', 24),\n",
       " ('😕', 23),\n",
       " ('ð\\x9f\\x98\\x82ð\\x9f\\x98\\x82', 23),\n",
       " ('summeime', 23),\n",
       " ('ected', 23),\n",
       " ('neverump', 22),\n",
       " ('bouncingbaby', 22),\n",
       " ('ð\\x9f\\x94\\x9d', 22),\n",
       " ('ð\\x9f\\x98¡', 22),\n",
       " ('✋', 22),\n",
       " ('ð\\x9f\\x99\\x8c', 21),\n",
       " ('â\\x98ºï¸\\x8f', 21),\n",
       " ('ð\\x9f\\x98\\x86', 21),\n",
       " ('ð\\x9f\\x92\\x8b', 21),\n",
       " ('ð\\x9f\\x98\\x9c', 21),\n",
       " ('👀', 21),\n",
       " ('😑', 20),\n",
       " ('coolâ\\x80¦', 20),\n",
       " ('suppoing', 20),\n",
       " ('😈', 20),\n",
       " ('unfounately', 20),\n",
       " ('funâ\\x80¦', 20),\n",
       " ('😍😍', 19),\n",
       " ('suppoers', 19),\n",
       " ('ð\\x9f\\x92\\x9a', 19),\n",
       " ('ukhx', 19),\n",
       " ('staup', 19),\n",
       " ('lifeâ\\x80¦', 19),\n",
       " ('ð\\x9f\\x8e\\x89', 18),\n",
       " ('christinagrimmie', 18),\n",
       " ('heabreaking', 18),\n",
       " ('ð\\x9f\\x99\\x8f', 18),\n",
       " ('ectations', 18),\n",
       " ('💀', 18),\n",
       " ('ð\\x9f\\x98\\x82ð\\x9f\\x98\\x82ð\\x9f\\x98\\x82', 18),\n",
       " ('ð\\x9f\\x92\\x9e', 18)]"
      ]
     },
     "execution_count": 204,
     "metadata": {},
     "output_type": "execute_result"
    }
   ],
   "source": [
    "oov[:100]"
   ]
  },
  {
   "cell_type": "code",
   "execution_count": null,
   "metadata": {},
   "outputs": [],
   "source": []
  }
 ],
 "metadata": {
  "kernelspec": {
   "display_name": "Python 3",
   "language": "python",
   "name": "python3"
  },
  "language_info": {
   "codemirror_mode": {
    "name": "ipython",
    "version": 3
   },
   "file_extension": ".py",
   "mimetype": "text/x-python",
   "name": "python",
   "nbconvert_exporter": "python",
   "pygments_lexer": "ipython3",
   "version": "3.7.4"
  }
 },
 "nbformat": 4,
 "nbformat_minor": 2
}
