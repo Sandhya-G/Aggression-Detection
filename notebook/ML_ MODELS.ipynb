{
 "cells": [
  {
   "cell_type": "code",
   "execution_count": 6,
   "metadata": {},
   "outputs": [],
   "source": [
    "%run ../paths.py\n",
    "CONST = CONST()"
   ]
  },
  {
   "cell_type": "code",
   "execution_count": 7,
   "metadata": {},
   "outputs": [],
   "source": [
    "import pandas as pd\n",
    "import numpy as np\n",
    "from tqdm.auto import tqdm\n",
    "tqdm.pandas()\n",
    "import ipywidgets\n",
    "import warnings\n",
    "warnings.filterwarnings('ignore')\n",
    "from sklearn.feature_extraction.text import CountVectorizer, TfidfVectorizer\n",
    "from sklearn import metrics\n",
    "\n",
    "\n",
    "from sklearn.model_selection import StratifiedKFold, GridSearchCV\n",
    "from sklearn.pipeline import Pipeline\n",
    "from sklearn.linear_model import LogisticRegression\n",
    "from sklearn.feature_selection import SelectFromModel\n",
    "from sklearn.svm import SVC\n",
    "from sklearn.ensemble import RandomForestClassifier\n",
    "from scipy.sparse import csr_matrix, hstack\n"
   ]
  },
  {
   "cell_type": "code",
   "execution_count": 8,
   "metadata": {},
   "outputs": [],
   "source": [
    "train = pd.read_csv(CONST.CLEANED_TRAIN)"
   ]
  },
  {
   "cell_type": "code",
   "execution_count": 9,
   "metadata": {},
   "outputs": [
    {
     "data": {
      "text/html": [
       "<div>\n",
       "<style scoped>\n",
       "    .dataframe tbody tr th:only-of-type {\n",
       "        vertical-align: middle;\n",
       "    }\n",
       "\n",
       "    .dataframe tbody tr th {\n",
       "        vertical-align: top;\n",
       "    }\n",
       "\n",
       "    .dataframe thead th {\n",
       "        text-align: right;\n",
       "    }\n",
       "</style>\n",
       "<table border=\"1\" class=\"dataframe\">\n",
       "  <thead>\n",
       "    <tr style=\"text-align: right;\">\n",
       "      <th></th>\n",
       "      <th>tweet</th>\n",
       "      <th>class</th>\n",
       "      <th>neg</th>\n",
       "      <th>pos</th>\n",
       "      <th>neu</th>\n",
       "      <th>compound</th>\n",
       "      <th>num_exclamation_marks</th>\n",
       "      <th>num_question_marks</th>\n",
       "      <th>num_symbols</th>\n",
       "      <th>stopword_count</th>\n",
       "      <th>...</th>\n",
       "      <th>num_unique_words</th>\n",
       "      <th>words_vs_unique</th>\n",
       "      <th>noun</th>\n",
       "      <th>pron</th>\n",
       "      <th>verb</th>\n",
       "      <th>adj</th>\n",
       "      <th>adv</th>\n",
       "      <th>allcaps</th>\n",
       "      <th>hashtag</th>\n",
       "      <th>user</th>\n",
       "    </tr>\n",
       "  </thead>\n",
       "  <tbody>\n",
       "    <tr>\n",
       "      <th>0</th>\n",
       "      <td>thats yo bitch she my bitch too</td>\n",
       "      <td>1</td>\n",
       "      <td>0.521</td>\n",
       "      <td>0.000</td>\n",
       "      <td>0.479</td>\n",
       "      <td>-0.8225</td>\n",
       "      <td>0</td>\n",
       "      <td>0</td>\n",
       "      <td>0</td>\n",
       "      <td>3</td>\n",
       "      <td>...</td>\n",
       "      <td>7</td>\n",
       "      <td>0.875000</td>\n",
       "      <td>5</td>\n",
       "      <td>2</td>\n",
       "      <td>1</td>\n",
       "      <td>0</td>\n",
       "      <td>1</td>\n",
       "      <td>1</td>\n",
       "      <td>0</td>\n",
       "      <td>1</td>\n",
       "    </tr>\n",
       "    <tr>\n",
       "      <th>1</th>\n",
       "      <td>as always eli has the stupid hick hayseed look...</td>\n",
       "      <td>1</td>\n",
       "      <td>0.299</td>\n",
       "      <td>0.000</td>\n",
       "      <td>0.701</td>\n",
       "      <td>-0.8442</td>\n",
       "      <td>0</td>\n",
       "      <td>0</td>\n",
       "      <td>1</td>\n",
       "      <td>5</td>\n",
       "      <td>...</td>\n",
       "      <td>21</td>\n",
       "      <td>1.000000</td>\n",
       "      <td>8</td>\n",
       "      <td>2</td>\n",
       "      <td>5</td>\n",
       "      <td>1</td>\n",
       "      <td>1</td>\n",
       "      <td>0</td>\n",
       "      <td>0</td>\n",
       "      <td>0</td>\n",
       "    </tr>\n",
       "    <tr>\n",
       "      <th>2</th>\n",
       "      <td>protestors rally to support teen facing life s...</td>\n",
       "      <td>1</td>\n",
       "      <td>0.099</td>\n",
       "      <td>0.172</td>\n",
       "      <td>0.730</td>\n",
       "      <td>0.1779</td>\n",
       "      <td>0</td>\n",
       "      <td>0</td>\n",
       "      <td>1</td>\n",
       "      <td>5</td>\n",
       "      <td>...</td>\n",
       "      <td>18</td>\n",
       "      <td>0.947368</td>\n",
       "      <td>12</td>\n",
       "      <td>0</td>\n",
       "      <td>2</td>\n",
       "      <td>1</td>\n",
       "      <td>1</td>\n",
       "      <td>1</td>\n",
       "      <td>0</td>\n",
       "      <td>1</td>\n",
       "    </tr>\n",
       "    <tr>\n",
       "      <th>3</th>\n",
       "      <td>hoes need to stay in hoes place for real</td>\n",
       "      <td>1</td>\n",
       "      <td>0.000</td>\n",
       "      <td>0.000</td>\n",
       "      <td>1.000</td>\n",
       "      <td>0.0000</td>\n",
       "      <td>0</td>\n",
       "      <td>0</td>\n",
       "      <td>0</td>\n",
       "      <td>2</td>\n",
       "      <td>...</td>\n",
       "      <td>8</td>\n",
       "      <td>0.888889</td>\n",
       "      <td>3</td>\n",
       "      <td>0</td>\n",
       "      <td>2</td>\n",
       "      <td>1</td>\n",
       "      <td>0</td>\n",
       "      <td>0</td>\n",
       "      <td>0</td>\n",
       "      <td>0</td>\n",
       "    </tr>\n",
       "    <tr>\n",
       "      <th>4</th>\n",
       "      <td>i almost ran this fine red bitch over</td>\n",
       "      <td>1</td>\n",
       "      <td>0.331</td>\n",
       "      <td>0.146</td>\n",
       "      <td>0.523</td>\n",
       "      <td>-0.4818</td>\n",
       "      <td>0</td>\n",
       "      <td>0</td>\n",
       "      <td>0</td>\n",
       "      <td>2</td>\n",
       "      <td>...</td>\n",
       "      <td>8</td>\n",
       "      <td>1.000000</td>\n",
       "      <td>1</td>\n",
       "      <td>1</td>\n",
       "      <td>1</td>\n",
       "      <td>2</td>\n",
       "      <td>1</td>\n",
       "      <td>0</td>\n",
       "      <td>0</td>\n",
       "      <td>0</td>\n",
       "    </tr>\n",
       "  </tbody>\n",
       "</table>\n",
       "<p>5 rows × 23 columns</p>\n",
       "</div>"
      ],
      "text/plain": [
       "                                               tweet  class    neg    pos  \\\n",
       "0                    thats yo bitch she my bitch too      1  0.521  0.000   \n",
       "1  as always eli has the stupid hick hayseed look...      1  0.299  0.000   \n",
       "2  protestors rally to support teen facing life s...      1  0.099  0.172   \n",
       "3           hoes need to stay in hoes place for real      1  0.000  0.000   \n",
       "4              i almost ran this fine red bitch over      1  0.331  0.146   \n",
       "\n",
       "     neu  compound  num_exclamation_marks  num_question_marks  num_symbols  \\\n",
       "0  0.479   -0.8225                      0                   0            0   \n",
       "1  0.701   -0.8442                      0                   0            1   \n",
       "2  0.730    0.1779                      0                   0            1   \n",
       "3  1.000    0.0000                      0                   0            0   \n",
       "4  0.523   -0.4818                      0                   0            0   \n",
       "\n",
       "   stopword_count  ...  num_unique_words  words_vs_unique  noun  pron  verb  \\\n",
       "0               3  ...                 7         0.875000     5     2     1   \n",
       "1               5  ...                21         1.000000     8     2     5   \n",
       "2               5  ...                18         0.947368    12     0     2   \n",
       "3               2  ...                 8         0.888889     3     0     2   \n",
       "4               2  ...                 8         1.000000     1     1     1   \n",
       "\n",
       "   adj  adv  allcaps  hashtag  user  \n",
       "0    0    1        1        0     1  \n",
       "1    1    1        0        0     0  \n",
       "2    1    1        1        0     1  \n",
       "3    1    0        0        0     0  \n",
       "4    2    1        0        0     0  \n",
       "\n",
       "[5 rows x 23 columns]"
      ]
     },
     "execution_count": 9,
     "metadata": {},
     "output_type": "execute_result"
    }
   ],
   "source": [
    "train[train.columns[2:]].head()"
   ]
  },
  {
   "cell_type": "code",
   "execution_count": 10,
   "metadata": {},
   "outputs": [],
   "source": [
    "test = pd.read_csv(CONST.CLEANED_TEST)"
   ]
  },
  {
   "cell_type": "code",
   "execution_count": 6,
   "metadata": {},
   "outputs": [
    {
     "data": {
      "text/html": [
       "<div>\n",
       "<style scoped>\n",
       "    .dataframe tbody tr th:only-of-type {\n",
       "        vertical-align: middle;\n",
       "    }\n",
       "\n",
       "    .dataframe tbody tr th {\n",
       "        vertical-align: top;\n",
       "    }\n",
       "\n",
       "    .dataframe thead th {\n",
       "        text-align: right;\n",
       "    }\n",
       "</style>\n",
       "<table border=\"1\" class=\"dataframe\">\n",
       "  <thead>\n",
       "    <tr style=\"text-align: right;\">\n",
       "      <th></th>\n",
       "      <th>tweet</th>\n",
       "      <th>class</th>\n",
       "      <th>neg</th>\n",
       "      <th>pos</th>\n",
       "      <th>neu</th>\n",
       "      <th>compound</th>\n",
       "      <th>num_exclamation_marks</th>\n",
       "      <th>num_question_marks</th>\n",
       "      <th>num_symbols</th>\n",
       "      <th>stopword_count</th>\n",
       "      <th>...</th>\n",
       "      <th>num_unique_words</th>\n",
       "      <th>words_vs_unique</th>\n",
       "      <th>noun</th>\n",
       "      <th>pron</th>\n",
       "      <th>verb</th>\n",
       "      <th>adj</th>\n",
       "      <th>adv</th>\n",
       "      <th>allcaps</th>\n",
       "      <th>hashtag</th>\n",
       "      <th>user</th>\n",
       "    </tr>\n",
       "  </thead>\n",
       "  <tbody>\n",
       "    <tr>\n",
       "      <th>0</th>\n",
       "      <td>what i look like ho i look like yes and you lo...</td>\n",
       "      <td>1.0</td>\n",
       "      <td>0.000</td>\n",
       "      <td>0.505</td>\n",
       "      <td>0.495</td>\n",
       "      <td>0.8814</td>\n",
       "      <td>1.0</td>\n",
       "      <td>1.0</td>\n",
       "      <td>0.0</td>\n",
       "      <td>8.0</td>\n",
       "      <td>...</td>\n",
       "      <td>10.0</td>\n",
       "      <td>0.666667</td>\n",
       "      <td>3</td>\n",
       "      <td>4</td>\n",
       "      <td>3</td>\n",
       "      <td>0</td>\n",
       "      <td>0</td>\n",
       "      <td>1</td>\n",
       "      <td>0</td>\n",
       "      <td>1</td>\n",
       "    </tr>\n",
       "    <tr>\n",
       "      <th>1</th>\n",
       "      <td>user lots of and from some of my favorite it i...</td>\n",
       "      <td>0.0</td>\n",
       "      <td>0.000</td>\n",
       "      <td>0.223</td>\n",
       "      <td>0.777</td>\n",
       "      <td>0.5106</td>\n",
       "      <td>0.0</td>\n",
       "      <td>0.0</td>\n",
       "      <td>0.0</td>\n",
       "      <td>7.0</td>\n",
       "      <td>...</td>\n",
       "      <td>13.0</td>\n",
       "      <td>0.928571</td>\n",
       "      <td>5</td>\n",
       "      <td>3</td>\n",
       "      <td>0</td>\n",
       "      <td>2</td>\n",
       "      <td>2</td>\n",
       "      <td>0</td>\n",
       "      <td>0</td>\n",
       "      <td>1</td>\n",
       "    </tr>\n",
       "    <tr>\n",
       "      <th>2</th>\n",
       "      <td>what is wrong with ppl nowadays i was conducti...</td>\n",
       "      <td>0.0</td>\n",
       "      <td>0.119</td>\n",
       "      <td>0.000</td>\n",
       "      <td>0.881</td>\n",
       "      <td>-0.4767</td>\n",
       "      <td>0.0</td>\n",
       "      <td>1.0</td>\n",
       "      <td>1.0</td>\n",
       "      <td>8.0</td>\n",
       "      <td>...</td>\n",
       "      <td>24.0</td>\n",
       "      <td>0.960000</td>\n",
       "      <td>8</td>\n",
       "      <td>0</td>\n",
       "      <td>6</td>\n",
       "      <td>4</td>\n",
       "      <td>0</td>\n",
       "      <td>0</td>\n",
       "      <td>0</td>\n",
       "      <td>0</td>\n",
       "    </tr>\n",
       "    <tr>\n",
       "      <th>3</th>\n",
       "      <td>user lakers are trash</td>\n",
       "      <td>1.0</td>\n",
       "      <td>0.000</td>\n",
       "      <td>0.000</td>\n",
       "      <td>1.000</td>\n",
       "      <td>0.0000</td>\n",
       "      <td>0.0</td>\n",
       "      <td>0.0</td>\n",
       "      <td>0.0</td>\n",
       "      <td>1.0</td>\n",
       "      <td>...</td>\n",
       "      <td>4.0</td>\n",
       "      <td>1.000000</td>\n",
       "      <td>2</td>\n",
       "      <td>0</td>\n",
       "      <td>1</td>\n",
       "      <td>1</td>\n",
       "      <td>0</td>\n",
       "      <td>0</td>\n",
       "      <td>0</td>\n",
       "      <td>1</td>\n",
       "    </tr>\n",
       "    <tr>\n",
       "      <th>4</th>\n",
       "      <td>will be playing rf simpson in at user in nov</td>\n",
       "      <td>0.0</td>\n",
       "      <td>0.000</td>\n",
       "      <td>0.160</td>\n",
       "      <td>0.840</td>\n",
       "      <td>0.2714</td>\n",
       "      <td>1.0</td>\n",
       "      <td>0.0</td>\n",
       "      <td>0.0</td>\n",
       "      <td>4.0</td>\n",
       "      <td>...</td>\n",
       "      <td>9.0</td>\n",
       "      <td>0.900000</td>\n",
       "      <td>5</td>\n",
       "      <td>0</td>\n",
       "      <td>2</td>\n",
       "      <td>1</td>\n",
       "      <td>0</td>\n",
       "      <td>0</td>\n",
       "      <td>0</td>\n",
       "      <td>1</td>\n",
       "    </tr>\n",
       "  </tbody>\n",
       "</table>\n",
       "<p>5 rows × 23 columns</p>\n",
       "</div>"
      ],
      "text/plain": [
       "                                               tweet  class    neg    pos  \\\n",
       "0  what i look like ho i look like yes and you lo...    1.0  0.000  0.505   \n",
       "1  user lots of and from some of my favorite it i...    0.0  0.000  0.223   \n",
       "2  what is wrong with ppl nowadays i was conducti...    0.0  0.119  0.000   \n",
       "3                              user lakers are trash    1.0  0.000  0.000   \n",
       "4       will be playing rf simpson in at user in nov    0.0  0.000  0.160   \n",
       "\n",
       "     neu  compound  num_exclamation_marks  num_question_marks  num_symbols  \\\n",
       "0  0.495    0.8814                    1.0                 1.0          0.0   \n",
       "1  0.777    0.5106                    0.0                 0.0          0.0   \n",
       "2  0.881   -0.4767                    0.0                 1.0          1.0   \n",
       "3  1.000    0.0000                    0.0                 0.0          0.0   \n",
       "4  0.840    0.2714                    1.0                 0.0          0.0   \n",
       "\n",
       "   stopword_count  ...  num_unique_words  words_vs_unique  noun  pron  verb  \\\n",
       "0             8.0  ...              10.0         0.666667     3     4     3   \n",
       "1             7.0  ...              13.0         0.928571     5     3     0   \n",
       "2             8.0  ...              24.0         0.960000     8     0     6   \n",
       "3             1.0  ...               4.0         1.000000     2     0     1   \n",
       "4             4.0  ...               9.0         0.900000     5     0     2   \n",
       "\n",
       "   adj  adv  allcaps  hashtag  user  \n",
       "0    0    0        1        0     1  \n",
       "1    2    2        0        0     1  \n",
       "2    4    0        0        0     0  \n",
       "3    1    0        0        0     1  \n",
       "4    1    0        0        0     1  \n",
       "\n",
       "[5 rows x 23 columns]"
      ]
     },
     "execution_count": 6,
     "metadata": {},
     "output_type": "execute_result"
    }
   ],
   "source": [
    "test[test.columns[1:]].head()"
   ]
  },
  {
   "cell_type": "code",
   "execution_count": 7,
   "metadata": {},
   "outputs": [],
   "source": [
    "#df.dropna(inplace=True)"
   ]
  },
  {
   "cell_type": "code",
   "execution_count": 11,
   "metadata": {},
   "outputs": [],
   "source": [
    "\n",
    "drop_rows = train[train['total_length']<3]\n",
    "train.drop(drop_rows.index, axis=0,inplace=True)\n"
   ]
  },
  {
   "cell_type": "code",
   "execution_count": 9,
   "metadata": {},
   "outputs": [
    {
     "name": "stdout",
     "output_type": "stream",
     "text": [
      "<class 'pandas.core.frame.DataFrame'>\n",
      "Int64Index: 42476 entries, 0 to 42477\n",
      "Data columns (total 25 columns):\n",
      " #   Column                 Non-Null Count  Dtype  \n",
      "---  ------                 --------------  -----  \n",
      " 0   Unnamed: 0             42476 non-null  int64  \n",
      " 1   Unnamed: 0.1           42476 non-null  int64  \n",
      " 2   tweet                  42476 non-null  object \n",
      " 3   class                  42476 non-null  int64  \n",
      " 4   neg                    42476 non-null  float64\n",
      " 5   pos                    42476 non-null  float64\n",
      " 6   neu                    42476 non-null  float64\n",
      " 7   compound               42476 non-null  float64\n",
      " 8   num_exclamation_marks  42476 non-null  int64  \n",
      " 9   num_question_marks     42476 non-null  int64  \n",
      " 10  num_symbols            42476 non-null  int64  \n",
      " 11  stopword_count         42476 non-null  int64  \n",
      " 12  emoji_count            42476 non-null  int64  \n",
      " 13  total_length           42476 non-null  int64  \n",
      " 14  num_words              42476 non-null  int64  \n",
      " 15  num_unique_words       42476 non-null  int64  \n",
      " 16  words_vs_unique        42476 non-null  float64\n",
      " 17  noun                   42476 non-null  int64  \n",
      " 18  pron                   42476 non-null  int64  \n",
      " 19  verb                   42476 non-null  int64  \n",
      " 20  adj                    42476 non-null  int64  \n",
      " 21  adv                    42476 non-null  int64  \n",
      " 22  allcaps                42476 non-null  int64  \n",
      " 23  hashtag                42476 non-null  int64  \n",
      " 24  user                   42476 non-null  int64  \n",
      "dtypes: float64(5), int64(19), object(1)\n",
      "memory usage: 8.4+ MB\n"
     ]
    }
   ],
   "source": [
    "train.info()"
   ]
  },
  {
   "cell_type": "markdown",
   "metadata": {},
   "source": [
    "# tweets as features and only wordvectorizer"
   ]
  },
  {
   "cell_type": "code",
   "execution_count": 12,
   "metadata": {},
   "outputs": [],
   "source": [
    "%run ../src/features/vectorization\n"
   ]
  },
  {
   "cell_type": "code",
   "execution_count": 13,
   "metadata": {},
   "outputs": [],
   "source": [
    "word_vectorizer,word_selector,train_word_vec,test_word_vec = ngram_vectorize(TfidfVectorizer,train[\"tweet\"],train[\"class\"],test[\"tweet\"],top_k=25000,NGRAM_RANGE=(1,2))"
   ]
  },
  {
   "cell_type": "code",
   "execution_count": 14,
   "metadata": {},
   "outputs": [],
   "source": [
    "char_vectorizer,char_selector,train_char_vec,test_char_vec = ngram_vectorize(TfidfVectorizer,train[\"tweet\"],train[\"class\"],test[\"tweet\"],top_k=30000,TOKEN_MODE='char',NGRAM_RANGE=(2,6))"
   ]
  },
  {
   "cell_type": "code",
   "execution_count": 15,
   "metadata": {},
   "outputs": [],
   "source": [
    "train_vec_combined = hstack((train_word_vec,train_char_vec)).tocsr()"
   ]
  },
  {
   "cell_type": "code",
   "execution_count": 16,
   "metadata": {},
   "outputs": [],
   "source": [
    "test_vec_combined = hstack((test_word_vec,test_char_vec)).tocsr()"
   ]
  },
  {
   "cell_type": "code",
   "execution_count": 17,
   "metadata": {},
   "outputs": [],
   "source": [
    "train_ft = train[['neg','compound','allcaps','total_length','num_unique_words','adj']]\n",
    "test_ft = test[['neg','compound','allcaps','total_length','num_unique_words','adj']]"
   ]
  },
  {
   "cell_type": "code",
   "execution_count": 18,
   "metadata": {},
   "outputs": [],
   "source": [
    "train_ft_vec = hstack((train_vec_combined,train_ft)).tocsr()\n",
    "test_ft_vec = hstack((test_vec_combined,test_ft)).tocsr()"
   ]
  },
  {
   "cell_type": "code",
   "execution_count": 27,
   "metadata": {},
   "outputs": [
    {
     "data": {
      "text/plain": [
       "<42476x55006 sparse matrix of type '<class 'numpy.float64'>'\n",
       "\twith 6926916 stored elements in Compressed Sparse Row format>"
      ]
     },
     "execution_count": 27,
     "metadata": {},
     "output_type": "execute_result"
    }
   ],
   "source": []
  },
  {
   "cell_type": "code",
   "execution_count": 17,
   "metadata": {},
   "outputs": [
    {
     "name": "stdout",
     "output_type": "stream",
     "text": [
      "Fitting 5 folds for each of 60 candidates, totalling 300 fits\n",
      "[CV] C=0.01, class_weight={1: 0.5, 0: 0.5}, penalty=l1, solver=liblinear \n"
     ]
    },
    {
     "name": "stderr",
     "output_type": "stream",
     "text": [
      "[Parallel(n_jobs=-1)]: Using backend SequentialBackend with 1 concurrent workers.\n"
     ]
    },
    {
     "name": "stdout",
     "output_type": "stream",
     "text": [
      "[CV]  C=0.01, class_weight={1: 0.5, 0: 0.5}, penalty=l1, solver=liblinear, total=   0.2s\n",
      "[CV] C=0.01, class_weight={1: 0.5, 0: 0.5}, penalty=l1, solver=liblinear \n"
     ]
    },
    {
     "name": "stderr",
     "output_type": "stream",
     "text": [
      "[Parallel(n_jobs=-1)]: Done   1 out of   1 | elapsed:    0.2s remaining:    0.0s\n"
     ]
    },
    {
     "name": "stdout",
     "output_type": "stream",
     "text": [
      "[CV]  C=0.01, class_weight={1: 0.5, 0: 0.5}, penalty=l1, solver=liblinear, total=   0.2s\n",
      "[CV] C=0.01, class_weight={1: 0.5, 0: 0.5}, penalty=l1, solver=liblinear \n",
      "[CV]  C=0.01, class_weight={1: 0.5, 0: 0.5}, penalty=l1, solver=liblinear, total=   0.2s\n",
      "[CV] C=0.01, class_weight={1: 0.5, 0: 0.5}, penalty=l1, solver=liblinear \n",
      "[CV]  C=0.01, class_weight={1: 0.5, 0: 0.5}, penalty=l1, solver=liblinear, total=   0.2s\n",
      "[CV] C=0.01, class_weight={1: 0.5, 0: 0.5}, penalty=l1, solver=liblinear \n",
      "[CV]  C=0.01, class_weight={1: 0.5, 0: 0.5}, penalty=l1, solver=liblinear, total=   0.1s\n",
      "[CV] C=0.01, class_weight={1: 0.5, 0: 0.5}, penalty=l1, solver=saga ..\n",
      "[CV]  C=0.01, class_weight={1: 0.5, 0: 0.5}, penalty=l1, solver=saga, total=   0.6s\n",
      "[CV] C=0.01, class_weight={1: 0.5, 0: 0.5}, penalty=l1, solver=saga ..\n",
      "[CV]  C=0.01, class_weight={1: 0.5, 0: 0.5}, penalty=l1, solver=saga, total=   0.3s\n",
      "[CV] C=0.01, class_weight={1: 0.5, 0: 0.5}, penalty=l1, solver=saga ..\n",
      "[CV]  C=0.01, class_weight={1: 0.5, 0: 0.5}, penalty=l1, solver=saga, total=   0.4s\n",
      "[CV] C=0.01, class_weight={1: 0.5, 0: 0.5}, penalty=l1, solver=saga ..\n",
      "[CV]  C=0.01, class_weight={1: 0.5, 0: 0.5}, penalty=l1, solver=saga, total=   0.4s\n",
      "[CV] C=0.01, class_weight={1: 0.5, 0: 0.5}, penalty=l1, solver=saga ..\n",
      "[CV]  C=0.01, class_weight={1: 0.5, 0: 0.5}, penalty=l1, solver=saga, total=   0.4s\n",
      "[CV] C=0.01, class_weight={1: 0.5, 0: 0.5}, penalty=l2, solver=liblinear \n",
      "[CV]  C=0.01, class_weight={1: 0.5, 0: 0.5}, penalty=l2, solver=liblinear, total=   0.1s\n",
      "[CV] C=0.01, class_weight={1: 0.5, 0: 0.5}, penalty=l2, solver=liblinear \n",
      "[CV]  C=0.01, class_weight={1: 0.5, 0: 0.5}, penalty=l2, solver=liblinear, total=   0.1s\n",
      "[CV] C=0.01, class_weight={1: 0.5, 0: 0.5}, penalty=l2, solver=liblinear \n",
      "[CV]  C=0.01, class_weight={1: 0.5, 0: 0.5}, penalty=l2, solver=liblinear, total=   0.1s\n",
      "[CV] C=0.01, class_weight={1: 0.5, 0: 0.5}, penalty=l2, solver=liblinear \n",
      "[CV]  C=0.01, class_weight={1: 0.5, 0: 0.5}, penalty=l2, solver=liblinear, total=   0.1s\n",
      "[CV] C=0.01, class_weight={1: 0.5, 0: 0.5}, penalty=l2, solver=liblinear \n",
      "[CV]  C=0.01, class_weight={1: 0.5, 0: 0.5}, penalty=l2, solver=liblinear, total=   0.1s\n",
      "[CV] C=0.01, class_weight={1: 0.5, 0: 0.5}, penalty=l2, solver=saga ..\n",
      "[CV]  C=0.01, class_weight={1: 0.5, 0: 0.5}, penalty=l2, solver=saga, total=   0.5s\n",
      "[CV] C=0.01, class_weight={1: 0.5, 0: 0.5}, penalty=l2, solver=saga ..\n",
      "[CV]  C=0.01, class_weight={1: 0.5, 0: 0.5}, penalty=l2, solver=saga, total=   0.5s\n",
      "[CV] C=0.01, class_weight={1: 0.5, 0: 0.5}, penalty=l2, solver=saga ..\n",
      "[CV]  C=0.01, class_weight={1: 0.5, 0: 0.5}, penalty=l2, solver=saga, total=   0.5s\n",
      "[CV] C=0.01, class_weight={1: 0.5, 0: 0.5}, penalty=l2, solver=saga ..\n",
      "[CV]  C=0.01, class_weight={1: 0.5, 0: 0.5}, penalty=l2, solver=saga, total=   0.5s\n",
      "[CV] C=0.01, class_weight={1: 0.5, 0: 0.5}, penalty=l2, solver=saga ..\n",
      "[CV]  C=0.01, class_weight={1: 0.5, 0: 0.5}, penalty=l2, solver=saga, total=   0.5s\n",
      "[CV] C=0.01, class_weight={1: 0.6, 0: 0.4}, penalty=l1, solver=liblinear \n",
      "[CV]  C=0.01, class_weight={1: 0.6, 0: 0.4}, penalty=l1, solver=liblinear, total=   0.1s\n",
      "[CV] C=0.01, class_weight={1: 0.6, 0: 0.4}, penalty=l1, solver=liblinear \n",
      "[CV]  C=0.01, class_weight={1: 0.6, 0: 0.4}, penalty=l1, solver=liblinear, total=   0.1s\n",
      "[CV] C=0.01, class_weight={1: 0.6, 0: 0.4}, penalty=l1, solver=liblinear \n",
      "[CV]  C=0.01, class_weight={1: 0.6, 0: 0.4}, penalty=l1, solver=liblinear, total=   0.1s\n",
      "[CV] C=0.01, class_weight={1: 0.6, 0: 0.4}, penalty=l1, solver=liblinear \n",
      "[CV]  C=0.01, class_weight={1: 0.6, 0: 0.4}, penalty=l1, solver=liblinear, total=   0.2s\n",
      "[CV] C=0.01, class_weight={1: 0.6, 0: 0.4}, penalty=l1, solver=liblinear \n",
      "[CV]  C=0.01, class_weight={1: 0.6, 0: 0.4}, penalty=l1, solver=liblinear, total=   0.1s\n",
      "[CV] C=0.01, class_weight={1: 0.6, 0: 0.4}, penalty=l1, solver=saga ..\n",
      "[CV]  C=0.01, class_weight={1: 0.6, 0: 0.4}, penalty=l1, solver=saga, total=   0.4s\n",
      "[CV] C=0.01, class_weight={1: 0.6, 0: 0.4}, penalty=l1, solver=saga ..\n",
      "[CV]  C=0.01, class_weight={1: 0.6, 0: 0.4}, penalty=l1, solver=saga, total=   0.4s\n",
      "[CV] C=0.01, class_weight={1: 0.6, 0: 0.4}, penalty=l1, solver=saga ..\n",
      "[CV]  C=0.01, class_weight={1: 0.6, 0: 0.4}, penalty=l1, solver=saga, total=   0.4s\n",
      "[CV] C=0.01, class_weight={1: 0.6, 0: 0.4}, penalty=l1, solver=saga ..\n",
      "[CV]  C=0.01, class_weight={1: 0.6, 0: 0.4}, penalty=l1, solver=saga, total=   0.4s\n",
      "[CV] C=0.01, class_weight={1: 0.6, 0: 0.4}, penalty=l1, solver=saga ..\n",
      "[CV]  C=0.01, class_weight={1: 0.6, 0: 0.4}, penalty=l1, solver=saga, total=   0.4s\n",
      "[CV] C=0.01, class_weight={1: 0.6, 0: 0.4}, penalty=l2, solver=liblinear \n",
      "[CV]  C=0.01, class_weight={1: 0.6, 0: 0.4}, penalty=l2, solver=liblinear, total=   0.1s\n",
      "[CV] C=0.01, class_weight={1: 0.6, 0: 0.4}, penalty=l2, solver=liblinear \n",
      "[CV]  C=0.01, class_weight={1: 0.6, 0: 0.4}, penalty=l2, solver=liblinear, total=   0.1s\n",
      "[CV] C=0.01, class_weight={1: 0.6, 0: 0.4}, penalty=l2, solver=liblinear \n",
      "[CV]  C=0.01, class_weight={1: 0.6, 0: 0.4}, penalty=l2, solver=liblinear, total=   0.1s\n",
      "[CV] C=0.01, class_weight={1: 0.6, 0: 0.4}, penalty=l2, solver=liblinear \n",
      "[CV]  C=0.01, class_weight={1: 0.6, 0: 0.4}, penalty=l2, solver=liblinear, total=   0.1s\n",
      "[CV] C=0.01, class_weight={1: 0.6, 0: 0.4}, penalty=l2, solver=liblinear \n",
      "[CV]  C=0.01, class_weight={1: 0.6, 0: 0.4}, penalty=l2, solver=liblinear, total=   0.1s\n",
      "[CV] C=0.01, class_weight={1: 0.6, 0: 0.4}, penalty=l2, solver=saga ..\n",
      "[CV]  C=0.01, class_weight={1: 0.6, 0: 0.4}, penalty=l2, solver=saga, total=   0.4s\n",
      "[CV] C=0.01, class_weight={1: 0.6, 0: 0.4}, penalty=l2, solver=saga ..\n",
      "[CV]  C=0.01, class_weight={1: 0.6, 0: 0.4}, penalty=l2, solver=saga, total=   0.5s\n",
      "[CV] C=0.01, class_weight={1: 0.6, 0: 0.4}, penalty=l2, solver=saga ..\n",
      "[CV]  C=0.01, class_weight={1: 0.6, 0: 0.4}, penalty=l2, solver=saga, total=   0.5s\n",
      "[CV] C=0.01, class_weight={1: 0.6, 0: 0.4}, penalty=l2, solver=saga ..\n",
      "[CV]  C=0.01, class_weight={1: 0.6, 0: 0.4}, penalty=l2, solver=saga, total=   0.5s\n",
      "[CV] C=0.01, class_weight={1: 0.6, 0: 0.4}, penalty=l2, solver=saga ..\n",
      "[CV]  C=0.01, class_weight={1: 0.6, 0: 0.4}, penalty=l2, solver=saga, total=   0.4s\n",
      "[CV] C=0.01, class_weight={1: 0.7, 0: 0.3}, penalty=l1, solver=liblinear \n",
      "[CV]  C=0.01, class_weight={1: 0.7, 0: 0.3}, penalty=l1, solver=liblinear, total=   0.1s\n",
      "[CV] C=0.01, class_weight={1: 0.7, 0: 0.3}, penalty=l1, solver=liblinear \n",
      "[CV]  C=0.01, class_weight={1: 0.7, 0: 0.3}, penalty=l1, solver=liblinear, total=   0.1s\n",
      "[CV] C=0.01, class_weight={1: 0.7, 0: 0.3}, penalty=l1, solver=liblinear \n",
      "[CV]  C=0.01, class_weight={1: 0.7, 0: 0.3}, penalty=l1, solver=liblinear, total=   0.1s\n",
      "[CV] C=0.01, class_weight={1: 0.7, 0: 0.3}, penalty=l1, solver=liblinear \n",
      "[CV]  C=0.01, class_weight={1: 0.7, 0: 0.3}, penalty=l1, solver=liblinear, total=   0.1s\n",
      "[CV] C=0.01, class_weight={1: 0.7, 0: 0.3}, penalty=l1, solver=liblinear \n",
      "[CV]  C=0.01, class_weight={1: 0.7, 0: 0.3}, penalty=l1, solver=liblinear, total=   0.1s\n",
      "[CV] C=0.01, class_weight={1: 0.7, 0: 0.3}, penalty=l1, solver=saga ..\n",
      "[CV]  C=0.01, class_weight={1: 0.7, 0: 0.3}, penalty=l1, solver=saga, total=   0.4s\n",
      "[CV] C=0.01, class_weight={1: 0.7, 0: 0.3}, penalty=l1, solver=saga ..\n",
      "[CV]  C=0.01, class_weight={1: 0.7, 0: 0.3}, penalty=l1, solver=saga, total=   0.4s\n",
      "[CV] C=0.01, class_weight={1: 0.7, 0: 0.3}, penalty=l1, solver=saga ..\n",
      "[CV]  C=0.01, class_weight={1: 0.7, 0: 0.3}, penalty=l1, solver=saga, total=   0.5s\n",
      "[CV] C=0.01, class_weight={1: 0.7, 0: 0.3}, penalty=l1, solver=saga ..\n",
      "[CV]  C=0.01, class_weight={1: 0.7, 0: 0.3}, penalty=l1, solver=saga, total=   0.3s\n",
      "[CV] C=0.01, class_weight={1: 0.7, 0: 0.3}, penalty=l1, solver=saga ..\n",
      "[CV]  C=0.01, class_weight={1: 0.7, 0: 0.3}, penalty=l1, solver=saga, total=   0.3s\n",
      "[CV] C=0.01, class_weight={1: 0.7, 0: 0.3}, penalty=l2, solver=liblinear \n",
      "[CV]  C=0.01, class_weight={1: 0.7, 0: 0.3}, penalty=l2, solver=liblinear, total=   0.1s\n",
      "[CV] C=0.01, class_weight={1: 0.7, 0: 0.3}, penalty=l2, solver=liblinear \n",
      "[CV]  C=0.01, class_weight={1: 0.7, 0: 0.3}, penalty=l2, solver=liblinear, total=   0.1s\n",
      "[CV] C=0.01, class_weight={1: 0.7, 0: 0.3}, penalty=l2, solver=liblinear \n",
      "[CV]  C=0.01, class_weight={1: 0.7, 0: 0.3}, penalty=l2, solver=liblinear, total=   0.1s\n",
      "[CV] C=0.01, class_weight={1: 0.7, 0: 0.3}, penalty=l2, solver=liblinear \n",
      "[CV]  C=0.01, class_weight={1: 0.7, 0: 0.3}, penalty=l2, solver=liblinear, total=   0.2s\n",
      "[CV] C=0.01, class_weight={1: 0.7, 0: 0.3}, penalty=l2, solver=liblinear \n"
     ]
    },
    {
     "name": "stdout",
     "output_type": "stream",
     "text": [
      "[CV]  C=0.01, class_weight={1: 0.7, 0: 0.3}, penalty=l2, solver=liblinear, total=   0.1s\n",
      "[CV] C=0.01, class_weight={1: 0.7, 0: 0.3}, penalty=l2, solver=saga ..\n",
      "[CV]  C=0.01, class_weight={1: 0.7, 0: 0.3}, penalty=l2, solver=saga, total=   0.5s\n",
      "[CV] C=0.01, class_weight={1: 0.7, 0: 0.3}, penalty=l2, solver=saga ..\n",
      "[CV]  C=0.01, class_weight={1: 0.7, 0: 0.3}, penalty=l2, solver=saga, total=   0.4s\n",
      "[CV] C=0.01, class_weight={1: 0.7, 0: 0.3}, penalty=l2, solver=saga ..\n",
      "[CV]  C=0.01, class_weight={1: 0.7, 0: 0.3}, penalty=l2, solver=saga, total=   0.4s\n",
      "[CV] C=0.01, class_weight={1: 0.7, 0: 0.3}, penalty=l2, solver=saga ..\n",
      "[CV]  C=0.01, class_weight={1: 0.7, 0: 0.3}, penalty=l2, solver=saga, total=   0.4s\n",
      "[CV] C=0.01, class_weight={1: 0.7, 0: 0.3}, penalty=l2, solver=saga ..\n",
      "[CV]  C=0.01, class_weight={1: 0.7, 0: 0.3}, penalty=l2, solver=saga, total=   0.5s\n",
      "[CV] C=0.1, class_weight={1: 0.5, 0: 0.5}, penalty=l1, solver=liblinear \n",
      "[CV]  C=0.1, class_weight={1: 0.5, 0: 0.5}, penalty=l1, solver=liblinear, total=   0.1s\n",
      "[CV] C=0.1, class_weight={1: 0.5, 0: 0.5}, penalty=l1, solver=liblinear \n",
      "[CV]  C=0.1, class_weight={1: 0.5, 0: 0.5}, penalty=l1, solver=liblinear, total=   0.2s\n",
      "[CV] C=0.1, class_weight={1: 0.5, 0: 0.5}, penalty=l1, solver=liblinear \n",
      "[CV]  C=0.1, class_weight={1: 0.5, 0: 0.5}, penalty=l1, solver=liblinear, total=   0.1s\n",
      "[CV] C=0.1, class_weight={1: 0.5, 0: 0.5}, penalty=l1, solver=liblinear \n",
      "[CV]  C=0.1, class_weight={1: 0.5, 0: 0.5}, penalty=l1, solver=liblinear, total=   0.2s\n",
      "[CV] C=0.1, class_weight={1: 0.5, 0: 0.5}, penalty=l1, solver=liblinear \n",
      "[CV]  C=0.1, class_weight={1: 0.5, 0: 0.5}, penalty=l1, solver=liblinear, total=   0.1s\n",
      "[CV] C=0.1, class_weight={1: 0.5, 0: 0.5}, penalty=l1, solver=saga ...\n",
      "[CV]  C=0.1, class_weight={1: 0.5, 0: 0.5}, penalty=l1, solver=saga, total=   0.4s\n",
      "[CV] C=0.1, class_weight={1: 0.5, 0: 0.5}, penalty=l1, solver=saga ...\n",
      "[CV]  C=0.1, class_weight={1: 0.5, 0: 0.5}, penalty=l1, solver=saga, total=   0.4s\n",
      "[CV] C=0.1, class_weight={1: 0.5, 0: 0.5}, penalty=l1, solver=saga ...\n",
      "[CV]  C=0.1, class_weight={1: 0.5, 0: 0.5}, penalty=l1, solver=saga, total=   0.4s\n",
      "[CV] C=0.1, class_weight={1: 0.5, 0: 0.5}, penalty=l1, solver=saga ...\n",
      "[CV]  C=0.1, class_weight={1: 0.5, 0: 0.5}, penalty=l1, solver=saga, total=   0.4s\n",
      "[CV] C=0.1, class_weight={1: 0.5, 0: 0.5}, penalty=l1, solver=saga ...\n",
      "[CV]  C=0.1, class_weight={1: 0.5, 0: 0.5}, penalty=l1, solver=saga, total=   0.4s\n",
      "[CV] C=0.1, class_weight={1: 0.5, 0: 0.5}, penalty=l2, solver=liblinear \n",
      "[CV]  C=0.1, class_weight={1: 0.5, 0: 0.5}, penalty=l2, solver=liblinear, total=   0.1s\n",
      "[CV] C=0.1, class_weight={1: 0.5, 0: 0.5}, penalty=l2, solver=liblinear \n",
      "[CV]  C=0.1, class_weight={1: 0.5, 0: 0.5}, penalty=l2, solver=liblinear, total=   0.1s\n",
      "[CV] C=0.1, class_weight={1: 0.5, 0: 0.5}, penalty=l2, solver=liblinear \n",
      "[CV]  C=0.1, class_weight={1: 0.5, 0: 0.5}, penalty=l2, solver=liblinear, total=   0.1s\n",
      "[CV] C=0.1, class_weight={1: 0.5, 0: 0.5}, penalty=l2, solver=liblinear \n",
      "[CV]  C=0.1, class_weight={1: 0.5, 0: 0.5}, penalty=l2, solver=liblinear, total=   0.1s\n",
      "[CV] C=0.1, class_weight={1: 0.5, 0: 0.5}, penalty=l2, solver=liblinear \n",
      "[CV]  C=0.1, class_weight={1: 0.5, 0: 0.5}, penalty=l2, solver=liblinear, total=   0.1s\n",
      "[CV] C=0.1, class_weight={1: 0.5, 0: 0.5}, penalty=l2, solver=saga ...\n",
      "[CV]  C=0.1, class_weight={1: 0.5, 0: 0.5}, penalty=l2, solver=saga, total=   0.3s\n",
      "[CV] C=0.1, class_weight={1: 0.5, 0: 0.5}, penalty=l2, solver=saga ...\n",
      "[CV]  C=0.1, class_weight={1: 0.5, 0: 0.5}, penalty=l2, solver=saga, total=   0.4s\n",
      "[CV] C=0.1, class_weight={1: 0.5, 0: 0.5}, penalty=l2, solver=saga ...\n",
      "[CV]  C=0.1, class_weight={1: 0.5, 0: 0.5}, penalty=l2, solver=saga, total=   0.4s\n",
      "[CV] C=0.1, class_weight={1: 0.5, 0: 0.5}, penalty=l2, solver=saga ...\n",
      "[CV]  C=0.1, class_weight={1: 0.5, 0: 0.5}, penalty=l2, solver=saga, total=   0.4s\n",
      "[CV] C=0.1, class_weight={1: 0.5, 0: 0.5}, penalty=l2, solver=saga ...\n",
      "[CV]  C=0.1, class_weight={1: 0.5, 0: 0.5}, penalty=l2, solver=saga, total=   0.4s\n",
      "[CV] C=0.1, class_weight={1: 0.6, 0: 0.4}, penalty=l1, solver=liblinear \n",
      "[CV]  C=0.1, class_weight={1: 0.6, 0: 0.4}, penalty=l1, solver=liblinear, total=   0.2s\n",
      "[CV] C=0.1, class_weight={1: 0.6, 0: 0.4}, penalty=l1, solver=liblinear \n",
      "[CV]  C=0.1, class_weight={1: 0.6, 0: 0.4}, penalty=l1, solver=liblinear, total=   0.2s\n",
      "[CV] C=0.1, class_weight={1: 0.6, 0: 0.4}, penalty=l1, solver=liblinear \n",
      "[CV]  C=0.1, class_weight={1: 0.6, 0: 0.4}, penalty=l1, solver=liblinear, total=   0.2s\n",
      "[CV] C=0.1, class_weight={1: 0.6, 0: 0.4}, penalty=l1, solver=liblinear \n",
      "[CV]  C=0.1, class_weight={1: 0.6, 0: 0.4}, penalty=l1, solver=liblinear, total=   0.2s\n",
      "[CV] C=0.1, class_weight={1: 0.6, 0: 0.4}, penalty=l1, solver=liblinear \n",
      "[CV]  C=0.1, class_weight={1: 0.6, 0: 0.4}, penalty=l1, solver=liblinear, total=   0.1s\n",
      "[CV] C=0.1, class_weight={1: 0.6, 0: 0.4}, penalty=l1, solver=saga ...\n",
      "[CV]  C=0.1, class_weight={1: 0.6, 0: 0.4}, penalty=l1, solver=saga, total=   0.4s\n",
      "[CV] C=0.1, class_weight={1: 0.6, 0: 0.4}, penalty=l1, solver=saga ...\n",
      "[CV]  C=0.1, class_weight={1: 0.6, 0: 0.4}, penalty=l1, solver=saga, total=   0.4s\n",
      "[CV] C=0.1, class_weight={1: 0.6, 0: 0.4}, penalty=l1, solver=saga ...\n",
      "[CV]  C=0.1, class_weight={1: 0.6, 0: 0.4}, penalty=l1, solver=saga, total=   0.4s\n",
      "[CV] C=0.1, class_weight={1: 0.6, 0: 0.4}, penalty=l1, solver=saga ...\n",
      "[CV]  C=0.1, class_weight={1: 0.6, 0: 0.4}, penalty=l1, solver=saga, total=   0.4s\n",
      "[CV] C=0.1, class_weight={1: 0.6, 0: 0.4}, penalty=l1, solver=saga ...\n",
      "[CV]  C=0.1, class_weight={1: 0.6, 0: 0.4}, penalty=l1, solver=saga, total=   0.4s\n",
      "[CV] C=0.1, class_weight={1: 0.6, 0: 0.4}, penalty=l2, solver=liblinear \n",
      "[CV]  C=0.1, class_weight={1: 0.6, 0: 0.4}, penalty=l2, solver=liblinear, total=   0.1s\n",
      "[CV] C=0.1, class_weight={1: 0.6, 0: 0.4}, penalty=l2, solver=liblinear \n",
      "[CV]  C=0.1, class_weight={1: 0.6, 0: 0.4}, penalty=l2, solver=liblinear, total=   0.2s\n",
      "[CV] C=0.1, class_weight={1: 0.6, 0: 0.4}, penalty=l2, solver=liblinear \n",
      "[CV]  C=0.1, class_weight={1: 0.6, 0: 0.4}, penalty=l2, solver=liblinear, total=   0.1s\n",
      "[CV] C=0.1, class_weight={1: 0.6, 0: 0.4}, penalty=l2, solver=liblinear \n",
      "[CV]  C=0.1, class_weight={1: 0.6, 0: 0.4}, penalty=l2, solver=liblinear, total=   0.2s\n",
      "[CV] C=0.1, class_weight={1: 0.6, 0: 0.4}, penalty=l2, solver=liblinear \n",
      "[CV]  C=0.1, class_weight={1: 0.6, 0: 0.4}, penalty=l2, solver=liblinear, total=   0.1s\n",
      "[CV] C=0.1, class_weight={1: 0.6, 0: 0.4}, penalty=l2, solver=saga ...\n",
      "[CV]  C=0.1, class_weight={1: 0.6, 0: 0.4}, penalty=l2, solver=saga, total=   0.4s\n",
      "[CV] C=0.1, class_weight={1: 0.6, 0: 0.4}, penalty=l2, solver=saga ...\n",
      "[CV]  C=0.1, class_weight={1: 0.6, 0: 0.4}, penalty=l2, solver=saga, total=   0.5s\n",
      "[CV] C=0.1, class_weight={1: 0.6, 0: 0.4}, penalty=l2, solver=saga ...\n",
      "[CV]  C=0.1, class_weight={1: 0.6, 0: 0.4}, penalty=l2, solver=saga, total=   0.4s\n",
      "[CV] C=0.1, class_weight={1: 0.6, 0: 0.4}, penalty=l2, solver=saga ...\n",
      "[CV]  C=0.1, class_weight={1: 0.6, 0: 0.4}, penalty=l2, solver=saga, total=   0.4s\n",
      "[CV] C=0.1, class_weight={1: 0.6, 0: 0.4}, penalty=l2, solver=saga ...\n",
      "[CV]  C=0.1, class_weight={1: 0.6, 0: 0.4}, penalty=l2, solver=saga, total=   0.4s\n",
      "[CV] C=0.1, class_weight={1: 0.7, 0: 0.3}, penalty=l1, solver=liblinear \n",
      "[CV]  C=0.1, class_weight={1: 0.7, 0: 0.3}, penalty=l1, solver=liblinear, total=   0.1s\n",
      "[CV] C=0.1, class_weight={1: 0.7, 0: 0.3}, penalty=l1, solver=liblinear \n",
      "[CV]  C=0.1, class_weight={1: 0.7, 0: 0.3}, penalty=l1, solver=liblinear, total=   0.2s\n",
      "[CV] C=0.1, class_weight={1: 0.7, 0: 0.3}, penalty=l1, solver=liblinear \n",
      "[CV]  C=0.1, class_weight={1: 0.7, 0: 0.3}, penalty=l1, solver=liblinear, total=   0.1s\n",
      "[CV] C=0.1, class_weight={1: 0.7, 0: 0.3}, penalty=l1, solver=liblinear \n",
      "[CV]  C=0.1, class_weight={1: 0.7, 0: 0.3}, penalty=l1, solver=liblinear, total=   0.2s\n",
      "[CV] C=0.1, class_weight={1: 0.7, 0: 0.3}, penalty=l1, solver=liblinear \n",
      "[CV]  C=0.1, class_weight={1: 0.7, 0: 0.3}, penalty=l1, solver=liblinear, total=   0.1s\n",
      "[CV] C=0.1, class_weight={1: 0.7, 0: 0.3}, penalty=l1, solver=saga ...\n",
      "[CV]  C=0.1, class_weight={1: 0.7, 0: 0.3}, penalty=l1, solver=saga, total=   0.4s\n",
      "[CV] C=0.1, class_weight={1: 0.7, 0: 0.3}, penalty=l1, solver=saga ...\n"
     ]
    },
    {
     "name": "stdout",
     "output_type": "stream",
     "text": [
      "[CV]  C=0.1, class_weight={1: 0.7, 0: 0.3}, penalty=l1, solver=saga, total=   0.4s\n",
      "[CV] C=0.1, class_weight={1: 0.7, 0: 0.3}, penalty=l1, solver=saga ...\n",
      "[CV]  C=0.1, class_weight={1: 0.7, 0: 0.3}, penalty=l1, solver=saga, total=   0.5s\n",
      "[CV] C=0.1, class_weight={1: 0.7, 0: 0.3}, penalty=l1, solver=saga ...\n",
      "[CV]  C=0.1, class_weight={1: 0.7, 0: 0.3}, penalty=l1, solver=saga, total=   0.5s\n",
      "[CV] C=0.1, class_weight={1: 0.7, 0: 0.3}, penalty=l1, solver=saga ...\n",
      "[CV]  C=0.1, class_weight={1: 0.7, 0: 0.3}, penalty=l1, solver=saga, total=   0.4s\n",
      "[CV] C=0.1, class_weight={1: 0.7, 0: 0.3}, penalty=l2, solver=liblinear \n",
      "[CV]  C=0.1, class_weight={1: 0.7, 0: 0.3}, penalty=l2, solver=liblinear, total=   0.1s\n",
      "[CV] C=0.1, class_weight={1: 0.7, 0: 0.3}, penalty=l2, solver=liblinear \n",
      "[CV]  C=0.1, class_weight={1: 0.7, 0: 0.3}, penalty=l2, solver=liblinear, total=   0.1s\n",
      "[CV] C=0.1, class_weight={1: 0.7, 0: 0.3}, penalty=l2, solver=liblinear \n",
      "[CV]  C=0.1, class_weight={1: 0.7, 0: 0.3}, penalty=l2, solver=liblinear, total=   0.1s\n",
      "[CV] C=0.1, class_weight={1: 0.7, 0: 0.3}, penalty=l2, solver=liblinear \n",
      "[CV]  C=0.1, class_weight={1: 0.7, 0: 0.3}, penalty=l2, solver=liblinear, total=   0.1s\n",
      "[CV] C=0.1, class_weight={1: 0.7, 0: 0.3}, penalty=l2, solver=liblinear \n",
      "[CV]  C=0.1, class_weight={1: 0.7, 0: 0.3}, penalty=l2, solver=liblinear, total=   0.1s\n",
      "[CV] C=0.1, class_weight={1: 0.7, 0: 0.3}, penalty=l2, solver=saga ...\n",
      "[CV]  C=0.1, class_weight={1: 0.7, 0: 0.3}, penalty=l2, solver=saga, total=   0.5s\n",
      "[CV] C=0.1, class_weight={1: 0.7, 0: 0.3}, penalty=l2, solver=saga ...\n",
      "[CV]  C=0.1, class_weight={1: 0.7, 0: 0.3}, penalty=l2, solver=saga, total=   0.4s\n",
      "[CV] C=0.1, class_weight={1: 0.7, 0: 0.3}, penalty=l2, solver=saga ...\n",
      "[CV]  C=0.1, class_weight={1: 0.7, 0: 0.3}, penalty=l2, solver=saga, total=   0.5s\n",
      "[CV] C=0.1, class_weight={1: 0.7, 0: 0.3}, penalty=l2, solver=saga ...\n",
      "[CV]  C=0.1, class_weight={1: 0.7, 0: 0.3}, penalty=l2, solver=saga, total=   0.4s\n",
      "[CV] C=0.1, class_weight={1: 0.7, 0: 0.3}, penalty=l2, solver=saga ...\n",
      "[CV]  C=0.1, class_weight={1: 0.7, 0: 0.3}, penalty=l2, solver=saga, total=   0.4s\n",
      "[CV] C=1, class_weight={1: 0.5, 0: 0.5}, penalty=l1, solver=liblinear \n",
      "[CV]  C=1, class_weight={1: 0.5, 0: 0.5}, penalty=l1, solver=liblinear, total=   0.2s\n",
      "[CV] C=1, class_weight={1: 0.5, 0: 0.5}, penalty=l1, solver=liblinear \n",
      "[CV]  C=1, class_weight={1: 0.5, 0: 0.5}, penalty=l1, solver=liblinear, total=   0.2s\n",
      "[CV] C=1, class_weight={1: 0.5, 0: 0.5}, penalty=l1, solver=liblinear \n",
      "[CV]  C=1, class_weight={1: 0.5, 0: 0.5}, penalty=l1, solver=liblinear, total=   0.2s\n",
      "[CV] C=1, class_weight={1: 0.5, 0: 0.5}, penalty=l1, solver=liblinear \n",
      "[CV]  C=1, class_weight={1: 0.5, 0: 0.5}, penalty=l1, solver=liblinear, total=   0.2s\n",
      "[CV] C=1, class_weight={1: 0.5, 0: 0.5}, penalty=l1, solver=liblinear \n",
      "[CV]  C=1, class_weight={1: 0.5, 0: 0.5}, penalty=l1, solver=liblinear, total=   0.2s\n",
      "[CV] C=1, class_weight={1: 0.5, 0: 0.5}, penalty=l1, solver=saga .....\n",
      "[CV]  C=1, class_weight={1: 0.5, 0: 0.5}, penalty=l1, solver=saga, total=   6.0s\n",
      "[CV] C=1, class_weight={1: 0.5, 0: 0.5}, penalty=l1, solver=saga .....\n",
      "[CV]  C=1, class_weight={1: 0.5, 0: 0.5}, penalty=l1, solver=saga, total=   8.7s\n",
      "[CV] C=1, class_weight={1: 0.5, 0: 0.5}, penalty=l1, solver=saga .....\n",
      "[CV]  C=1, class_weight={1: 0.5, 0: 0.5}, penalty=l1, solver=saga, total=   2.4s\n",
      "[CV] C=1, class_weight={1: 0.5, 0: 0.5}, penalty=l1, solver=saga .....\n",
      "[CV]  C=1, class_weight={1: 0.5, 0: 0.5}, penalty=l1, solver=saga, total=   5.4s\n",
      "[CV] C=1, class_weight={1: 0.5, 0: 0.5}, penalty=l1, solver=saga .....\n",
      "[CV]  C=1, class_weight={1: 0.5, 0: 0.5}, penalty=l1, solver=saga, total=   3.5s\n",
      "[CV] C=1, class_weight={1: 0.5, 0: 0.5}, penalty=l2, solver=liblinear \n",
      "[CV]  C=1, class_weight={1: 0.5, 0: 0.5}, penalty=l2, solver=liblinear, total=   0.2s\n",
      "[CV] C=1, class_weight={1: 0.5, 0: 0.5}, penalty=l2, solver=liblinear \n",
      "[CV]  C=1, class_weight={1: 0.5, 0: 0.5}, penalty=l2, solver=liblinear, total=   0.2s\n",
      "[CV] C=1, class_weight={1: 0.5, 0: 0.5}, penalty=l2, solver=liblinear \n",
      "[CV]  C=1, class_weight={1: 0.5, 0: 0.5}, penalty=l2, solver=liblinear, total=   0.2s\n",
      "[CV] C=1, class_weight={1: 0.5, 0: 0.5}, penalty=l2, solver=liblinear \n",
      "[CV]  C=1, class_weight={1: 0.5, 0: 0.5}, penalty=l2, solver=liblinear, total=   0.2s\n",
      "[CV] C=1, class_weight={1: 0.5, 0: 0.5}, penalty=l2, solver=liblinear \n",
      "[CV]  C=1, class_weight={1: 0.5, 0: 0.5}, penalty=l2, solver=liblinear, total=   0.2s\n",
      "[CV] C=1, class_weight={1: 0.5, 0: 0.5}, penalty=l2, solver=saga .....\n",
      "[CV]  C=1, class_weight={1: 0.5, 0: 0.5}, penalty=l2, solver=saga, total=   0.4s\n",
      "[CV] C=1, class_weight={1: 0.5, 0: 0.5}, penalty=l2, solver=saga .....\n",
      "[CV]  C=1, class_weight={1: 0.5, 0: 0.5}, penalty=l2, solver=saga, total=   0.4s\n",
      "[CV] C=1, class_weight={1: 0.5, 0: 0.5}, penalty=l2, solver=saga .....\n",
      "[CV]  C=1, class_weight={1: 0.5, 0: 0.5}, penalty=l2, solver=saga, total=   0.4s\n",
      "[CV] C=1, class_weight={1: 0.5, 0: 0.5}, penalty=l2, solver=saga .....\n",
      "[CV]  C=1, class_weight={1: 0.5, 0: 0.5}, penalty=l2, solver=saga, total=   0.5s\n",
      "[CV] C=1, class_weight={1: 0.5, 0: 0.5}, penalty=l2, solver=saga .....\n",
      "[CV]  C=1, class_weight={1: 0.5, 0: 0.5}, penalty=l2, solver=saga, total=   0.5s\n",
      "[CV] C=1, class_weight={1: 0.6, 0: 0.4}, penalty=l1, solver=liblinear \n",
      "[CV]  C=1, class_weight={1: 0.6, 0: 0.4}, penalty=l1, solver=liblinear, total=   0.2s\n",
      "[CV] C=1, class_weight={1: 0.6, 0: 0.4}, penalty=l1, solver=liblinear \n",
      "[CV]  C=1, class_weight={1: 0.6, 0: 0.4}, penalty=l1, solver=liblinear, total=   0.2s\n",
      "[CV] C=1, class_weight={1: 0.6, 0: 0.4}, penalty=l1, solver=liblinear \n",
      "[CV]  C=1, class_weight={1: 0.6, 0: 0.4}, penalty=l1, solver=liblinear, total=   0.2s\n",
      "[CV] C=1, class_weight={1: 0.6, 0: 0.4}, penalty=l1, solver=liblinear \n",
      "[CV]  C=1, class_weight={1: 0.6, 0: 0.4}, penalty=l1, solver=liblinear, total=   0.2s\n",
      "[CV] C=1, class_weight={1: 0.6, 0: 0.4}, penalty=l1, solver=liblinear \n",
      "[CV]  C=1, class_weight={1: 0.6, 0: 0.4}, penalty=l1, solver=liblinear, total=   0.3s\n",
      "[CV] C=1, class_weight={1: 0.6, 0: 0.4}, penalty=l1, solver=saga .....\n",
      "[CV]  C=1, class_weight={1: 0.6, 0: 0.4}, penalty=l1, solver=saga, total=   6.2s\n",
      "[CV] C=1, class_weight={1: 0.6, 0: 0.4}, penalty=l1, solver=saga .....\n",
      "[CV]  C=1, class_weight={1: 0.6, 0: 0.4}, penalty=l1, solver=saga, total=   4.6s\n",
      "[CV] C=1, class_weight={1: 0.6, 0: 0.4}, penalty=l1, solver=saga .....\n",
      "[CV]  C=1, class_weight={1: 0.6, 0: 0.4}, penalty=l1, solver=saga, total=   2.7s\n",
      "[CV] C=1, class_weight={1: 0.6, 0: 0.4}, penalty=l1, solver=saga .....\n",
      "[CV]  C=1, class_weight={1: 0.6, 0: 0.4}, penalty=l1, solver=saga, total=   5.0s\n",
      "[CV] C=1, class_weight={1: 0.6, 0: 0.4}, penalty=l1, solver=saga .....\n",
      "[CV]  C=1, class_weight={1: 0.6, 0: 0.4}, penalty=l1, solver=saga, total=   5.1s\n",
      "[CV] C=1, class_weight={1: 0.6, 0: 0.4}, penalty=l2, solver=liblinear \n",
      "[CV]  C=1, class_weight={1: 0.6, 0: 0.4}, penalty=l2, solver=liblinear, total=   0.2s\n",
      "[CV] C=1, class_weight={1: 0.6, 0: 0.4}, penalty=l2, solver=liblinear \n",
      "[CV]  C=1, class_weight={1: 0.6, 0: 0.4}, penalty=l2, solver=liblinear, total=   0.2s\n",
      "[CV] C=1, class_weight={1: 0.6, 0: 0.4}, penalty=l2, solver=liblinear \n",
      "[CV]  C=1, class_weight={1: 0.6, 0: 0.4}, penalty=l2, solver=liblinear, total=   0.2s\n",
      "[CV] C=1, class_weight={1: 0.6, 0: 0.4}, penalty=l2, solver=liblinear \n",
      "[CV]  C=1, class_weight={1: 0.6, 0: 0.4}, penalty=l2, solver=liblinear, total=   0.2s\n",
      "[CV] C=1, class_weight={1: 0.6, 0: 0.4}, penalty=l2, solver=liblinear \n",
      "[CV]  C=1, class_weight={1: 0.6, 0: 0.4}, penalty=l2, solver=liblinear, total=   0.2s\n",
      "[CV] C=1, class_weight={1: 0.6, 0: 0.4}, penalty=l2, solver=saga .....\n",
      "[CV]  C=1, class_weight={1: 0.6, 0: 0.4}, penalty=l2, solver=saga, total=   0.4s\n",
      "[CV] C=1, class_weight={1: 0.6, 0: 0.4}, penalty=l2, solver=saga .....\n",
      "[CV]  C=1, class_weight={1: 0.6, 0: 0.4}, penalty=l2, solver=saga, total=   0.4s\n",
      "[CV] C=1, class_weight={1: 0.6, 0: 0.4}, penalty=l2, solver=saga .....\n",
      "[CV]  C=1, class_weight={1: 0.6, 0: 0.4}, penalty=l2, solver=saga, total=   0.4s\n",
      "[CV] C=1, class_weight={1: 0.6, 0: 0.4}, penalty=l2, solver=saga .....\n",
      "[CV]  C=1, class_weight={1: 0.6, 0: 0.4}, penalty=l2, solver=saga, total=   0.4s\n",
      "[CV] C=1, class_weight={1: 0.6, 0: 0.4}, penalty=l2, solver=saga .....\n"
     ]
    },
    {
     "name": "stdout",
     "output_type": "stream",
     "text": [
      "[CV]  C=1, class_weight={1: 0.6, 0: 0.4}, penalty=l2, solver=saga, total=   0.4s\n",
      "[CV] C=1, class_weight={1: 0.7, 0: 0.3}, penalty=l1, solver=liblinear \n",
      "[CV]  C=1, class_weight={1: 0.7, 0: 0.3}, penalty=l1, solver=liblinear, total=   0.2s\n",
      "[CV] C=1, class_weight={1: 0.7, 0: 0.3}, penalty=l1, solver=liblinear \n",
      "[CV]  C=1, class_weight={1: 0.7, 0: 0.3}, penalty=l1, solver=liblinear, total=   0.2s\n",
      "[CV] C=1, class_weight={1: 0.7, 0: 0.3}, penalty=l1, solver=liblinear \n",
      "[CV]  C=1, class_weight={1: 0.7, 0: 0.3}, penalty=l1, solver=liblinear, total=   0.2s\n",
      "[CV] C=1, class_weight={1: 0.7, 0: 0.3}, penalty=l1, solver=liblinear \n",
      "[CV]  C=1, class_weight={1: 0.7, 0: 0.3}, penalty=l1, solver=liblinear, total=   0.2s\n",
      "[CV] C=1, class_weight={1: 0.7, 0: 0.3}, penalty=l1, solver=liblinear \n",
      "[CV]  C=1, class_weight={1: 0.7, 0: 0.3}, penalty=l1, solver=liblinear, total=   0.2s\n",
      "[CV] C=1, class_weight={1: 0.7, 0: 0.3}, penalty=l1, solver=saga .....\n",
      "[CV]  C=1, class_weight={1: 0.7, 0: 0.3}, penalty=l1, solver=saga, total=   5.9s\n",
      "[CV] C=1, class_weight={1: 0.7, 0: 0.3}, penalty=l1, solver=saga .....\n",
      "[CV]  C=1, class_weight={1: 0.7, 0: 0.3}, penalty=l1, solver=saga, total=   2.5s\n",
      "[CV] C=1, class_weight={1: 0.7, 0: 0.3}, penalty=l1, solver=saga .....\n",
      "[CV]  C=1, class_weight={1: 0.7, 0: 0.3}, penalty=l1, solver=saga, total=   2.4s\n",
      "[CV] C=1, class_weight={1: 0.7, 0: 0.3}, penalty=l1, solver=saga .....\n",
      "[CV]  C=1, class_weight={1: 0.7, 0: 0.3}, penalty=l1, solver=saga, total=   5.3s\n",
      "[CV] C=1, class_weight={1: 0.7, 0: 0.3}, penalty=l1, solver=saga .....\n",
      "[CV]  C=1, class_weight={1: 0.7, 0: 0.3}, penalty=l1, solver=saga, total=   3.4s\n",
      "[CV] C=1, class_weight={1: 0.7, 0: 0.3}, penalty=l2, solver=liblinear \n",
      "[CV]  C=1, class_weight={1: 0.7, 0: 0.3}, penalty=l2, solver=liblinear, total=   0.2s\n",
      "[CV] C=1, class_weight={1: 0.7, 0: 0.3}, penalty=l2, solver=liblinear \n",
      "[CV]  C=1, class_weight={1: 0.7, 0: 0.3}, penalty=l2, solver=liblinear, total=   0.2s\n",
      "[CV] C=1, class_weight={1: 0.7, 0: 0.3}, penalty=l2, solver=liblinear \n",
      "[CV]  C=1, class_weight={1: 0.7, 0: 0.3}, penalty=l2, solver=liblinear, total=   0.2s\n",
      "[CV] C=1, class_weight={1: 0.7, 0: 0.3}, penalty=l2, solver=liblinear \n",
      "[CV]  C=1, class_weight={1: 0.7, 0: 0.3}, penalty=l2, solver=liblinear, total=   0.2s\n",
      "[CV] C=1, class_weight={1: 0.7, 0: 0.3}, penalty=l2, solver=liblinear \n",
      "[CV]  C=1, class_weight={1: 0.7, 0: 0.3}, penalty=l2, solver=liblinear, total=   0.2s\n",
      "[CV] C=1, class_weight={1: 0.7, 0: 0.3}, penalty=l2, solver=saga .....\n",
      "[CV]  C=1, class_weight={1: 0.7, 0: 0.3}, penalty=l2, solver=saga, total=   0.4s\n",
      "[CV] C=1, class_weight={1: 0.7, 0: 0.3}, penalty=l2, solver=saga .....\n",
      "[CV]  C=1, class_weight={1: 0.7, 0: 0.3}, penalty=l2, solver=saga, total=   0.4s\n",
      "[CV] C=1, class_weight={1: 0.7, 0: 0.3}, penalty=l2, solver=saga .....\n",
      "[CV]  C=1, class_weight={1: 0.7, 0: 0.3}, penalty=l2, solver=saga, total=   0.4s\n",
      "[CV] C=1, class_weight={1: 0.7, 0: 0.3}, penalty=l2, solver=saga .....\n",
      "[CV]  C=1, class_weight={1: 0.7, 0: 0.3}, penalty=l2, solver=saga, total=   0.4s\n",
      "[CV] C=1, class_weight={1: 0.7, 0: 0.3}, penalty=l2, solver=saga .....\n",
      "[CV]  C=1, class_weight={1: 0.7, 0: 0.3}, penalty=l2, solver=saga, total=   0.4s\n",
      "[CV] C=10, class_weight={1: 0.5, 0: 0.5}, penalty=l1, solver=liblinear \n",
      "[CV]  C=10, class_weight={1: 0.5, 0: 0.5}, penalty=l1, solver=liblinear, total=   0.4s\n",
      "[CV] C=10, class_weight={1: 0.5, 0: 0.5}, penalty=l1, solver=liblinear \n",
      "[CV]  C=10, class_weight={1: 0.5, 0: 0.5}, penalty=l1, solver=liblinear, total=   0.5s\n",
      "[CV] C=10, class_weight={1: 0.5, 0: 0.5}, penalty=l1, solver=liblinear \n",
      "[CV]  C=10, class_weight={1: 0.5, 0: 0.5}, penalty=l1, solver=liblinear, total=   0.5s\n",
      "[CV] C=10, class_weight={1: 0.5, 0: 0.5}, penalty=l1, solver=liblinear \n",
      "[CV]  C=10, class_weight={1: 0.5, 0: 0.5}, penalty=l1, solver=liblinear, total=   0.5s\n",
      "[CV] C=10, class_weight={1: 0.5, 0: 0.5}, penalty=l1, solver=liblinear \n",
      "[CV]  C=10, class_weight={1: 0.5, 0: 0.5}, penalty=l1, solver=liblinear, total=   0.5s\n",
      "[CV] C=10, class_weight={1: 0.5, 0: 0.5}, penalty=l1, solver=saga ....\n",
      "[CV]  C=10, class_weight={1: 0.5, 0: 0.5}, penalty=l1, solver=saga, total= 1.4min\n",
      "[CV] C=10, class_weight={1: 0.5, 0: 0.5}, penalty=l1, solver=saga ....\n",
      "[CV]  C=10, class_weight={1: 0.5, 0: 0.5}, penalty=l1, solver=saga, total= 1.3min\n",
      "[CV] C=10, class_weight={1: 0.5, 0: 0.5}, penalty=l1, solver=saga ....\n",
      "[CV]  C=10, class_weight={1: 0.5, 0: 0.5}, penalty=l1, solver=saga, total= 1.3min\n",
      "[CV] C=10, class_weight={1: 0.5, 0: 0.5}, penalty=l1, solver=saga ....\n",
      "[CV]  C=10, class_weight={1: 0.5, 0: 0.5}, penalty=l1, solver=saga, total= 1.3min\n",
      "[CV] C=10, class_weight={1: 0.5, 0: 0.5}, penalty=l1, solver=saga ....\n",
      "[CV]  C=10, class_weight={1: 0.5, 0: 0.5}, penalty=l1, solver=saga, total= 1.3min\n",
      "[CV] C=10, class_weight={1: 0.5, 0: 0.5}, penalty=l2, solver=liblinear \n",
      "[CV]  C=10, class_weight={1: 0.5, 0: 0.5}, penalty=l2, solver=liblinear, total=   0.3s\n",
      "[CV] C=10, class_weight={1: 0.5, 0: 0.5}, penalty=l2, solver=liblinear \n",
      "[CV]  C=10, class_weight={1: 0.5, 0: 0.5}, penalty=l2, solver=liblinear, total=   0.2s\n",
      "[CV] C=10, class_weight={1: 0.5, 0: 0.5}, penalty=l2, solver=liblinear \n",
      "[CV]  C=10, class_weight={1: 0.5, 0: 0.5}, penalty=l2, solver=liblinear, total=   0.2s\n",
      "[CV] C=10, class_weight={1: 0.5, 0: 0.5}, penalty=l2, solver=liblinear \n",
      "[CV]  C=10, class_weight={1: 0.5, 0: 0.5}, penalty=l2, solver=liblinear, total=   0.2s\n",
      "[CV] C=10, class_weight={1: 0.5, 0: 0.5}, penalty=l2, solver=liblinear \n",
      "[CV]  C=10, class_weight={1: 0.5, 0: 0.5}, penalty=l2, solver=liblinear, total=   0.3s\n",
      "[CV] C=10, class_weight={1: 0.5, 0: 0.5}, penalty=l2, solver=saga ....\n",
      "[CV]  C=10, class_weight={1: 0.5, 0: 0.5}, penalty=l2, solver=saga, total=   1.1s\n",
      "[CV] C=10, class_weight={1: 0.5, 0: 0.5}, penalty=l2, solver=saga ....\n",
      "[CV]  C=10, class_weight={1: 0.5, 0: 0.5}, penalty=l2, solver=saga, total=   1.1s\n",
      "[CV] C=10, class_weight={1: 0.5, 0: 0.5}, penalty=l2, solver=saga ....\n",
      "[CV]  C=10, class_weight={1: 0.5, 0: 0.5}, penalty=l2, solver=saga, total=   1.1s\n",
      "[CV] C=10, class_weight={1: 0.5, 0: 0.5}, penalty=l2, solver=saga ....\n",
      "[CV]  C=10, class_weight={1: 0.5, 0: 0.5}, penalty=l2, solver=saga, total=   1.1s\n",
      "[CV] C=10, class_weight={1: 0.5, 0: 0.5}, penalty=l2, solver=saga ....\n",
      "[CV]  C=10, class_weight={1: 0.5, 0: 0.5}, penalty=l2, solver=saga, total=   1.1s\n",
      "[CV] C=10, class_weight={1: 0.6, 0: 0.4}, penalty=l1, solver=liblinear \n",
      "[CV]  C=10, class_weight={1: 0.6, 0: 0.4}, penalty=l1, solver=liblinear, total=   0.5s\n",
      "[CV] C=10, class_weight={1: 0.6, 0: 0.4}, penalty=l1, solver=liblinear \n",
      "[CV]  C=10, class_weight={1: 0.6, 0: 0.4}, penalty=l1, solver=liblinear, total=   0.4s\n",
      "[CV] C=10, class_weight={1: 0.6, 0: 0.4}, penalty=l1, solver=liblinear \n",
      "[CV]  C=10, class_weight={1: 0.6, 0: 0.4}, penalty=l1, solver=liblinear, total=   0.5s\n",
      "[CV] C=10, class_weight={1: 0.6, 0: 0.4}, penalty=l1, solver=liblinear \n",
      "[CV]  C=10, class_weight={1: 0.6, 0: 0.4}, penalty=l1, solver=liblinear, total=   0.5s\n",
      "[CV] C=10, class_weight={1: 0.6, 0: 0.4}, penalty=l1, solver=liblinear \n",
      "[CV]  C=10, class_weight={1: 0.6, 0: 0.4}, penalty=l1, solver=liblinear, total=   0.5s\n",
      "[CV] C=10, class_weight={1: 0.6, 0: 0.4}, penalty=l1, solver=saga ....\n",
      "[CV]  C=10, class_weight={1: 0.6, 0: 0.4}, penalty=l1, solver=saga, total= 1.3min\n",
      "[CV] C=10, class_weight={1: 0.6, 0: 0.4}, penalty=l1, solver=saga ....\n",
      "[CV]  C=10, class_weight={1: 0.6, 0: 0.4}, penalty=l1, solver=saga, total= 1.3min\n",
      "[CV] C=10, class_weight={1: 0.6, 0: 0.4}, penalty=l1, solver=saga ....\n",
      "[CV]  C=10, class_weight={1: 0.6, 0: 0.4}, penalty=l1, solver=saga, total= 1.3min\n",
      "[CV] C=10, class_weight={1: 0.6, 0: 0.4}, penalty=l1, solver=saga ....\n",
      "[CV]  C=10, class_weight={1: 0.6, 0: 0.4}, penalty=l1, solver=saga, total= 1.4min\n",
      "[CV] C=10, class_weight={1: 0.6, 0: 0.4}, penalty=l1, solver=saga ....\n",
      "[CV]  C=10, class_weight={1: 0.6, 0: 0.4}, penalty=l1, solver=saga, total= 1.3min\n",
      "[CV] C=10, class_weight={1: 0.6, 0: 0.4}, penalty=l2, solver=liblinear \n",
      "[CV]  C=10, class_weight={1: 0.6, 0: 0.4}, penalty=l2, solver=liblinear, total=   0.3s\n",
      "[CV] C=10, class_weight={1: 0.6, 0: 0.4}, penalty=l2, solver=liblinear \n",
      "[CV]  C=10, class_weight={1: 0.6, 0: 0.4}, penalty=l2, solver=liblinear, total=   0.3s\n",
      "[CV] C=10, class_weight={1: 0.6, 0: 0.4}, penalty=l2, solver=liblinear \n"
     ]
    },
    {
     "name": "stdout",
     "output_type": "stream",
     "text": [
      "[CV]  C=10, class_weight={1: 0.6, 0: 0.4}, penalty=l2, solver=liblinear, total=   0.3s\n",
      "[CV] C=10, class_weight={1: 0.6, 0: 0.4}, penalty=l2, solver=liblinear \n",
      "[CV]  C=10, class_weight={1: 0.6, 0: 0.4}, penalty=l2, solver=liblinear, total=   0.3s\n",
      "[CV] C=10, class_weight={1: 0.6, 0: 0.4}, penalty=l2, solver=liblinear \n",
      "[CV]  C=10, class_weight={1: 0.6, 0: 0.4}, penalty=l2, solver=liblinear, total=   0.3s\n",
      "[CV] C=10, class_weight={1: 0.6, 0: 0.4}, penalty=l2, solver=saga ....\n",
      "[CV]  C=10, class_weight={1: 0.6, 0: 0.4}, penalty=l2, solver=saga, total=   1.1s\n",
      "[CV] C=10, class_weight={1: 0.6, 0: 0.4}, penalty=l2, solver=saga ....\n",
      "[CV]  C=10, class_weight={1: 0.6, 0: 0.4}, penalty=l2, solver=saga, total=   1.1s\n",
      "[CV] C=10, class_weight={1: 0.6, 0: 0.4}, penalty=l2, solver=saga ....\n",
      "[CV]  C=10, class_weight={1: 0.6, 0: 0.4}, penalty=l2, solver=saga, total=   1.0s\n",
      "[CV] C=10, class_weight={1: 0.6, 0: 0.4}, penalty=l2, solver=saga ....\n",
      "[CV]  C=10, class_weight={1: 0.6, 0: 0.4}, penalty=l2, solver=saga, total=   1.0s\n",
      "[CV] C=10, class_weight={1: 0.6, 0: 0.4}, penalty=l2, solver=saga ....\n",
      "[CV]  C=10, class_weight={1: 0.6, 0: 0.4}, penalty=l2, solver=saga, total=   1.1s\n",
      "[CV] C=10, class_weight={1: 0.7, 0: 0.3}, penalty=l1, solver=liblinear \n",
      "[CV]  C=10, class_weight={1: 0.7, 0: 0.3}, penalty=l1, solver=liblinear, total=   0.4s\n",
      "[CV] C=10, class_weight={1: 0.7, 0: 0.3}, penalty=l1, solver=liblinear \n",
      "[CV]  C=10, class_weight={1: 0.7, 0: 0.3}, penalty=l1, solver=liblinear, total=   0.4s\n",
      "[CV] C=10, class_weight={1: 0.7, 0: 0.3}, penalty=l1, solver=liblinear \n",
      "[CV]  C=10, class_weight={1: 0.7, 0: 0.3}, penalty=l1, solver=liblinear, total=   0.4s\n",
      "[CV] C=10, class_weight={1: 0.7, 0: 0.3}, penalty=l1, solver=liblinear \n",
      "[CV]  C=10, class_weight={1: 0.7, 0: 0.3}, penalty=l1, solver=liblinear, total=   0.5s\n",
      "[CV] C=10, class_weight={1: 0.7, 0: 0.3}, penalty=l1, solver=liblinear \n",
      "[CV]  C=10, class_weight={1: 0.7, 0: 0.3}, penalty=l1, solver=liblinear, total=   0.4s\n",
      "[CV] C=10, class_weight={1: 0.7, 0: 0.3}, penalty=l1, solver=saga ....\n",
      "[CV]  C=10, class_weight={1: 0.7, 0: 0.3}, penalty=l1, solver=saga, total= 1.2min\n",
      "[CV] C=10, class_weight={1: 0.7, 0: 0.3}, penalty=l1, solver=saga ....\n",
      "[CV]  C=10, class_weight={1: 0.7, 0: 0.3}, penalty=l1, solver=saga, total= 1.3min\n",
      "[CV] C=10, class_weight={1: 0.7, 0: 0.3}, penalty=l1, solver=saga ....\n",
      "[CV]  C=10, class_weight={1: 0.7, 0: 0.3}, penalty=l1, solver=saga, total= 1.2min\n",
      "[CV] C=10, class_weight={1: 0.7, 0: 0.3}, penalty=l1, solver=saga ....\n",
      "[CV]  C=10, class_weight={1: 0.7, 0: 0.3}, penalty=l1, solver=saga, total= 1.3min\n",
      "[CV] C=10, class_weight={1: 0.7, 0: 0.3}, penalty=l1, solver=saga ....\n",
      "[CV]  C=10, class_weight={1: 0.7, 0: 0.3}, penalty=l1, solver=saga, total= 1.3min\n",
      "[CV] C=10, class_weight={1: 0.7, 0: 0.3}, penalty=l2, solver=liblinear \n",
      "[CV]  C=10, class_weight={1: 0.7, 0: 0.3}, penalty=l2, solver=liblinear, total=   0.4s\n",
      "[CV] C=10, class_weight={1: 0.7, 0: 0.3}, penalty=l2, solver=liblinear \n",
      "[CV]  C=10, class_weight={1: 0.7, 0: 0.3}, penalty=l2, solver=liblinear, total=   0.3s\n",
      "[CV] C=10, class_weight={1: 0.7, 0: 0.3}, penalty=l2, solver=liblinear \n",
      "[CV]  C=10, class_weight={1: 0.7, 0: 0.3}, penalty=l2, solver=liblinear, total=   0.3s\n",
      "[CV] C=10, class_weight={1: 0.7, 0: 0.3}, penalty=l2, solver=liblinear \n",
      "[CV]  C=10, class_weight={1: 0.7, 0: 0.3}, penalty=l2, solver=liblinear, total=   0.4s\n",
      "[CV] C=10, class_weight={1: 0.7, 0: 0.3}, penalty=l2, solver=liblinear \n",
      "[CV]  C=10, class_weight={1: 0.7, 0: 0.3}, penalty=l2, solver=liblinear, total=   0.3s\n",
      "[CV] C=10, class_weight={1: 0.7, 0: 0.3}, penalty=l2, solver=saga ....\n",
      "[CV]  C=10, class_weight={1: 0.7, 0: 0.3}, penalty=l2, solver=saga, total=   1.4s\n",
      "[CV] C=10, class_weight={1: 0.7, 0: 0.3}, penalty=l2, solver=saga ....\n",
      "[CV]  C=10, class_weight={1: 0.7, 0: 0.3}, penalty=l2, solver=saga, total=   1.4s\n",
      "[CV] C=10, class_weight={1: 0.7, 0: 0.3}, penalty=l2, solver=saga ....\n",
      "[CV]  C=10, class_weight={1: 0.7, 0: 0.3}, penalty=l2, solver=saga, total=   1.4s\n",
      "[CV] C=10, class_weight={1: 0.7, 0: 0.3}, penalty=l2, solver=saga ....\n",
      "[CV]  C=10, class_weight={1: 0.7, 0: 0.3}, penalty=l2, solver=saga, total=   1.1s\n",
      "[CV] C=10, class_weight={1: 0.7, 0: 0.3}, penalty=l2, solver=saga ....\n",
      "[CV]  C=10, class_weight={1: 0.7, 0: 0.3}, penalty=l2, solver=saga, total=   1.3s\n",
      "[CV] C=100, class_weight={1: 0.5, 0: 0.5}, penalty=l1, solver=liblinear \n",
      "[CV]  C=100, class_weight={1: 0.5, 0: 0.5}, penalty=l1, solver=liblinear, total=   0.8s\n",
      "[CV] C=100, class_weight={1: 0.5, 0: 0.5}, penalty=l1, solver=liblinear \n",
      "[CV]  C=100, class_weight={1: 0.5, 0: 0.5}, penalty=l1, solver=liblinear, total=   1.0s\n",
      "[CV] C=100, class_weight={1: 0.5, 0: 0.5}, penalty=l1, solver=liblinear \n",
      "[CV]  C=100, class_weight={1: 0.5, 0: 0.5}, penalty=l1, solver=liblinear, total=   1.1s\n",
      "[CV] C=100, class_weight={1: 0.5, 0: 0.5}, penalty=l1, solver=liblinear \n",
      "[CV]  C=100, class_weight={1: 0.5, 0: 0.5}, penalty=l1, solver=liblinear, total=   1.0s\n",
      "[CV] C=100, class_weight={1: 0.5, 0: 0.5}, penalty=l1, solver=liblinear \n",
      "[CV]  C=100, class_weight={1: 0.5, 0: 0.5}, penalty=l1, solver=liblinear, total=   1.4s\n",
      "[CV] C=100, class_weight={1: 0.5, 0: 0.5}, penalty=l1, solver=saga ...\n",
      "[CV]  C=100, class_weight={1: 0.5, 0: 0.5}, penalty=l1, solver=saga, total= 6.2min\n",
      "[CV] C=100, class_weight={1: 0.5, 0: 0.5}, penalty=l1, solver=saga ...\n",
      "[CV]  C=100, class_weight={1: 0.5, 0: 0.5}, penalty=l1, solver=saga, total= 6.0min\n",
      "[CV] C=100, class_weight={1: 0.5, 0: 0.5}, penalty=l1, solver=saga ...\n",
      "[CV]  C=100, class_weight={1: 0.5, 0: 0.5}, penalty=l1, solver=saga, total= 5.7min\n",
      "[CV] C=100, class_weight={1: 0.5, 0: 0.5}, penalty=l1, solver=saga ...\n",
      "[CV]  C=100, class_weight={1: 0.5, 0: 0.5}, penalty=l1, solver=saga, total= 6.2min\n",
      "[CV] C=100, class_weight={1: 0.5, 0: 0.5}, penalty=l1, solver=saga ...\n",
      "[CV]  C=100, class_weight={1: 0.5, 0: 0.5}, penalty=l1, solver=saga, total= 9.0min\n",
      "[CV] C=100, class_weight={1: 0.5, 0: 0.5}, penalty=l2, solver=liblinear \n",
      "[CV]  C=100, class_weight={1: 0.5, 0: 0.5}, penalty=l2, solver=liblinear, total=   0.8s\n",
      "[CV] C=100, class_weight={1: 0.5, 0: 0.5}, penalty=l2, solver=liblinear \n",
      "[CV]  C=100, class_weight={1: 0.5, 0: 0.5}, penalty=l2, solver=liblinear, total=   0.5s\n",
      "[CV] C=100, class_weight={1: 0.5, 0: 0.5}, penalty=l2, solver=liblinear \n",
      "[CV]  C=100, class_weight={1: 0.5, 0: 0.5}, penalty=l2, solver=liblinear, total=   0.8s\n",
      "[CV] C=100, class_weight={1: 0.5, 0: 0.5}, penalty=l2, solver=liblinear \n",
      "[CV]  C=100, class_weight={1: 0.5, 0: 0.5}, penalty=l2, solver=liblinear, total=   0.7s\n",
      "[CV] C=100, class_weight={1: 0.5, 0: 0.5}, penalty=l2, solver=liblinear \n",
      "[CV]  C=100, class_weight={1: 0.5, 0: 0.5}, penalty=l2, solver=liblinear, total=   0.5s\n",
      "[CV] C=100, class_weight={1: 0.5, 0: 0.5}, penalty=l2, solver=saga ...\n",
      "[CV]  C=100, class_weight={1: 0.5, 0: 0.5}, penalty=l2, solver=saga, total=   2.7s\n",
      "[CV] C=100, class_weight={1: 0.5, 0: 0.5}, penalty=l2, solver=saga ...\n",
      "[CV]  C=100, class_weight={1: 0.5, 0: 0.5}, penalty=l2, solver=saga, total=   2.8s\n",
      "[CV] C=100, class_weight={1: 0.5, 0: 0.5}, penalty=l2, solver=saga ...\n",
      "[CV]  C=100, class_weight={1: 0.5, 0: 0.5}, penalty=l2, solver=saga, total=   2.7s\n",
      "[CV] C=100, class_weight={1: 0.5, 0: 0.5}, penalty=l2, solver=saga ...\n",
      "[CV]  C=100, class_weight={1: 0.5, 0: 0.5}, penalty=l2, solver=saga, total=   3.2s\n",
      "[CV] C=100, class_weight={1: 0.5, 0: 0.5}, penalty=l2, solver=saga ...\n",
      "[CV]  C=100, class_weight={1: 0.5, 0: 0.5}, penalty=l2, solver=saga, total=   2.8s\n",
      "[CV] C=100, class_weight={1: 0.6, 0: 0.4}, penalty=l1, solver=liblinear \n",
      "[CV]  C=100, class_weight={1: 0.6, 0: 0.4}, penalty=l1, solver=liblinear, total=   1.1s\n",
      "[CV] C=100, class_weight={1: 0.6, 0: 0.4}, penalty=l1, solver=liblinear \n",
      "[CV]  C=100, class_weight={1: 0.6, 0: 0.4}, penalty=l1, solver=liblinear, total=   1.0s\n",
      "[CV] C=100, class_weight={1: 0.6, 0: 0.4}, penalty=l1, solver=liblinear \n",
      "[CV]  C=100, class_weight={1: 0.6, 0: 0.4}, penalty=l1, solver=liblinear, total=   1.1s\n",
      "[CV] C=100, class_weight={1: 0.6, 0: 0.4}, penalty=l1, solver=liblinear \n",
      "[CV]  C=100, class_weight={1: 0.6, 0: 0.4}, penalty=l1, solver=liblinear, total=   1.0s\n",
      "[CV] C=100, class_weight={1: 0.6, 0: 0.4}, penalty=l1, solver=liblinear \n",
      "[CV]  C=100, class_weight={1: 0.6, 0: 0.4}, penalty=l1, solver=liblinear, total=   1.1s\n",
      "[CV] C=100, class_weight={1: 0.6, 0: 0.4}, penalty=l1, solver=saga ...\n"
     ]
    },
    {
     "name": "stdout",
     "output_type": "stream",
     "text": [
      "[CV]  C=100, class_weight={1: 0.6, 0: 0.4}, penalty=l1, solver=saga, total= 7.5min\n",
      "[CV] C=100, class_weight={1: 0.6, 0: 0.4}, penalty=l1, solver=saga ...\n",
      "[CV]  C=100, class_weight={1: 0.6, 0: 0.4}, penalty=l1, solver=saga, total= 7.2min\n",
      "[CV] C=100, class_weight={1: 0.6, 0: 0.4}, penalty=l1, solver=saga ...\n",
      "[CV]  C=100, class_weight={1: 0.6, 0: 0.4}, penalty=l1, solver=saga, total= 7.1min\n",
      "[CV] C=100, class_weight={1: 0.6, 0: 0.4}, penalty=l1, solver=saga ...\n",
      "[CV]  C=100, class_weight={1: 0.6, 0: 0.4}, penalty=l1, solver=saga, total= 7.1min\n",
      "[CV] C=100, class_weight={1: 0.6, 0: 0.4}, penalty=l1, solver=saga ...\n",
      "[CV]  C=100, class_weight={1: 0.6, 0: 0.4}, penalty=l1, solver=saga, total= 7.1min\n",
      "[CV] C=100, class_weight={1: 0.6, 0: 0.4}, penalty=l2, solver=liblinear \n",
      "[CV]  C=100, class_weight={1: 0.6, 0: 0.4}, penalty=l2, solver=liblinear, total=   0.7s\n",
      "[CV] C=100, class_weight={1: 0.6, 0: 0.4}, penalty=l2, solver=liblinear \n",
      "[CV]  C=100, class_weight={1: 0.6, 0: 0.4}, penalty=l2, solver=liblinear, total=   0.7s\n",
      "[CV] C=100, class_weight={1: 0.6, 0: 0.4}, penalty=l2, solver=liblinear \n",
      "[CV]  C=100, class_weight={1: 0.6, 0: 0.4}, penalty=l2, solver=liblinear, total=   0.6s\n",
      "[CV] C=100, class_weight={1: 0.6, 0: 0.4}, penalty=l2, solver=liblinear \n",
      "[CV]  C=100, class_weight={1: 0.6, 0: 0.4}, penalty=l2, solver=liblinear, total=   0.7s\n",
      "[CV] C=100, class_weight={1: 0.6, 0: 0.4}, penalty=l2, solver=liblinear \n",
      "[CV]  C=100, class_weight={1: 0.6, 0: 0.4}, penalty=l2, solver=liblinear, total=   0.7s\n",
      "[CV] C=100, class_weight={1: 0.6, 0: 0.4}, penalty=l2, solver=saga ...\n",
      "[CV]  C=100, class_weight={1: 0.6, 0: 0.4}, penalty=l2, solver=saga, total=   2.7s\n",
      "[CV] C=100, class_weight={1: 0.6, 0: 0.4}, penalty=l2, solver=saga ...\n",
      "[CV]  C=100, class_weight={1: 0.6, 0: 0.4}, penalty=l2, solver=saga, total=   4.4s\n",
      "[CV] C=100, class_weight={1: 0.6, 0: 0.4}, penalty=l2, solver=saga ...\n",
      "[CV]  C=100, class_weight={1: 0.6, 0: 0.4}, penalty=l2, solver=saga, total=   2.7s\n",
      "[CV] C=100, class_weight={1: 0.6, 0: 0.4}, penalty=l2, solver=saga ...\n",
      "[CV]  C=100, class_weight={1: 0.6, 0: 0.4}, penalty=l2, solver=saga, total=   2.5s\n",
      "[CV] C=100, class_weight={1: 0.6, 0: 0.4}, penalty=l2, solver=saga ...\n",
      "[CV]  C=100, class_weight={1: 0.6, 0: 0.4}, penalty=l2, solver=saga, total=   2.7s\n",
      "[CV] C=100, class_weight={1: 0.7, 0: 0.3}, penalty=l1, solver=liblinear \n",
      "[CV]  C=100, class_weight={1: 0.7, 0: 0.3}, penalty=l1, solver=liblinear, total=   1.2s\n",
      "[CV] C=100, class_weight={1: 0.7, 0: 0.3}, penalty=l1, solver=liblinear \n",
      "[CV]  C=100, class_weight={1: 0.7, 0: 0.3}, penalty=l1, solver=liblinear, total=   1.0s\n",
      "[CV] C=100, class_weight={1: 0.7, 0: 0.3}, penalty=l1, solver=liblinear \n",
      "[CV]  C=100, class_weight={1: 0.7, 0: 0.3}, penalty=l1, solver=liblinear, total=   1.0s\n",
      "[CV] C=100, class_weight={1: 0.7, 0: 0.3}, penalty=l1, solver=liblinear \n",
      "[CV]  C=100, class_weight={1: 0.7, 0: 0.3}, penalty=l1, solver=liblinear, total=   0.9s\n",
      "[CV] C=100, class_weight={1: 0.7, 0: 0.3}, penalty=l1, solver=liblinear \n",
      "[CV]  C=100, class_weight={1: 0.7, 0: 0.3}, penalty=l1, solver=liblinear, total=   1.0s\n",
      "[CV] C=100, class_weight={1: 0.7, 0: 0.3}, penalty=l1, solver=saga ...\n",
      "[CV]  C=100, class_weight={1: 0.7, 0: 0.3}, penalty=l1, solver=saga, total= 7.0min\n",
      "[CV] C=100, class_weight={1: 0.7, 0: 0.3}, penalty=l1, solver=saga ...\n",
      "[CV]  C=100, class_weight={1: 0.7, 0: 0.3}, penalty=l1, solver=saga, total= 7.0min\n",
      "[CV] C=100, class_weight={1: 0.7, 0: 0.3}, penalty=l1, solver=saga ...\n",
      "[CV]  C=100, class_weight={1: 0.7, 0: 0.3}, penalty=l1, solver=saga, total= 6.9min\n",
      "[CV] C=100, class_weight={1: 0.7, 0: 0.3}, penalty=l1, solver=saga ...\n",
      "[CV]  C=100, class_weight={1: 0.7, 0: 0.3}, penalty=l1, solver=saga, total= 7.0min\n",
      "[CV] C=100, class_weight={1: 0.7, 0: 0.3}, penalty=l1, solver=saga ...\n",
      "[CV]  C=100, class_weight={1: 0.7, 0: 0.3}, penalty=l1, solver=saga, total= 7.0min\n",
      "[CV] C=100, class_weight={1: 0.7, 0: 0.3}, penalty=l2, solver=liblinear \n",
      "[CV]  C=100, class_weight={1: 0.7, 0: 0.3}, penalty=l2, solver=liblinear, total=   0.6s\n",
      "[CV] C=100, class_weight={1: 0.7, 0: 0.3}, penalty=l2, solver=liblinear \n",
      "[CV]  C=100, class_weight={1: 0.7, 0: 0.3}, penalty=l2, solver=liblinear, total=   0.5s\n",
      "[CV] C=100, class_weight={1: 0.7, 0: 0.3}, penalty=l2, solver=liblinear \n",
      "[CV]  C=100, class_weight={1: 0.7, 0: 0.3}, penalty=l2, solver=liblinear, total=   0.6s\n",
      "[CV] C=100, class_weight={1: 0.7, 0: 0.3}, penalty=l2, solver=liblinear \n",
      "[CV]  C=100, class_weight={1: 0.7, 0: 0.3}, penalty=l2, solver=liblinear, total=   0.6s\n",
      "[CV] C=100, class_weight={1: 0.7, 0: 0.3}, penalty=l2, solver=liblinear \n",
      "[CV]  C=100, class_weight={1: 0.7, 0: 0.3}, penalty=l2, solver=liblinear, total=   0.6s\n",
      "[CV] C=100, class_weight={1: 0.7, 0: 0.3}, penalty=l2, solver=saga ...\n",
      "[CV]  C=100, class_weight={1: 0.7, 0: 0.3}, penalty=l2, solver=saga, total=   2.8s\n",
      "[CV] C=100, class_weight={1: 0.7, 0: 0.3}, penalty=l2, solver=saga ...\n",
      "[CV]  C=100, class_weight={1: 0.7, 0: 0.3}, penalty=l2, solver=saga, total=   3.1s\n",
      "[CV] C=100, class_weight={1: 0.7, 0: 0.3}, penalty=l2, solver=saga ...\n",
      "[CV]  C=100, class_weight={1: 0.7, 0: 0.3}, penalty=l2, solver=saga, total=   3.1s\n",
      "[CV] C=100, class_weight={1: 0.7, 0: 0.3}, penalty=l2, solver=saga ...\n",
      "[CV]  C=100, class_weight={1: 0.7, 0: 0.3}, penalty=l2, solver=saga, total=   2.7s\n",
      "[CV] C=100, class_weight={1: 0.7, 0: 0.3}, penalty=l2, solver=saga ...\n",
      "[CV]  C=100, class_weight={1: 0.7, 0: 0.3}, penalty=l2, solver=saga, total=   2.7s\n"
     ]
    },
    {
     "name": "stderr",
     "output_type": "stream",
     "text": [
      "[Parallel(n_jobs=-1)]: Done 300 out of 300 | elapsed: 127.2min finished\n"
     ]
    },
    {
     "name": "stdout",
     "output_type": "stream",
     "text": [
      "Best Score:  0.9239517496992828\n",
      "Best Params:  {'C': 10, 'class_weight': {1: 0.6, 0: 0.4}, 'penalty': 'l1', 'solver': 'saga'}\n"
     ]
    }
   ],
   "source": [
    "penalty = ['l1', 'l2']\n",
    "C = [ 0.01, 0.1, 1, 10, 100 ]\n",
    "class_weight = [{1:0.5, 0:0.5}, {1:0.6, 0:0.4}, {1:0.7, 0:0.3}]\n",
    "solver = ['liblinear', 'saga']\n",
    "\n",
    "param_grid = dict(penalty=penalty,\n",
    "                  C=C,\n",
    "                  class_weight=class_weight,\n",
    "                  solver=solver)\n",
    "\n",
    "grid_logistic = GridSearchCV(estimator=LogisticRegression(),\n",
    "                    param_grid=param_grid,\n",
    "                    scoring='f1',\n",
    "                    verbose=2,cv=5,refit=True,n_jobs=-1)\n",
    "grid_logistic_result = grid_logistic.fit(train_word_vec, train[\"class\"])\n",
    "\n",
    "print('Best Score: ', grid_logistic_result.best_score_)\n",
    "print('Best Params: ', grid_logistic_result.best_params_)\n"
   ]
  },
  {
   "cell_type": "code",
   "execution_count": null,
   "metadata": {},
   "outputs": [],
   "source": [
    "model = LogisticRegression().fit(train_word_vec, train[\"class\"])"
   ]
  },
  {
   "cell_type": "code",
   "execution_count": 23,
   "metadata": {},
   "outputs": [
    {
     "data": {
      "text/plain": [
       "0.9213506933418015"
      ]
     },
     "execution_count": 23,
     "metadata": {},
     "output_type": "execute_result"
    }
   ],
   "source": [
    "#increses from 92.13 to 92.86\n",
    "y = model.predict(test_word_vec)\n",
    "metrics.f1_score(test['class'],y)"
   ]
  },
  {
   "cell_type": "code",
   "execution_count": 32,
   "metadata": {
    "scrolled": true
   },
   "outputs": [
    {
     "name": "stdout",
     "output_type": "stream",
     "text": [
      "training f1  96.77105398751932\n",
      "average f1 by cv 92.86056813756783\n",
      "testing f1 93.22643642717648\n"
     ]
    }
   ],
   "source": [
    "y = grid_logistic_result.predict(train_word_vec)\n",
    "print(\"training f1 \",metrics.f1_score(train['class'],y)*100)\n",
    "print(\"average f1 by cv 92.86056813756783\")\n",
    "y = grid_logistic_result.predict(test_word_vec)\n",
    "print(\"testing f1\",metrics.f1_score(test['class'],y)*100)\n"
   ]
  },
  {
   "cell_type": "code",
   "execution_count": 16,
   "metadata": {},
   "outputs": [],
   "source": []
  },
  {
   "cell_type": "code",
   "execution_count": null,
   "metadata": {},
   "outputs": [],
   "source": []
  },
  {
   "cell_type": "code",
   "execution_count": null,
   "metadata": {},
   "outputs": [],
   "source": []
  },
  {
   "cell_type": "code",
   "execution_count": null,
   "metadata": {},
   "outputs": [],
   "source": []
  },
  {
   "cell_type": "code",
   "execution_count": 7,
   "metadata": {},
   "outputs": [],
   "source": [
    "import pickle\n",
    "\n",
    "pkl_filename = \"../model/word_vectorizer.pkl\"  \n"
   ]
  },
  {
   "cell_type": "code",
   "execution_count": null,
   "metadata": {},
   "outputs": [],
   "source": [
    "%run"
   ]
  },
  {
   "cell_type": "code",
   "execution_count": 4,
   "metadata": {},
   "outputs": [],
   "source": [
    "with open(pkl_filename, 'rb') as file:  \n",
    "    LR = pickle.load(file)"
   ]
  },
  {
   "cell_type": "code",
   "execution_count": 8,
   "metadata": {},
   "outputs": [],
   "source": [
    "with open(pkl_filename, 'rb') as file:  \n",
    "    vec = pickle.load(file)"
   ]
  },
  {
   "cell_type": "code",
   "execution_count": 6,
   "metadata": {},
   "outputs": [],
   "source": [
    "with open(pkl_filename, 'rb') as file:  \n",
    "    selector = pickle.load(file)"
   ]
  },
  {
   "cell_type": "code",
   "execution_count": 9,
   "metadata": {},
   "outputs": [],
   "source": [
    "# y = LR.predict(selector.transform(vec.transform(test[\"tweet\"])).astype('float32'))\n",
    "# metrics.f1_score(test['class'],y)*100"
   ]
  },
  {
   "cell_type": "code",
   "execution_count": 1,
   "metadata": {},
   "outputs": [],
   "source": [
    "#LR.predict(selector.transform(vec.transform([\"black people lives matter too\"]).astype('float32')))[0]"
   ]
  },
  {
   "cell_type": "code",
   "execution_count": 35,
   "metadata": {},
   "outputs": [],
   "source": [
    "from vaderSentiment.vaderSentiment import SentimentIntensityAnalyzer as VS\n"
   ]
  },
  {
   "cell_type": "code",
   "execution_count": 26,
   "metadata": {},
   "outputs": [],
   "source": [
    "#sentiment_analyzer = VS()"
   ]
  },
  {
   "cell_type": "code",
   "execution_count": 2,
   "metadata": {},
   "outputs": [],
   "source": [
    "#sentiment_analyzer.polarity_scores(\" female  dogs +are   called  bitches\")"
   ]
  },
  {
   "cell_type": "markdown",
   "metadata": {},
   "source": [
    "# LR with combined vectors"
   ]
  },
  {
   "cell_type": "code",
   "execution_count": 28,
   "metadata": {},
   "outputs": [
    {
     "name": "stdout",
     "output_type": "stream",
     "text": [
      "Fitting 5 folds for each of 32 candidates, totalling 160 fits\n"
     ]
    },
    {
     "name": "stderr",
     "output_type": "stream",
     "text": [
      "[Parallel(n_jobs=-1)]: Using backend SequentialBackend with 1 concurrent workers.\n",
      "[Parallel(n_jobs=-1)]: Done 160 out of 160 | elapsed: 2726.6min finished\n"
     ]
    },
    {
     "name": "stdout",
     "output_type": "stream",
     "text": [
      "Best Score:  0.9274558679886628\n",
      "Best Params:  {'C': 10, 'class_weight': {1: 0.6, 0: 0.4}, 'penalty': 'l2', 'solver': 'saga'}\n"
     ]
    }
   ],
   "source": [
    "penalty = ['l1', 'l2']\n",
    "C = [0.01, 0.1, 1, 10]\n",
    "class_weight = [{1:0.5, 0:0.5}, {1:0.6, 0:0.4}]\n",
    "solver = ['liblinear', 'saga']\n",
    "\n",
    "param_grid = dict(penalty=penalty,\n",
    "                  C=C,\n",
    "                  class_weight=class_weight,\n",
    "                  solver=solver)\n",
    "\n",
    "grid_logistic_combined = GridSearchCV(estimator=LogisticRegression(),\n",
    "                    param_grid=param_grid,\n",
    "                    scoring='f1',\n",
    "                    verbose=1,cv=5,refit=True,n_jobs=-1)\n",
    "grid_logistic_combined_result = grid_logistic_combined.fit(train_vec_combined, train[\"class\"])\n",
    "\n",
    "print('Best Score: ', grid_logistic_combined_result.best_score_)\n",
    "print('Best Params: ', grid_logistic_combined_result.best_params_)\n"
   ]
  },
  {
   "cell_type": "code",
   "execution_count": 36,
   "metadata": {},
   "outputs": [
    {
     "name": "stdout",
     "output_type": "stream",
     "text": [
      "training f1  97.54650233938149\n",
      "average f1 by cv 93.11986799197678\n",
      "testing f1 93.3920704845815\n"
     ]
    }
   ],
   "source": [
    "y = grid_logistic_combined_result.predict(train_vec_combined)\n",
    "print(\"training f1 \",metrics.f1_score(train['class'],y)*100)\n",
    "print(\"average f1 by cv 93.11986799197678\")\n",
    "y = grid_logistic_combined_result.predict(test_vec_combined)\n",
    "print(\"testing f1\",metrics.f1_score(test['class'],y)*100)\n"
   ]
  },
  {
   "cell_type": "code",
   "execution_count": null,
   "metadata": {},
   "outputs": [],
   "source": [
    "lrf = LogisticRegression"
   ]
  },
  {
   "cell_type": "markdown",
   "metadata": {},
   "source": [
    "# LR with other features"
   ]
  },
  {
   "cell_type": "code",
   "execution_count": 33,
   "metadata": {
    "scrolled": true
   },
   "outputs": [
    {
     "name": "stdout",
     "output_type": "stream",
     "text": [
      "Fitting 5 folds for each of 12 candidates, totalling 60 fits\n",
      "[CV] C=0.1, class_weight={1: 0.6, 0: 0.4}, penalty=l1, solver=liblinear \n"
     ]
    },
    {
     "name": "stderr",
     "output_type": "stream",
     "text": [
      "[Parallel(n_jobs=-1)]: Using backend SequentialBackend with 1 concurrent workers.\n"
     ]
    },
    {
     "name": "stdout",
     "output_type": "stream",
     "text": [
      "[CV]  C=0.1, class_weight={1: 0.6, 0: 0.4}, penalty=l1, solver=liblinear, total=   2.2s\n",
      "[CV] C=0.1, class_weight={1: 0.6, 0: 0.4}, penalty=l1, solver=liblinear \n"
     ]
    },
    {
     "name": "stderr",
     "output_type": "stream",
     "text": [
      "[Parallel(n_jobs=-1)]: Done   1 out of   1 | elapsed:    2.2s remaining:    0.0s\n"
     ]
    },
    {
     "name": "stdout",
     "output_type": "stream",
     "text": [
      "[CV]  C=0.1, class_weight={1: 0.6, 0: 0.4}, penalty=l1, solver=liblinear, total=   2.2s\n",
      "[CV] C=0.1, class_weight={1: 0.6, 0: 0.4}, penalty=l1, solver=liblinear \n",
      "[CV]  C=0.1, class_weight={1: 0.6, 0: 0.4}, penalty=l1, solver=liblinear, total=   1.7s\n",
      "[CV] C=0.1, class_weight={1: 0.6, 0: 0.4}, penalty=l1, solver=liblinear \n",
      "[CV]  C=0.1, class_weight={1: 0.6, 0: 0.4}, penalty=l1, solver=liblinear, total=   2.0s\n",
      "[CV] C=0.1, class_weight={1: 0.6, 0: 0.4}, penalty=l1, solver=liblinear \n",
      "[CV]  C=0.1, class_weight={1: 0.6, 0: 0.4}, penalty=l1, solver=liblinear, total=   1.7s\n",
      "[CV] C=0.1, class_weight={1: 0.6, 0: 0.4}, penalty=l1, solver=saga ...\n",
      "[CV]  C=0.1, class_weight={1: 0.6, 0: 0.4}, penalty=l1, solver=saga, total=  14.6s\n",
      "[CV] C=0.1, class_weight={1: 0.6, 0: 0.4}, penalty=l1, solver=saga ...\n",
      "[CV]  C=0.1, class_weight={1: 0.6, 0: 0.4}, penalty=l1, solver=saga, total=  15.3s\n",
      "[CV] C=0.1, class_weight={1: 0.6, 0: 0.4}, penalty=l1, solver=saga ...\n",
      "[CV]  C=0.1, class_weight={1: 0.6, 0: 0.4}, penalty=l1, solver=saga, total=  16.0s\n",
      "[CV] C=0.1, class_weight={1: 0.6, 0: 0.4}, penalty=l1, solver=saga ...\n",
      "[CV]  C=0.1, class_weight={1: 0.6, 0: 0.4}, penalty=l1, solver=saga, total=  16.9s\n",
      "[CV] C=0.1, class_weight={1: 0.6, 0: 0.4}, penalty=l1, solver=saga ...\n",
      "[CV]  C=0.1, class_weight={1: 0.6, 0: 0.4}, penalty=l1, solver=saga, total=  15.1s\n",
      "[CV] C=0.1, class_weight={1: 0.6, 0: 0.4}, penalty=l2, solver=liblinear \n",
      "[CV]  C=0.1, class_weight={1: 0.6, 0: 0.4}, penalty=l2, solver=liblinear, total=   2.6s\n",
      "[CV] C=0.1, class_weight={1: 0.6, 0: 0.4}, penalty=l2, solver=liblinear \n",
      "[CV]  C=0.1, class_weight={1: 0.6, 0: 0.4}, penalty=l2, solver=liblinear, total=   2.4s\n",
      "[CV] C=0.1, class_weight={1: 0.6, 0: 0.4}, penalty=l2, solver=liblinear \n",
      "[CV]  C=0.1, class_weight={1: 0.6, 0: 0.4}, penalty=l2, solver=liblinear, total=   2.0s\n",
      "[CV] C=0.1, class_weight={1: 0.6, 0: 0.4}, penalty=l2, solver=liblinear \n",
      "[CV]  C=0.1, class_weight={1: 0.6, 0: 0.4}, penalty=l2, solver=liblinear, total=   2.4s\n",
      "[CV] C=0.1, class_weight={1: 0.6, 0: 0.4}, penalty=l2, solver=liblinear \n",
      "[CV]  C=0.1, class_weight={1: 0.6, 0: 0.4}, penalty=l2, solver=liblinear, total=   2.7s\n",
      "[CV] C=0.1, class_weight={1: 0.6, 0: 0.4}, penalty=l2, solver=saga ...\n",
      "[CV]  C=0.1, class_weight={1: 0.6, 0: 0.4}, penalty=l2, solver=saga, total=   9.2s\n",
      "[CV] C=0.1, class_weight={1: 0.6, 0: 0.4}, penalty=l2, solver=saga ...\n",
      "[CV]  C=0.1, class_weight={1: 0.6, 0: 0.4}, penalty=l2, solver=saga, total=   9.1s\n",
      "[CV] C=0.1, class_weight={1: 0.6, 0: 0.4}, penalty=l2, solver=saga ...\n",
      "[CV]  C=0.1, class_weight={1: 0.6, 0: 0.4}, penalty=l2, solver=saga, total=   9.1s\n",
      "[CV] C=0.1, class_weight={1: 0.6, 0: 0.4}, penalty=l2, solver=saga ...\n",
      "[CV]  C=0.1, class_weight={1: 0.6, 0: 0.4}, penalty=l2, solver=saga, total=   9.1s\n",
      "[CV] C=0.1, class_weight={1: 0.6, 0: 0.4}, penalty=l2, solver=saga ...\n",
      "[CV]  C=0.1, class_weight={1: 0.6, 0: 0.4}, penalty=l2, solver=saga, total=   9.2s\n",
      "[CV] C=1, class_weight={1: 0.6, 0: 0.4}, penalty=l1, solver=liblinear \n",
      "[CV]  C=1, class_weight={1: 0.6, 0: 0.4}, penalty=l1, solver=liblinear, total=   2.4s\n",
      "[CV] C=1, class_weight={1: 0.6, 0: 0.4}, penalty=l1, solver=liblinear \n",
      "[CV]  C=1, class_weight={1: 0.6, 0: 0.4}, penalty=l1, solver=liblinear, total=   2.4s\n",
      "[CV] C=1, class_weight={1: 0.6, 0: 0.4}, penalty=l1, solver=liblinear \n",
      "[CV]  C=1, class_weight={1: 0.6, 0: 0.4}, penalty=l1, solver=liblinear, total=   2.4s\n",
      "[CV] C=1, class_weight={1: 0.6, 0: 0.4}, penalty=l1, solver=liblinear \n",
      "[CV]  C=1, class_weight={1: 0.6, 0: 0.4}, penalty=l1, solver=liblinear, total=   2.3s\n",
      "[CV] C=1, class_weight={1: 0.6, 0: 0.4}, penalty=l1, solver=liblinear \n",
      "[CV]  C=1, class_weight={1: 0.6, 0: 0.4}, penalty=l1, solver=liblinear, total=   1.9s\n",
      "[CV] C=1, class_weight={1: 0.6, 0: 0.4}, penalty=l1, solver=saga .....\n",
      "[CV]  C=1, class_weight={1: 0.6, 0: 0.4}, penalty=l1, solver=saga, total= 2.2min\n",
      "[CV] C=1, class_weight={1: 0.6, 0: 0.4}, penalty=l1, solver=saga .....\n",
      "[CV]  C=1, class_weight={1: 0.6, 0: 0.4}, penalty=l1, solver=saga, total= 2.2min\n",
      "[CV] C=1, class_weight={1: 0.6, 0: 0.4}, penalty=l1, solver=saga .....\n",
      "[CV]  C=1, class_weight={1: 0.6, 0: 0.4}, penalty=l1, solver=saga, total= 2.6min\n",
      "[CV] C=1, class_weight={1: 0.6, 0: 0.4}, penalty=l1, solver=saga .....\n",
      "[CV]  C=1, class_weight={1: 0.6, 0: 0.4}, penalty=l1, solver=saga, total= 2.4min\n",
      "[CV] C=1, class_weight={1: 0.6, 0: 0.4}, penalty=l1, solver=saga .....\n",
      "[CV]  C=1, class_weight={1: 0.6, 0: 0.4}, penalty=l1, solver=saga, total= 2.1min\n",
      "[CV] C=1, class_weight={1: 0.6, 0: 0.4}, penalty=l2, solver=liblinear \n",
      "[CV]  C=1, class_weight={1: 0.6, 0: 0.4}, penalty=l2, solver=liblinear, total=   3.4s\n",
      "[CV] C=1, class_weight={1: 0.6, 0: 0.4}, penalty=l2, solver=liblinear \n",
      "[CV]  C=1, class_weight={1: 0.6, 0: 0.4}, penalty=l2, solver=liblinear, total=   4.8s\n",
      "[CV] C=1, class_weight={1: 0.6, 0: 0.4}, penalty=l2, solver=liblinear \n",
      "[CV]  C=1, class_weight={1: 0.6, 0: 0.4}, penalty=l2, solver=liblinear, total=   3.4s\n",
      "[CV] C=1, class_weight={1: 0.6, 0: 0.4}, penalty=l2, solver=liblinear \n",
      "[CV]  C=1, class_weight={1: 0.6, 0: 0.4}, penalty=l2, solver=liblinear, total=   2.9s\n",
      "[CV] C=1, class_weight={1: 0.6, 0: 0.4}, penalty=l2, solver=liblinear \n",
      "[CV]  C=1, class_weight={1: 0.6, 0: 0.4}, penalty=l2, solver=liblinear, total=   3.2s\n",
      "[CV] C=1, class_weight={1: 0.6, 0: 0.4}, penalty=l2, solver=saga .....\n",
      "[CV]  C=1, class_weight={1: 0.6, 0: 0.4}, penalty=l2, solver=saga, total=   9.4s\n",
      "[CV] C=1, class_weight={1: 0.6, 0: 0.4}, penalty=l2, solver=saga .....\n",
      "[CV]  C=1, class_weight={1: 0.6, 0: 0.4}, penalty=l2, solver=saga, total=   9.0s\n",
      "[CV] C=1, class_weight={1: 0.6, 0: 0.4}, penalty=l2, solver=saga .....\n",
      "[CV]  C=1, class_weight={1: 0.6, 0: 0.4}, penalty=l2, solver=saga, total=   9.0s\n",
      "[CV] C=1, class_weight={1: 0.6, 0: 0.4}, penalty=l2, solver=saga .....\n",
      "[CV]  C=1, class_weight={1: 0.6, 0: 0.4}, penalty=l2, solver=saga, total=   8.8s\n",
      "[CV] C=1, class_weight={1: 0.6, 0: 0.4}, penalty=l2, solver=saga .....\n",
      "[CV]  C=1, class_weight={1: 0.6, 0: 0.4}, penalty=l2, solver=saga, total=   8.9s\n",
      "[CV] C=10, class_weight={1: 0.6, 0: 0.4}, penalty=l1, solver=liblinear \n",
      "[CV]  C=10, class_weight={1: 0.6, 0: 0.4}, penalty=l1, solver=liblinear, total=   7.3s\n",
      "[CV] C=10, class_weight={1: 0.6, 0: 0.4}, penalty=l1, solver=liblinear \n",
      "[CV]  C=10, class_weight={1: 0.6, 0: 0.4}, penalty=l1, solver=liblinear, total=   7.0s\n",
      "[CV] C=10, class_weight={1: 0.6, 0: 0.4}, penalty=l1, solver=liblinear \n",
      "[CV]  C=10, class_weight={1: 0.6, 0: 0.4}, penalty=l1, solver=liblinear, total=   4.0s\n",
      "[CV] C=10, class_weight={1: 0.6, 0: 0.4}, penalty=l1, solver=liblinear \n",
      "[CV]  C=10, class_weight={1: 0.6, 0: 0.4}, penalty=l1, solver=liblinear, total=   5.7s\n",
      "[CV] C=10, class_weight={1: 0.6, 0: 0.4}, penalty=l1, solver=liblinear \n",
      "[CV]  C=10, class_weight={1: 0.6, 0: 0.4}, penalty=l1, solver=liblinear, total=   6.0s\n",
      "[CV] C=10, class_weight={1: 0.6, 0: 0.4}, penalty=l1, solver=saga ....\n",
      "[CV]  C=10, class_weight={1: 0.6, 0: 0.4}, penalty=l1, solver=saga, total=20.0min\n",
      "[CV] C=10, class_weight={1: 0.6, 0: 0.4}, penalty=l1, solver=saga ....\n",
      "[CV]  C=10, class_weight={1: 0.6, 0: 0.4}, penalty=l1, solver=saga, total=18.8min\n",
      "[CV] C=10, class_weight={1: 0.6, 0: 0.4}, penalty=l1, solver=saga ....\n",
      "[CV]  C=10, class_weight={1: 0.6, 0: 0.4}, penalty=l1, solver=saga, total=18.9min\n",
      "[CV] C=10, class_weight={1: 0.6, 0: 0.4}, penalty=l1, solver=saga ....\n",
      "[CV]  C=10, class_weight={1: 0.6, 0: 0.4}, penalty=l1, solver=saga, total=20.2min\n",
      "[CV] C=10, class_weight={1: 0.6, 0: 0.4}, penalty=l1, solver=saga ....\n",
      "[CV]  C=10, class_weight={1: 0.6, 0: 0.4}, penalty=l1, solver=saga, total=21.9min\n",
      "[CV] C=10, class_weight={1: 0.6, 0: 0.4}, penalty=l2, solver=liblinear \n",
      "[CV]  C=10, class_weight={1: 0.6, 0: 0.4}, penalty=l2, solver=liblinear, total=   5.0s\n",
      "[CV] C=10, class_weight={1: 0.6, 0: 0.4}, penalty=l2, solver=liblinear \n",
      "[CV]  C=10, class_weight={1: 0.6, 0: 0.4}, penalty=l2, solver=liblinear, total=   5.0s\n",
      "[CV] C=10, class_weight={1: 0.6, 0: 0.4}, penalty=l2, solver=liblinear \n",
      "[CV]  C=10, class_weight={1: 0.6, 0: 0.4}, penalty=l2, solver=liblinear, total=   5.7s\n",
      "[CV] C=10, class_weight={1: 0.6, 0: 0.4}, penalty=l2, solver=liblinear \n",
      "[CV]  C=10, class_weight={1: 0.6, 0: 0.4}, penalty=l2, solver=liblinear, total=   5.3s\n",
      "[CV] C=10, class_weight={1: 0.6, 0: 0.4}, penalty=l2, solver=liblinear \n"
     ]
    },
    {
     "name": "stdout",
     "output_type": "stream",
     "text": [
      "[CV]  C=10, class_weight={1: 0.6, 0: 0.4}, penalty=l2, solver=liblinear, total=   4.9s\n",
      "[CV] C=10, class_weight={1: 0.6, 0: 0.4}, penalty=l2, solver=saga ....\n",
      "[CV]  C=10, class_weight={1: 0.6, 0: 0.4}, penalty=l2, solver=saga, total=   9.1s\n",
      "[CV] C=10, class_weight={1: 0.6, 0: 0.4}, penalty=l2, solver=saga ....\n",
      "[CV]  C=10, class_weight={1: 0.6, 0: 0.4}, penalty=l2, solver=saga, total=   9.0s\n",
      "[CV] C=10, class_weight={1: 0.6, 0: 0.4}, penalty=l2, solver=saga ....\n",
      "[CV]  C=10, class_weight={1: 0.6, 0: 0.4}, penalty=l2, solver=saga, total=   9.1s\n",
      "[CV] C=10, class_weight={1: 0.6, 0: 0.4}, penalty=l2, solver=saga ....\n",
      "[CV]  C=10, class_weight={1: 0.6, 0: 0.4}, penalty=l2, solver=saga, total=   9.5s\n",
      "[CV] C=10, class_weight={1: 0.6, 0: 0.4}, penalty=l2, solver=saga ....\n",
      "[CV]  C=10, class_weight={1: 0.6, 0: 0.4}, penalty=l2, solver=saga, total=   9.1s\n"
     ]
    },
    {
     "name": "stderr",
     "output_type": "stream",
     "text": [
      "[Parallel(n_jobs=-1)]: Done  60 out of  60 | elapsed: 116.7min finished\n"
     ]
    },
    {
     "name": "stdout",
     "output_type": "stream",
     "text": [
      "Best Score:  0.9272458882041892\n",
      "Best Params:  {'C': 10, 'class_weight': {1: 0.6, 0: 0.4}, 'penalty': 'l2', 'solver': 'liblinear'}\n"
     ]
    }
   ],
   "source": [
    "penalty = ['l1', 'l2']\n",
    "C = [0.1, 1, 10]\n",
    "class_weight = [ {1:0.6, 0:0.4}]\n",
    "solver = ['liblinear', 'saga']\n",
    "\n",
    "param_grid = dict(penalty=penalty,\n",
    "                  C=C,\n",
    "                  class_weight=class_weight,\n",
    "                  solver=solver)\n",
    "\n",
    "grid_logistic_combined = GridSearchCV(estimator=LogisticRegression(),\n",
    "                    param_grid=param_grid,\n",
    "                    scoring='f1',\n",
    "                    verbose=2,cv=5,refit=True,n_jobs=-1)\n",
    "grid_logistic_ft = grid_logistic_combined.fit(train_ft_vec, train[\"class\"])\n",
    "\n",
    "print('Best Score: ', grid_logistic_ft.best_score_)\n",
    "print('Best Params: ', grid_logistic_ft.best_params_)\n"
   ]
  },
  {
   "cell_type": "code",
   "execution_count": 69,
   "metadata": {},
   "outputs": [],
   "source": [
    "lr = LogisticRegression(C=10,class_weight = {1:0.6, 0:0.4},solver = 'liblinear').fit(train_ft_vec,train[\"class\"])"
   ]
  },
  {
   "cell_type": "code",
   "execution_count": 75,
   "metadata": {},
   "outputs": [],
   "source": [
    "plr = lr.predict(test_ft_vec)"
   ]
  },
  {
   "cell_type": "code",
   "execution_count": 76,
   "metadata": {},
   "outputs": [],
   "source": [
    "pd.DataFrame(plr).to_csv('plr.csv')"
   ]
  },
  {
   "cell_type": "code",
   "execution_count": 77,
   "metadata": {},
   "outputs": [
    {
     "data": {
      "text/html": [
       "<div>\n",
       "<style scoped>\n",
       "    .dataframe tbody tr th:only-of-type {\n",
       "        vertical-align: middle;\n",
       "    }\n",
       "\n",
       "    .dataframe tbody tr th {\n",
       "        vertical-align: top;\n",
       "    }\n",
       "\n",
       "    .dataframe thead th {\n",
       "        text-align: right;\n",
       "    }\n",
       "</style>\n",
       "<table border=\"1\" class=\"dataframe\">\n",
       "  <thead>\n",
       "    <tr style=\"text-align: right;\">\n",
       "      <th></th>\n",
       "      <th>Unnamed: 0</th>\n",
       "      <th>0</th>\n",
       "    </tr>\n",
       "  </thead>\n",
       "  <tbody>\n",
       "    <tr>\n",
       "      <th>0</th>\n",
       "      <td>0</td>\n",
       "      <td>0</td>\n",
       "    </tr>\n",
       "    <tr>\n",
       "      <th>1</th>\n",
       "      <td>1</td>\n",
       "      <td>0</td>\n",
       "    </tr>\n",
       "    <tr>\n",
       "      <th>2</th>\n",
       "      <td>2</td>\n",
       "      <td>0</td>\n",
       "    </tr>\n",
       "    <tr>\n",
       "      <th>3</th>\n",
       "      <td>3</td>\n",
       "      <td>0</td>\n",
       "    </tr>\n",
       "    <tr>\n",
       "      <th>4</th>\n",
       "      <td>4</td>\n",
       "      <td>0</td>\n",
       "    </tr>\n",
       "    <tr>\n",
       "      <th>...</th>\n",
       "      <td>...</td>\n",
       "      <td>...</td>\n",
       "    </tr>\n",
       "    <tr>\n",
       "      <th>11943</th>\n",
       "      <td>11943</td>\n",
       "      <td>0</td>\n",
       "    </tr>\n",
       "    <tr>\n",
       "      <th>11944</th>\n",
       "      <td>11944</td>\n",
       "      <td>1</td>\n",
       "    </tr>\n",
       "    <tr>\n",
       "      <th>11945</th>\n",
       "      <td>11945</td>\n",
       "      <td>0</td>\n",
       "    </tr>\n",
       "    <tr>\n",
       "      <th>11946</th>\n",
       "      <td>11946</td>\n",
       "      <td>0</td>\n",
       "    </tr>\n",
       "    <tr>\n",
       "      <th>11947</th>\n",
       "      <td>11947</td>\n",
       "      <td>1</td>\n",
       "    </tr>\n",
       "  </tbody>\n",
       "</table>\n",
       "<p>11948 rows × 2 columns</p>\n",
       "</div>"
      ],
      "text/plain": [
       "       Unnamed: 0  0\n",
       "0               0  0\n",
       "1               1  0\n",
       "2               2  0\n",
       "3               3  0\n",
       "4               4  0\n",
       "...           ... ..\n",
       "11943       11943  0\n",
       "11944       11944  1\n",
       "11945       11945  0\n",
       "11946       11946  0\n",
       "11947       11947  1\n",
       "\n",
       "[11948 rows x 2 columns]"
      ]
     },
     "execution_count": 77,
     "metadata": {},
     "output_type": "execute_result"
    }
   ],
   "source": [
    "pd.read_csv(\"plr.csv\")"
   ]
  },
  {
   "cell_type": "code",
   "execution_count": 90,
   "metadata": {},
   "outputs": [],
   "source": [
    "att = pd.read_csv(\"/home/sandhya/Downloads/cnn.csv\")"
   ]
  },
  {
   "cell_type": "code",
   "execution_count": 91,
   "metadata": {},
   "outputs": [],
   "source": [
    "att['0'] = (att['0']>0.48)* 1"
   ]
  },
  {
   "cell_type": "code",
   "execution_count": 92,
   "metadata": {},
   "outputs": [],
   "source": [
    "pd.DataFrame(att['0']).to_csv(\"a.csv\")"
   ]
  },
  {
   "cell_type": "code",
   "execution_count": 93,
   "metadata": {},
   "outputs": [
    {
     "name": "stdout",
     "output_type": "stream",
     "text": [
      "Finding correlation between: a.csv and plr.csv\n",
      "Column to be measured: 0\n",
      "Pearson's correlation score: 0.6810190209268407\n",
      "Kendall's correlation score: 0.6810190209268443\n",
      "Spearman's correlation score: 0.6810190209268444\n"
     ]
    }
   ],
   "source": [
    "import pandas as pd\n",
    "import sys\n",
    "\n",
    "first_file = 'a.csv'\n",
    "second_file = 'plr.csv'\n",
    "\n",
    "def corr(first_file, second_file):\n",
    "  first_df = pd.read_csv(first_file,index_col=0)\n",
    "  second_df = pd.read_csv(second_file,index_col=0)\n",
    "  # assuming first column is `prediction_id` and second column is `prediction`\n",
    "  prediction = first_df.columns[0]\n",
    "  # correlation\n",
    "  print(\"Finding correlation between: {} and {}\".format(first_file,second_file))\n",
    "  print(\"Column to be measured: {}\".format(prediction))\n",
    "  #print(\" score: {}\".format(first_df[prediction]))\n",
    "  #print(\" score1: {}\".format(second_df[prediction])\n",
    "  \n",
    "  print(\"Pearson's correlation score: {}\".format(first_df[prediction].corr(second_df[prediction],method='pearson')))\n",
    "  print(\"Kendall's correlation score: {}\".format(first_df[prediction].corr(second_df[prediction],method='kendall')))\n",
    "  print(\"Spearman's correlation score: {}\".format(first_df[prediction].corr(second_df[prediction],method='spearman')))\n",
    "\n",
    "corr(first_file, second_file)"
   ]
  },
  {
   "cell_type": "code",
   "execution_count": 94,
   "metadata": {},
   "outputs": [
    {
     "name": "stdout",
     "output_type": "stream",
     "text": [
      "Finding correlation between: a.csv and xgb.csv\n",
      "Column to be measured: 0\n",
      "Pearson's correlation score: 0.6873682517685868\n",
      "Kendall's correlation score: 0.6873682517685873\n",
      "Spearman's correlation score: 0.6873682517685872\n"
     ]
    }
   ],
   "source": [
    "import pandas as pd\n",
    "import sys\n",
    "\n",
    "first_file = 'a.csv'\n",
    "second_file = 'xgb.csv'\n",
    "\n",
    "def corr(first_file, second_file):\n",
    "  first_df = pd.read_csv(first_file,index_col=0)\n",
    "  second_df = pd.read_csv(second_file,index_col=0)\n",
    "  # assuming first column is `prediction_id` and second column is `prediction`\n",
    "  prediction = first_df.columns[0]\n",
    "  # correlation\n",
    "  print(\"Finding correlation between: {} and {}\".format(first_file,second_file))\n",
    "  print(\"Column to be measured: {}\".format(prediction))\n",
    "  #print(\" score: {}\".format(first_df[prediction]))\n",
    "  #print(\" score1: {}\".format(second_df[prediction])\n",
    "  \n",
    "  print(\"Pearson's correlation score: {}\".format(first_df[prediction].corr(second_df[prediction],method='pearson')))\n",
    "  print(\"Kendall's correlation score: {}\".format(first_df[prediction].corr(second_df[prediction],method='kendall')))\n",
    "  print(\"Spearman's correlation score: {}\".format(first_df[prediction].corr(second_df[prediction],method='spearman')))\n",
    "\n",
    "corr(first_file, second_file)"
   ]
  },
  {
   "cell_type": "markdown",
   "metadata": {},
   "source": [
    "# XGBoost(GBD)\n",
    "### Ensemble\n",
    "* Bagging RF(decreases Variance)\n",
    "* Boosting GBM (decreases Bias)\n",
    "### [Hyperparameter tuning](https://www.analyticsvidhya.com/blog/2016/03/complete-guide-parameter-tuning-xgboost-with-codes-python/)\n"
   ]
  },
  {
   "cell_type": "code",
   "execution_count": 20,
   "metadata": {},
   "outputs": [],
   "source": [
    "from xgboost import XGBClassifier"
   ]
  },
  {
   "cell_type": "code",
   "execution_count": 29,
   "metadata": {},
   "outputs": [],
   "source": [
    "xgb1 = {\n",
    " 'learning_rate' : [1],\n",
    " 'n_estimators' : range(40,151,10),\n",
    " 'max_depth' : [5],\n",
    " 'min_child_weight' : [1],\n",
    " 'gamma' : [0],\n",
    " 'subsample' : [0.8],\n",
    " 'colsample_bytree' : [0.8],\n",
    " 'objective' : ['binary:logistic'],\n",
    " 'seed' : [27]}"
   ]
  },
  {
   "cell_type": "code",
   "execution_count": 30,
   "metadata": {},
   "outputs": [
    {
     "name": "stdout",
     "output_type": "stream",
     "text": [
      "Fitting 5 folds for each of 12 candidates, totalling 60 fits\n",
      "[CV] colsample_bytree=0.8, gamma=0, learning_rate=1, max_depth=5, min_child_weight=1, n_estimators=40, objective=binary:logistic, seed=27, subsample=0.8 \n"
     ]
    },
    {
     "name": "stderr",
     "output_type": "stream",
     "text": [
      "[Parallel(n_jobs=-1)]: Using backend SequentialBackend with 1 concurrent workers.\n"
     ]
    },
    {
     "name": "stdout",
     "output_type": "stream",
     "text": [
      "[CV]  colsample_bytree=0.8, gamma=0, learning_rate=1, max_depth=5, min_child_weight=1, n_estimators=40, objective=binary:logistic, seed=27, subsample=0.8, total= 1.1min\n",
      "[CV] colsample_bytree=0.8, gamma=0, learning_rate=1, max_depth=5, min_child_weight=1, n_estimators=40, objective=binary:logistic, seed=27, subsample=0.8 \n"
     ]
    },
    {
     "name": "stderr",
     "output_type": "stream",
     "text": [
      "[Parallel(n_jobs=-1)]: Done   1 out of   1 | elapsed:  1.1min remaining:    0.0s\n"
     ]
    },
    {
     "name": "stdout",
     "output_type": "stream",
     "text": [
      "[CV]  colsample_bytree=0.8, gamma=0, learning_rate=1, max_depth=5, min_child_weight=1, n_estimators=40, objective=binary:logistic, seed=27, subsample=0.8, total= 1.1min\n",
      "[CV] colsample_bytree=0.8, gamma=0, learning_rate=1, max_depth=5, min_child_weight=1, n_estimators=40, objective=binary:logistic, seed=27, subsample=0.8 \n",
      "[CV]  colsample_bytree=0.8, gamma=0, learning_rate=1, max_depth=5, min_child_weight=1, n_estimators=40, objective=binary:logistic, seed=27, subsample=0.8, total= 1.0min\n",
      "[CV] colsample_bytree=0.8, gamma=0, learning_rate=1, max_depth=5, min_child_weight=1, n_estimators=40, objective=binary:logistic, seed=27, subsample=0.8 \n",
      "[CV]  colsample_bytree=0.8, gamma=0, learning_rate=1, max_depth=5, min_child_weight=1, n_estimators=40, objective=binary:logistic, seed=27, subsample=0.8, total= 1.1min\n",
      "[CV] colsample_bytree=0.8, gamma=0, learning_rate=1, max_depth=5, min_child_weight=1, n_estimators=40, objective=binary:logistic, seed=27, subsample=0.8 \n",
      "[CV]  colsample_bytree=0.8, gamma=0, learning_rate=1, max_depth=5, min_child_weight=1, n_estimators=40, objective=binary:logistic, seed=27, subsample=0.8, total= 1.1min\n",
      "[CV] colsample_bytree=0.8, gamma=0, learning_rate=1, max_depth=5, min_child_weight=1, n_estimators=50, objective=binary:logistic, seed=27, subsample=0.8 \n",
      "[CV]  colsample_bytree=0.8, gamma=0, learning_rate=1, max_depth=5, min_child_weight=1, n_estimators=50, objective=binary:logistic, seed=27, subsample=0.8, total= 1.3min\n",
      "[CV] colsample_bytree=0.8, gamma=0, learning_rate=1, max_depth=5, min_child_weight=1, n_estimators=50, objective=binary:logistic, seed=27, subsample=0.8 \n",
      "[CV]  colsample_bytree=0.8, gamma=0, learning_rate=1, max_depth=5, min_child_weight=1, n_estimators=50, objective=binary:logistic, seed=27, subsample=0.8, total= 1.3min\n",
      "[CV] colsample_bytree=0.8, gamma=0, learning_rate=1, max_depth=5, min_child_weight=1, n_estimators=50, objective=binary:logistic, seed=27, subsample=0.8 \n",
      "[CV]  colsample_bytree=0.8, gamma=0, learning_rate=1, max_depth=5, min_child_weight=1, n_estimators=50, objective=binary:logistic, seed=27, subsample=0.8, total= 1.3min\n",
      "[CV] colsample_bytree=0.8, gamma=0, learning_rate=1, max_depth=5, min_child_weight=1, n_estimators=50, objective=binary:logistic, seed=27, subsample=0.8 \n",
      "[CV]  colsample_bytree=0.8, gamma=0, learning_rate=1, max_depth=5, min_child_weight=1, n_estimators=50, objective=binary:logistic, seed=27, subsample=0.8, total= 1.3min\n",
      "[CV] colsample_bytree=0.8, gamma=0, learning_rate=1, max_depth=5, min_child_weight=1, n_estimators=50, objective=binary:logistic, seed=27, subsample=0.8 \n",
      "[CV]  colsample_bytree=0.8, gamma=0, learning_rate=1, max_depth=5, min_child_weight=1, n_estimators=50, objective=binary:logistic, seed=27, subsample=0.8, total= 1.3min\n",
      "[CV] colsample_bytree=0.8, gamma=0, learning_rate=1, max_depth=5, min_child_weight=1, n_estimators=60, objective=binary:logistic, seed=27, subsample=0.8 \n",
      "[CV]  colsample_bytree=0.8, gamma=0, learning_rate=1, max_depth=5, min_child_weight=1, n_estimators=60, objective=binary:logistic, seed=27, subsample=0.8, total= 1.6min\n",
      "[CV] colsample_bytree=0.8, gamma=0, learning_rate=1, max_depth=5, min_child_weight=1, n_estimators=60, objective=binary:logistic, seed=27, subsample=0.8 \n",
      "[CV]  colsample_bytree=0.8, gamma=0, learning_rate=1, max_depth=5, min_child_weight=1, n_estimators=60, objective=binary:logistic, seed=27, subsample=0.8, total= 3.0min\n",
      "[CV] colsample_bytree=0.8, gamma=0, learning_rate=1, max_depth=5, min_child_weight=1, n_estimators=60, objective=binary:logistic, seed=27, subsample=0.8 \n",
      "[CV]  colsample_bytree=0.8, gamma=0, learning_rate=1, max_depth=5, min_child_weight=1, n_estimators=60, objective=binary:logistic, seed=27, subsample=0.8, total= 3.5min\n",
      "[CV] colsample_bytree=0.8, gamma=0, learning_rate=1, max_depth=5, min_child_weight=1, n_estimators=60, objective=binary:logistic, seed=27, subsample=0.8 \n",
      "[CV]  colsample_bytree=0.8, gamma=0, learning_rate=1, max_depth=5, min_child_weight=1, n_estimators=60, objective=binary:logistic, seed=27, subsample=0.8, total= 3.5min\n",
      "[CV] colsample_bytree=0.8, gamma=0, learning_rate=1, max_depth=5, min_child_weight=1, n_estimators=60, objective=binary:logistic, seed=27, subsample=0.8 \n",
      "[CV]  colsample_bytree=0.8, gamma=0, learning_rate=1, max_depth=5, min_child_weight=1, n_estimators=60, objective=binary:logistic, seed=27, subsample=0.8, total= 3.6min\n",
      "[CV] colsample_bytree=0.8, gamma=0, learning_rate=1, max_depth=5, min_child_weight=1, n_estimators=70, objective=binary:logistic, seed=27, subsample=0.8 \n",
      "[CV]  colsample_bytree=0.8, gamma=0, learning_rate=1, max_depth=5, min_child_weight=1, n_estimators=70, objective=binary:logistic, seed=27, subsample=0.8, total= 4.1min\n",
      "[CV] colsample_bytree=0.8, gamma=0, learning_rate=1, max_depth=5, min_child_weight=1, n_estimators=70, objective=binary:logistic, seed=27, subsample=0.8 \n",
      "[CV]  colsample_bytree=0.8, gamma=0, learning_rate=1, max_depth=5, min_child_weight=1, n_estimators=70, objective=binary:logistic, seed=27, subsample=0.8, total= 4.1min\n",
      "[CV] colsample_bytree=0.8, gamma=0, learning_rate=1, max_depth=5, min_child_weight=1, n_estimators=70, objective=binary:logistic, seed=27, subsample=0.8 \n",
      "[CV]  colsample_bytree=0.8, gamma=0, learning_rate=1, max_depth=5, min_child_weight=1, n_estimators=70, objective=binary:logistic, seed=27, subsample=0.8, total= 3.1min\n",
      "[CV] colsample_bytree=0.8, gamma=0, learning_rate=1, max_depth=5, min_child_weight=1, n_estimators=70, objective=binary:logistic, seed=27, subsample=0.8 \n",
      "[CV]  colsample_bytree=0.8, gamma=0, learning_rate=1, max_depth=5, min_child_weight=1, n_estimators=70, objective=binary:logistic, seed=27, subsample=0.8, total= 1.8min\n",
      "[CV] colsample_bytree=0.8, gamma=0, learning_rate=1, max_depth=5, min_child_weight=1, n_estimators=70, objective=binary:logistic, seed=27, subsample=0.8 \n",
      "[CV]  colsample_bytree=0.8, gamma=0, learning_rate=1, max_depth=5, min_child_weight=1, n_estimators=70, objective=binary:logistic, seed=27, subsample=0.8, total= 1.7min\n",
      "[CV] colsample_bytree=0.8, gamma=0, learning_rate=1, max_depth=5, min_child_weight=1, n_estimators=80, objective=binary:logistic, seed=27, subsample=0.8 \n",
      "[CV]  colsample_bytree=0.8, gamma=0, learning_rate=1, max_depth=5, min_child_weight=1, n_estimators=80, objective=binary:logistic, seed=27, subsample=0.8, total= 2.0min\n",
      "[CV] colsample_bytree=0.8, gamma=0, learning_rate=1, max_depth=5, min_child_weight=1, n_estimators=80, objective=binary:logistic, seed=27, subsample=0.8 \n",
      "[CV]  colsample_bytree=0.8, gamma=0, learning_rate=1, max_depth=5, min_child_weight=1, n_estimators=80, objective=binary:logistic, seed=27, subsample=0.8, total= 2.0min\n",
      "[CV] colsample_bytree=0.8, gamma=0, learning_rate=1, max_depth=5, min_child_weight=1, n_estimators=80, objective=binary:logistic, seed=27, subsample=0.8 \n",
      "[CV]  colsample_bytree=0.8, gamma=0, learning_rate=1, max_depth=5, min_child_weight=1, n_estimators=80, objective=binary:logistic, seed=27, subsample=0.8, total= 2.0min\n",
      "[CV] colsample_bytree=0.8, gamma=0, learning_rate=1, max_depth=5, min_child_weight=1, n_estimators=80, objective=binary:logistic, seed=27, subsample=0.8 \n",
      "[CV]  colsample_bytree=0.8, gamma=0, learning_rate=1, max_depth=5, min_child_weight=1, n_estimators=80, objective=binary:logistic, seed=27, subsample=0.8, total= 2.1min\n",
      "[CV] colsample_bytree=0.8, gamma=0, learning_rate=1, max_depth=5, min_child_weight=1, n_estimators=80, objective=binary:logistic, seed=27, subsample=0.8 \n",
      "[CV]  colsample_bytree=0.8, gamma=0, learning_rate=1, max_depth=5, min_child_weight=1, n_estimators=80, objective=binary:logistic, seed=27, subsample=0.8, total= 2.3min\n",
      "[CV] colsample_bytree=0.8, gamma=0, learning_rate=1, max_depth=5, min_child_weight=1, n_estimators=90, objective=binary:logistic, seed=27, subsample=0.8 \n",
      "[CV]  colsample_bytree=0.8, gamma=0, learning_rate=1, max_depth=5, min_child_weight=1, n_estimators=90, objective=binary:logistic, seed=27, subsample=0.8, total= 2.4min\n",
      "[CV] colsample_bytree=0.8, gamma=0, learning_rate=1, max_depth=5, min_child_weight=1, n_estimators=90, objective=binary:logistic, seed=27, subsample=0.8 \n",
      "[CV]  colsample_bytree=0.8, gamma=0, learning_rate=1, max_depth=5, min_child_weight=1, n_estimators=90, objective=binary:logistic, seed=27, subsample=0.8, total= 2.9min\n",
      "[CV] colsample_bytree=0.8, gamma=0, learning_rate=1, max_depth=5, min_child_weight=1, n_estimators=90, objective=binary:logistic, seed=27, subsample=0.8 \n"
     ]
    },
    {
     "name": "stdout",
     "output_type": "stream",
     "text": [
      "[CV]  colsample_bytree=0.8, gamma=0, learning_rate=1, max_depth=5, min_child_weight=1, n_estimators=90, objective=binary:logistic, seed=27, subsample=0.8, total= 2.0min\n",
      "[CV] colsample_bytree=0.8, gamma=0, learning_rate=1, max_depth=5, min_child_weight=1, n_estimators=90, objective=binary:logistic, seed=27, subsample=0.8 \n",
      "[CV]  colsample_bytree=0.8, gamma=0, learning_rate=1, max_depth=5, min_child_weight=1, n_estimators=90, objective=binary:logistic, seed=27, subsample=0.8, total= 2.1min\n",
      "[CV] colsample_bytree=0.8, gamma=0, learning_rate=1, max_depth=5, min_child_weight=1, n_estimators=90, objective=binary:logistic, seed=27, subsample=0.8 \n",
      "[CV]  colsample_bytree=0.8, gamma=0, learning_rate=1, max_depth=5, min_child_weight=1, n_estimators=90, objective=binary:logistic, seed=27, subsample=0.8, total= 2.2min\n",
      "[CV] colsample_bytree=0.8, gamma=0, learning_rate=1, max_depth=5, min_child_weight=1, n_estimators=100, objective=binary:logistic, seed=27, subsample=0.8 \n",
      "[CV]  colsample_bytree=0.8, gamma=0, learning_rate=1, max_depth=5, min_child_weight=1, n_estimators=100, objective=binary:logistic, seed=27, subsample=0.8, total= 2.5min\n",
      "[CV] colsample_bytree=0.8, gamma=0, learning_rate=1, max_depth=5, min_child_weight=1, n_estimators=100, objective=binary:logistic, seed=27, subsample=0.8 \n",
      "[CV]  colsample_bytree=0.8, gamma=0, learning_rate=1, max_depth=5, min_child_weight=1, n_estimators=100, objective=binary:logistic, seed=27, subsample=0.8, total= 2.4min\n",
      "[CV] colsample_bytree=0.8, gamma=0, learning_rate=1, max_depth=5, min_child_weight=1, n_estimators=100, objective=binary:logistic, seed=27, subsample=0.8 \n",
      "[CV]  colsample_bytree=0.8, gamma=0, learning_rate=1, max_depth=5, min_child_weight=1, n_estimators=100, objective=binary:logistic, seed=27, subsample=0.8, total= 2.4min\n",
      "[CV] colsample_bytree=0.8, gamma=0, learning_rate=1, max_depth=5, min_child_weight=1, n_estimators=100, objective=binary:logistic, seed=27, subsample=0.8 \n",
      "[CV]  colsample_bytree=0.8, gamma=0, learning_rate=1, max_depth=5, min_child_weight=1, n_estimators=100, objective=binary:logistic, seed=27, subsample=0.8, total= 2.4min\n",
      "[CV] colsample_bytree=0.8, gamma=0, learning_rate=1, max_depth=5, min_child_weight=1, n_estimators=100, objective=binary:logistic, seed=27, subsample=0.8 \n",
      "[CV]  colsample_bytree=0.8, gamma=0, learning_rate=1, max_depth=5, min_child_weight=1, n_estimators=100, objective=binary:logistic, seed=27, subsample=0.8, total= 2.4min\n",
      "[CV] colsample_bytree=0.8, gamma=0, learning_rate=1, max_depth=5, min_child_weight=1, n_estimators=110, objective=binary:logistic, seed=27, subsample=0.8 \n",
      "[CV]  colsample_bytree=0.8, gamma=0, learning_rate=1, max_depth=5, min_child_weight=1, n_estimators=110, objective=binary:logistic, seed=27, subsample=0.8, total= 2.6min\n",
      "[CV] colsample_bytree=0.8, gamma=0, learning_rate=1, max_depth=5, min_child_weight=1, n_estimators=110, objective=binary:logistic, seed=27, subsample=0.8 \n",
      "[CV]  colsample_bytree=0.8, gamma=0, learning_rate=1, max_depth=5, min_child_weight=1, n_estimators=110, objective=binary:logistic, seed=27, subsample=0.8, total= 2.6min\n",
      "[CV] colsample_bytree=0.8, gamma=0, learning_rate=1, max_depth=5, min_child_weight=1, n_estimators=110, objective=binary:logistic, seed=27, subsample=0.8 \n",
      "[CV]  colsample_bytree=0.8, gamma=0, learning_rate=1, max_depth=5, min_child_weight=1, n_estimators=110, objective=binary:logistic, seed=27, subsample=0.8, total= 2.6min\n",
      "[CV] colsample_bytree=0.8, gamma=0, learning_rate=1, max_depth=5, min_child_weight=1, n_estimators=110, objective=binary:logistic, seed=27, subsample=0.8 \n",
      "[CV]  colsample_bytree=0.8, gamma=0, learning_rate=1, max_depth=5, min_child_weight=1, n_estimators=110, objective=binary:logistic, seed=27, subsample=0.8, total= 2.8min\n",
      "[CV] colsample_bytree=0.8, gamma=0, learning_rate=1, max_depth=5, min_child_weight=1, n_estimators=110, objective=binary:logistic, seed=27, subsample=0.8 \n",
      "[CV]  colsample_bytree=0.8, gamma=0, learning_rate=1, max_depth=5, min_child_weight=1, n_estimators=110, objective=binary:logistic, seed=27, subsample=0.8, total= 2.4min\n",
      "[CV] colsample_bytree=0.8, gamma=0, learning_rate=1, max_depth=5, min_child_weight=1, n_estimators=120, objective=binary:logistic, seed=27, subsample=0.8 \n",
      "[CV]  colsample_bytree=0.8, gamma=0, learning_rate=1, max_depth=5, min_child_weight=1, n_estimators=120, objective=binary:logistic, seed=27, subsample=0.8, total= 3.0min\n",
      "[CV] colsample_bytree=0.8, gamma=0, learning_rate=1, max_depth=5, min_child_weight=1, n_estimators=120, objective=binary:logistic, seed=27, subsample=0.8 \n",
      "[CV]  colsample_bytree=0.8, gamma=0, learning_rate=1, max_depth=5, min_child_weight=1, n_estimators=120, objective=binary:logistic, seed=27, subsample=0.8, total= 2.5min\n",
      "[CV] colsample_bytree=0.8, gamma=0, learning_rate=1, max_depth=5, min_child_weight=1, n_estimators=120, objective=binary:logistic, seed=27, subsample=0.8 \n",
      "[CV]  colsample_bytree=0.8, gamma=0, learning_rate=1, max_depth=5, min_child_weight=1, n_estimators=120, objective=binary:logistic, seed=27, subsample=0.8, total= 2.5min\n",
      "[CV] colsample_bytree=0.8, gamma=0, learning_rate=1, max_depth=5, min_child_weight=1, n_estimators=120, objective=binary:logistic, seed=27, subsample=0.8 \n",
      "[CV]  colsample_bytree=0.8, gamma=0, learning_rate=1, max_depth=5, min_child_weight=1, n_estimators=120, objective=binary:logistic, seed=27, subsample=0.8, total= 2.5min\n",
      "[CV] colsample_bytree=0.8, gamma=0, learning_rate=1, max_depth=5, min_child_weight=1, n_estimators=120, objective=binary:logistic, seed=27, subsample=0.8 \n",
      "[CV]  colsample_bytree=0.8, gamma=0, learning_rate=1, max_depth=5, min_child_weight=1, n_estimators=120, objective=binary:logistic, seed=27, subsample=0.8, total= 2.5min\n",
      "[CV] colsample_bytree=0.8, gamma=0, learning_rate=1, max_depth=5, min_child_weight=1, n_estimators=130, objective=binary:logistic, seed=27, subsample=0.8 \n",
      "[CV]  colsample_bytree=0.8, gamma=0, learning_rate=1, max_depth=5, min_child_weight=1, n_estimators=130, objective=binary:logistic, seed=27, subsample=0.8, total= 2.7min\n",
      "[CV] colsample_bytree=0.8, gamma=0, learning_rate=1, max_depth=5, min_child_weight=1, n_estimators=130, objective=binary:logistic, seed=27, subsample=0.8 \n",
      "[CV]  colsample_bytree=0.8, gamma=0, learning_rate=1, max_depth=5, min_child_weight=1, n_estimators=130, objective=binary:logistic, seed=27, subsample=0.8, total= 2.7min\n",
      "[CV] colsample_bytree=0.8, gamma=0, learning_rate=1, max_depth=5, min_child_weight=1, n_estimators=130, objective=binary:logistic, seed=27, subsample=0.8 \n",
      "[CV]  colsample_bytree=0.8, gamma=0, learning_rate=1, max_depth=5, min_child_weight=1, n_estimators=130, objective=binary:logistic, seed=27, subsample=0.8, total= 2.7min\n",
      "[CV] colsample_bytree=0.8, gamma=0, learning_rate=1, max_depth=5, min_child_weight=1, n_estimators=130, objective=binary:logistic, seed=27, subsample=0.8 \n",
      "[CV]  colsample_bytree=0.8, gamma=0, learning_rate=1, max_depth=5, min_child_weight=1, n_estimators=130, objective=binary:logistic, seed=27, subsample=0.8, total= 2.7min\n",
      "[CV] colsample_bytree=0.8, gamma=0, learning_rate=1, max_depth=5, min_child_weight=1, n_estimators=130, objective=binary:logistic, seed=27, subsample=0.8 \n",
      "[CV]  colsample_bytree=0.8, gamma=0, learning_rate=1, max_depth=5, min_child_weight=1, n_estimators=130, objective=binary:logistic, seed=27, subsample=0.8, total= 2.7min\n",
      "[CV] colsample_bytree=0.8, gamma=0, learning_rate=1, max_depth=5, min_child_weight=1, n_estimators=140, objective=binary:logistic, seed=27, subsample=0.8 \n",
      "[CV]  colsample_bytree=0.8, gamma=0, learning_rate=1, max_depth=5, min_child_weight=1, n_estimators=140, objective=binary:logistic, seed=27, subsample=0.8, total= 2.9min\n",
      "[CV] colsample_bytree=0.8, gamma=0, learning_rate=1, max_depth=5, min_child_weight=1, n_estimators=140, objective=binary:logistic, seed=27, subsample=0.8 \n",
      "[CV]  colsample_bytree=0.8, gamma=0, learning_rate=1, max_depth=5, min_child_weight=1, n_estimators=140, objective=binary:logistic, seed=27, subsample=0.8, total= 2.9min\n",
      "[CV] colsample_bytree=0.8, gamma=0, learning_rate=1, max_depth=5, min_child_weight=1, n_estimators=140, objective=binary:logistic, seed=27, subsample=0.8 \n",
      "[CV]  colsample_bytree=0.8, gamma=0, learning_rate=1, max_depth=5, min_child_weight=1, n_estimators=140, objective=binary:logistic, seed=27, subsample=0.8, total= 2.9min\n",
      "[CV] colsample_bytree=0.8, gamma=0, learning_rate=1, max_depth=5, min_child_weight=1, n_estimators=140, objective=binary:logistic, seed=27, subsample=0.8 \n"
     ]
    },
    {
     "name": "stdout",
     "output_type": "stream",
     "text": [
      "[CV]  colsample_bytree=0.8, gamma=0, learning_rate=1, max_depth=5, min_child_weight=1, n_estimators=140, objective=binary:logistic, seed=27, subsample=0.8, total= 2.9min\n",
      "[CV] colsample_bytree=0.8, gamma=0, learning_rate=1, max_depth=5, min_child_weight=1, n_estimators=140, objective=binary:logistic, seed=27, subsample=0.8 \n",
      "[CV]  colsample_bytree=0.8, gamma=0, learning_rate=1, max_depth=5, min_child_weight=1, n_estimators=140, objective=binary:logistic, seed=27, subsample=0.8, total= 2.9min\n",
      "[CV] colsample_bytree=0.8, gamma=0, learning_rate=1, max_depth=5, min_child_weight=1, n_estimators=150, objective=binary:logistic, seed=27, subsample=0.8 \n",
      "[CV]  colsample_bytree=0.8, gamma=0, learning_rate=1, max_depth=5, min_child_weight=1, n_estimators=150, objective=binary:logistic, seed=27, subsample=0.8, total= 3.1min\n",
      "[CV] colsample_bytree=0.8, gamma=0, learning_rate=1, max_depth=5, min_child_weight=1, n_estimators=150, objective=binary:logistic, seed=27, subsample=0.8 \n",
      "[CV]  colsample_bytree=0.8, gamma=0, learning_rate=1, max_depth=5, min_child_weight=1, n_estimators=150, objective=binary:logistic, seed=27, subsample=0.8, total= 3.1min\n",
      "[CV] colsample_bytree=0.8, gamma=0, learning_rate=1, max_depth=5, min_child_weight=1, n_estimators=150, objective=binary:logistic, seed=27, subsample=0.8 \n",
      "[CV]  colsample_bytree=0.8, gamma=0, learning_rate=1, max_depth=5, min_child_weight=1, n_estimators=150, objective=binary:logistic, seed=27, subsample=0.8, total= 3.1min\n",
      "[CV] colsample_bytree=0.8, gamma=0, learning_rate=1, max_depth=5, min_child_weight=1, n_estimators=150, objective=binary:logistic, seed=27, subsample=0.8 \n",
      "[CV]  colsample_bytree=0.8, gamma=0, learning_rate=1, max_depth=5, min_child_weight=1, n_estimators=150, objective=binary:logistic, seed=27, subsample=0.8, total= 3.1min\n",
      "[CV] colsample_bytree=0.8, gamma=0, learning_rate=1, max_depth=5, min_child_weight=1, n_estimators=150, objective=binary:logistic, seed=27, subsample=0.8 \n",
      "[CV]  colsample_bytree=0.8, gamma=0, learning_rate=1, max_depth=5, min_child_weight=1, n_estimators=150, objective=binary:logistic, seed=27, subsample=0.8, total= 3.1min\n"
     ]
    },
    {
     "name": "stderr",
     "output_type": "stream",
     "text": [
      "[Parallel(n_jobs=-1)]: Done  60 out of  60 | elapsed: 145.3min finished\n"
     ]
    },
    {
     "name": "stdout",
     "output_type": "stream",
     "text": [
      "Best Score:  0.9203786125437695\n",
      "Best Params:  {'colsample_bytree': 0.8, 'gamma': 0, 'learning_rate': 1, 'max_depth': 5, 'min_child_weight': 1, 'n_estimators': 50, 'objective': 'binary:logistic', 'seed': 27, 'subsample': 0.8}\n"
     ]
    }
   ],
   "source": [
    "xgbm1 = GridSearchCV(XGBClassifier(),xgb1,refit=True,cv=5,verbose=2,n_jobs=-1)\n",
    "xgbm1.fit(train_ft_vec,train[\"class\"])\n",
    "print('Best Score: ', xgbm1.best_score_)\n",
    "print('Best Params: ', xgbm1.best_params_)\n"
   ]
  },
  {
   "cell_type": "code",
   "execution_count": 22,
   "metadata": {},
   "outputs": [],
   "source": [
    "xg = XGBClassifier().fit(train_ft_vec,train[\"class\"])"
   ]
  },
  {
   "cell_type": "code",
   "execution_count": 23,
   "metadata": {},
   "outputs": [],
   "source": [
    "predict = xg.predict(test_ft_vec)"
   ]
  },
  {
   "cell_type": "code",
   "execution_count": 24,
   "metadata": {},
   "outputs": [],
   "source": [
    "pd.DataFrame(predict).to_csv('xgb.csv')\n"
   ]
  },
  {
   "cell_type": "code",
   "execution_count": 95,
   "metadata": {},
   "outputs": [],
   "source": [
    "#pd.read_csv(\"xgb.csv\")"
   ]
  },
  {
   "cell_type": "markdown",
   "metadata": {},
   "source": [
    "<img src=\"https://miro.medium.com/max/1280/0*08KrYhXpVQdUXWrX\" />"
   ]
  },
  {
   "cell_type": "markdown",
   "metadata": {},
   "source": [
    "<img src=\"https://miro.medium.com/max/1280/1*6HVomcqW7BWuZ2vvGOEptw.png\" />"
   ]
  },
  {
   "cell_type": "code",
   "execution_count": 19,
   "metadata": {},
   "outputs": [],
   "source": [
    "param_grid_svm = {'C': [0.01,0.1,1, 10], 'gamma': [1,0.1,0.01,0.001],'kernel': ['linear']}"
   ]
  },
  {
   "cell_type": "code",
   "execution_count": 20,
   "metadata": {
    "scrolled": true
   },
   "outputs": [
    {
     "name": "stdout",
     "output_type": "stream",
     "text": [
      "Fitting 5 folds for each of 16 candidates, totalling 80 fits\n",
      "[CV] C=0.01, gamma=1, kernel=linear ..................................\n"
     ]
    },
    {
     "name": "stderr",
     "output_type": "stream",
     "text": [
      "[Parallel(n_jobs=-1)]: Using backend SequentialBackend with 1 concurrent workers.\n"
     ]
    },
    {
     "name": "stdout",
     "output_type": "stream",
     "text": [
      "[CV] ................... C=0.01, gamma=1, kernel=linear, total= 3.3min\n",
      "[CV] C=0.01, gamma=1, kernel=linear ..................................\n"
     ]
    },
    {
     "name": "stderr",
     "output_type": "stream",
     "text": [
      "[Parallel(n_jobs=-1)]: Done   1 out of   1 | elapsed:  3.3min remaining:    0.0s\n"
     ]
    },
    {
     "name": "stdout",
     "output_type": "stream",
     "text": [
      "[CV] ................... C=0.01, gamma=1, kernel=linear, total= 3.1min\n",
      "[CV] C=0.01, gamma=1, kernel=linear ..................................\n",
      "[CV] ................... C=0.01, gamma=1, kernel=linear, total= 3.1min\n",
      "[CV] C=0.01, gamma=1, kernel=linear ..................................\n",
      "[CV] ................... C=0.01, gamma=1, kernel=linear, total= 3.1min\n",
      "[CV] C=0.01, gamma=1, kernel=linear ..................................\n",
      "[CV] ................... C=0.01, gamma=1, kernel=linear, total= 3.1min\n",
      "[CV] C=0.01, gamma=0.1, kernel=linear ................................\n",
      "[CV] ................. C=0.01, gamma=0.1, kernel=linear, total= 3.1min\n",
      "[CV] C=0.01, gamma=0.1, kernel=linear ................................\n",
      "[CV] ................. C=0.01, gamma=0.1, kernel=linear, total= 3.1min\n",
      "[CV] C=0.01, gamma=0.1, kernel=linear ................................\n",
      "[CV] ................. C=0.01, gamma=0.1, kernel=linear, total= 3.1min\n",
      "[CV] C=0.01, gamma=0.1, kernel=linear ................................\n",
      "[CV] ................. C=0.01, gamma=0.1, kernel=linear, total= 3.3min\n",
      "[CV] C=0.01, gamma=0.1, kernel=linear ................................\n",
      "[CV] ................. C=0.01, gamma=0.1, kernel=linear, total= 3.2min\n",
      "[CV] C=0.01, gamma=0.01, kernel=linear ...............................\n",
      "[CV] ................ C=0.01, gamma=0.01, kernel=linear, total= 3.2min\n",
      "[CV] C=0.01, gamma=0.01, kernel=linear ...............................\n",
      "[CV] ................ C=0.01, gamma=0.01, kernel=linear, total= 3.1min\n",
      "[CV] C=0.01, gamma=0.01, kernel=linear ...............................\n",
      "[CV] ................ C=0.01, gamma=0.01, kernel=linear, total= 3.2min\n",
      "[CV] C=0.01, gamma=0.01, kernel=linear ...............................\n",
      "[CV] ................ C=0.01, gamma=0.01, kernel=linear, total= 3.2min\n",
      "[CV] C=0.01, gamma=0.01, kernel=linear ...............................\n",
      "[CV] ................ C=0.01, gamma=0.01, kernel=linear, total= 3.3min\n",
      "[CV] C=0.01, gamma=0.001, kernel=linear ..............................\n",
      "[CV] ............... C=0.01, gamma=0.001, kernel=linear, total= 3.2min\n",
      "[CV] C=0.01, gamma=0.001, kernel=linear ..............................\n",
      "[CV] ............... C=0.01, gamma=0.001, kernel=linear, total= 3.2min\n",
      "[CV] C=0.01, gamma=0.001, kernel=linear ..............................\n",
      "[CV] ............... C=0.01, gamma=0.001, kernel=linear, total= 3.2min\n",
      "[CV] C=0.01, gamma=0.001, kernel=linear ..............................\n",
      "[CV] ............... C=0.01, gamma=0.001, kernel=linear, total= 3.2min\n",
      "[CV] C=0.01, gamma=0.001, kernel=linear ..............................\n",
      "[CV] ............... C=0.01, gamma=0.001, kernel=linear, total= 3.3min\n",
      "[CV] C=0.1, gamma=1, kernel=linear ...................................\n",
      "[CV] .................... C=0.1, gamma=1, kernel=linear, total= 2.5min\n",
      "[CV] C=0.1, gamma=1, kernel=linear ...................................\n",
      "[CV] .................... C=0.1, gamma=1, kernel=linear, total= 2.7min\n",
      "[CV] C=0.1, gamma=1, kernel=linear ...................................\n",
      "[CV] .................... C=0.1, gamma=1, kernel=linear, total= 2.4min\n",
      "[CV] C=0.1, gamma=1, kernel=linear ...................................\n",
      "[CV] .................... C=0.1, gamma=1, kernel=linear, total= 2.7min\n",
      "[CV] C=0.1, gamma=1, kernel=linear ...................................\n",
      "[CV] .................... C=0.1, gamma=1, kernel=linear, total= 2.7min\n",
      "[CV] C=0.1, gamma=0.1, kernel=linear .................................\n",
      "[CV] .................. C=0.1, gamma=0.1, kernel=linear, total= 2.4min\n",
      "[CV] C=0.1, gamma=0.1, kernel=linear .................................\n",
      "[CV] .................. C=0.1, gamma=0.1, kernel=linear, total= 2.6min\n",
      "[CV] C=0.1, gamma=0.1, kernel=linear .................................\n",
      "[CV] .................. C=0.1, gamma=0.1, kernel=linear, total= 2.4min\n",
      "[CV] C=0.1, gamma=0.1, kernel=linear .................................\n",
      "[CV] .................. C=0.1, gamma=0.1, kernel=linear, total= 2.6min\n",
      "[CV] C=0.1, gamma=0.1, kernel=linear .................................\n",
      "[CV] .................. C=0.1, gamma=0.1, kernel=linear, total= 2.7min\n",
      "[CV] C=0.1, gamma=0.01, kernel=linear ................................\n",
      "[CV] ................. C=0.1, gamma=0.01, kernel=linear, total= 2.4min\n",
      "[CV] C=0.1, gamma=0.01, kernel=linear ................................\n",
      "[CV] ................. C=0.1, gamma=0.01, kernel=linear, total= 2.6min\n",
      "[CV] C=0.1, gamma=0.01, kernel=linear ................................\n",
      "[CV] ................. C=0.1, gamma=0.01, kernel=linear, total= 2.4min\n",
      "[CV] C=0.1, gamma=0.01, kernel=linear ................................\n",
      "[CV] ................. C=0.1, gamma=0.01, kernel=linear, total= 2.7min\n",
      "[CV] C=0.1, gamma=0.01, kernel=linear ................................\n",
      "[CV] ................. C=0.1, gamma=0.01, kernel=linear, total= 2.7min\n",
      "[CV] C=0.1, gamma=0.001, kernel=linear ...............................\n",
      "[CV] ................ C=0.1, gamma=0.001, kernel=linear, total= 2.4min\n",
      "[CV] C=0.1, gamma=0.001, kernel=linear ...............................\n",
      "[CV] ................ C=0.1, gamma=0.001, kernel=linear, total= 2.6min\n",
      "[CV] C=0.1, gamma=0.001, kernel=linear ...............................\n",
      "[CV] ................ C=0.1, gamma=0.001, kernel=linear, total= 2.4min\n",
      "[CV] C=0.1, gamma=0.001, kernel=linear ...............................\n",
      "[CV] ................ C=0.1, gamma=0.001, kernel=linear, total= 2.7min\n",
      "[CV] C=0.1, gamma=0.001, kernel=linear ...............................\n",
      "[CV] ................ C=0.1, gamma=0.001, kernel=linear, total= 2.7min\n",
      "[CV] C=1, gamma=1, kernel=linear .....................................\n",
      "[CV] ...................... C=1, gamma=1, kernel=linear, total= 3.7min\n",
      "[CV] C=1, gamma=1, kernel=linear .....................................\n",
      "[CV] ...................... C=1, gamma=1, kernel=linear, total= 3.7min\n",
      "[CV] C=1, gamma=1, kernel=linear .....................................\n",
      "[CV] ...................... C=1, gamma=1, kernel=linear, total= 3.7min\n",
      "[CV] C=1, gamma=1, kernel=linear .....................................\n",
      "[CV] ...................... C=1, gamma=1, kernel=linear, total= 3.9min\n",
      "[CV] C=1, gamma=1, kernel=linear .....................................\n",
      "[CV] ...................... C=1, gamma=1, kernel=linear, total= 3.8min\n",
      "[CV] C=1, gamma=0.1, kernel=linear ...................................\n",
      "[CV] .................... C=1, gamma=0.1, kernel=linear, total= 3.8min\n",
      "[CV] C=1, gamma=0.1, kernel=linear ...................................\n",
      "[CV] .................... C=1, gamma=0.1, kernel=linear, total= 3.7min\n",
      "[CV] C=1, gamma=0.1, kernel=linear ...................................\n",
      "[CV] .................... C=1, gamma=0.1, kernel=linear, total= 3.8min\n",
      "[CV] C=1, gamma=0.1, kernel=linear ...................................\n",
      "[CV] .................... C=1, gamma=0.1, kernel=linear, total= 4.9min\n",
      "[CV] C=1, gamma=0.1, kernel=linear ...................................\n",
      "[CV] .................... C=1, gamma=0.1, kernel=linear, total= 4.9min\n",
      "[CV] C=1, gamma=0.01, kernel=linear ..................................\n",
      "[CV] ................... C=1, gamma=0.01, kernel=linear, total= 4.7min\n",
      "[CV] C=1, gamma=0.01, kernel=linear ..................................\n",
      "[CV] ................... C=1, gamma=0.01, kernel=linear, total= 4.9min\n",
      "[CV] C=1, gamma=0.01, kernel=linear ..................................\n",
      "[CV] ................... C=1, gamma=0.01, kernel=linear, total= 4.8min\n",
      "[CV] C=1, gamma=0.01, kernel=linear ..................................\n",
      "[CV] ................... C=1, gamma=0.01, kernel=linear, total= 4.9min\n",
      "[CV] C=1, gamma=0.01, kernel=linear ..................................\n",
      "[CV] ................... C=1, gamma=0.01, kernel=linear, total= 4.7min\n",
      "[CV] C=1, gamma=0.001, kernel=linear .................................\n",
      "[CV] .................. C=1, gamma=0.001, kernel=linear, total= 4.6min\n",
      "[CV] C=1, gamma=0.001, kernel=linear .................................\n",
      "[CV] .................. C=1, gamma=0.001, kernel=linear, total= 4.6min\n",
      "[CV] C=1, gamma=0.001, kernel=linear .................................\n",
      "[CV] .................. C=1, gamma=0.001, kernel=linear, total= 4.7min\n",
      "[CV] C=1, gamma=0.001, kernel=linear .................................\n",
      "[CV] .................. C=1, gamma=0.001, kernel=linear, total= 4.8min\n",
      "[CV] C=1, gamma=0.001, kernel=linear .................................\n"
     ]
    },
    {
     "name": "stdout",
     "output_type": "stream",
     "text": [
      "[CV] .................. C=1, gamma=0.001, kernel=linear, total= 4.8min\n",
      "[CV] C=10, gamma=1, kernel=linear ....................................\n",
      "[CV] ..................... C=10, gamma=1, kernel=linear, total= 8.1min\n",
      "[CV] C=10, gamma=1, kernel=linear ....................................\n",
      "[CV] ..................... C=10, gamma=1, kernel=linear, total= 6.7min\n",
      "[CV] C=10, gamma=1, kernel=linear ....................................\n",
      "[CV] ..................... C=10, gamma=1, kernel=linear, total= 8.3min\n",
      "[CV] C=10, gamma=1, kernel=linear ....................................\n",
      "[CV] ..................... C=10, gamma=1, kernel=linear, total= 7.0min\n",
      "[CV] C=10, gamma=1, kernel=linear ....................................\n",
      "[CV] ..................... C=10, gamma=1, kernel=linear, total= 8.4min\n",
      "[CV] C=10, gamma=0.1, kernel=linear ..................................\n",
      "[CV] ................... C=10, gamma=0.1, kernel=linear, total= 8.2min\n",
      "[CV] C=10, gamma=0.1, kernel=linear ..................................\n",
      "[CV] ................... C=10, gamma=0.1, kernel=linear, total= 6.9min\n",
      "[CV] C=10, gamma=0.1, kernel=linear ..................................\n",
      "[CV] ................... C=10, gamma=0.1, kernel=linear, total= 8.5min\n",
      "[CV] C=10, gamma=0.1, kernel=linear ..................................\n",
      "[CV] ................... C=10, gamma=0.1, kernel=linear, total= 7.3min\n",
      "[CV] C=10, gamma=0.1, kernel=linear ..................................\n",
      "[CV] ................... C=10, gamma=0.1, kernel=linear, total= 8.4min\n",
      "[CV] C=10, gamma=0.01, kernel=linear .................................\n",
      "[CV] .................. C=10, gamma=0.01, kernel=linear, total= 8.1min\n",
      "[CV] C=10, gamma=0.01, kernel=linear .................................\n",
      "[CV] .................. C=10, gamma=0.01, kernel=linear, total= 6.9min\n",
      "[CV] C=10, gamma=0.01, kernel=linear .................................\n",
      "[CV] .................. C=10, gamma=0.01, kernel=linear, total= 8.1min\n",
      "[CV] C=10, gamma=0.01, kernel=linear .................................\n",
      "[CV] .................. C=10, gamma=0.01, kernel=linear, total= 7.3min\n",
      "[CV] C=10, gamma=0.01, kernel=linear .................................\n",
      "[CV] .................. C=10, gamma=0.01, kernel=linear, total= 7.8min\n",
      "[CV] C=10, gamma=0.001, kernel=linear ................................\n",
      "[CV] ................. C=10, gamma=0.001, kernel=linear, total= 7.3min\n",
      "[CV] C=10, gamma=0.001, kernel=linear ................................\n",
      "[CV] ................. C=10, gamma=0.001, kernel=linear, total= 6.6min\n",
      "[CV] C=10, gamma=0.001, kernel=linear ................................\n",
      "[CV] ................. C=10, gamma=0.001, kernel=linear, total= 6.9min\n",
      "[CV] C=10, gamma=0.001, kernel=linear ................................\n",
      "[CV] ................. C=10, gamma=0.001, kernel=linear, total= 5.9min\n",
      "[CV] C=10, gamma=0.001, kernel=linear ................................\n",
      "[CV] ................. C=10, gamma=0.001, kernel=linear, total= 6.4min\n"
     ]
    },
    {
     "name": "stderr",
     "output_type": "stream",
     "text": [
      "[Parallel(n_jobs=-1)]: Done  80 out of  80 | elapsed: 351.7min finished\n"
     ]
    },
    {
     "name": "stdout",
     "output_type": "stream",
     "text": [
      "Best Score:  0.9399896748835307\n",
      "Best Params:  {'C': 1, 'gamma': 1, 'kernel': 'linear'}\n"
     ]
    }
   ],
   "source": [
    "#by default 5 fold cv\n",
    "grid_svm = GridSearchCV(SVC(),param_grid_svm,refit=True,cv=5,verbose=2,n_jobs=-1)\n",
    "grid_svm.fit(train_word_vec,train[\"class\"])\n",
    "print('Best Score: ', grid_svm.best_score_)\n",
    "print('Best Params: ', grid_svm.best_params_)\n"
   ]
  },
  {
   "cell_type": "code",
   "execution_count": 45,
   "metadata": {},
   "outputs": [],
   "source": [
    "param_grid_svm = {'C': [1], 'gamma': [100],'kernel': ['linear']}"
   ]
  },
  {
   "cell_type": "code",
   "execution_count": 46,
   "metadata": {},
   "outputs": [
    {
     "name": "stdout",
     "output_type": "stream",
     "text": [
      "Fitting 5 folds for each of 1 candidates, totalling 5 fits\n",
      "[CV] C=1, gamma=100, kernel=linear ...................................\n"
     ]
    },
    {
     "name": "stderr",
     "output_type": "stream",
     "text": [
      "[Parallel(n_jobs=-1)]: Using backend SequentialBackend with 1 concurrent workers.\n"
     ]
    },
    {
     "name": "stdout",
     "output_type": "stream",
     "text": [
      "[CV] .................... C=1, gamma=100, kernel=linear, total= 3.9min\n",
      "[CV] C=1, gamma=100, kernel=linear ...................................\n"
     ]
    },
    {
     "name": "stderr",
     "output_type": "stream",
     "text": [
      "[Parallel(n_jobs=-1)]: Done   1 out of   1 | elapsed:  3.9min remaining:    0.0s\n"
     ]
    },
    {
     "name": "stdout",
     "output_type": "stream",
     "text": [
      "[CV] .................... C=1, gamma=100, kernel=linear, total= 3.8min\n",
      "[CV] C=1, gamma=100, kernel=linear ...................................\n",
      "[CV] .................... C=1, gamma=100, kernel=linear, total=18.2min\n",
      "[CV] C=1, gamma=100, kernel=linear ...................................\n",
      "[CV] .................... C=1, gamma=100, kernel=linear, total= 4.0min\n",
      "[CV] C=1, gamma=100, kernel=linear ...................................\n",
      "[CV] .................... C=1, gamma=100, kernel=linear, total= 3.8min\n"
     ]
    },
    {
     "name": "stderr",
     "output_type": "stream",
     "text": [
      "[Parallel(n_jobs=-1)]: Done   5 out of   5 | elapsed: 33.7min finished\n"
     ]
    },
    {
     "name": "stdout",
     "output_type": "stream",
     "text": [
      "Best Score:  0.9399896748835307\n",
      "Best Params:  {'C': 1, 'gamma': 100, 'kernel': 'linear'}\n"
     ]
    }
   ],
   "source": [
    "grid_svm = GridSearchCV(SVC(),param_grid_svm,refit=True,cv=5,verbose=2,n_jobs=-1)\n",
    "grid_svm.fit(train_word_vec,train[\"class\"])\n",
    "print('Best Score: ', grid_svm.best_score_)\n",
    "print('Best Params: ', grid_svm.best_params_)"
   ]
  },
  {
   "cell_type": "code",
   "execution_count": 42,
   "metadata": {},
   "outputs": [
    {
     "name": "stdout",
     "output_type": "stream",
     "text": [
      "training f1  95.08724675020494\n",
      "average f1 by cv 94.23910454870208\n",
      "testing f1 93.0330015715034\n"
     ]
    }
   ],
   "source": [
    "y = grid_svm.predict(train_word_vec)\n",
    "print(\"training f1 \",metrics.f1_score(train['class'],y)*100)\n",
    "print(\"average f1 by cv 94.23910454870208\")\n",
    "y = grid_svm.predict(test_word_vec)\n",
    "print(\"testing f1\",metrics.f1_score(test['class'],y)*100)\n"
   ]
  },
  {
   "cell_type": "code",
   "execution_count": 29,
   "metadata": {},
   "outputs": [],
   "source": [
    "param_grid_svm_combined = {'C': [0.01,0.1,1], 'gamma': [10,1,0.1],'kernel': ['linear']}"
   ]
  },
  {
   "cell_type": "code",
   "execution_count": 31,
   "metadata": {},
   "outputs": [
    {
     "name": "stdout",
     "output_type": "stream",
     "text": [
      "Fitting 5 folds for each of 9 candidates, totalling 45 fits\n",
      "[CV] C=0.01, gamma=10, kernel=linear .................................\n"
     ]
    },
    {
     "name": "stderr",
     "output_type": "stream",
     "text": [
      "[Parallel(n_jobs=-1)]: Using backend SequentialBackend with 1 concurrent workers.\n"
     ]
    },
    {
     "name": "stdout",
     "output_type": "stream",
     "text": [
      "[CV] .................. C=0.01, gamma=10, kernel=linear, total= 3.2min\n",
      "[CV] C=0.01, gamma=10, kernel=linear .................................\n"
     ]
    },
    {
     "name": "stderr",
     "output_type": "stream",
     "text": [
      "[Parallel(n_jobs=-1)]: Done   1 out of   1 | elapsed:  3.2min remaining:    0.0s\n"
     ]
    },
    {
     "name": "stdout",
     "output_type": "stream",
     "text": [
      "[CV] .................. C=0.01, gamma=10, kernel=linear, total= 3.8min\n",
      "[CV] C=0.01, gamma=10, kernel=linear .................................\n",
      "[CV] .................. C=0.01, gamma=10, kernel=linear, total= 4.1min\n",
      "[CV] C=0.01, gamma=10, kernel=linear .................................\n",
      "[CV] .................. C=0.01, gamma=10, kernel=linear, total= 4.0min\n",
      "[CV] C=0.01, gamma=10, kernel=linear .................................\n",
      "[CV] .................. C=0.01, gamma=10, kernel=linear, total= 4.1min\n",
      "[CV] C=0.01, gamma=1, kernel=linear ..................................\n",
      "[CV] ................... C=0.01, gamma=1, kernel=linear, total= 4.0min\n",
      "[CV] C=0.01, gamma=1, kernel=linear ..................................\n",
      "[CV] ................... C=0.01, gamma=1, kernel=linear, total= 4.0min\n",
      "[CV] C=0.01, gamma=1, kernel=linear ..................................\n",
      "[CV] ................... C=0.01, gamma=1, kernel=linear, total= 4.5min\n",
      "[CV] C=0.01, gamma=1, kernel=linear ..................................\n",
      "[CV] ................... C=0.01, gamma=1, kernel=linear, total= 4.3min\n",
      "[CV] C=0.01, gamma=1, kernel=linear ..................................\n",
      "[CV] ................... C=0.01, gamma=1, kernel=linear, total= 4.2min\n",
      "[CV] C=0.01, gamma=0.1, kernel=linear ................................\n",
      "[CV] ................. C=0.01, gamma=0.1, kernel=linear, total= 4.2min\n",
      "[CV] C=0.01, gamma=0.1, kernel=linear ................................\n",
      "[CV] ................. C=0.01, gamma=0.1, kernel=linear, total= 4.2min\n",
      "[CV] C=0.01, gamma=0.1, kernel=linear ................................\n",
      "[CV] ................. C=0.01, gamma=0.1, kernel=linear, total= 4.2min\n",
      "[CV] C=0.01, gamma=0.1, kernel=linear ................................\n",
      "[CV] ................. C=0.01, gamma=0.1, kernel=linear, total= 3.8min\n",
      "[CV] C=0.01, gamma=0.1, kernel=linear ................................\n",
      "[CV] ................. C=0.01, gamma=0.1, kernel=linear, total= 3.7min\n",
      "[CV] C=0.1, gamma=10, kernel=linear ..................................\n",
      "[CV] ................... C=0.1, gamma=10, kernel=linear, total= 2.9min\n",
      "[CV] C=0.1, gamma=10, kernel=linear ..................................\n",
      "[CV] ................... C=0.1, gamma=10, kernel=linear, total= 3.1min\n",
      "[CV] C=0.1, gamma=10, kernel=linear ..................................\n",
      "[CV] ................... C=0.1, gamma=10, kernel=linear, total= 2.9min\n",
      "[CV] C=0.1, gamma=10, kernel=linear ..................................\n",
      "[CV] ................... C=0.1, gamma=10, kernel=linear, total= 3.5min\n",
      "[CV] C=0.1, gamma=10, kernel=linear ..................................\n",
      "[CV] ................... C=0.1, gamma=10, kernel=linear, total= 2.7min\n",
      "[CV] C=0.1, gamma=1, kernel=linear ...................................\n",
      "[CV] .................... C=0.1, gamma=1, kernel=linear, total= 2.4min\n",
      "[CV] C=0.1, gamma=1, kernel=linear ...................................\n",
      "[CV] .................... C=0.1, gamma=1, kernel=linear, total= 2.6min\n",
      "[CV] C=0.1, gamma=1, kernel=linear ...................................\n",
      "[CV] .................... C=0.1, gamma=1, kernel=linear, total= 2.4min\n",
      "[CV] C=0.1, gamma=1, kernel=linear ...................................\n",
      "[CV] .................... C=0.1, gamma=1, kernel=linear, total= 2.7min\n",
      "[CV] C=0.1, gamma=1, kernel=linear ...................................\n",
      "[CV] .................... C=0.1, gamma=1, kernel=linear, total= 2.7min\n",
      "[CV] C=0.1, gamma=0.1, kernel=linear .................................\n",
      "[CV] .................. C=0.1, gamma=0.1, kernel=linear, total= 2.4min\n",
      "[CV] C=0.1, gamma=0.1, kernel=linear .................................\n",
      "[CV] .................. C=0.1, gamma=0.1, kernel=linear, total= 2.6min\n",
      "[CV] C=0.1, gamma=0.1, kernel=linear .................................\n",
      "[CV] .................. C=0.1, gamma=0.1, kernel=linear, total= 2.4min\n",
      "[CV] C=0.1, gamma=0.1, kernel=linear .................................\n",
      "[CV] .................. C=0.1, gamma=0.1, kernel=linear, total= 2.6min\n",
      "[CV] C=0.1, gamma=0.1, kernel=linear .................................\n",
      "[CV] .................. C=0.1, gamma=0.1, kernel=linear, total= 2.7min\n",
      "[CV] C=1, gamma=10, kernel=linear ....................................\n",
      "[CV] ..................... C=1, gamma=10, kernel=linear, total= 3.7min\n",
      "[CV] C=1, gamma=10, kernel=linear ....................................\n",
      "[CV] ..................... C=1, gamma=10, kernel=linear, total= 3.7min\n",
      "[CV] C=1, gamma=10, kernel=linear ....................................\n",
      "[CV] ..................... C=1, gamma=10, kernel=linear, total= 3.7min\n",
      "[CV] C=1, gamma=10, kernel=linear ....................................\n",
      "[CV] ..................... C=1, gamma=10, kernel=linear, total= 3.7min\n",
      "[CV] C=1, gamma=10, kernel=linear ....................................\n",
      "[CV] ..................... C=1, gamma=10, kernel=linear, total= 3.7min\n",
      "[CV] C=1, gamma=1, kernel=linear .....................................\n",
      "[CV] ...................... C=1, gamma=1, kernel=linear, total= 3.7min\n",
      "[CV] C=1, gamma=1, kernel=linear .....................................\n",
      "[CV] ...................... C=1, gamma=1, kernel=linear, total= 3.6min\n",
      "[CV] C=1, gamma=1, kernel=linear .....................................\n",
      "[CV] ...................... C=1, gamma=1, kernel=linear, total= 3.7min\n",
      "[CV] C=1, gamma=1, kernel=linear .....................................\n",
      "[CV] ...................... C=1, gamma=1, kernel=linear, total= 3.7min\n",
      "[CV] C=1, gamma=1, kernel=linear .....................................\n",
      "[CV] ...................... C=1, gamma=1, kernel=linear, total= 3.8min\n",
      "[CV] C=1, gamma=0.1, kernel=linear ...................................\n",
      "[CV] .................... C=1, gamma=0.1, kernel=linear, total= 4.2min\n",
      "[CV] C=1, gamma=0.1, kernel=linear ...................................\n",
      "[CV] .................... C=1, gamma=0.1, kernel=linear, total= 4.0min\n",
      "[CV] C=1, gamma=0.1, kernel=linear ...................................\n",
      "[CV] .................... C=1, gamma=0.1, kernel=linear, total= 4.0min\n",
      "[CV] C=1, gamma=0.1, kernel=linear ...................................\n",
      "[CV] .................... C=1, gamma=0.1, kernel=linear, total= 4.0min\n",
      "[CV] C=1, gamma=0.1, kernel=linear ...................................\n",
      "[CV] .................... C=1, gamma=0.1, kernel=linear, total= 4.2min\n"
     ]
    },
    {
     "name": "stderr",
     "output_type": "stream",
     "text": [
      "[Parallel(n_jobs=-1)]: Done  45 out of  45 | elapsed: 158.2min finished\n"
     ]
    },
    {
     "name": "stdout",
     "output_type": "stream",
     "text": [
      "Best Score:  0.9399896748835307\n",
      "Best Params:  {'C': 1, 'gamma': 10, 'kernel': 'linear'}\n"
     ]
    }
   ],
   "source": [
    "grid_svm_combined = GridSearchCV(SVC(),param_grid_svm_combined,refit=True,cv=5,verbose=2,n_jobs=-1)\n",
    "grid_svm_combined.fit(train_word_vec,train[\"class\"])\n",
    "print('Best Score: ', grid_svm_combined.best_score_)\n",
    "print('Best Params: ', grid_svm_combined.best_params_)"
   ]
  },
  {
   "cell_type": "code",
   "execution_count": 334,
   "metadata": {},
   "outputs": [],
   "source": [
    "pipe = Pipeline(\n",
    "        [('select', SelectFromModel(LogisticRegression(class_weight='balanced',\n",
    "                                                  penalty=\"l1\", C=0.01))),\n",
    "        ('model', LogisticRegression(class_weight='balanced',penalty='l2'))])"
   ]
  },
  {
   "cell_type": "code",
   "execution_count": 35,
   "metadata": {},
   "outputs": [],
   "source": [
    "%run ../src/classifier/NBSVM"
   ]
  },
  {
   "cell_type": "code",
   "execution_count": 36,
   "metadata": {},
   "outputs": [],
   "source": [
    "nb_svm = NbSvmClassifier(C=10)"
   ]
  },
  {
   "cell_type": "code",
   "execution_count": 531,
   "metadata": {},
   "outputs": [
    {
     "data": {
      "text/plain": [
       "0.9304790605840174"
      ]
     },
     "execution_count": 531,
     "metadata": {},
     "output_type": "execute_result"
    }
   ],
   "source": [
    "metrics.f1_score(test_data['class'],predict)"
   ]
  },
  {
   "cell_type": "code",
   "execution_count": 575,
   "metadata": {},
   "outputs": [
    {
     "data": {
      "text/plain": [
       "(11866, 30000)"
      ]
     },
     "execution_count": 575,
     "metadata": {},
     "output_type": "execute_result"
    }
   ],
   "source": [
    "df3.shape"
   ]
  },
  {
   "cell_type": "code",
   "execution_count": 576,
   "metadata": {},
   "outputs": [],
   "source": [
    "from scipy.sparse import csr_matrix, hstack\n"
   ]
  },
  {
   "cell_type": "code",
   "execution_count": 597,
   "metadata": {},
   "outputs": [],
   "source": [
    "#frame = [train_vec.toarray(),train_data[Columns]]\n",
    "df2 = hstack((train_vec,train_vec_char,train_data[Columns])).tocsr()"
   ]
  },
  {
   "cell_type": "code",
   "execution_count": 19,
   "metadata": {},
   "outputs": [],
   "source": [
    "#nb_svm.fit(train_vec,train[\"class\"])"
   ]
  },
  {
   "cell_type": "code",
   "execution_count": 483,
   "metadata": {},
   "outputs": [],
   "source": [
    "from sklearn.linear_model import LogisticRegression\n",
    "from sklearn.model_selection import cross_val_score"
   ]
  },
  {
   "cell_type": "code",
   "execution_count": 544,
   "metadata": {},
   "outputs": [
    {
     "name": "stdout",
     "output_type": "stream",
     "text": [
      "CV score for class 0 is 0.931595865109229\n"
     ]
    }
   ],
   "source": [
    "scores = []\n",
    "classifier = LogisticRegression(C=10, solver='sag')\n",
    "cv_score = np.mean(cross_val_score(classifier, df2, train_data[\"class\"] ,cv=10, scoring='f1'))\n",
    "scores.append(cv_score)\n",
    "print('CV score for class {} is {}'.format(class_name, cv_score))\n",
    "\n",
    "   "
   ]
  },
  {
   "cell_type": "code",
   "execution_count": 545,
   "metadata": {},
   "outputs": [
    {
     "name": "stdout",
     "output_type": "stream",
     "text": [
      "Total CV score is 0.931595865109229\n"
     ]
    }
   ],
   "source": [
    "classifier.fit(df2, train_data[\"class\"])\n",
    "print('Total CV score is {}'.format(np.mean(scores)))"
   ]
  },
  {
   "cell_type": "code",
   "execution_count": 570,
   "metadata": {},
   "outputs": [],
   "source": [
    "model = LogisticRegression(solver='sag')\n",
    "sfm = SelectFromModel(model, threshold=0.2)\n",
    "train_sparse_matrix = sfm.fit_transform(df2, train_data['class'])\n",
    "test_sparse_matrix = sfm.transform(df3)\n",
    "d_train = lgb.Dataset(train_sparse_matrix, label=train_data[\"class\"])\n",
    "d_valid = lgb.Dataset(test_sparse_matrix, label=test_data[\"class\"])\n",
    "watchlist = [d_train, d_valid]\n",
    "params = {'learning_rate': 0.2,\n",
    "             'application': 'binary',\n",
    "              'num_leaves': 31,\n",
    "              'verbosity': -1,\n",
    "              'metric': 'f1',\n",
    "              'data_random_seed': 2,\n",
    "              'bagging_fraction': 0.8,\n",
    "              'feature_fraction': 0.6,\n",
    "              'nthread': 4,\n",
    "              'lambda_l1': 1,\n",
    "          'lambda_l2': 1}\n",
    "model1 = lgb.train(params,\n",
    "                      train_set=d_train,\n",
    "                      verbose_eval=10)\n",
    "    \n"
   ]
  },
  {
   "cell_type": "code",
   "execution_count": 552,
   "metadata": {},
   "outputs": [],
   "source": [
    "import lightgbm as lgb\n",
    "\n"
   ]
  },
  {
   "cell_type": "code",
   "execution_count": 557,
   "metadata": {},
   "outputs": [],
   "source": [
    "?lgb.train"
   ]
  },
  {
   "cell_type": "code",
   "execution_count": 579,
   "metadata": {},
   "outputs": [],
   "source": [
    "p = model.predict(test_sparse_matrix)"
   ]
  },
  {
   "cell_type": "code",
   "execution_count": 625,
   "metadata": {
    "collapsed": true
   },
   "outputs": [
    {
     "data": {
      "text/plain": [
       "0.9315718856435132"
      ]
     },
     "execution_count": 625,
     "metadata": {},
     "output_type": "execute_result"
    }
   ],
   "source": [
    "metrics.f1_score(test_data['class'],p>0.42)"
   ]
  },
  {
   "cell_type": "code",
   "execution_count": 615,
   "metadata": {},
   "outputs": [],
   "source": [
    "select = SelectFromModel(LogisticRegression(class_weight='balanced',penalty=\"l1\",C=10,solver='liblinear'))\n",
    "X_ = select.fit_transform(df2,train_data[\"class\"])"
   ]
  },
  {
   "cell_type": "code",
   "execution_count": 627,
   "metadata": {},
   "outputs": [],
   "source": [
    "model = LinearSVC(class_weight='balanced',C=0.1, penalty='l2', loss='squared_hinge').fit(X_, train_data[\"class\"])"
   ]
  },
  {
   "cell_type": "code",
   "execution_count": 628,
   "metadata": {},
   "outputs": [],
   "source": [
    "p1 = model.predict(select.transform(df3))"
   ]
  },
  {
   "cell_type": "code",
   "execution_count": 629,
   "metadata": {
    "scrolled": true
   },
   "outputs": [
    {
     "data": {
      "text/plain": [
       "0.9238144867118291"
      ]
     },
     "execution_count": 629,
     "metadata": {},
     "output_type": "execute_result"
    }
   ],
   "source": [
    "metrics.f1_score(test_data['class'],p1)"
   ]
  },
  {
   "cell_type": "code",
   "execution_count": null,
   "metadata": {},
   "outputs": [],
   "source": []
  }
 ],
 "metadata": {
  "kernelspec": {
   "display_name": "final",
   "language": "python",
   "name": "final"
  },
  "language_info": {
   "codemirror_mode": {
    "name": "ipython",
    "version": 3
   },
   "file_extension": ".py",
   "mimetype": "text/x-python",
   "name": "python",
   "nbconvert_exporter": "python",
   "pygments_lexer": "ipython3",
   "version": "3.7.4"
  }
 },
 "nbformat": 4,
 "nbformat_minor": 4
}
