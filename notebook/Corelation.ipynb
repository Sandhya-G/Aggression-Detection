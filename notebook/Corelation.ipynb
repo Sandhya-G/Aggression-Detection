{
  "nbformat": 4,
  "nbformat_minor": 0,
  "metadata": {
    "colab": {
      "name": "Corelation.ipynb",
      "provenance": [],
      "authorship_tag": "ABX9TyOo/bpvKeig+02FISTTzyww",
      "include_colab_link": true
    },
    "kernelspec": {
      "name": "python3",
      "display_name": "Python 3"
    },
    "accelerator": "GPU"
  },
  "cells": [
    {
      "cell_type": "markdown",
      "metadata": {
        "id": "view-in-github",
        "colab_type": "text"
      },
      "source": [
        "<a href=\"https://colab.research.google.com/github/Sandhya-G/Aggression-Detection/blob/master/notebook/Corelation.ipynb\" target=\"_parent\"><img src=\"https://colab.research.google.com/assets/colab-badge.svg\" alt=\"Open In Colab\"/></a>"
      ]
    },
    {
      "cell_type": "code",
      "metadata": {
        "id": "wOvhJJz1Ce9s",
        "colab_type": "code",
        "colab": {}
      },
      "source": [
        "import pandas as pd\n",
        "import sys\n"
      ],
      "execution_count": 3,
      "outputs": []
    },
    {
      "cell_type": "code",
      "metadata": {
        "id": "f8CZkYolPTBE",
        "colab_type": "code",
        "colab": {}
      },
      "source": [
        "def corr(first_file, second_file):\n",
        "  first_df = pd.read_csv(first_file,index_col=0)\n",
        "  second_df = pd.read_csv(second_file,index_col=0)\n",
        "  # assuming first column is `prediction_id` and second column is `prediction`\n",
        "  prediction = first_df.columns[0]\n",
        "  # correlation\n",
        "  print(\"Finding correlation between: {} and {}\".format(first_file,second_file))\n",
        "  print(\"Column to be measured: {}\".format(prediction))\n",
        "  #print(\" score: {}\".format(first_df[prediction]))\n",
        "  #print(\" score1: {}\".format(second_df[prediction])\n",
        "  \n",
        "  print(\"Pearson's correlation score: {}\".format(first_df[prediction].corr(second_df[prediction],method='pearson')))\n",
        "  print(\"Kendall's correlation score: {}\".format(first_df[prediction].corr(second_df[prediction],method='kendall')))\n",
        "  print(\"Spearman's correlation score: {}\".format(first_df[prediction].corr(second_df[prediction],method='spearman')))"
      ],
      "execution_count": 2,
      "outputs": []
    },
    {
      "cell_type": "code",
      "metadata": {
        "id": "FiTWTR3nPZ9p",
        "colab_type": "code",
        "colab": {
          "base_uri": "https://localhost:8080/",
          "height": 104
        },
        "outputId": "9f346d97-7644-4d4a-c4c0-1e6542fcd699"
      },
      "source": [
        "first_file = '/content/att.csv'\n",
        "second_file = '/content/gru(2).csv'\n",
        "\n",
        "corr(first_file, second_file)"
      ],
      "execution_count": 4,
      "outputs": [
        {
          "output_type": "stream",
          "text": [
            "Finding correlation between: /content/att.csv and /content/gru(2).csv\n",
            "Column to be measured: 0\n",
            "Pearson's correlation score: 0.9746284380528683\n",
            "Kendall's correlation score: 0.790193169849788\n",
            "Spearman's correlation score: 0.9443824250852246\n"
          ],
          "name": "stdout"
        }
      ]
    },
    {
      "cell_type": "code",
      "metadata": {
        "id": "nRxaZg9CPfEU",
        "colab_type": "code",
        "colab": {
          "base_uri": "https://localhost:8080/",
          "height": 104
        },
        "outputId": "581c4278-12b8-44a1-f12b-16af62d7641f"
      },
      "source": [
        "first_file = '/content/att.csv'\n",
        "second_file = '/content/gru(3).csv'\n",
        "\n",
        "corr(first_file, second_file)"
      ],
      "execution_count": 5,
      "outputs": [
        {
          "output_type": "stream",
          "text": [
            "Finding correlation between: /content/att.csv and /content/gru(3).csv\n",
            "Column to be measured: 0\n",
            "Pearson's correlation score: 0.9762410945547972\n",
            "Kendall's correlation score: 0.8051900878261048\n",
            "Spearman's correlation score: 0.951322679531407\n"
          ],
          "name": "stdout"
        }
      ]
    },
    {
      "cell_type": "code",
      "metadata": {
        "id": "yK6-O97DPfWQ",
        "colab_type": "code",
        "colab": {
          "base_uri": "https://localhost:8080/",
          "height": 104
        },
        "outputId": "641379a3-cc54-4085-d8b5-5cf91da8de22"
      },
      "source": [
        "first_file = '/content/att.csv'\n",
        "second_file = '/content/gru1.csv'\n",
        "\n",
        "corr(first_file, second_file)"
      ],
      "execution_count": 7,
      "outputs": [
        {
          "output_type": "stream",
          "text": [
            "Finding correlation between: /content/att.csv and /content/gru1.csv\n",
            "Column to be measured: 0\n",
            "Pearson's correlation score: 0.9676509108369266\n",
            "Kendall's correlation score: 0.7855056198805503\n",
            "Spearman's correlation score: 0.9431259883380063\n"
          ],
          "name": "stdout"
        }
      ]
    },
    {
      "cell_type": "code",
      "metadata": {
        "id": "QOEBz4lzPfjL",
        "colab_type": "code",
        "colab": {
          "base_uri": "https://localhost:8080/",
          "height": 104
        },
        "outputId": "4b7a5238-321c-4b85-bc11-7afffe145fa7"
      },
      "source": [
        "first_file = '/content/att.csv'\n",
        "second_file = '/content/cnn1.csv'\n",
        "\n",
        "corr(first_file, second_file)"
      ],
      "execution_count": 8,
      "outputs": [
        {
          "output_type": "stream",
          "text": [
            "Finding correlation between: /content/att.csv and /content/cnn1.csv\n",
            "Column to be measured: 0\n",
            "Pearson's correlation score: 0.9594109448620874\n",
            "Kendall's correlation score: 0.7372053592437504\n",
            "Spearman's correlation score: 0.9144197954634344\n"
          ],
          "name": "stdout"
        }
      ]
    },
    {
      "cell_type": "code",
      "metadata": {
        "id": "953agLc-Pfgx",
        "colab_type": "code",
        "colab": {
          "base_uri": "https://localhost:8080/",
          "height": 104
        },
        "outputId": "f6c3c49e-7631-48b9-85de-5b2ff126d747"
      },
      "source": [
        "first_file = '/content/gru1.csv'\n",
        "second_file = '/content/cnn1.csv'\n",
        "\n",
        "corr(first_file, second_file)"
      ],
      "execution_count": 9,
      "outputs": [
        {
          "output_type": "stream",
          "text": [
            "Finding correlation between: /content/gru1.csv and /content/cnn1.csv\n",
            "Column to be measured: 0\n",
            "Pearson's correlation score: 0.9437199832067598\n",
            "Kendall's correlation score: 0.7323931361792245\n",
            "Spearman's correlation score: 0.9116998100711753\n"
          ],
          "name": "stdout"
        }
      ]
    },
    {
      "cell_type": "code",
      "metadata": {
        "id": "jBZOJVFpPfd3",
        "colab_type": "code",
        "colab": {}
      },
      "source": [
        ""
      ],
      "execution_count": null,
      "outputs": []
    },
    {
      "cell_type": "code",
      "metadata": {
        "id": "czXs_G9HhrXt",
        "colab_type": "code",
        "colab": {}
      },
      "source": [
        "def predict_result(text):\n",
        "  val = tokenizer.texts_to_sequences([text])\n",
        "  val = pad_sequences(val, maxlen=maxlen,padding='post',truncating='post')\n",
        "  return model.predict(val)[0]"
      ],
      "execution_count": 10,
      "outputs": []
    },
    {
      "cell_type": "code",
      "metadata": {
        "id": "vZIZMny_e3Hq",
        "colab_type": "code",
        "colab": {}
      },
      "source": [
        ""
      ],
      "execution_count": null,
      "outputs": []
    },
    {
      "cell_type": "code",
      "metadata": {
        "id": "wiTSxO3L8_Ed",
        "colab_type": "code",
        "colab": {}
      },
      "source": [
        "#Deceiving Perspective API examples https://arxiv.org/pdf/1702.08138.pdf?source=post_elevate_sequence_page---------------------------"
      ],
      "execution_count": null,
      "outputs": []
    },
    {
      "cell_type": "code",
      "metadata": {
        "id": "I77swy56_vkz",
        "colab_type": "code",
        "colab": {}
      },
      "source": [
        ""
      ],
      "execution_count": null,
      "outputs": []
    }
  ]
}