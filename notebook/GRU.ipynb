{
 "cells": [
  {
   "cell_type": "markdown",
   "metadata": {
    "colab_type": "text",
    "id": "view-in-github"
   },
   "source": [
    "<a href=\"https://colab.research.google.com/github/Sandhya-G/Aggression-Detection/blob/master/notebook/GRU.ipynb\" target=\"_parent\"><img src=\"https://colab.research.google.com/assets/colab-badge.svg\" alt=\"Open In Colab\"/></a>"
   ]
  },
  {
   "cell_type": "code",
   "execution_count": 4,
   "metadata": {
    "colab": {},
    "colab_type": "code",
    "id": "2xrgdRv2XiAp"
   },
   "outputs": [],
   "source": [
    "import pandas as pd"
   ]
  },
  {
   "cell_type": "markdown",
   "metadata": {
    "colab_type": "text",
    "id": "zRhOBeHVkAH_"
   },
   "source": [
    "# **Summary**\n",
    "\n",
    "CNN treats embedding matrix as an image, but in text case the convolution matrix must have same number of columns as that of embedding matrix and rows are usually 3,4 or 5 (can be thought of as bigrams, trigrams etc) even though its translation invariant it cannot take care of the context.\n",
    "![cnn](https://miro.medium.com/max/500/0*0efgxnFIaLTZ2qkY?)\n",
    "\n",
    "RNN remembers previous information using hidden state.\n",
    "but it has two problems\n",
    "Vanishing gradient (exploding gradient can be avoided  using Gradient clipping)\n",
    "long term dependencies.\n",
    "Hence variation of RNN\n",
    "LSTM , bi-LSTM(both sides).\n",
    "![LSTM unit](https://i.stack.imgur.com/aTDpS.png)\n",
    "![deep lstm](https://assets.website-files.com/5ac6b7f2924c656f2b13a88c/5b883bbde817297a9cc204a9_Screen%20Shot%202018-08-29%20at%2011.05.17%20AM.png)\n",
    "The architecture is same for GRU. LSTM is replaced by GRU.\n",
    "![GRU unit](https://i.stack.imgur.com/PYGtu.png)\n",
    "\n",
    "GRU(Simplified version of LSTM)\n"
   ]
  },
  {
   "cell_type": "code",
   "execution_count": 5,
   "metadata": {
    "colab": {},
    "colab_type": "code",
    "id": "J0RpKYEwP6Ad"
   },
   "outputs": [],
   "source": [
    "train_df = pd.read_csv(\"https://raw.githubusercontent.com/Sandhya-G/Aggression-Detection/master/dataset/GLOVE_TRAIN%23\")\n",
    "test_df = pd.read_csv(\"https://raw.githubusercontent.com/Sandhya-G/Aggression-Detection/master/dataset/GLOVE_TEST%23\")"
   ]
  },
  {
   "cell_type": "code",
   "execution_count": 6,
   "metadata": {
    "colab": {
     "base_uri": "https://localhost:8080/",
     "height": 206
    },
    "colab_type": "code",
    "id": "Dv3b8Vd-Qnhv",
    "outputId": "e43f12ba-9916-47b7-f7bc-9a481585d784"
   },
   "outputs": [
    {
     "data": {
      "text/html": [
       "<div>\n",
       "<style scoped>\n",
       "    .dataframe tbody tr th:only-of-type {\n",
       "        vertical-align: middle;\n",
       "    }\n",
       "\n",
       "    .dataframe tbody tr th {\n",
       "        vertical-align: top;\n",
       "    }\n",
       "\n",
       "    .dataframe thead th {\n",
       "        text-align: right;\n",
       "    }\n",
       "</style>\n",
       "<table border=\"1\" class=\"dataframe\">\n",
       "  <thead>\n",
       "    <tr style=\"text-align: right;\">\n",
       "      <th></th>\n",
       "      <th>Unnamed: 0</th>\n",
       "      <th>tweet</th>\n",
       "      <th>class</th>\n",
       "    </tr>\n",
       "  </thead>\n",
       "  <tbody>\n",
       "    <tr>\n",
       "      <th>0</th>\n",
       "      <td>0</td>\n",
       "      <td>&lt;user&gt; &lt;hashtag&gt; mendix &lt;hashtag&gt; mendixworld ...</td>\n",
       "      <td>0</td>\n",
       "    </tr>\n",
       "    <tr>\n",
       "      <th>1</th>\n",
       "      <td>1</td>\n",
       "      <td>the bitches behind me are so annoying why do n...</td>\n",
       "      <td>1</td>\n",
       "    </tr>\n",
       "    <tr>\n",
       "      <th>2</th>\n",
       "      <td>2</td>\n",
       "      <td>&lt;user&gt; you see the bitch with the fake leg tha...</td>\n",
       "      <td>1</td>\n",
       "    </tr>\n",
       "    <tr>\n",
       "      <th>3</th>\n",
       "      <td>3</td>\n",
       "      <td>love is love &lt;hashtag&gt; prayfororlando &lt;hashtag...</td>\n",
       "      <td>0</td>\n",
       "    </tr>\n",
       "    <tr>\n",
       "      <th>4</th>\n",
       "      <td>4</td>\n",
       "      <td>np of &lt;hashtag&gt; princegeorge attends &lt;hashtag&gt;...</td>\n",
       "      <td>0</td>\n",
       "    </tr>\n",
       "  </tbody>\n",
       "</table>\n",
       "</div>"
      ],
      "text/plain": [
       "   Unnamed: 0                                              tweet  class\n",
       "0           0  <user> <hashtag> mendix <hashtag> mendixworld ...      0\n",
       "1           1  the bitches behind me are so annoying why do n...      1\n",
       "2           2  <user> you see the bitch with the fake leg tha...      1\n",
       "3           3  love is love <hashtag> prayfororlando <hashtag...      0\n",
       "4           4  np of <hashtag> princegeorge attends <hashtag>...      0"
      ]
     },
     "execution_count": 6,
     "metadata": {},
     "output_type": "execute_result"
    }
   ],
   "source": [
    "train_df.head()"
   ]
  },
  {
   "cell_type": "markdown",
   "metadata": {
    "colab_type": "text",
    "id": "IJ8PcSjiihfA"
   },
   "source": []
  },
  {
   "cell_type": "code",
   "execution_count": 0,
   "metadata": {
    "colab": {},
    "colab_type": "code",
    "id": "oBe1NelzH4kh"
   },
   "outputs": [],
   "source": []
  },
  {
   "cell_type": "code",
   "execution_count": 0,
   "metadata": {
    "colab": {},
    "colab_type": "code",
    "id": "v1VLJDDcRwH3"
   },
   "outputs": [],
   "source": [
    "embed_size = 300 # how big is each word vector\n",
    "max_features = 50000 # how many unique words to use (i.e num rows in embedding vector)\n",
    "maxlen = 120 # max number of words in a question to use"
   ]
  },
  {
   "cell_type": "code",
   "execution_count": 0,
   "metadata": {
    "colab": {},
    "colab_type": "code",
    "id": "vVvqAxyCS8wn"
   },
   "outputs": [],
   "source": [
    "import os\n",
    "import time\n",
    "import numpy as np # linear algebra\n",
    "import pandas as pd # data processing, CSV file I/O (e.g. pd.read_csv)\n",
    "from tqdm import tqdm\n",
    "import math\n",
    "from sklearn.model_selection import train_test_split\n",
    "from sklearn import metrics\n",
    "import tensorflow as tf\n",
    "\n",
    "from keras.preprocessing.text import Tokenizer\n",
    "from keras.preprocessing.sequence import pad_sequences\n",
    "from keras.layers import Dense, Input, LSTM, Embedding, Dropout, Activation, GRU, Conv1D,concatenate,add\n",
    "from keras.layers import Bidirectional, GlobalMaxPooling1D, GlobalAveragePooling1D\n",
    "from keras.models import Model\n",
    "from keras import initializers, regularizers, constraints, optimizers, layers\n",
    "from keras.constraints import maxnorm"
   ]
  },
  {
   "cell_type": "code",
   "execution_count": 0,
   "metadata": {
    "colab": {},
    "colab_type": "code",
    "id": "7I2ekikCTLZ9"
   },
   "outputs": [],
   "source": [
    "from keras import backend as K\n",
    "\n",
    "def f1(y_true, y_pred):\n",
    "    def recall(y_true, y_pred):\n",
    "        \"\"\"Recall metric.\n",
    "\n",
    "        Only computes a batch-wise average of recall.\n",
    "\n",
    "        Computes the recall, a metric for multi-label classification of\n",
    "        how many relevant items are selected.\n",
    "        \"\"\"\n",
    "        true_positives = K.sum(K.round(K.clip(y_true * y_pred, 0, 1)))\n",
    "        possible_positives = K.sum(K.round(K.clip(y_true, 0, 1)))\n",
    "        recall = true_positives / (possible_positives + K.epsilon())\n",
    "        return recall\n",
    "\n",
    "    def precision(y_true, y_pred):\n",
    "        \"\"\"Precision metric.\n",
    "\n",
    "        Only computes a batch-wise average of precision.\n",
    "\n",
    "        Computes the precision, a metric for multi-label classification of\n",
    "        how many selected items are relevant.\n",
    "        \"\"\"\n",
    "        true_positives = K.sum(K.round(K.clip(y_true * y_pred, 0, 1)))\n",
    "        predicted_positives = K.sum(K.round(K.clip(y_pred, 0, 1)))\n",
    "        precision = true_positives / (predicted_positives + K.epsilon())\n",
    "        return precision\n",
    "    precision = precision(y_true, y_pred)\n",
    "    recall = recall(y_true, y_pred)\n",
    "    return 2*((precision*recall)/(precision+recall+K.epsilon()))\n",
    "\n",
    "import tensorflow as tf\n",
    "\n",
    "\n",
    "def f1_loss(y_true, y_pred):\n",
    "    \n",
    "    tp = K.sum(K.cast(y_true*y_pred, 'float'), axis=0)\n",
    "    fp = K.sum(K.cast((1-y_true)*y_pred, 'float'), axis=0)\n",
    "    fn = K.sum(K.cast(y_true*(1-y_pred), 'float'), axis=0)\n",
    "\n",
    "\n",
    "    p = tp / (tp + fp + K.epsilon())\n",
    "    r = tp / (tp + fn + K.epsilon())\n",
    "\n",
    "    f1 = 2*p*r / (p+r+K.epsilon())\n",
    "    f1 = tf.where(tf.math.is_nan(f1), tf.zeros_like(f1), f1)\n",
    "    return 1 - K.mean(f1)\n",
    "\n",
    "\n"
   ]
  },
  {
   "cell_type": "code",
   "execution_count": 0,
   "metadata": {
    "colab": {},
    "colab_type": "code",
    "id": "FpKnH6viQ9B4"
   },
   "outputs": [],
   "source": [
    "from numpy.random import seed\n",
    "seed(1)\n",
    "from tensorflow import random\n",
    "random.set_seed(2)\n",
    "\n",
    "## split to train and val\n",
    "\n",
    "train_df, val_df = train_test_split(train_df, test_size=0.1, random_state=2048,stratify=train_df[\"class\"])\n",
    "\n",
    "## some config values \n",
    "embed_size = 100 # how big is each word vector\n",
    "max_features = 30000 # how many unique words to use (i.e num rows in embedding vector)\n",
    "maxlen = 120 # max number of words in a question to use\n",
    "\n",
    "## fill up the missing values\n",
    "train_X = train_df[\"tweet\"].fillna(\"_na_\").values\n",
    "val_X = val_df[\"tweet\"].fillna(\"_na_\").values\n",
    "test_X = test_df[\"tweet\"].fillna(\"_na_\").values\n",
    "\n",
    "## Tokenize the sentences\n",
    "tokenizer = Tokenizer(num_words=max_features)\n",
    "tokenizer.fit_on_texts(list(train_X))\n",
    "train_X = tokenizer.texts_to_sequences(train_X)\n",
    "val_X = tokenizer.texts_to_sequences(val_X)\n",
    "test_X = tokenizer.texts_to_sequences(test_X)\n",
    "\n",
    "## Pad the sentences \n",
    "train_X = pad_sequences(train_X, maxlen=maxlen,padding='post',truncating='post')\n",
    "val_X = pad_sequences(val_X, maxlen=maxlen,padding='post',truncating='post')\n",
    "test_X = pad_sequences(test_X, maxlen=maxlen,padding='post',truncating='post')\n",
    "\n",
    "## Get the target values\n",
    "train_y = train_df['class'].values\n",
    "val_y = val_df['class'].values\n",
    "test_y = test_df['class'].values\n",
    "\n",
    "\n",
    "        \n",
    "\n"
   ]
  },
  {
   "cell_type": "code",
   "execution_count": 0,
   "metadata": {
    "colab": {},
    "colab_type": "code",
    "id": "i5MpK8hKYim7"
   },
   "outputs": [],
   "source": [
    "def load_glove_index():\n",
    "    EMBEDDING_FILE =  '/content/glove.twitter.27B.100d.txt'\n",
    "    def get_coefs(word,*arr): return word, np.asarray(arr, dtype='float32')[:100]\n",
    "    embeddings_index = dict(get_coefs(*o.split(\" \")) for o in open(EMBEDDING_FILE))\n",
    "    return embeddings_index\n",
    "\n",
    "glove_embedding_index = load_glove_index()"
   ]
  },
  {
   "cell_type": "code",
   "execution_count": 0,
   "metadata": {
    "colab": {},
    "colab_type": "code",
    "id": "qDJLaN4jQp5J"
   },
   "outputs": [],
   "source": [
    "\n",
    "num_words = max_features\n",
    "\n",
    "embedding_matrix = np.zeros((num_words, embed_size))\n",
    "for word, i in tokenizer.word_index.items():\n",
    "    if i >= num_words:\n",
    "        continue\n",
    "    embedding_vector = glove_embedding_index.get(word)\n",
    "    if embedding_vector is not None:\n",
    "        # words not found in embedding index will be all-zeros.\n",
    "        embedding_matrix[i] = embedding_vector"
   ]
  },
  {
   "cell_type": "code",
   "execution_count": 0,
   "metadata": {
    "colab": {
     "base_uri": "https://localhost:8080/",
     "height": 34
    },
    "colab_type": "code",
    "id": "57Au8uvcYqe1",
    "outputId": "5d503c63-1f5b-48ab-d94b-2e244688216f"
   },
   "outputs": [
    {
     "data": {
      "text/plain": [
       "(30000, 100)"
      ]
     },
     "execution_count": 14,
     "metadata": {
      "tags": []
     },
     "output_type": "execute_result"
    }
   ],
   "source": [
    "embedding_matrix.shape"
   ]
  },
  {
   "cell_type": "code",
   "execution_count": 0,
   "metadata": {
    "colab": {},
    "colab_type": "code",
    "id": "H9hDykF5eQbZ"
   },
   "outputs": [],
   "source": [
    "from tensorflow.python.compiler import tensorrt as trt"
   ]
  },
  {
   "cell_type": "code",
   "execution_count": 0,
   "metadata": {
    "colab": {
     "base_uri": "https://localhost:8080/",
     "height": 590
    },
    "colab_type": "code",
    "id": "u7FlgCWCXVjc",
    "outputId": "32921270-875c-4e0c-be39-96886b30f5d6"
   },
   "outputs": [
    {
     "name": "stdout",
     "output_type": "stream",
     "text": [
      "Model: \"model_18\"\n",
      "__________________________________________________________________________________________________\n",
      "Layer (type)                    Output Shape         Param #     Connected to                     \n",
      "==================================================================================================\n",
      "input_19 (InputLayer)           (None, 120)          0                                            \n",
      "__________________________________________________________________________________________________\n",
      "embedding_19 (Embedding)        (None, 120, 100)     3000000     input_19[0][0]                   \n",
      "__________________________________________________________________________________________________\n",
      "dropout_22 (Dropout)            (None, 120, 100)     0           embedding_19[0][0]               \n",
      "__________________________________________________________________________________________________\n",
      "bidirectional_26 (Bidirectional (None, 120, 128)     63360       dropout_22[0][0]                 \n",
      "__________________________________________________________________________________________________\n",
      "global_max_pooling1d_15 (Global (None, 128)          0           bidirectional_26[0][0]           \n",
      "__________________________________________________________________________________________________\n",
      "global_average_pooling1d_12 (Gl (None, 128)          0           bidirectional_26[0][0]           \n",
      "__________________________________________________________________________________________________\n",
      "concatenate_12 (Concatenate)    (None, 256)          0           global_max_pooling1d_15[0][0]    \n",
      "                                                                 global_average_pooling1d_12[0][0]\n",
      "__________________________________________________________________________________________________\n",
      "dense_35 (Dense)                (None, 256)          65792       concatenate_12[0][0]             \n",
      "__________________________________________________________________________________________________\n",
      "add_11 (Add)                    (None, 256)          0           concatenate_12[0][0]             \n",
      "                                                                 dense_35[0][0]                   \n",
      "__________________________________________________________________________________________________\n",
      "dropout_23 (Dropout)            (None, 256)          0           add_11[0][0]                     \n",
      "__________________________________________________________________________________________________\n",
      "dense_36 (Dense)                (None, 1)            257         dropout_23[0][0]                 \n",
      "==================================================================================================\n",
      "Total params: 3,129,409\n",
      "Trainable params: 129,409\n",
      "Non-trainable params: 3,000,000\n",
      "__________________________________________________________________________________________________\n",
      "None\n"
     ]
    }
   ],
   "source": [
    "inp = Input(shape=(maxlen,))\n",
    "x = Embedding(max_features, embed_size, weights=[embedding_matrix], trainable=False)(inp)\n",
    "x = Dropout(0.1)(x)\n",
    "x = Bidirectional(GRU(64, return_sequences=True))(x)\n",
    "#x = Dropout(0.5)(x)\n",
    "hidden = concatenate([\n",
    "        GlobalMaxPooling1D()(x),\n",
    "        GlobalAveragePooling1D()(x),\n",
    "    ])\n",
    "#hidden = Dropout(0.5)(hidden)\n",
    "hidden = add([hidden, Dense(4*64, activation='relu',kernel_constraint=maxnorm(4))(hidden)])\n",
    "hidden = Dropout(0.2)(hidden)\n",
    "result = Dense(1, activation='sigmoid')(hidden)\n",
    "\n",
    "model = Model(inputs=inp, outputs=result)\n",
    "model.compile(loss='binary_crossentropy', optimizer='adam', metrics=['accuracy',f1])\n",
    "#model.compile(loss=f1_loss, optimizer='adam', metrics=['accuracy',f1])\n",
    "print(model.summary())\n",
    "\n"
   ]
  },
  {
   "cell_type": "code",
   "execution_count": 0,
   "metadata": {
    "colab": {
     "base_uri": "https://localhost:8080/",
     "height": 471
    },
    "colab_type": "code",
    "id": "tZ-gsbZwb1PN",
    "outputId": "ec4f7412-03df-4383-b2f4-f55cf352ec4c"
   },
   "outputs": [
    {
     "name": "stdout",
     "output_type": "stream",
     "text": [
      "Train on 38258 samples, validate on 4251 samples\n",
      "Epoch 1/12\n",
      "38258/38258 [==============================] - 54s 1ms/step - loss: 0.3222 - accuracy: 0.8681 - f1: 0.8245 - val_loss: 0.2151 - val_accuracy: 0.9155 - val_f1: 0.8928\n",
      "Epoch 2/12\n",
      "38258/38258 [==============================] - 53s 1ms/step - loss: 0.2293 - accuracy: 0.9100 - f1: 0.8870 - val_loss: 0.1989 - val_accuracy: 0.9205 - val_f1: 0.8982\n",
      "Epoch 3/12\n",
      "38258/38258 [==============================] - 53s 1ms/step - loss: 0.2115 - accuracy: 0.9159 - f1: 0.8945 - val_loss: 0.1888 - val_accuracy: 0.9207 - val_f1: 0.9010\n",
      "Epoch 4/12\n",
      "38258/38258 [==============================] - 52s 1ms/step - loss: 0.2006 - accuracy: 0.9204 - f1: 0.9007 - val_loss: 0.1803 - val_accuracy: 0.9259 - val_f1: 0.9065\n",
      "Epoch 5/12\n",
      "38258/38258 [==============================] - 52s 1ms/step - loss: 0.1883 - accuracy: 0.9252 - f1: 0.9065 - val_loss: 0.1806 - val_accuracy: 0.9247 - val_f1: 0.9030\n",
      "Epoch 6/12\n",
      "38258/38258 [==============================] - 52s 1ms/step - loss: 0.1820 - accuracy: 0.9286 - f1: 0.9114 - val_loss: 0.1767 - val_accuracy: 0.9273 - val_f1: 0.9075\n",
      "Epoch 7/12\n",
      "38258/38258 [==============================] - 52s 1ms/step - loss: 0.1777 - accuracy: 0.9302 - f1: 0.9135 - val_loss: 0.1732 - val_accuracy: 0.9264 - val_f1: 0.9100\n",
      "Epoch 8/12\n",
      "38258/38258 [==============================] - 53s 1ms/step - loss: 0.1688 - accuracy: 0.9330 - f1: 0.9171 - val_loss: 0.1745 - val_accuracy: 0.9297 - val_f1: 0.9104\n",
      "Epoch 9/12\n",
      "38258/38258 [==============================] - 53s 1ms/step - loss: 0.1610 - accuracy: 0.9368 - f1: 0.9221 - val_loss: 0.1721 - val_accuracy: 0.9292 - val_f1: 0.9113\n",
      "Epoch 10/12\n",
      "38258/38258 [==============================] - 54s 1ms/step - loss: 0.1607 - accuracy: 0.9373 - f1: 0.9230 - val_loss: 0.1674 - val_accuracy: 0.9308 - val_f1: 0.9146\n",
      "Epoch 11/12\n",
      "38258/38258 [==============================] - 54s 1ms/step - loss: 0.1488 - accuracy: 0.9414 - f1: 0.9278 - val_loss: 0.1741 - val_accuracy: 0.9306 - val_f1: 0.9132\n",
      "Epoch 12/12\n",
      "38258/38258 [==============================] - 53s 1ms/step - loss: 0.1438 - accuracy: 0.9442 - f1: 0.9313 - val_loss: 0.1702 - val_accuracy: 0.9330 - val_f1: 0.9164\n"
     ]
    }
   ],
   "source": [
    "history = model.fit(train_X, train_y, batch_size=512, epochs=12, validation_data=(val_X, val_y))"
   ]
  },
  {
   "cell_type": "code",
   "execution_count": 0,
   "metadata": {
    "colab": {
     "base_uri": "https://localhost:8080/",
     "height": 34
    },
    "colab_type": "code",
    "id": "W-PQhHsVhD-r",
    "outputId": "73a0fe4e-3561-4350-af9e-a4d3da59efb8"
   },
   "outputs": [
    {
     "name": "stdout",
     "output_type": "stream",
     "text": [
      "dict_keys(['val_loss', 'val_accuracy', 'val_f1', 'loss', 'accuracy', 'f1'])\n"
     ]
    }
   ],
   "source": [
    "#codes from machinelearningmastery.com\n",
    "import matplotlib.pyplot as plt\n",
    "%matplotlib inline\n",
    "# list all data in history\n",
    "print(history.history.keys())\n",
    "# summarize history for accuracy\n",
    "# codes from machinelearningmastery.com\n",
    "def print_hist(history):\n",
    "    plt.plot(history.history['f1'])\n",
    "    plt.plot(history.history['val_f1'])\n",
    "    plt.title('model af1')\n",
    "    plt.ylabel('f1')\n",
    "    plt.xlabel('epoch')\n",
    "    plt.legend(['train', 'val'], loc='upper left')\n",
    "    plt.show()\n",
    "\n",
    "   \n",
    "    \n",
    "    # summarize history for loss\n",
    "    plt.plot(history.history['loss'])\n",
    "    plt.plot(history.history['val_loss'])\n",
    "    plt.title('model loss')\n",
    "    plt.ylabel('loss')\n",
    "    plt.xlabel('epoch')\n",
    "    plt.legend(['train', 'val'], loc='upper left')\n",
    "    plt.show()\n",
    "    "
   ]
  },
  {
   "cell_type": "code",
   "execution_count": 0,
   "metadata": {
    "colab": {
     "base_uri": "https://localhost:8080/",
     "height": 573
    },
    "colab_type": "code",
    "id": "I18ET6nChXpk",
    "outputId": "b7fee3e5-fe8a-4803-a431-88c4f600acb4"
   },
   "outputs": [
    {
     "data": {
      "image/png": "[encoded data removed]",
      "text/plain": [
       "<Figure size 432x288 with 1 Axes>"
      ]
     },
     "metadata": {
      "needs_background": "light",
      "tags": []
     },
     "output_type": "display_data"
    },
    {
     "data": {
      "image/png": "[encoded data removed]",
      "text/plain": [
       "<Figure size 432x288 with 1 Axes>"
      ]
     },
     "metadata": {
      "needs_background": "light",
      "tags": []
     },
     "output_type": "display_data"
    }
   ],
   "source": [
    "print_hist(history)"
   ]
  },
  {
   "cell_type": "code",
   "execution_count": 0,
   "metadata": {
    "colab": {
     "base_uri": "https://localhost:8080/",
     "height": 416
    },
    "colab_type": "code",
    "id": "GD0iQvyth-Wa",
    "outputId": "6f60fd81-27b5-40c7-a2c0-e4a479a5aa8f"
   },
   "outputs": [
    {
     "name": "stdout",
     "output_type": "stream",
     "text": [
      "Model: \"model_14\"\n",
      "_________________________________________________________________\n",
      "Layer (type)                 Output Shape              Param #   \n",
      "=================================================================\n",
      "input_15 (InputLayer)        (None, 120)               0         \n",
      "_________________________________________________________________\n",
      "embedding_15 (Embedding)     (None, 120, 100)          3000000   \n",
      "_________________________________________________________________\n",
      "bidirectional_21 (Bidirectio (None, 120, 128)          63360     \n",
      "_________________________________________________________________\n",
      "bidirectional_22 (Bidirectio (None, 120, 128)          74112     \n",
      "_________________________________________________________________\n",
      "global_max_pooling1d_11 (Glo (None, 128)               0         \n",
      "_________________________________________________________________\n",
      "dense_27 (Dense)             (None, 16)                2064      \n",
      "_________________________________________________________________\n",
      "dense_28 (Dense)             (None, 1)                 17        \n",
      "=================================================================\n",
      "Total params: 3,139,553\n",
      "Trainable params: 139,553\n",
      "Non-trainable params: 3,000,000\n",
      "_________________________________________________________________\n",
      "None\n"
     ]
    }
   ],
   "source": [
    "inp = Input(shape=(maxlen,))\n",
    "#x = Dropout(0.1)(x)\n",
    "x = Embedding(max_features, embed_size, weights=[embedding_matrix], trainable=False)(inp)\n",
    "x = Bidirectional(GRU(64, return_sequences=True))(x)\n",
    "x = Bidirectional(GRU(64, return_sequences=True))(x)\n",
    "x = GlobalMaxPooling1D()(x)\n",
    "x = Dense(16, activation=\"relu\")(x)\n",
    "#x = Dropout(0.2)(x)\n",
    "x = Dense(1, activation=\"sigmoid\")(x)\n",
    "model1 = Model(inputs=inp, outputs=x)\n",
    "model1.compile(loss='binary_crossentropy', optimizer='adam', metrics=['accuracy',f1])\n",
    "print(model1.summary())\n",
    "\n",
    "\n",
    "\n"
   ]
  },
  {
   "cell_type": "code",
   "execution_count": 0,
   "metadata": {
    "colab": {
     "base_uri": "https://localhost:8080/",
     "height": 332
    },
    "colab_type": "code",
    "id": "lC-cIOoZjscA",
    "outputId": "72a3b49d-87ac-4202-b045-973c969f920b"
   },
   "outputs": [
    {
     "name": "stdout",
     "output_type": "stream",
     "text": [
      "Train on 38258 samples, validate on 4251 samples\n",
      "Epoch 1/8\n",
      "38258/38258 [==============================] - 105s 3ms/step - loss: 0.3290 - accuracy: 0.8692 - f1: 0.8245 - val_loss: 0.2245 - val_accuracy: 0.9188 - val_f1: 0.8924\n",
      "Epoch 2/8\n",
      "38258/38258 [==============================] - 104s 3ms/step - loss: 0.2220 - accuracy: 0.9140 - f1: 0.8912 - val_loss: 0.1982 - val_accuracy: 0.9195 - val_f1: 0.8988\n",
      "Epoch 3/8\n",
      "38258/38258 [==============================] - 104s 3ms/step - loss: 0.2041 - accuracy: 0.9182 - f1: 0.8972 - val_loss: 0.1848 - val_accuracy: 0.9221 - val_f1: 0.9020\n",
      "Epoch 4/8\n",
      "38258/38258 [==============================] - 104s 3ms/step - loss: 0.1915 - accuracy: 0.9230 - f1: 0.9033 - val_loss: 0.1792 - val_accuracy: 0.9259 - val_f1: 0.9080\n",
      "Epoch 5/8\n",
      "38258/38258 [==============================] - 103s 3ms/step - loss: 0.1824 - accuracy: 0.9280 - f1: 0.9103 - val_loss: 0.1739 - val_accuracy: 0.9294 - val_f1: 0.9115\n",
      "Epoch 6/8\n",
      "38258/38258 [==============================] - 105s 3ms/step - loss: 0.1750 - accuracy: 0.9307 - f1: 0.9137 - val_loss: 0.1720 - val_accuracy: 0.9290 - val_f1: 0.9129\n",
      "Epoch 7/8\n",
      "38258/38258 [==============================] - 105s 3ms/step - loss: 0.1659 - accuracy: 0.9347 - f1: 0.9189 - val_loss: 0.1675 - val_accuracy: 0.9325 - val_f1: 0.9163\n",
      "Epoch 8/8\n",
      "38258/38258 [==============================] - 102s 3ms/step - loss: 0.1589 - accuracy: 0.9370 - f1: 0.9222 - val_loss: 0.1685 - val_accuracy: 0.9306 - val_f1: 0.9128\n"
     ]
    }
   ],
   "source": [
    " history1 = model1.fit(train_X, train_y, batch_size=512, epochs=8, validation_data=(val_X, val_y))"
   ]
  },
  {
   "cell_type": "code",
   "execution_count": 0,
   "metadata": {
    "colab": {},
    "colab_type": "code",
    "id": "9adE4L3RkRwn"
   },
   "outputs": [],
   "source": [
    "\n",
    "#print_hist(history1)"
   ]
  },
  {
   "cell_type": "code",
   "execution_count": 0,
   "metadata": {
    "colab": {
     "base_uri": "https://localhost:8080/",
     "height": 34
    },
    "colab_type": "code",
    "id": "MHwxZo6XkT_C",
    "outputId": "62706bda-3b89-4aa9-c7ad-e1ea1a3f3eb8"
   },
   "outputs": [
    {
     "name": "stdout",
     "output_type": "stream",
     "text": [
      "11949/11949 [==============================] - 1s 62us/step\n"
     ]
    }
   ],
   "source": [
    "pred_glove_test_y = model.predict([test_X], batch_size=1024, verbose=1)\n",
    "# scores = []\n",
    "# thresholds = np.arange(0.1, 0.501, 0.01)\n",
    "# for thresh in thresholds:\n",
    "#     thresh = np.round(thresh, 2)\n",
    "#     scores.append(metrics.f1_score(train_y, (pred_glove_train_y>thresh).astype(int)))\n",
    "#     print(\"F1 score at threshold {0} is {1}\".format(thresh, metrics.f1_score(train_y, (pred_glove_train_y>thresh).astype(int))))\n",
    "# idx = np.argmax(np.array(scores))\n",
    "# thresh_train = thresholds[idx]"
   ]
  },
  {
   "cell_type": "code",
   "execution_count": 0,
   "metadata": {
    "colab": {
     "base_uri": "https://localhost:8080/",
     "height": 746
    },
    "colab_type": "code",
    "id": "e8LkunpxPDZd",
    "outputId": "81b95cf3-46e8-4de0-bc71-2beaa1ae61e8"
   },
   "outputs": [
    {
     "name": "stdout",
     "output_type": "stream",
     "text": [
      "38258/38258 [==============================] - 2s 52us/step\n",
      "F1 score at threshold 0.1 is 0.8620633454663985\n",
      "F1 score at threshold 0.11 is 0.8680732287989491\n",
      "F1 score at threshold 0.12 is 0.8738838055341196\n",
      "F1 score at threshold 0.13 is 0.8786870703038367\n",
      "F1 score at threshold 0.14 is 0.8832269394809467\n",
      "F1 score at threshold 0.15 is 0.8878918737031014\n",
      "F1 score at threshold 0.16 is 0.8919193057590443\n",
      "F1 score at threshold 0.17 is 0.8958917296639203\n",
      "F1 score at threshold 0.18 is 0.8991185669604776\n",
      "F1 score at threshold 0.19 is 0.9027044007196504\n",
      "F1 score at threshold 0.2 is 0.9059936908517351\n",
      "F1 score at threshold 0.21 is 0.9090751944684529\n",
      "F1 score at threshold 0.22 is 0.9121619667389733\n",
      "F1 score at threshold 0.23 is 0.9148015907573515\n",
      "F1 score at threshold 0.24 is 0.9179200186545412\n",
      "F1 score at threshold 0.25 is 0.9205559619604975\n",
      "F1 score at threshold 0.26 is 0.9226253375601737\n",
      "F1 score at threshold 0.27 is 0.9244994110718492\n",
      "F1 score at threshold 0.28 is 0.9268595407665711\n",
      "F1 score at threshold 0.29 is 0.9290666666666667\n",
      "F1 score at threshold 0.3 is 0.9309760808200861\n",
      "F1 score at threshold 0.31 is 0.9329241038171578\n",
      "F1 score at threshold 0.32 is 0.9349190222912807\n",
      "F1 score at threshold 0.33 is 0.9364480383348307\n",
      "F1 score at threshold 0.34 is 0.9377476287669588\n",
      "F1 score at threshold 0.35 is 0.9389719373176527\n",
      "F1 score at threshold 0.36 is 0.9405522730013264\n",
      "F1 score at threshold 0.37 is 0.942057881698991\n",
      "F1 score at threshold 0.38 is 0.9432237758004963\n",
      "F1 score at threshold 0.39 is 0.9443955710602153\n",
      "F1 score at threshold 0.4 is 0.9457840484081855\n",
      "F1 score at threshold 0.41 is 0.9468360600798221\n",
      "F1 score at threshold 0.42 is 0.9478021978021978\n",
      "F1 score at threshold 0.43 is 0.9485273878337461\n",
      "F1 score at threshold 0.44 is 0.9494454317053741\n",
      "F1 score at threshold 0.45 is 0.9502901532131782\n",
      "F1 score at threshold 0.46 is 0.9513846153846154\n",
      "F1 score at threshold 0.47 is 0.9521607792367918\n",
      "F1 score at threshold 0.48 is 0.9526513982344589\n",
      "F1 score at threshold 0.49 is 0.9530819905359847\n",
      "F1 score at threshold 0.5 is 0.9531801573047625\n"
     ]
    }
   ],
   "source": [
    "pred_glove_train_y = model.predict([train_X], batch_size=1024, verbose=1)\n",
    "scores = []\n",
    "thresholds = np.arange(0.1, 0.501, 0.01)\n",
    "for thresh in thresholds:\n",
    "    thresh = np.round(thresh, 2)\n",
    "    scores.append(metrics.f1_score(train_y, (pred_glove_train_y>thresh).astype(int)))\n",
    "    print(\"F1 score at threshold {0} is {1}\".format(thresh, metrics.f1_score(train_y, (pred_glove_train_y>thresh).astype(int))))\n",
    "idx = np.argmax(np.array(scores))\n",
    "thresh_train = thresholds[idx]"
   ]
  },
  {
   "cell_type": "code",
   "execution_count": 0,
   "metadata": {
    "colab": {
     "base_uri": "https://localhost:8080/",
     "height": 34
    },
    "colab_type": "code",
    "id": "gPDSZwk-kk3h",
    "outputId": "7123e0d7-dc3d-499e-a837-30d325f331cc"
   },
   "outputs": [
    {
     "name": "stdout",
     "output_type": "stream",
     "text": [
      "0.4999999999999998\n"
     ]
    }
   ],
   "source": [
    "print(thresh_train)\n"
   ]
  },
  {
   "cell_type": "code",
   "execution_count": 0,
   "metadata": {
    "colab": {
     "base_uri": "https://localhost:8080/",
     "height": 746
    },
    "colab_type": "code",
    "id": "cGK1H2M1kqDA",
    "outputId": "607c0397-d88a-493e-a4f0-053013381a61"
   },
   "outputs": [
    {
     "name": "stdout",
     "output_type": "stream",
     "text": [
      "4251/4251 [==============================] - 0s 62us/step\n",
      "F1 score at threshold 0.1 is 0.8465686274509805\n",
      "F1 score at threshold 0.11 is 0.8505803902198074\n",
      "F1 score at threshold 0.12 is 0.8553677932405567\n",
      "F1 score at threshold 0.13 is 0.8602904356534804\n",
      "F1 score at threshold 0.14 is 0.8628930817610063\n",
      "F1 score at threshold 0.15 is 0.8678481012658228\n",
      "F1 score at threshold 0.16 is 0.8714031066972244\n",
      "F1 score at threshold 0.17 is 0.8719652440582673\n",
      "F1 score at threshold 0.18 is 0.8753206772703951\n",
      "F1 score at threshold 0.19 is 0.8780613560195927\n",
      "F1 score at threshold 0.2 is 0.8792345487457979\n",
      "F1 score at threshold 0.21 is 0.8823682160477797\n",
      "F1 score at threshold 0.22 is 0.8836240562353554\n",
      "F1 score at threshold 0.23 is 0.88662486938349\n",
      "F1 score at threshold 0.24 is 0.8891218872870249\n",
      "F1 score at threshold 0.25 is 0.8909329829172142\n",
      "F1 score at threshold 0.26 is 0.8919915700737617\n",
      "F1 score at threshold 0.27 is 0.8931216931216931\n",
      "F1 score at threshold 0.28 is 0.8949044585987261\n",
      "F1 score at threshold 0.29 is 0.8961836135575126\n",
      "F1 score at threshold 0.3 is 0.8962566844919786\n",
      "F1 score at threshold 0.31 is 0.8980686695278971\n",
      "F1 score at threshold 0.32 is 0.8991121872477805\n",
      "F1 score at threshold 0.33 is 0.8988945807495282\n",
      "F1 score at threshold 0.34 is 0.9007303218826074\n",
      "F1 score at threshold 0.35 is 0.9013015184381777\n",
      "F1 score at threshold 0.36 is 0.9046840958605665\n",
      "F1 score at threshold 0.37 is 0.9057634526085769\n",
      "F1 score at threshold 0.38 is 0.9071995620038326\n",
      "F1 score at threshold 0.39 is 0.9086920756786401\n",
      "F1 score at threshold 0.4 is 0.9100907341215287\n",
      "F1 score at threshold 0.41 is 0.9107438016528926\n",
      "F1 score at threshold 0.42 is 0.9110497237569062\n",
      "F1 score at threshold 0.43 is 0.9119113573407202\n",
      "F1 score at threshold 0.44 is 0.9112590127565169\n",
      "F1 score at threshold 0.45 is 0.9117157134925041\n",
      "F1 score at threshold 0.46 is 0.9123783031988874\n",
      "F1 score at threshold 0.47 is 0.9132496513249652\n",
      "F1 score at threshold 0.48 is 0.9139183901621017\n",
      "F1 score at threshold 0.49 is 0.9132138857782753\n",
      "F1 score at threshold 0.5 is 0.9136287156477846\n"
     ]
    }
   ],
   "source": [
    "pred_glove_val_y = model.predict([val_X], batch_size=1024, verbose=1)\n",
    "scores = []\n",
    "thresholds = np.arange(0.1, 0.501, 0.01)\n",
    "for thresh in thresholds:\n",
    "    thresh = np.round(thresh, 2)\n",
    "    scores.append(metrics.f1_score(val_y, (pred_glove_val_y>thresh).astype(int)))\n",
    "    print(\"F1 score at threshold {0} is {1}\".format(thresh, metrics.f1_score(val_y, (pred_glove_val_y>thresh).astype(int))))\n",
    "idx = np.argmax(np.array(scores))\n",
    "thresh_valid = thresholds[idx]"
   ]
  },
  {
   "cell_type": "code",
   "execution_count": 0,
   "metadata": {
    "colab": {
     "base_uri": "https://localhost:8080/",
     "height": 34
    },
    "colab_type": "code",
    "id": "fPgR-Be6kvzN",
    "outputId": "c4f2843a-9c82-475d-9ba0-8553b1011150"
   },
   "outputs": [
    {
     "name": "stdout",
     "output_type": "stream",
     "text": [
      "0.47999999999999976\n"
     ]
    }
   ],
   "source": [
    "print(thresh_valid)"
   ]
  },
  {
   "cell_type": "code",
   "execution_count": 0,
   "metadata": {
    "colab": {
     "base_uri": "https://localhost:8080/",
     "height": 52
    },
    "colab_type": "code",
    "id": "nUG6GNz7kzXf",
    "outputId": "1bcadcb5-96b5-4a12-d52d-d9a26008c394"
   },
   "outputs": [
    {
     "name": "stdout",
     "output_type": "stream",
     "text": [
      "total valid data is  11949 where 4981 is hate\n",
      "0.9364288561179753\n"
     ]
    }
   ],
   "source": [
    "from sklearn.metrics import accuracy_score, confusion_matrix,f1_score\n",
    "\n",
    "print('total valid data is ',test_y.shape[0], 'where', np.sum(test_y==1),'is hate' )\n",
    "print(f1_score(test_y, pred_glove_test_y>0.41))\n",
    "#confusion_matrix(train_y, pred_glove_train_y>thresh_train, labels=[0, 1])"
   ]
  },
  {
   "cell_type": "code",
   "execution_count": 0,
   "metadata": {
    "colab": {
     "base_uri": "https://localhost:8080/",
     "height": 86
    },
    "colab_type": "code",
    "id": "BrKDvp02k9tX",
    "outputId": "c939b13d-fd07-405b-d83d-8fa6802dea7a"
   },
   "outputs": [
    {
     "name": "stdout",
     "output_type": "stream",
     "text": [
      "total valid data is  4251 where 1769 is hate\n",
      "0.9520112914608327\n"
     ]
    },
    {
     "data": {
      "text/plain": [
       "array([[2384,   98],\n",
       "       [ 106, 1663]])"
      ]
     },
     "execution_count": 24,
     "metadata": {
      "tags": []
     },
     "output_type": "execute_result"
    }
   ],
   "source": [
    "print('total valid data is ',val_y.shape[0], 'where', np.sum(val_y==1),'is hate' )\n",
    "print(accuracy_score(val_y, pred_glove_val_y>thresh_valid))\n",
    "confusion_matrix(val_y, pred_glove_val_y>thresh_valid, labels=[0, 1])\n",
    "\n"
   ]
  },
  {
   "cell_type": "code",
   "execution_count": 0,
   "metadata": {
    "colab": {},
    "colab_type": "code",
    "id": "8VOhqd9LlHBs"
   },
   "outputs": [],
   "source": [
    "#predicted = model1.predict(test_X) > 0.5"
   ]
  },
  {
   "cell_type": "code",
   "execution_count": 0,
   "metadata": {
    "colab": {},
    "colab_type": "code",
    "id": "S3P0l8O9qunV"
   },
   "outputs": [],
   "source": [
    "#metrics.f1_score(predicted,test_y)"
   ]
  },
  {
   "cell_type": "code",
   "execution_count": 0,
   "metadata": {
    "colab": {},
    "colab_type": "code",
    "id": "cx5Q7gVibgH-"
   },
   "outputs": [],
   "source": [
    "def predict_result(text):\n",
    "  val = tokenizer.texts_to_sequences([text])\n",
    "  val = pad_sequences(val, maxlen=maxlen,padding='post',truncating='post')\n",
    "  return model.predict(val)[0]\n"
   ]
  },
  {
   "cell_type": "code",
   "execution_count": 0,
   "metadata": {
    "colab": {
     "base_uri": "https://localhost:8080/",
     "height": 34
    },
    "colab_type": "code",
    "id": "1KW-q11AMpMK",
    "outputId": "a372edc1-bebf-4cb6-aaba-d8bb9ba4fc9e"
   },
   "outputs": [
    {
     "data": {
      "text/plain": [
       "array([0.37764966], dtype=float32)"
      ]
     },
     "execution_count": 139,
     "metadata": {
      "tags": []
     },
     "output_type": "execute_result"
    }
   ],
   "source": [
    "predict_result(\"That is fucking great\") "
   ]
  },
  {
   "cell_type": "code",
   "execution_count": 0,
   "metadata": {
    "colab": {
     "base_uri": "https://localhost:8080/",
     "height": 34
    },
    "colab_type": "code",
    "id": "dzfuEU5zo73u",
    "outputId": "45569d36-9506-4985-e854-e0475a9ad29d"
   },
   "outputs": [
    {
     "data": {
      "text/plain": [
       "array([0.6022347], dtype=float32)"
      ]
     },
     "execution_count": 161,
     "metadata": {
      "tags": []
     },
     "output_type": "execute_result"
    }
   ],
   "source": [
    "predict_result(\"you are so fucking annoying shut up \") "
   ]
  },
  {
   "cell_type": "code",
   "execution_count": 0,
   "metadata": {
    "colab": {
     "base_uri": "https://localhost:8080/",
     "height": 34
    },
    "colab_type": "code",
    "id": "kgyWicKR00ts",
    "outputId": "d217f462-5b4e-4d2b-b058-738d7f17f468"
   },
   "outputs": [
    {
     "data": {
      "text/plain": [
       "array([0.29732585], dtype=float32)"
      ]
     },
     "execution_count": 164,
     "metadata": {
      "tags": []
     },
     "output_type": "execute_result"
    }
   ],
   "source": [
    "predict_result(\"look at those damn prices\") "
   ]
  },
  {
   "cell_type": "code",
   "execution_count": 0,
   "metadata": {
    "colab": {
     "base_uri": "https://localhost:8080/",
     "height": 34
    },
    "colab_type": "code",
    "id": "kaGkLx_xsSy9",
    "outputId": "8344d558-c208-4bf7-8cf2-aa949fa71e53"
   },
   "outputs": [
    {
     "data": {
      "text/plain": [
       "array([0.48650774], dtype=float32)"
      ]
     },
     "execution_count": 186,
     "metadata": {
      "tags": []
     },
     "output_type": "execute_result"
    }
   ],
   "source": [
    "predict_result(\"what the fuck\") "
   ]
  },
  {
   "cell_type": "code",
   "execution_count": 0,
   "metadata": {
    "colab": {
     "base_uri": "https://localhost:8080/",
     "height": 34
    },
    "colab_type": "code",
    "id": "FnZtSivosiJc",
    "outputId": "faee3a3a-e72d-4394-9932-680697e811a1"
   },
   "outputs": [
    {
     "data": {
      "text/plain": [
       "array([0.5289312], dtype=float32)"
      ]
     },
     "execution_count": 143,
     "metadata": {
      "tags": []
     },
     "output_type": "execute_result"
    }
   ],
   "source": [
    "predict_result(\"go kill yourself\")"
   ]
  },
  {
   "cell_type": "code",
   "execution_count": 0,
   "metadata": {
    "colab": {
     "base_uri": "https://localhost:8080/",
     "height": 34
    },
    "colab_type": "code",
    "id": "aA8TnfMh0Q5G",
    "outputId": "8ad17a4c-fac8-46d9-9735-cd589ce29978"
   },
   "outputs": [
    {
     "data": {
      "text/plain": [
       "array([0.7191925], dtype=float32)"
      ]
     },
     "execution_count": 156,
     "metadata": {
      "tags": []
     },
     "output_type": "execute_result"
    }
   ],
   "source": [
    "predict_result(\"kill yourself\")"
   ]
  },
  {
   "cell_type": "code",
   "execution_count": 0,
   "metadata": {
    "colab": {
     "base_uri": "https://localhost:8080/",
     "height": 34
    },
    "colab_type": "code",
    "id": "iePZVrtr1oxa",
    "outputId": "1c299d51-b2d1-43c9-ef1f-21b024f4cc20"
   },
   "outputs": [
    {
     "data": {
      "text/plain": [
       "array([0.8542695], dtype=float32)"
      ]
     },
     "execution_count": 185,
     "metadata": {
      "tags": []
     },
     "output_type": "execute_result"
    }
   ],
   "source": [
    "predict_result(\"fuck you\") "
   ]
  },
  {
   "cell_type": "code",
   "execution_count": 0,
   "metadata": {
    "colab": {
     "base_uri": "https://localhost:8080/",
     "height": 34
    },
    "colab_type": "code",
    "id": "JyFScMqQsnDP",
    "outputId": "852e5376-5373-4430-cd1a-3660a919fd14"
   },
   "outputs": [
    {
     "data": {
      "text/plain": [
       "array([0.7232004], dtype=float32)"
      ]
     },
     "execution_count": 154,
     "metadata": {
      "tags": []
     },
     "output_type": "execute_result"
    }
   ],
   "source": [
    "predict_result(\"can we  ban black people\")"
   ]
  },
  {
   "cell_type": "code",
   "execution_count": 0,
   "metadata": {
    "colab": {
     "base_uri": "https://localhost:8080/",
     "height": 34
    },
    "colab_type": "code",
    "id": "7psZA9Iz0Y4X",
    "outputId": "6c725273-fb5e-47ce-901a-6b9acffc4f12"
   },
   "outputs": [
    {
     "data": {
      "text/plain": [
       "array([0.7278909], dtype=float32)"
      ]
     },
     "execution_count": 158,
     "metadata": {
      "tags": []
     },
     "output_type": "execute_result"
    }
   ],
   "source": [
    "predict_result(\"<user>  ban black people\")"
   ]
  },
  {
   "cell_type": "code",
   "execution_count": 0,
   "metadata": {
    "colab": {
     "base_uri": "https://localhost:8080/",
     "height": 34
    },
    "colab_type": "code",
    "id": "FA_fht2K0it3",
    "outputId": "84d93b6b-48b2-4d96-ffb4-60157ff9196b"
   },
   "outputs": [
    {
     "data": {
      "text/plain": [
       "array([0.39425012], dtype=float32)"
      ]
     },
     "execution_count": 159,
     "metadata": {
      "tags": []
     },
     "output_type": "execute_result"
    }
   ],
   "source": [
    "predict_result(\"black people are humans too\")"
   ]
  },
  {
   "cell_type": "code",
   "execution_count": 0,
   "metadata": {
    "colab": {
     "base_uri": "https://localhost:8080/",
     "height": 34
    },
    "colab_type": "code",
    "id": "e3y7P0b31ry1",
    "outputId": "34b1cf8e-1af5-45c3-9a55-9736d9c0c479"
   },
   "outputs": [
    {
     "data": {
      "text/plain": [
       "array([0.13512719], dtype=float32)"
      ]
     },
     "execution_count": 174,
     "metadata": {
      "tags": []
     },
     "output_type": "execute_result"
    }
   ],
   "source": [
    "predict_result(\"<user> ban the drugs\")"
   ]
  },
  {
   "cell_type": "code",
   "execution_count": 0,
   "metadata": {
    "colab": {},
    "colab_type": "code",
    "id": "y9flERdNb2yH"
   },
   "outputs": [],
   "source": [
    "# pred_glove_val_y = model.predict([val_X], batch_size=1024, verbose=1)\n",
    "# scores = []\n",
    "# thresholds = np.arange(0.1, 0.501, 0.01)\n",
    "# for thresh in thresholds:\n",
    "#     thresh = np.round(thresh, 2)\n",
    "#     scores.append(metrics.f1_score(val_y, (pred_glove_val_y>thresh).astype(int)))\n",
    "#     print(\"F1 score at threshold {0} is {1}\".format(thresh, metrics.f1_score(val_y, (pred_glove_val_y>thresh).astype(int))))\n",
    "# idx = np.argmax(np.array(scores))\n",
    "# thresh_valid = thresholds[idx]"
   ]
  },
  {
   "cell_type": "code",
   "execution_count": 0,
   "metadata": {
    "colab": {},
    "colab_type": "code",
    "id": "znZpbiKxOMbI"
   },
   "outputs": [],
   "source": []
  },
  {
   "cell_type": "code",
   "execution_count": 0,
   "metadata": {
    "colab": {},
    "colab_type": "code",
    "id": "keLbjgUNOR3R"
   },
   "outputs": [],
   "source": []
  },
  {
   "cell_type": "code",
   "execution_count": 0,
   "metadata": {
    "colab": {},
    "colab_type": "code",
    "id": "O6mRJsynclae"
   },
   "outputs": [],
   "source": []
  }
 ],
 "metadata": {
  "accelerator": "GPU",
  "colab": {
   "authorship_tag": "ABX9TyPAWSmfmtdVQJ/5R4cpXvRR",
   "collapsed_sections": [],
   "include_colab_link": true,
   "name": "GRU",
   "provenance": [],
   "toc_visible": true
  },
  "kernelspec": {
   "display_name": "Python 3",
   "language": "python",
   "name": "python3"
  },
  "language_info": {
   "codemirror_mode": {
    "name": "ipython",
    "version": 3
   },
   "file_extension": ".py",
   "mimetype": "text/x-python",
   "name": "python",
   "nbconvert_exporter": "python",
   "pygments_lexer": "ipython3",
   "version": "3.7.4"
  }
 },
 "nbformat": 4,
 "nbformat_minor": 1
}
