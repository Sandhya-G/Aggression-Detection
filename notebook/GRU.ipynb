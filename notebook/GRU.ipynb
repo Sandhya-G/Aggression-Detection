{
  "nbformat": 4,
  "nbformat_minor": 0,
  "metadata": {
    "colab": {
      "name": "Untitled",
      "provenance": [],
      "authorship_tag": "ABX9TyPqgkOKQLe7xhCMGHKSBX1O",
      "include_colab_link": true
    },
    "kernelspec": {
      "name": "python3",
      "display_name": "Python 3"
    },
    "accelerator": "GPU"
  },
  "cells": [
    {
      "cell_type": "markdown",
      "metadata": {
        "id": "view-in-github",
        "colab_type": "text"
      },
      "source": [
        "<a href=\"https://colab.research.google.com/github/Sandhya-G/Aggression-Detection/blob/master/notebook/GRU.ipynb\" target=\"_parent\"><img src=\"https://colab.research.google.com/assets/colab-badge.svg\" alt=\"Open In Colab\"/></a>"
      ]
    },
    {
      "cell_type": "code",
      "metadata": {
        "id": "2xrgdRv2XiAp",
        "colab_type": "code",
        "colab": {}
      },
      "source": [
        "import pandas as pd"
      ],
      "execution_count": 0,
      "outputs": []
    },
    {
      "cell_type": "markdown",
      "metadata": {
        "id": "zRhOBeHVkAH_",
        "colab_type": "text"
      },
      "source": [
        "# **Summary**\n",
        "\n",
        "CNN treats embedding matrix as an image, but in text case the convolution matrix must have same number of columns as that of embedding matrix and rows are usually 3,4 or 5 (can be thought of as bigrams, trigrams etc) even though its translation invariant it cannot take care of the context.\n",
        "![cnn](https://miro.medium.com/max/500/0*0efgxnFIaLTZ2qkY?)\n",
        "\n",
        "RNN remembers previous information using hidden state.\n",
        "but it has two problems\n",
        "Vanishing gradient (exploding gradient can be avoided  using Gradient clipping)\n",
        "long term dependencies.\n",
        "Hence variation of RNN\n",
        "LSTM , bi-LSTM(both sides).\n",
        "![LSTM unit](https://i.stack.imgur.com/aTDpS.png)\n",
        "![deep lstm](https://assets.website-files.com/5ac6b7f2924c656f2b13a88c/5b883bbde817297a9cc204a9_Screen%20Shot%202018-08-29%20at%2011.05.17%20AM.png)\n",
        "The architecture is same for GRU. LSTM is replaced by GRU.\n",
        "![GRU unit](https://i.stack.imgur.com/PYGtu.png)\n",
        "\n",
        "GRU(Simplified version of LSTM)\n"
      ]
    },
    {
      "cell_type": "code",
      "metadata": {
        "id": "J0RpKYEwP6Ad",
        "colab_type": "code",
        "colab": {}
      },
      "source": [
        "train_df = pd.read_csv(\"https://raw.githubusercontent.com/Sandhya-G/Aggression-Detection/master/dataset/GLOVE_TRAIN\")\n",
        "test_df = pd.read_csv(\"https://raw.githubusercontent.com/Sandhya-G/Aggression-Detection/master/dataset/GLOVE_TEST\")"
      ],
      "execution_count": 0,
      "outputs": []
    },
    {
      "cell_type": "code",
      "metadata": {
        "id": "Dv3b8Vd-Qnhv",
        "colab_type": "code",
        "outputId": "a4a1af29-8e0c-4924-f388-dcf8a1bc1c53",
        "colab": {
          "base_uri": "https://localhost:8080/",
          "height": 206
        }
      },
      "source": [
        "test_df.head()"
      ],
      "execution_count": 0,
      "outputs": [
        {
          "output_type": "execute_result",
          "data": {
            "text/html": [
              "<div>\n",
              "<style scoped>\n",
              "    .dataframe tbody tr th:only-of-type {\n",
              "        vertical-align: middle;\n",
              "    }\n",
              "\n",
              "    .dataframe tbody tr th {\n",
              "        vertical-align: top;\n",
              "    }\n",
              "\n",
              "    .dataframe thead th {\n",
              "        text-align: right;\n",
              "    }\n",
              "</style>\n",
              "<table border=\"1\" class=\"dataframe\">\n",
              "  <thead>\n",
              "    <tr style=\"text-align: right;\">\n",
              "      <th></th>\n",
              "      <th>Unnamed: 0</th>\n",
              "      <th>Unnamed: 0.1</th>\n",
              "      <th>tweet</th>\n",
              "      <th>class</th>\n",
              "    </tr>\n",
              "  </thead>\n",
              "  <tbody>\n",
              "    <tr>\n",
              "      <th>0</th>\n",
              "      <td>0</td>\n",
              "      <td>22583</td>\n",
              "      <td>what i look like ho ? i look like yes &lt;allcaps...</td>\n",
              "      <td>1</td>\n",
              "    </tr>\n",
              "    <tr>\n",
              "      <th>1</th>\n",
              "      <td>1</td>\n",
              "      <td>29484</td>\n",
              "      <td>&lt;user&gt; lots of &lt;hashtag&gt; and &lt;hashtag&gt; from so...</td>\n",
              "      <td>0</td>\n",
              "    </tr>\n",
              "    <tr>\n",
              "      <th>2</th>\n",
              "      <td>2</td>\n",
              "      <td>34265</td>\n",
              "      <td>what is wrong with ppl nowadays ? i was conduc...</td>\n",
              "      <td>0</td>\n",
              "    </tr>\n",
              "    <tr>\n",
              "      <th>3</th>\n",
              "      <td>3</td>\n",
              "      <td>4155</td>\n",
              "      <td>&lt;user&gt; lakers are trash</td>\n",
              "      <td>1</td>\n",
              "    </tr>\n",
              "    <tr>\n",
              "      <th>4</th>\n",
              "      <td>4</td>\n",
              "      <td>37575</td>\n",
              "      <td>will be playing rf simpson in &lt;hashtag&gt; at &lt;us...</td>\n",
              "      <td>0</td>\n",
              "    </tr>\n",
              "  </tbody>\n",
              "</table>\n",
              "</div>"
            ],
            "text/plain": [
              "   Unnamed: 0  ...  class\n",
              "0           0  ...      1\n",
              "1           1  ...      0\n",
              "2           2  ...      0\n",
              "3           3  ...      1\n",
              "4           4  ...      0\n",
              "\n",
              "[5 rows x 4 columns]"
            ]
          },
          "metadata": {
            "tags": []
          },
          "execution_count": 3
        }
      ]
    },
    {
      "cell_type": "code",
      "metadata": {
        "id": "v1VLJDDcRwH3",
        "colab_type": "code",
        "colab": {}
      },
      "source": [
        "embed_size = 300 # how big is each word vector\n",
        "max_features = 50000 # how many unique words to use (i.e num rows in embedding vector)\n",
        "maxlen = 100 # max number of words in a question to use"
      ],
      "execution_count": 0,
      "outputs": []
    },
    {
      "cell_type": "code",
      "metadata": {
        "id": "vVvqAxyCS8wn",
        "colab_type": "code",
        "colab": {}
      },
      "source": [
        "import os\n",
        "import time\n",
        "import numpy as np # linear algebra\n",
        "import pandas as pd # data processing, CSV file I/O (e.g. pd.read_csv)\n",
        "from tqdm import tqdm\n",
        "import math\n",
        "from sklearn.model_selection import train_test_split\n",
        "from sklearn import metrics\n",
        "import tensorflow as tf\n",
        "\n",
        "from keras.preprocessing.text import Tokenizer\n",
        "from keras.preprocessing.sequence import pad_sequences\n",
        "from keras.layers import Dense, Input, LSTM, Embedding, Dropout, Activation, GRU, Conv1D\n",
        "from keras.layers import Bidirectional, GlobalMaxPool1D\n",
        "from keras.models import Model\n",
        "from keras import initializers, regularizers, constraints, optimizers, layers"
      ],
      "execution_count": 0,
      "outputs": []
    },
    {
      "cell_type": "code",
      "metadata": {
        "id": "7I2ekikCTLZ9",
        "colab_type": "code",
        "colab": {}
      },
      "source": [
        "from keras import backend as K\n",
        "\n",
        "def f1(y_true, y_pred):\n",
        "    def recall(y_true, y_pred):\n",
        "        \"\"\"Recall metric.\n",
        "\n",
        "        Only computes a batch-wise average of recall.\n",
        "\n",
        "        Computes the recall, a metric for multi-label classification of\n",
        "        how many relevant items are selected.\n",
        "        \"\"\"\n",
        "        true_positives = K.sum(K.round(K.clip(y_true * y_pred, 0, 1)))\n",
        "        possible_positives = K.sum(K.round(K.clip(y_true, 0, 1)))\n",
        "        recall = true_positives / (possible_positives + K.epsilon())\n",
        "        return recall\n",
        "\n",
        "    def precision(y_true, y_pred):\n",
        "        \"\"\"Precision metric.\n",
        "\n",
        "        Only computes a batch-wise average of precision.\n",
        "\n",
        "        Computes the precision, a metric for multi-label classification of\n",
        "        how many selected items are relevant.\n",
        "        \"\"\"\n",
        "        true_positives = K.sum(K.round(K.clip(y_true * y_pred, 0, 1)))\n",
        "        predicted_positives = K.sum(K.round(K.clip(y_pred, 0, 1)))\n",
        "        precision = true_positives / (predicted_positives + K.epsilon())\n",
        "        return precision\n",
        "    precision = precision(y_true, y_pred)\n",
        "    recall = recall(y_true, y_pred)\n",
        "    return 2*((precision*recall)/(precision+recall+K.epsilon()))\n",
        "\n",
        "import tensorflow as tf\n",
        "\n",
        "\n",
        "def f1_loss(y_true, y_pred):\n",
        "    \n",
        "    tp = K.sum(K.cast(y_true*y_pred, 'float'), axis=0)\n",
        "    fp = K.sum(K.cast((1-y_true)*y_pred, 'float'), axis=0)\n",
        "    fn = K.sum(K.cast(y_true*(1-y_pred), 'float'), axis=0)\n",
        "\n",
        "\n",
        "    p = tp / (tp + fp + K.epsilon())\n",
        "    r = tp / (tp + fn + K.epsilon())\n",
        "\n",
        "    f1 = 2*p*r / (p+r+K.epsilon())\n",
        "    f1 = tf.where(tf.math.is_nan(f1), tf.zeros_like(f1), f1)\n",
        "    return 1 - K.mean(f1)\n",
        "\n",
        "\n"
      ],
      "execution_count": 0,
      "outputs": []
    },
    {
      "cell_type": "code",
      "metadata": {
        "id": "FpKnH6viQ9B4",
        "colab_type": "code",
        "colab": {}
      },
      "source": [
        "from numpy.random import seed\n",
        "seed(1)\n",
        "from tensorflow import random\n",
        "random.set_seed(2)\n",
        "\n",
        "## split to train and val\n",
        "\n",
        "train_df, val_df = train_test_split(train_df, test_size=0.1, random_state=2048,stratify=train_df[\"class\"])\n",
        "\n",
        "## some config values \n",
        "embed_size = 100 # how big is each word vector\n",
        "max_features = 30000 # how many unique words to use (i.e num rows in embedding vector)\n",
        "maxlen = 100 # max number of words in a question to use\n",
        "\n",
        "## fill up the missing values\n",
        "train_X = train_df[\"tweet\"].fillna(\"_na_\").values\n",
        "val_X = val_df[\"tweet\"].fillna(\"_na_\").values\n",
        "test_X = test_df[\"tweet\"].fillna(\"_na_\").values\n",
        "\n",
        "## Tokenize the sentences\n",
        "tokenizer = Tokenizer(num_words=max_features)\n",
        "tokenizer.fit_on_texts(list(train_X))\n",
        "train_X = tokenizer.texts_to_sequences(train_X)\n",
        "val_X = tokenizer.texts_to_sequences(val_X)\n",
        "test_X = tokenizer.texts_to_sequences(test_X)\n",
        "\n",
        "## Pad the sentences \n",
        "train_X = pad_sequences(train_X, maxlen=maxlen,padding='post',truncating='post')\n",
        "val_X = pad_sequences(val_X, maxlen=maxlen,padding='post',truncating='post')\n",
        "test_X = pad_sequences(test_X, maxlen=maxlen,padding='post',truncating='post')\n",
        "\n",
        "## Get the target values\n",
        "train_y = train_df['class'].values\n",
        "val_y = val_df['class'].values\n",
        "\n",
        "\n",
        "        \n",
        "\n"
      ],
      "execution_count": 0,
      "outputs": []
    },
    {
      "cell_type": "code",
      "metadata": {
        "id": "i5MpK8hKYim7",
        "colab_type": "code",
        "colab": {}
      },
      "source": [
        "def load_glove_index():\n",
        "    EMBEDDING_FILE =  '/glove.twitter.27B.100d.txt'\n",
        "    def get_coefs(word,*arr): return word, np.asarray(arr, dtype='float32')[:100]\n",
        "    embeddings_index = dict(get_coefs(*o.split(\" \")) for o in open(EMBEDDING_FILE))\n",
        "    return embeddings_index\n",
        "\n",
        "glove_embedding_index = load_glove_index()"
      ],
      "execution_count": 0,
      "outputs": []
    },
    {
      "cell_type": "code",
      "metadata": {
        "id": "qDJLaN4jQp5J",
        "colab_type": "code",
        "colab": {}
      },
      "source": [
        "\n",
        "num_words = max_features\n",
        "\n",
        "embedding_matrix = np.zeros((num_words, embed_size))\n",
        "for word, i in tokenizer.word_index.items():\n",
        "    if i >= num_words:\n",
        "        continue\n",
        "    embedding_vector = glove_embedding_index.get(word)\n",
        "    if embedding_vector is not None:\n",
        "        # words not found in embedding index will be all-zeros.\n",
        "        embedding_matrix[i] = embedding_vector"
      ],
      "execution_count": 0,
      "outputs": []
    },
    {
      "cell_type": "code",
      "metadata": {
        "id": "57Au8uvcYqe1",
        "colab_type": "code",
        "outputId": "51befb64-4c2d-4432-dca5-21ca04e3a86f",
        "colab": {
          "base_uri": "https://localhost:8080/",
          "height": 34
        }
      },
      "source": [
        "embedding_matrix.shape"
      ],
      "execution_count": 0,
      "outputs": [
        {
          "output_type": "execute_result",
          "data": {
            "text/plain": [
              "(30000, 100)"
            ]
          },
          "metadata": {
            "tags": []
          },
          "execution_count": 18
        }
      ]
    },
    {
      "cell_type": "code",
      "metadata": {
        "id": "H9hDykF5eQbZ",
        "colab_type": "code",
        "colab": {}
      },
      "source": [
        "from tensorflow.python.compiler import tensorrt as trt"
      ],
      "execution_count": 0,
      "outputs": []
    },
    {
      "cell_type": "code",
      "metadata": {
        "id": "u7FlgCWCXVjc",
        "colab_type": "code",
        "outputId": "d8e2926f-d11e-4370-fe64-ca0dad9c5ccd",
        "colab": {
          "base_uri": "https://localhost:8080/",
          "height": 416
        }
      },
      "source": [
        "inp = Input(shape=(maxlen,))\n",
        "x = Embedding(max_features, embed_size, weights=[embedding_matrix], trainable=False)(inp)\n",
        "x = Bidirectional(GRU(64, return_sequences=True))(x)\n",
        "x = GlobalMaxPool1D()(x)\n",
        "x = Dense(16, activation=\"relu\")(x)\n",
        "x = Dropout(0.1)(x)\n",
        "x = Dense(1, activation=\"sigmoid\")(x)\n",
        "model = Model(inputs=inp, outputs=x)\n",
        "# model.compile(loss='binary_crossentropy', optimizer='adam', metrics=['accuracy',f1])\n",
        "model.compile(loss=f1_loss, optimizer='adam', metrics=['accuracy',f1])\n",
        "print(model.summary())\n",
        "\n"
      ],
      "execution_count": 0,
      "outputs": [
        {
          "output_type": "stream",
          "text": [
            "Model: \"model_4\"\n",
            "_________________________________________________________________\n",
            "Layer (type)                 Output Shape              Param #   \n",
            "=================================================================\n",
            "input_6 (InputLayer)         (None, 100)               0         \n",
            "_________________________________________________________________\n",
            "embedding_6 (Embedding)      (None, 100, 100)          3000000   \n",
            "_________________________________________________________________\n",
            "bidirectional_6 (Bidirection (None, 100, 128)          63360     \n",
            "_________________________________________________________________\n",
            "global_max_pooling1d_4 (Glob (None, 128)               0         \n",
            "_________________________________________________________________\n",
            "dense_7 (Dense)              (None, 16)                2064      \n",
            "_________________________________________________________________\n",
            "dropout_4 (Dropout)          (None, 16)                0         \n",
            "_________________________________________________________________\n",
            "dense_8 (Dense)              (None, 1)                 17        \n",
            "=================================================================\n",
            "Total params: 3,065,441\n",
            "Trainable params: 65,441\n",
            "Non-trainable params: 3,000,000\n",
            "_________________________________________________________________\n",
            "None\n"
          ],
          "name": "stdout"
        }
      ]
    },
    {
      "cell_type": "code",
      "metadata": {
        "id": "tZ-gsbZwb1PN",
        "colab_type": "code",
        "outputId": "b725ca9f-fc93-446d-cf97-158a255d4cce",
        "colab": {
          "base_uri": "https://localhost:8080/",
          "height": 402
        }
      },
      "source": [
        "history = model.fit(train_X, train_y, batch_size=512, epochs=10, validation_data=(val_X, val_y))"
      ],
      "execution_count": 0,
      "outputs": [
        {
          "output_type": "stream",
          "text": [
            "Train on 38127 samples, validate on 4237 samples\n",
            "Epoch 1/10\n",
            "38127/38127 [==============================] - 29s 755us/step - loss: 0.0905 - accuracy: 0.9282 - f1: 0.9103 - val_loss: 0.0882 - val_accuracy: 0.9306 - val_f1: 0.9105\n",
            "Epoch 2/10\n",
            "38127/38127 [==============================] - 29s 750us/step - loss: 0.0906 - accuracy: 0.9279 - f1: 0.9098 - val_loss: 0.0865 - val_accuracy: 0.9311 - val_f1: 0.9127\n",
            "Epoch 3/10\n",
            "38127/38127 [==============================] - 29s 766us/step - loss: 0.0876 - accuracy: 0.9306 - f1: 0.9131 - val_loss: 0.0865 - val_accuracy: 0.9323 - val_f1: 0.9135\n",
            "Epoch 4/10\n",
            "38127/38127 [==============================] - 29s 757us/step - loss: 0.0868 - accuracy: 0.9312 - f1: 0.9137 - val_loss: 0.0859 - val_accuracy: 0.9318 - val_f1: 0.9142\n",
            "Epoch 5/10\n",
            "38127/38127 [==============================] - 28s 746us/step - loss: 0.0855 - accuracy: 0.9319 - f1: 0.9151 - val_loss: 0.0858 - val_accuracy: 0.9313 - val_f1: 0.9148\n",
            "Epoch 6/10\n",
            "38127/38127 [==============================] - 28s 744us/step - loss: 0.0846 - accuracy: 0.9322 - f1: 0.9157 - val_loss: 0.0853 - val_accuracy: 0.9320 - val_f1: 0.9146\n",
            "Epoch 7/10\n",
            "38127/38127 [==============================] - 29s 752us/step - loss: 0.0870 - accuracy: 0.9296 - f1: 0.9130 - val_loss: 0.0916 - val_accuracy: 0.9242 - val_f1: 0.9107\n",
            "Epoch 8/10\n",
            "38127/38127 [==============================] - 29s 754us/step - loss: 0.0898 - accuracy: 0.9269 - f1: 0.9105 - val_loss: 0.0847 - val_accuracy: 0.9320 - val_f1: 0.9157\n",
            "Epoch 9/10\n",
            "38127/38127 [==============================] - 28s 738us/step - loss: 0.0850 - accuracy: 0.9317 - f1: 0.9154 - val_loss: 0.0891 - val_accuracy: 0.9271 - val_f1: 0.9114\n",
            "Epoch 10/10\n",
            "38127/38127 [==============================] - 29s 752us/step - loss: 0.0840 - accuracy: 0.9327 - f1: 0.9162 - val_loss: 0.0850 - val_accuracy: 0.9323 - val_f1: 0.9162\n"
          ],
          "name": "stdout"
        }
      ]
    },
    {
      "cell_type": "code",
      "metadata": {
        "id": "W-PQhHsVhD-r",
        "colab_type": "code",
        "outputId": "dc9af41c-26a9-4bda-e62f-6216b6cd3e30",
        "colab": {
          "base_uri": "https://localhost:8080/",
          "height": 34
        }
      },
      "source": [
        "#codes from machinelearningmastery.com\n",
        "import matplotlib.pyplot as plt\n",
        "%matplotlib inline\n",
        "# list all data in history\n",
        "print(history.history.keys())\n",
        "# summarize history for accuracy\n",
        "# codes from machinelearningmastery.com\n",
        "def print_hist(history):\n",
        "    plt.plot(history.history['f1'])\n",
        "    plt.plot(history.history['val_f1'])\n",
        "    plt.title('model af1')\n",
        "    plt.ylabel('f1')\n",
        "    plt.xlabel('epoch')\n",
        "    plt.legend(['train', 'val'], loc='upper left')\n",
        "    plt.show()\n",
        "\n",
        "   \n",
        "    \n",
        "    # summarize history for loss\n",
        "    plt.plot(history.history['loss'])\n",
        "    plt.plot(history.history['val_loss'])\n",
        "    plt.title('model loss')\n",
        "    plt.ylabel('loss')\n",
        "    plt.xlabel('epoch')\n",
        "    plt.legend(['train', 'val'], loc='upper left')\n",
        "    plt.show()\n",
        "    "
      ],
      "execution_count": 0,
      "outputs": [
        {
          "output_type": "stream",
          "text": [
            "dict_keys(['val_loss', 'val_accuracy', 'val_f1', 'loss', 'accuracy', 'f1'])\n"
          ],
          "name": "stdout"
        }
      ]
    },
    {
      "cell_type": "code",
      "metadata": {
        "id": "I18ET6nChXpk",
        "colab_type": "code",
        "outputId": "1118c840-4745-4840-dea5-99b036db6739",
        "colab": {
          "base_uri": "https://localhost:8080/",
          "height": 573
        }
      },
      "source": [
        "print_hist(history)"
      ],
      "execution_count": 0,
      "outputs": [
        {
          "output_type": "display_data",
          "data": {
            "image/png": "[encoded data removed]",
            "text/plain": [
              "<Figure size 432x288 with 1 Axes>"
            ]
          },
          "metadata": {
            "tags": [],
            "needs_background": "light"
          }
        },
        {
          "output_type": "display_data",
          "data": {
            "image/png": "[encoded data removed]",
            "text/plain": [
              "<Figure size 432x288 with 1 Axes>"
            ]
          },
          "metadata": {
            "tags": [],
            "needs_background": "light"
          }
        }
      ]
    },
    {
      "cell_type": "code",
      "metadata": {
        "id": "GD0iQvyth-Wa",
        "colab_type": "code",
        "outputId": "7ea31e00-4e28-4622-8ce1-7378ec16df7c",
        "colab": {
          "base_uri": "https://localhost:8080/",
          "height": 416
        }
      },
      "source": [
        "inp = Input(shape=(maxlen,))\n",
        "x = Embedding(max_features, embed_size, weights=[embedding_matrix], trainable=False)(inp)\n",
        "x = Bidirectional(GRU(64, return_sequences=True))(x)\n",
        "x = GlobalMaxPool1D()(x)\n",
        "x = Dense(16, activation=\"relu\")(x)\n",
        "x = Dropout(0.3)(x)\n",
        "x = Dense(1, activation=\"sigmoid\")(x)\n",
        "model = Model(inputs=inp, outputs=x)\n",
        "model.compile(loss='binary_crossentropy', optimizer='adam', metrics=['accuracy',f1])\n",
        "print(model.summary())\n",
        "\n",
        "\n",
        "\n"
      ],
      "execution_count": 0,
      "outputs": [
        {
          "output_type": "stream",
          "text": [
            "Model: \"model_6\"\n",
            "_________________________________________________________________\n",
            "Layer (type)                 Output Shape              Param #   \n",
            "=================================================================\n",
            "input_9 (InputLayer)         (None, 100)               0         \n",
            "_________________________________________________________________\n",
            "embedding_9 (Embedding)      (None, 100, 100)          3000000   \n",
            "_________________________________________________________________\n",
            "bidirectional_9 (Bidirection (None, 100, 128)          63360     \n",
            "_________________________________________________________________\n",
            "global_max_pooling1d_6 (Glob (None, 128)               0         \n",
            "_________________________________________________________________\n",
            "dense_11 (Dense)             (None, 16)                2064      \n",
            "_________________________________________________________________\n",
            "dropout_6 (Dropout)          (None, 16)                0         \n",
            "_________________________________________________________________\n",
            "dense_12 (Dense)             (None, 1)                 17        \n",
            "=================================================================\n",
            "Total params: 3,065,441\n",
            "Trainable params: 65,441\n",
            "Non-trainable params: 3,000,000\n",
            "_________________________________________________________________\n",
            "None\n"
          ],
          "name": "stdout"
        }
      ]
    },
    {
      "cell_type": "code",
      "metadata": {
        "id": "hen2-2KMjRSN",
        "colab_type": "code",
        "outputId": "6eb29fa8-ea47-4851-ba3e-c332547f06ad",
        "colab": {
          "base_uri": "https://localhost:8080/",
          "height": 402
        }
      },
      "source": [
        "history = model.fit(train_X, train_y, batch_size=512, epochs=10, validation_data=(val_X, val_y))\n",
        "\n"
      ],
      "execution_count": 0,
      "outputs": [
        {
          "output_type": "stream",
          "text": [
            "Train on 38127 samples, validate on 4237 samples\n",
            "Epoch 1/10\n",
            "38127/38127 [==============================] - 30s 789us/step - loss: 0.3033 - accuracy: 0.8952 - f1: 0.8721 - val_loss: 0.2145 - val_accuracy: 0.9242 - val_f1: 0.9039\n",
            "Epoch 2/10\n",
            "38127/38127 [==============================] - 30s 782us/step - loss: 0.2239 - accuracy: 0.9223 - f1: 0.9032 - val_loss: 0.1942 - val_accuracy: 0.9273 - val_f1: 0.9088\n",
            "Epoch 3/10\n",
            "38127/38127 [==============================] - 30s 792us/step - loss: 0.2064 - accuracy: 0.9266 - f1: 0.9082 - val_loss: 0.1835 - val_accuracy: 0.9313 - val_f1: 0.9122\n",
            "Epoch 4/10\n",
            "38127/38127 [==============================] - 30s 786us/step - loss: 0.1940 - accuracy: 0.9308 - f1: 0.9134 - val_loss: 0.1778 - val_accuracy: 0.9332 - val_f1: 0.9156\n",
            "Epoch 5/10\n",
            "38127/38127 [==============================] - 30s 792us/step - loss: 0.1877 - accuracy: 0.9331 - f1: 0.9164 - val_loss: 0.1720 - val_accuracy: 0.9342 - val_f1: 0.9163\n",
            "Epoch 6/10\n",
            "38127/38127 [==============================] - 29s 772us/step - loss: 0.1804 - accuracy: 0.9347 - f1: 0.9184 - val_loss: 0.1696 - val_accuracy: 0.9389 - val_f1: 0.9229\n",
            "Epoch 7/10\n",
            "38127/38127 [==============================] - 29s 770us/step - loss: 0.1760 - accuracy: 0.9369 - f1: 0.9213 - val_loss: 0.1654 - val_accuracy: 0.9365 - val_f1: 0.9200\n",
            "Epoch 8/10\n",
            "38127/38127 [==============================] - 30s 786us/step - loss: 0.1662 - accuracy: 0.9397 - f1: 0.9249 - val_loss: 0.1623 - val_accuracy: 0.9384 - val_f1: 0.9224\n",
            "Epoch 9/10\n",
            "38127/38127 [==============================] - 30s 784us/step - loss: 0.1590 - accuracy: 0.9435 - f1: 0.9300 - val_loss: 0.1606 - val_accuracy: 0.9398 - val_f1: 0.9245\n",
            "Epoch 10/10\n",
            "38127/38127 [==============================] - 30s 791us/step - loss: 0.1501 - accuracy: 0.9460 - f1: 0.9334 - val_loss: 0.1627 - val_accuracy: 0.9422 - val_f1: 0.9265\n"
          ],
          "name": "stdout"
        }
      ]
    },
    {
      "cell_type": "code",
      "metadata": {
        "id": "yKC1D0njnmlg",
        "colab_type": "code",
        "colab": {}
      },
      "source": [
        ""
      ],
      "execution_count": 0,
      "outputs": []
    },
    {
      "cell_type": "code",
      "metadata": {
        "id": "9adE4L3RkRwn",
        "colab_type": "code",
        "outputId": "d69d9673-645d-4b85-df1c-8b6f9515e362",
        "colab": {
          "base_uri": "https://localhost:8080/",
          "height": 573
        }
      },
      "source": [
        "\n",
        "print_hist(history)"
      ],
      "execution_count": 0,
      "outputs": [
        {
          "output_type": "display_data",
          "data": {
            "image/png": "[encoded data removed]",
            "text/plain": [
              "<Figure size 432x288 with 1 Axes>"
            ]
          },
          "metadata": {
            "tags": [],
            "needs_background": "light"
          }
        },
        {
          "output_type": "display_data",
          "data": {
            "image/png": "[encoded data removed]",
            "text/plain": [
              "<Figure size 432x288 with 1 Axes>"
            ]
          },
          "metadata": {
            "tags": [],
            "needs_background": "light"
          }
        }
      ]
    },
    {
      "cell_type": "code",
      "metadata": {
        "id": "MHwxZo6XkT_C",
        "colab_type": "code",
        "outputId": "84df11d6-342b-4085-d60c-53e02dd6e0e7",
        "colab": {
          "base_uri": "https://localhost:8080/",
          "height": 746
        }
      },
      "source": [
        "pred_glove_train_y = model.predict([train_X], batch_size=1024, verbose=1)\n",
        "scores = []\n",
        "thresholds = np.arange(0.1, 0.501, 0.01)\n",
        "for thresh in thresholds:\n",
        "    thresh = np.round(thresh, 2)\n",
        "    scores.append(metrics.f1_score(train_y, (pred_glove_train_y>thresh).astype(int)))\n",
        "    print(\"F1 score at threshold {0} is {1}\".format(thresh, metrics.f1_score(train_y, (pred_glove_train_y>thresh).astype(int))))\n",
        "idx = np.argmax(np.array(scores))\n",
        "thresh_train = thresholds[idx]"
      ],
      "execution_count": 0,
      "outputs": [
        {
          "output_type": "stream",
          "text": [
            "38127/38127 [==============================] - 1s 36us/step\n",
            "F1 score at threshold 0.1 is 0.9034607317641575\n",
            "F1 score at threshold 0.11 is 0.9092564848271202\n",
            "F1 score at threshold 0.12 is 0.9138951355189964\n",
            "F1 score at threshold 0.13 is 0.9179946978046529\n",
            "F1 score at threshold 0.14 is 0.9212251863828258\n",
            "F1 score at threshold 0.15 is 0.9245731835837524\n",
            "F1 score at threshold 0.16 is 0.9268971357711036\n",
            "F1 score at threshold 0.17 is 0.9290941665907504\n",
            "F1 score at threshold 0.18 is 0.9315235626048498\n",
            "F1 score at threshold 0.19 is 0.9327087925544943\n",
            "F1 score at threshold 0.2 is 0.9340216957069543\n",
            "F1 score at threshold 0.21 is 0.9352171767028626\n",
            "F1 score at threshold 0.22 is 0.9364007926678226\n",
            "F1 score at threshold 0.23 is 0.9374650338782868\n",
            "F1 score at threshold 0.24 is 0.9378273883761536\n",
            "F1 score at threshold 0.25 is 0.9387512512512511\n",
            "F1 score at threshold 0.26 is 0.9391915200551948\n",
            "F1 score at threshold 0.27 is 0.939622641509434\n",
            "F1 score at threshold 0.28 is 0.9404349196344154\n",
            "F1 score at threshold 0.29 is 0.9412321975558152\n",
            "F1 score at threshold 0.3 is 0.9416268548106431\n",
            "F1 score at threshold 0.31 is 0.9418331747542024\n",
            "F1 score at threshold 0.32 is 0.9420326701836904\n",
            "F1 score at threshold 0.33 is 0.942142970864512\n",
            "F1 score at threshold 0.34 is 0.9421186981493299\n",
            "F1 score at threshold 0.35 is 0.9417630889215624\n",
            "F1 score at threshold 0.36 is 0.9413497246766551\n",
            "F1 score at threshold 0.37 is 0.9413839543384852\n",
            "F1 score at threshold 0.38 is 0.9413313637969237\n",
            "F1 score at threshold 0.39 is 0.941403486203126\n",
            "F1 score at threshold 0.4 is 0.9415630436183235\n",
            "F1 score at threshold 0.41 is 0.9411764705882353\n",
            "F1 score at threshold 0.42 is 0.9409142303343564\n",
            "F1 score at threshold 0.43 is 0.9404453650958053\n",
            "F1 score at threshold 0.44 is 0.9399254336197115\n",
            "F1 score at threshold 0.45 is 0.9392857142857143\n",
            "F1 score at threshold 0.46 is 0.9387781643203172\n",
            "F1 score at threshold 0.47 is 0.9384074484015886\n",
            "F1 score at threshold 0.48 is 0.938158109209454\n",
            "F1 score at threshold 0.49 is 0.9374693877551021\n",
            "F1 score at threshold 0.5 is 0.9366434435613122\n"
          ],
          "name": "stdout"
        }
      ]
    },
    {
      "cell_type": "code",
      "metadata": {
        "id": "gPDSZwk-kk3h",
        "colab_type": "code",
        "outputId": "649a375a-cf9c-414d-89ca-1ecb084a894d",
        "colab": {
          "base_uri": "https://localhost:8080/",
          "height": 34
        }
      },
      "source": [
        "print(thresh_train)\n"
      ],
      "execution_count": 0,
      "outputs": [
        {
          "output_type": "stream",
          "text": [
            "0.32999999999999985\n"
          ],
          "name": "stdout"
        }
      ]
    },
    {
      "cell_type": "code",
      "metadata": {
        "id": "cGK1H2M1kqDA",
        "colab_type": "code",
        "outputId": "778a49ef-3714-47bd-ba05-5f0308656b47",
        "colab": {
          "base_uri": "https://localhost:8080/",
          "height": 746
        }
      },
      "source": [
        "pred_glove_val_y = model.predict([val_X], batch_size=1024, verbose=1)\n",
        "scores = []\n",
        "thresholds = np.arange(0.1, 0.501, 0.01)\n",
        "for thresh in thresholds:\n",
        "    thresh = np.round(thresh, 2)\n",
        "    scores.append(metrics.f1_score(val_y, (pred_glove_val_y>thresh).astype(int)))\n",
        "    print(\"F1 score at threshold {0} is {1}\".format(thresh, metrics.f1_score(val_y, (pred_glove_val_y>thresh).astype(int))))\n",
        "idx = np.argmax(np.array(scores))\n",
        "thresh_valid = thresholds[idx]"
      ],
      "execution_count": 0,
      "outputs": [
        {
          "output_type": "stream",
          "text": [
            "4237/4237 [==============================] - 0s 43us/step\n",
            "F1 score at threshold 0.1 is 0.8938401048492792\n",
            "F1 score at threshold 0.11 is 0.8975919555437947\n",
            "F1 score at threshold 0.12 is 0.9023479188900748\n",
            "F1 score at threshold 0.13 is 0.903969957081545\n",
            "F1 score at threshold 0.14 is 0.9046849757673667\n",
            "F1 score at threshold 0.15 is 0.907958852192745\n",
            "F1 score at threshold 0.16 is 0.9090909090909091\n",
            "F1 score at threshold 0.17 is 0.9111779174637881\n",
            "F1 score at threshold 0.18 is 0.9119824513298602\n",
            "F1 score at threshold 0.19 is 0.9140495867768595\n",
            "F1 score at threshold 0.2 is 0.9153761061946903\n",
            "F1 score at threshold 0.21 is 0.9171056279456612\n",
            "F1 score at threshold 0.22 is 0.9181969949916529\n",
            "F1 score at threshold 0.23 is 0.9206260480715484\n",
            "F1 score at threshold 0.24 is 0.92152466367713\n",
            "F1 score at threshold 0.25 is 0.9238122012932247\n",
            "F1 score at threshold 0.26 is 0.9256338028169014\n",
            "F1 score at threshold 0.27 is 0.924816280384398\n",
            "F1 score at threshold 0.28 is 0.9255168507504956\n",
            "F1 score at threshold 0.29 is 0.9261783077796706\n",
            "F1 score at threshold 0.3 is 0.9271899886234358\n",
            "F1 score at threshold 0.31 is 0.927594070695553\n",
            "F1 score at threshold 0.32 is 0.9272052526405937\n",
            "F1 score at threshold 0.33 is 0.9265924021708084\n",
            "F1 score at threshold 0.34 is 0.9250143102461361\n",
            "F1 score at threshold 0.35 is 0.9248853211009174\n",
            "F1 score at threshold 0.36 is 0.9255104975553639\n",
            "F1 score at threshold 0.37 is 0.9253817343704984\n",
            "F1 score at threshold 0.38 is 0.9252956446495529\n",
            "F1 score at threshold 0.39 is 0.925925925925926\n",
            "F1 score at threshold 0.4 is 0.9254856480139171\n",
            "F1 score at threshold 0.41 is 0.9254424136930665\n",
            "F1 score at threshold 0.42 is 0.925893635571055\n",
            "F1 score at threshold 0.43 is 0.9249126891734575\n",
            "F1 score at threshold 0.44 is 0.9256776450014574\n",
            "F1 score at threshold 0.45 is 0.9261313868613139\n",
            "F1 score at threshold 0.46 is 0.9272142648348436\n",
            "F1 score at threshold 0.47 is 0.927400468384075\n",
            "F1 score at threshold 0.48 is 0.9282156460591855\n",
            "F1 score at threshold 0.49 is 0.9278169014084506\n",
            "F1 score at threshold 0.5 is 0.9280469897209985\n"
          ],
          "name": "stdout"
        }
      ]
    },
    {
      "cell_type": "code",
      "metadata": {
        "id": "fPgR-Be6kvzN",
        "colab_type": "code",
        "outputId": "ca2b9f82-99c6-453e-cbf8-8bf33d154952",
        "colab": {
          "base_uri": "https://localhost:8080/",
          "height": 34
        }
      },
      "source": [
        "print(thresh_valid)"
      ],
      "execution_count": 0,
      "outputs": [
        {
          "output_type": "stream",
          "text": [
            "0.47999999999999976\n"
          ],
          "name": "stdout"
        }
      ]
    },
    {
      "cell_type": "code",
      "metadata": {
        "id": "nUG6GNz7kzXf",
        "colab_type": "code",
        "outputId": "72719b64-8206-4f96-92a1-95fa561db2a0",
        "colab": {
          "base_uri": "https://localhost:8080/",
          "height": 86
        }
      },
      "source": [
        "from sklearn.metrics import accuracy_score, confusion_matrix\n",
        "\n",
        "print('total valid data is ',train_y.shape[0], 'where', np.sum(train_y==1),'is hate' )\n",
        "print(accuracy_score(train_y, pred_glove_train_y>thresh_train))\n",
        "confusion_matrix(train_y, pred_glove_train_y>thresh_train, labels=[0, 1])"
      ],
      "execution_count": 0,
      "outputs": [
        {
          "output_type": "stream",
          "text": [
            "total valid data is  38127 where 15888 is hate\n",
            "0.9523434836205313\n"
          ],
          "name": "stdout"
        },
        {
          "output_type": "execute_result",
          "data": {
            "text/plain": [
              "array([[21516,   723],\n",
              "       [ 1094, 14794]])"
            ]
          },
          "metadata": {
            "tags": []
          },
          "execution_count": 83
        }
      ]
    },
    {
      "cell_type": "code",
      "metadata": {
        "id": "BrKDvp02k9tX",
        "colab_type": "code",
        "outputId": "ce2876d3-6184-4e95-aba2-929aa1bdb0ad",
        "colab": {
          "base_uri": "https://localhost:8080/",
          "height": 86
        }
      },
      "source": [
        "print('total valid data is ',val_y.shape[0], 'where', np.sum(val_y==1),'is hate' )\n",
        "print(accuracy_score(val_y, pred_glove_val_y>thresh_valid))\n",
        "confusion_matrix(val_y, pred_glove_val_y>thresh_valid, labels=[0, 1])\n",
        "\n"
      ],
      "execution_count": 0,
      "outputs": [
        {
          "output_type": "stream",
          "text": [
            "total valid data is  4237 where 1764 is hate\n",
            "0.9421760679726221\n"
          ],
          "name": "stdout"
        },
        {
          "output_type": "execute_result",
          "data": {
            "text/plain": [
              "array([[2408,   65],\n",
              "       [ 180, 1584]])"
            ]
          },
          "metadata": {
            "tags": []
          },
          "execution_count": 84
        }
      ]
    },
    {
      "cell_type": "code",
      "metadata": {
        "id": "8VOhqd9LlHBs",
        "colab_type": "code",
        "colab": {}
      },
      "source": [
        "predicted = model.predict(test_X) > 0.32999999999999985\n"
      ],
      "execution_count": 0,
      "outputs": []
    },
    {
      "cell_type": "code",
      "metadata": {
        "id": "S3P0l8O9qunV",
        "colab_type": "code",
        "outputId": "39e74c82-38d5-429b-c7f1-9b677ba2e6d9",
        "colab": {
          "base_uri": "https://localhost:8080/",
          "height": 34
        }
      },
      "source": [
        "metrics.f1_score(predicted,test_df['class'])"
      ],
      "execution_count": 0,
      "outputs": [
        {
          "output_type": "execute_result",
          "data": {
            "text/plain": [
              "0.9242393302021645"
            ]
          },
          "metadata": {
            "tags": []
          },
          "execution_count": 92
        }
      ]
    },
    {
      "cell_type": "code",
      "metadata": {
        "id": "pnpUY4jSq_yT",
        "colab_type": "code",
        "colab": {}
      },
      "source": [
        ""
      ],
      "execution_count": 0,
      "outputs": []
    }
  ]
}